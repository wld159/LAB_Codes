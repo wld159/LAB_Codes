{
 "cells": [
  {
   "cell_type": "markdown",
   "source": [
    "![opencv4-rev.jpg](Sample Images/opencv4-rev.jpg)"
   ],
   "metadata": {
    "collapsed": false,
    "pycharm": {
     "name": "#%% md\n"
    }
   }
  },
  {
   "cell_type": "markdown",
   "source": [
    "# OpenCV 이론"
   ],
   "metadata": {
    "collapsed": false
   }
  },
  {
   "cell_type": "markdown",
   "source": [
    "## OpenCV 시작하기"
   ],
   "metadata": {
    "collapsed": false,
    "pycharm": {
     "name": "#%% md\n"
    }
   }
  },
  {
   "cell_type": "code",
   "execution_count": null,
   "source": [
    "import numpy as np\n",
    "import math\n",
    "import cv2"
   ],
   "outputs": [],
   "metadata": {}
  },
  {
   "cell_type": "markdown",
   "source": [
    "### 이미지 크기\n",
    "너비(width)와 높이(height)로 표시하거나 행(row)과 열(column)로 표시"
   ],
   "metadata": {
    "collapsed": false,
    "pycharm": {
     "name": "#%% md\n"
    }
   }
  },
  {
   "cell_type": "code",
   "execution_count": null,
   "outputs": [],
   "source": [
    "# Python OpenCV에서의 이미지 크기 표현\n",
    "\"\"\"\n",
    "color = np.zeros((height, width, 3), np.uint8)\n",
    "gray = np.zeros((rows, cols, 1), np.uint8)\n",
    "\"\"\""
   ],
   "metadata": {
    "collapsed": false,
    "pycharm": {
     "name": "#%%\n"
    }
   }
  },
  {
   "cell_type": "markdown",
   "source": [
    "### 정밀도\n",
    "1. 정밀도가 높을수록 많은 색상을 표현할 수 있어 데이터의 폭이 넓어지고 더 자연스러운 이미지로 표시\n",
    "2. 정밀도가 높을수록 데이터의 처리 결과는 더 정밀하다."
   ],
   "metadata": {
    "collapsed": false,
    "pycharm": {
     "name": "#%% md\n"
    }
   }
  },
  {
   "cell_type": "code",
   "execution_count": null,
   "outputs": [],
   "source": [
    "# Python OpenCV에서의 정밀도 표현\n",
    "\"\"\"\n",
    "color = np.zeros((height, width, 3), np.uint8)\n",
    "gray = np.zeros((rows, cols, 1), np.uint8)\n",
    "\"\"\""
   ],
   "metadata": {
    "collapsed": false,
    "pycharm": {
     "name": "#%%\n"
    }
   }
  },
  {
   "cell_type": "markdown",
   "source": [
    "### 채널\n",
    "색상을 표현할 때 적어도 8비트 이상으로 표현\n",
    "8비트 정밀도를 사용할 때 흑백 색상을 원할하게 표현 가능\n",
    "주로 그레이스케일(Grayscale) 메서드에서 많이 사용"
   ],
   "metadata": {
    "collapsed": false,
    "pycharm": {
     "name": "#%% md\n"
    }
   }
  },
  {
   "cell_type": "code",
   "execution_count": null,
   "outputs": [],
   "source": [
    "# Python OpenCV에서의 채널 표현\n",
    "\"\"\"\n",
    "color = np.zeros((height, width, 3), np.uint8)\n",
    "gray = np.zeros((rows, cols, 1), np.uint8)\n",
    "\"\"\""
   ],
   "metadata": {
    "collapsed": false,
    "pycharm": {
     "name": "#%%\n"
    }
   }
  },
  {
   "cell_type": "markdown",
   "source": [
    "### 관심 영역\n",
    "ROI(Region of Interest)\n",
    "알고리즘의 정확도와 연산 속도의 향상을 위해서 관심영역 설정"
   ],
   "metadata": {
    "collapsed": false,
    "pycharm": {
     "name": "#%% md\n"
    }
   }
  },
  {
   "cell_type": "markdown",
   "source": [
    "### 관심 채널\n",
    "COI(Channel of Interest)\n",
    "데이터의 형태를 변형하는 것이 아니라 특정 영역을 불러와 연산량의 감소와 정확도를 향상시키기 위해 사용\n",
    "BGR채널에서 한 채널을 분리하여 연산을 수행하면, 산술적으로 데이터의 양이 1/3으로 감소"
   ],
   "metadata": {
    "collapsed": false,
    "pycharm": {
     "name": "#%% md\n"
    }
   }
  },
  {
   "cell_type": "markdown",
   "source": [
    "### 히스토그램\n",
    "히스토그램은 다음과 같은 세 가지 중요 요소를 갖고 있다.\n",
    "1. 빈도수(BINS): 히스토그램 그래프의 X 축 간격\n",
    "2. 차원수(DIMS): 히스토그램을 분석할 이미지 차원\n",
    "3. 범위(RANGE): 히스토그램 그래프의 X 축 범위"
   ],
   "metadata": {
    "collapsed": false,
    "pycharm": {
     "name": "#%% md\n"
    }
   }
  },
  {
   "cell_type": "code",
   "execution_count": null,
   "outputs": [],
   "source": [
    "# Python OpenCV에서의 히스토그램 예시\n",
    "image = cv2.imread(\"Sample Images/image.jpg\")\n",
    "gray = cv2.cvtColor(image, cv2.COLOR_BGR2GRAY)\n",
    "result = np.zeros((image.shape[0], 256), dtype=np.uint8)\n",
    "\n",
    "hist = cv2.calcHist([image], [0], None, [256], [0, 256])\n",
    "cv2.normalize(hist, hist, 0, 255, cv2.NORM_MINMAX)\n",
    "\n",
    "for x, y in enumerate(hist):\n",
    "    cv2.line(result, (int(x), image.shape[0]), (int(x), image.shape[0] - int(y)), 255)\n",
    "\n",
    "dst = np.hstack([image[:, :, 0], result])\n",
    "cv2.imshow(\"dst\", dst)\n",
    "cv2.waitKey(0)\n",
    "cv2.destroyAllWindows()"
   ],
   "metadata": {
    "collapsed": false,
    "pycharm": {
     "name": "#%%\n"
    }
   }
  },
  {
   "cell_type": "code",
   "execution_count": null,
   "outputs": [],
   "source": [
    "# Python OpenCV의 히스토그램 계산 함수\n",
    "\"\"\"\n",
    "hist = cv2.calcHist(\n",
    "    images,\n",
    "    channels,\n",
    "    mask,\n",
    "    histSize,\n",
    "    ranges,\n",
    "    hist = None,\n",
    "    accumulate = False\n",
    ")\n",
    "\"\"\""
   ],
   "metadata": {
    "collapsed": false,
    "pycharm": {
     "name": "#%%\n"
    }
   }
  },
  {
   "cell_type": "markdown",
   "source": [
    "## 데이터 타입과 연산"
   ],
   "metadata": {
    "collapsed": false,
    "pycharm": {
     "name": "#%% md\n"
    }
   }
  },
  {
   "cell_type": "markdown",
   "source": [
    "### 기본 데이터"
   ],
   "metadata": {
    "collapsed": false,
    "pycharm": {
     "name": "#%% md\n"
    }
   }
  },
  {
   "cell_type": "markdown",
   "source": [
    "#### 리스트 자료형\n",
    "1. Container: 데이터의 종류와 무관하게 값을 저장 가능\n",
    "2. Mutable(변경 가능성): 리스트의 값의 생성, 추가, 삭제, 변경 등이 가능\n",
    "3. Sequence(순서 중시): 리스트에서 색인(index)을 통해 값을 접근"
   ],
   "metadata": {
    "collapsed": false,
    "pycharm": {
     "name": "#%% md\n"
    }
   }
  },
  {
   "cell_type": "code",
   "execution_count": null,
   "outputs": [],
   "source": [
    "# 리스트 사용 예\n",
    "\"\"\"\n",
    "dsize = [cv2.THRESH_BINARY, cv2.THRESH_BINARY_INV, cv2.THRESH_OTSU]\n",
    "img = [None] * len(dsize)\n",
    "\n",
    "for i in range(len(dsize)):\n",
    "    ret, img[i] = cv2.threshold(src, 100, 255, dsize[i])\n",
    "\n",
    "cv2.imshow()\n",
    "\"\"\""
   ],
   "metadata": {
    "collapsed": false,
    "pycharm": {
     "name": "#%%\n"
    }
   }
  },
  {
   "cell_type": "markdown",
   "source": [
    "#### 튜플 자료형\n",
    "1. 리스트와 특징 비교 시, Container, Sequence는 동일\n",
    "2. Immutable(변경 불가): 튜플 내 값 변경 불가"
   ],
   "metadata": {
    "collapsed": false,
    "pycharm": {
     "name": "#%% md\n"
    }
   }
  },
  {
   "cell_type": "code",
   "execution_count": null,
   "outputs": [],
   "source": [
    "# 튜플 사용 예\n",
    "\"\"\"\n",
    "center = [100, 100]\n",
    "red = (0, 0, 255)\n",
    "\n",
    "cv2.circle(img, tuple(center), 30, red, 3)\n",
    "\"\"\""
   ],
   "metadata": {
    "collapsed": false,
    "pycharm": {
     "name": "#%%\n"
    }
   }
  },
  {
   "cell_type": "markdown",
   "source": [
    "#### 사전 자료형\n",
    "1. 리스트와 특징 비교 시, Container, Mutable은 동일\n",
    "2. Mapping: 순서를 고려하지 않는 자료형\n",
    "* 가독성 좋은 프로그램을 구성하기 위해 어떤 명칭을 지닌 값이 있다면 사전을 사용하는 것을 권장"
   ],
   "metadata": {
    "collapsed": false,
    "pycharm": {
     "name": "#%% md\n"
    }
   }
  },
  {
   "cell_type": "code",
   "execution_count": null,
   "outputs": [],
   "source": [
    "# 사전 사용 예\n",
    "\"\"\"\n",
    "Color_Code = {\n",
    "    \"yellow\" : [(20, 100, 100), (33, 255, 255)],\n",
    "    \"green\" : [(41, 100, 100), (70, 255, 255)],\n",
    "    \"blue\" : [(99, 100, 100), (150, 100, 255)]\n",
    "}\n",
    "\n",
    "result = cv2.inRange(img, Color_Code['yellow'][0], Color_Code['yellow'][1])\n",
    "\"\"\""
   ],
   "metadata": {
    "collapsed": false,
    "pycharm": {
     "name": "#%%\n"
    }
   }
  },
  {
   "cell_type": "markdown",
   "source": [
    "#### 집합 자료형\n",
    "1. 리스트와 특징 비교 시, Container, Mutable은 동일\n",
    "2. Set: 중복이 불가능, 순서에 영향을 받지 않음\n",
    "* 이미지 상에서 형태나 특정 지점을 검출하는 경우 후처리 과정에서 중복 좌표를 제거하고 집합 연산을 수행하기 위해 사용"
   ],
   "metadata": {
    "collapsed": false,
    "pycharm": {
     "name": "#%% md\n"
    }
   }
  },
  {
   "cell_type": "code",
   "execution_count": null,
   "outputs": [],
   "source": [
    "# 집합 사용 예\n",
    "pt1 = [(50, 0), (170, 180), (210, 250)]\n",
    "pt2 = [(50, 0), (170, 170), (210, 250)]\n",
    "\n",
    "union = set(pt1) | set(pt2)\n",
    "intersection = set(pt1) & set(pt2)\n",
    "difference = set(pt1) - set(pt2)\n",
    "\n",
    "print(union)\n",
    "print(intersection)\n",
    "print(difference)"
   ],
   "metadata": {
    "collapsed": false,
    "pycharm": {
     "name": "#%%\n"
    }
   }
  },
  {
   "cell_type": "markdown",
   "source": [
    "### Numpy 데이터"
   ],
   "metadata": {
    "collapsed": false,
    "pycharm": {
     "name": "#%% md\n"
    }
   }
  },
  {
   "cell_type": "markdown",
   "source": [
    "#### Numpy 행렬\n",
    "1. Numpy의 배열 클래스 중 ndarray 사용\n",
    "2. 차원의 수(ndim), 차원의 크기(shape), 데이터형식(dtype)"
   ],
   "metadata": {
    "collapsed": false,
    "pycharm": {
     "name": "#%% md\n"
    }
   }
  },
  {
   "cell_type": "code",
   "execution_count": null,
   "outputs": [],
   "source": [
    "# Numpy 배열의 기본 요소\n",
    "array = np.array([[1, 2, 3],\n",
    "                  [4, 5, 6]])\n",
    "\n",
    "print(array.ndim)\n",
    "print(array.shape)\n",
    "print(array.dtype)"
   ],
   "metadata": {
    "collapsed": false,
    "pycharm": {
     "name": "#%%\n"
    }
   }
  },
  {
   "cell_type": "markdown",
   "source": [
    "#### ndarray 클래스 - N차원 배열\n",
    "1. object: Numpy 배열을 정의\n",
    "2. dtype: 배열의 자료형\n",
    "3. copy: 객체를 복사해서 생성하는 여부\n",
    "4. order: 배열의 메모리 레이아웃\n",
    "5. subok: 하위 클래스에서 배열 생성 여부\n",
    "6. ndmin: 반환된 배열의 최소 차원 수"
   ],
   "metadata": {
    "collapsed": false,
    "pycharm": {
     "name": "#%% md\n"
    }
   }
  },
  {
   "cell_type": "code",
   "execution_count": null,
   "outputs": [],
   "source": [
    "# Numpy 배열 생성\n",
    "array1 = np.array([[1, 2, 3], [4, 5, 6]])\n",
    "array2 = np.array([1, 2, 3], dtype=complex,  ndmin=3)\n",
    "array3 = np.array(array1, copy=False)\n",
    "array4 = np.array(np.mat('1 2; 3 4'), subok=True)\n",
    "\n",
    "array1[0] = [4, 5, 6]\n",
    "\n",
    "print(array1)\n",
    "print(array2)\n",
    "print(array3)\n",
    "print(type(array4))"
   ],
   "metadata": {
    "collapsed": false,
    "pycharm": {
     "name": "#%%\n"
    }
   }
  },
  {
   "cell_type": "markdown",
   "source": [
    "#### 배열의 개별 단위 요소에 접근하기\n",
    "배열[페이지][행][열] 형태로 요소에 접근"
   ],
   "metadata": {
    "collapsed": false,
    "pycharm": {
     "name": "#%% md\n"
    }
   }
  },
  {
   "cell_type": "code",
   "execution_count": null,
   "outputs": [],
   "source": [
    "# 배열의 개별 단위 요소에 접근하기\n",
    "array1 = np.array([1, 2, 3])\n",
    "array2 = np.array([[1, 2],\n",
    "                   [3, 4]])\n",
    "array3 = np.array([[[1, 2],\n",
    "                   [3, 4]],\n",
    "                   [[5, 6],\n",
    "                   [7, 8]]])\n",
    "\n",
    "print(array1[-1])\n",
    "print(array2[0][1])\n",
    "print(array3[0][1][1])"
   ],
   "metadata": {
    "collapsed": false,
    "pycharm": {
     "name": "#%%\n"
    }
   }
  },
  {
   "cell_type": "markdown",
   "source": [
    "#### 배열의 블록 단위 요소에 접근하기\n",
    "1. 접근해야 할 배열의 특정 위치를 알고 있다면 해당 페이지나 행 등을 참조해서 연산량 줄이기 가능\n",
    "2. Python 기본 데이터 자료형과 마찬가지로 슬라이싱 사용 가능"
   ],
   "metadata": {
    "collapsed": false,
    "pycharm": {
     "name": "#%% md\n"
    }
   }
  },
  {
   "cell_type": "code",
   "execution_count": null,
   "outputs": [],
   "source": [
    "array = np.array([[[1, 2],\n",
    "                   [3, 4]],\n",
    "                  [[5, 6],\n",
    "                   [7, 8]]])\n",
    "\n",
    "for i in array[0]:\n",
    "    for j in i:\n",
    "        if j % 2 == 0:\n",
    "            print(j)"
   ],
   "metadata": {
    "collapsed": false,
    "pycharm": {
     "name": "#%%\n"
    }
   }
  },
  {
   "cell_type": "code",
   "execution_count": null,
   "outputs": [],
   "source": [
    "# 배열의 블록 단위 요소에 접근하기(2)\n",
    "array = np.array([[1, 2, 3, 4, 5],\n",
    "                  [6, 7, 8, 9, 10],\n",
    "                  [11, 12, 13, 14, 15],\n",
    "                  [16, 17, 18, 19, 20]])\n",
    "\n",
    "print(array[1:3])\n",
    "print(array[::2])\n",
    "print(array[2:, 1::2])"
   ],
   "metadata": {
    "collapsed": false,
    "pycharm": {
     "name": "#%%\n"
    }
   }
  },
  {
   "cell_type": "markdown",
   "source": [
    "#### 배열 차원 변형\n",
    "전체 요소에 대한 값을 재정렬 및 차원 변형\n",
    "단순히 차원만 증가시키는 경우에는 newaxis를 활용해 차원 확장"
   ],
   "metadata": {
    "collapsed": false
   }
  },
  {
   "cell_type": "code",
   "execution_count": null,
   "outputs": [],
   "source": [
    "# 배열의 차원 변형\n",
    "array = np.arange(12)\n",
    "\n",
    "reshape1 = array.reshape(2, 3, 2)\n",
    "reshape2 = np.reshape(array, (2, -1), order='F')\n",
    "\n",
    "print(reshape1)\n",
    "print(reshape2)"
   ],
   "metadata": {
    "collapsed": false,
    "pycharm": {
     "name": "#%%\n"
    }
   }
  },
  {
   "cell_type": "code",
   "execution_count": null,
   "outputs": [],
   "source": [
    "# 배열의 차원 확장\n",
    "array = np.arange(4)\n",
    "\n",
    "axis1 = array[np.newaxis]\n",
    "axis2 = array[:, np.newaxis]\n",
    "\n",
    "print(axis1)\n",
    "print(axis2)"
   ],
   "metadata": {
    "collapsed": false,
    "pycharm": {
     "name": "#%%\n"
    }
   }
  },
  {
   "cell_type": "code",
   "execution_count": null,
   "outputs": [],
   "source": [
    "# 배열의 차원 축소\n",
    "array = np.arange(12).reshape(3, -1)\n",
    "\n",
    "flat1 = array.flatten(order='F')\n",
    "flat2 = array.ravel()\n",
    "\n",
    "print(flat1)\n",
    "print(flat2)"
   ],
   "metadata": {
    "collapsed": false,
    "pycharm": {
     "name": "#%%\n"
    }
   }
  },
  {
   "cell_type": "markdown",
   "source": [
    "#### 배열 병합 및 분리"
   ],
   "metadata": {
    "collapsed": false,
    "pycharm": {
     "name": "#%% md\n"
    }
   }
  },
  {
   "cell_type": "code",
   "execution_count": null,
   "outputs": [],
   "source": [
    "# 배열의 병합\n",
    "array1 = np.arange(6).reshape(2, 3)\n",
    "array2 = np.arange(6, 12).reshape(2, 3)\n",
    "\n",
    "merge1 = np.stack([array1, array2], axis=0) # 첫 번째 기준으로 삽입\n",
    "merge2 = np.stack([array1, array2], axis=-1) # 마지막 번째 차원을 기준으로 삽입\n",
    "\n",
    "print(merge1)\n",
    "print(merge2)"
   ],
   "metadata": {
    "collapsed": false,
    "pycharm": {
     "name": "#%%\n"
    }
   }
  },
  {
   "cell_type": "code",
   "execution_count": null,
   "outputs": [],
   "source": [
    "# 배열의 분리\n",
    "array = np.arange(10).reshape(2, 5)\n",
    "\n",
    "detach1 = np.split(array, 2, axis=0)\n",
    "detach2 = np.split(array, [2, 3], axis=1)\n",
    "\n",
    "print(detach1)\n",
    "print(detach2)"
   ],
   "metadata": {
    "collapsed": false,
    "pycharm": {
     "name": "#%%\n"
    }
   }
  },
  {
   "cell_type": "markdown",
   "source": [
    "#### 배열 연산\n",
    "1. 브로드캐스팅: Numpy 배열에서 차원의 크기가 서로 다른 배열에서도 산술 연산을 가능하게 하는 원리\n",
    "2. 형식 캐스팅: 연산하려는 두 배열의 자료형(dtype)을 비교해 표현 범위가 더 넓은 자료형을 선택하는 것"
   ],
   "metadata": {
    "collapsed": false,
    "pycharm": {
     "name": "#%% md\n"
    }
   }
  },
  {
   "cell_type": "code",
   "execution_count": null,
   "outputs": [],
   "source": [
    "# 배열의 브로드캐스팅과 형식 캐스팅\n",
    "array1 = np.array([1, 2, 3, 4]).reshape(2, 2)\n",
    "array2 = np.array([1.5, 2.5])\n",
    "\n",
    "add = array1 + array2\n",
    "\n",
    "print(add)"
   ],
   "metadata": {
    "collapsed": false,
    "pycharm": {
     "name": "#%%\n"
    }
   }
  },
  {
   "cell_type": "markdown",
   "source": [
    "#### matrix 클래스\n",
    "입력 배열을 행렬로 해석해서 사용하는 클래스\n",
    "가능하면 matrix 클래스가 아닌 ndarray 클래스를 사용해 연산 처리"
   ],
   "metadata": {
    "collapsed": false,
    "pycharm": {
     "name": "#%% md\n"
    }
   }
  },
  {
   "cell_type": "code",
   "execution_count": null,
   "outputs": [],
   "source": [
    "# matrix 행렬 생성\n",
    "array1 = np.array([1, 2, 3, 4]).reshape(2, 2)\n",
    "array2 = np.array([5, 6, 7, 8]).reshape(2, 2)\n",
    "\n",
    "mat1=  np.mat(array1)\n",
    "mat2 = np.mat(array2)\n",
    "\n",
    "print(mat1.T * mat2)\n",
    "print(mat1 ** 2)"
   ],
   "metadata": {
    "collapsed": false,
    "pycharm": {
     "name": "#%%\n"
    }
   }
  },
  {
   "cell_type": "markdown",
   "source": [
    "#### ndarray 클래스 - 관심 영역\n",
    "주의 사항: 'end'가 너비 또는 높이가 아닌 도착 지점을 의미"
   ],
   "metadata": {
    "collapsed": false,
    "pycharm": {
     "name": "#%% md\n"
    }
   }
  },
  {
   "cell_type": "code",
   "execution_count": null,
   "outputs": [],
   "source": [
    "# ndarray 클래스를 이용한 관심 영역 설정\n",
    "array = np.zeros((1280, 1920, 3), np.uint8)\n",
    "\n",
    "x, y, w, h = 100, 100, 300, 300\n",
    "roi = array[x:x+w, y:y+h]\n",
    "\n",
    "print(array.shape)\n",
    "print(roi.shape)"
   ],
   "metadata": {
    "collapsed": false,
    "pycharm": {
     "name": "#%%\n"
    }
   }
  },
  {
   "cell_type": "markdown",
   "source": [
    "#### ndarray 클래스 - 관심 채널"
   ],
   "metadata": {
    "collapsed": false,
    "pycharm": {
     "name": "#%% md\n"
    }
   }
  },
  {
   "cell_type": "code",
   "execution_count": null,
   "outputs": [],
   "source": [
    "# ndarray 클래스를 이용한 관심 채널 설정\n",
    "array = np.zeros((1280, 1920, 3), np.uint8)\n",
    "\n",
    "coi=  array[:, :, 0]\n",
    "\n",
    "print(array.shape)\n",
    "print(coi.shape)"
   ],
   "metadata": {
    "collapsed": false,
    "pycharm": {
     "name": "#%%\n"
    }
   }
  },
  {
   "cell_type": "markdown",
   "source": [
    "# 파이썬 함수"
   ],
   "metadata": {
    "collapsed": false,
    "pycharm": {
     "name": "#%% md\n"
    }
   }
  },
  {
   "cell_type": "markdown",
   "source": [
    "## 기초 예제"
   ],
   "metadata": {
    "collapsed": false,
    "pycharm": {
     "name": "#%% md\n"
    }
   }
  },
  {
   "cell_type": "markdown",
   "source": [
    "### 이미지 입력"
   ],
   "metadata": {
    "collapsed": false,
    "pycharm": {
     "name": "#%% md\n"
    }
   }
  },
  {
   "cell_type": "code",
   "execution_count": null,
   "outputs": [],
   "source": [
    "# Python OpenCV의 이미지 입력 함수\n",
    "\"\"\"\n",
    "cv2.imread(\n",
    "    filename,\n",
    "    flags=cv2.IMREAD_COLOR\n",
    ")\n",
    "\"\"\"\n",
    "# 파일명(filename): 경로를 포함한 입력 파일의 이름\n",
    "# 플래그(flags): 입력된 파일을 어떻게 해석할지 결정"
   ],
   "metadata": {
    "collapsed": false,
    "pycharm": {
     "name": "#%%\n"
    }
   }
  },
  {
   "cell_type": "code",
   "execution_count": null,
   "outputs": [],
   "source": [
    "# Python OpencV에서의 이미지 입력\n",
    "src = cv2.imread(\"./Sample Images/OpenCV_Logo.png\", cv2.IMREAD_GRAYSCALE)\n",
    "\n",
    "print(src.ndim, src.shape, src.dtype)"
   ],
   "metadata": {
    "collapsed": false,
    "pycharm": {
     "name": "#%%\n"
    }
   }
  },
  {
   "cell_type": "markdown",
   "source": [
    "### 이미지 출력"
   ],
   "metadata": {
    "collapsed": false,
    "pycharm": {
     "name": "#%% md\n"
    }
   }
  },
  {
   "cell_type": "code",
   "execution_count": null,
   "outputs": [],
   "source": [
    "# Python OpenCV의 이미지 출력 함수\n",
    "\"\"\"\n",
    "cv2.imshow(\n",
    "    winname,\n",
    "    ndarray\n",
    ")\"\"\"\n",
    "# winname: 윈도우의 이름\n",
    "# ndarray: 이미지 행렬"
   ],
   "metadata": {
    "collapsed": false,
    "pycharm": {
     "name": "#%%\n"
    }
   }
  },
  {
   "cell_type": "code",
   "execution_count": null,
   "outputs": [],
   "source": [
    "# Python OpenCV에서의 이미지 출력\n",
    "src = cv2.imread(\"./Sample Images/OpenCV_Logo.png\", cv2.IMREAD_GRAYSCALE)\n",
    "\n",
    "cv2.namedWindow(\"src\", flags=cv2.WINDOW_FREERATIO)\n",
    "cv2.resizeWindow(\"src\", 400, 200)\n",
    "cv2.imshow(\"src\", src)\n",
    "cv2.waitKey(0)\n",
    "cv2.destroyWindow(\"src\")"
   ],
   "metadata": {
    "collapsed": false,
    "pycharm": {
     "name": "#%%\n"
    }
   }
  },
  {
   "cell_type": "markdown",
   "source": [
    "#### 마우스 콜백\n",
    "콜백: 이벤트가 발생하면 다른 함수를 실행하는 함수"
   ],
   "metadata": {
    "collapsed": false,
    "pycharm": {
     "name": "#%% md\n"
    }
   }
  },
  {
   "cell_type": "code",
   "execution_count": null,
   "outputs": [],
   "source": [
    "# Python OpenCv의 마우스 콜백 설정 함수\n",
    "\"\"\"\n",
    "cv2.setMouseCallback(\n",
    "    windowName,\n",
    "    onMouse,\n",
    "    param=None\n",
    ")\"\"\"\n",
    "# windowName: 사전에 정의된 윈도우 이름\n",
    "# onMouse: 콜백"
   ],
   "metadata": {
    "collapsed": false,
    "pycharm": {
     "name": "#%%\n"
    }
   }
  },
  {
   "cell_type": "code",
   "execution_count": null,
   "outputs": [],
   "source": [
    "# Python OpenCV의 마우스 콜백 함수\n",
    "\"\"\"\n",
    "def func_name(\n",
    "        event,\n",
    "        x,\n",
    "        y,\n",
    "        flags,\n",
    "        param\n",
    ")\"\"\"\n",
    "# 마우스 이벤트(event): 마우스의 동작 전달\n",
    "# 마우스의 좌표(x, y): 마우스 이벤트가 발생했을 때의 좌표\n",
    "# 마우스 플래그(flags): 마우스 동작에 대한 특수한 정보나 방식을 전달\n",
    "# 사용자 정의 데이터(param): 마우스 이벤트가 발생했을 때 전달할 임의의 데이터를 전달"
   ],
   "metadata": {
    "collapsed": false,
    "pycharm": {
     "name": "#%%\n"
    }
   }
  },
  {
   "cell_type": "code",
   "execution_count": null,
   "outputs": [],
   "source": [
    "# Python OpenCV에서의 마우스 콜백 적용\n",
    "def mouse_event(event, x, y, flags, param):\n",
    "    global radius\n",
    "    if event == cv2.EVENT_LBUTTONDOWN:\n",
    "        cv2.circle(param, (x, y), radius, (255, 0, 0), 2)\n",
    "        cv2.imshow('draw', src)\n",
    "\n",
    "    elif event == cv2.EVENT_MOUSEWHEEL:\n",
    "        if flags > 0:\n",
    "            radius += 1\n",
    "        elif radius > 1:\n",
    "            radius -= 1\n",
    "\n",
    "radius = 3\n",
    "src = np.full((500, 500, 3), 255, dtype=np.uint8)\n",
    "\n",
    "cv2.imshow('draw', src)\n",
    "cv2.setMouseCallback('draw', mouse_event, src)\n",
    "cv2.waitKey()\n",
    "cv2.destroyAllWindows()"
   ],
   "metadata": {
    "collapsed": false,
    "pycharm": {
     "name": "#%%\n"
    }
   }
  },
  {
   "cell_type": "markdown",
   "source": [
    "### 동영상 출력"
   ],
   "metadata": {
    "collapsed": false,
    "pycharm": {
     "name": "#%% md\n"
    }
   }
  },
  {
   "cell_type": "code",
   "execution_count": null,
   "outputs": [],
   "source": [
    "# Python OpenCV의 동영상 입력 클래스\n",
    "\"\"\"\n",
    "capture = cv2.VideoCapture(fileName)\n",
    "\"\"\"\n",
    "# 파일명(filename): 경로를 포함한 입력 파일의 이름"
   ],
   "metadata": {
    "collapsed": false,
    "pycharm": {
     "name": "#%%\n"
    }
   }
  },
  {
   "cell_type": "code",
   "execution_count": null,
   "outputs": [],
   "source": [
    "# Python OpenCV에서의 동영상 출력\n",
    "capture = cv2.VideoCapture(\"./Sample Videos/Star.mp4\")\n",
    "\n",
    "while True:\n",
    "    ret, frame = capture.read()\n",
    "\n",
    "    if(capture.get(cv2.CAP_PROP_POS_FRAMES) == capture.get(cv2.CAP_PROP_FRAME_COUNT)):\n",
    "        capture.open(\"./Sample Videos/Star.mp4\")\n",
    "\n",
    "    cv2.imshow(\"VideoFrame\", frame)\n",
    "    if cv2.waitKey(33) == ord('q'): break\n",
    "\n",
    "capture.release()\n",
    "cv2.destroyAllWindows()"
   ],
   "metadata": {
    "collapsed": false,
    "pycharm": {
     "name": "#%%\n"
    }
   }
  },
  {
   "cell_type": "markdown",
   "source": [
    "#### FPS(Frame per Second)\n",
    "$$ FPS = \\frac{1000}{Interval} $$"
   ],
   "metadata": {
    "collapsed": false,
    "pycharm": {
     "name": "#%% md\n"
    }
   }
  },
  {
   "cell_type": "markdown",
   "source": [
    "### 카메라 출력"
   ],
   "metadata": {
    "collapsed": false,
    "pycharm": {
     "name": "#%% md\n"
    }
   }
  },
  {
   "cell_type": "code",
   "execution_count": null,
   "outputs": [],
   "source": [
    "# Python OpenCV의 카메라 출력 클래스\n",
    "\"\"\"\n",
    "capture = cv2.VideoCapture(index)\n",
    "\"\"\"\n",
    "# index: 카메라의 장치 번호(ID)"
   ],
   "metadata": {
    "collapsed": false,
    "pycharm": {
     "name": "#%%\n"
    }
   }
  },
  {
   "cell_type": "code",
   "execution_count": null,
   "outputs": [],
   "source": [
    "# Python OpenCV에서의 카메라 출력\n",
    "\n",
    "capture = cv2.VideoCapture(0)\n",
    "capture.set(cv2.CAP_PROP_FRAME_WIDTH, 640)\n",
    "capture.set(cv2.CAP_PROP_FRAME_HEIGHT, 480)\n",
    "\n",
    "while True:\n",
    "    ret, frame = capture.read()\n",
    "    if ret == True:\n",
    "        cv2.imshow(\"VideoFrame\", frame)\n",
    "        if cv2.waitKey(33) == ord('q'): break\n",
    "    else:\n",
    "        break\n",
    "\n",
    "capture.release()\n",
    "cv2.destroyAllWindows()"
   ],
   "metadata": {
    "collapsed": false,
    "pycharm": {
     "name": "#%%\n"
    }
   }
  },
  {
   "cell_type": "markdown",
   "source": [
    "### 이미지 연결\n",
    "1. 수평 이미지 연결 함수는 입력된 이미지들이 **동일한 행(높이)** 을 가져야 함.\n",
    "2. 수직 이미지 연결 함수는 입력된 이미지들이 **동일한 열(너비)** 을 가져야 함."
   ],
   "metadata": {
    "collapsed": false,
    "pycharm": {
     "name": "#%% md\n"
    }
   }
  },
  {
   "cell_type": "code",
   "execution_count": null,
   "outputs": [],
   "source": [
    "# Python OpenCV의 수평 이미지 연결 함수\n",
    "\"\"\"\n",
    "dst = cv2.hconcat(\n",
    "    src\n",
    ")\n",
    "\"\"\""
   ],
   "metadata": {
    "collapsed": false,
    "pycharm": {
     "name": "#%%\n"
    }
   }
  },
  {
   "cell_type": "code",
   "execution_count": null,
   "outputs": [],
   "source": [
    "# Python OpenCV의 수직 이미지 연결 함수\n",
    "\"\"\"\n",
    "dst = cv2.vconcat(\n",
    "    src\n",
    ")\n",
    "\"\"\""
   ],
   "metadata": {
    "collapsed": false,
    "pycharm": {
     "name": "#%%\n"
    }
   }
  },
  {
   "cell_type": "code",
   "execution_count": null,
   "outputs": [],
   "source": [
    "# Python OpenCV에서의 이미지 연결 적용\n",
    "one = cv2.imread(\"./Sample Images/one.jpg\")\n",
    "two = cv2.imread(\"./Sample Images/two.jpg\")\n",
    "three = cv2.imread(\"./Sample Images/three.jpg\")\n",
    "four = cv2.imread(\"./Sample Images/four.jpg\")\n",
    "\n",
    "horizontal1 = np.full((50, one.shape[1], 3), [0, 0, 0], dtype=np.uint8)\n",
    "horizontal2 = np.full((50, two.shape[1], 3), (0, 0, 0), dtype=np.uint8)\n",
    "\n",
    "left = cv2.vconcat((one, horizontal1, three))\n",
    "# left = np.vstack((one, horizontal1, three))\n",
    "# right = cv2.vconcat((two, horizontal2, four))\n",
    "right = np.vstack((two, horizontal2, four))\n",
    "\n",
    "vertical = np.full((left.shape[0], 50, 3), 0, dtype=np.uint8)\n",
    "\n",
    "dst = cv2.hconcat((left, vertical, right))\n",
    "# dst = np.hstack((left, vertical, right))\n",
    "# dst = np.concatenate((left, line, right), axis=1)\n",
    "\n",
    "cv2.imshow(\"dst\", dst)\n",
    "cv2.waitKey()\n",
    "cv2.destroyAllWindows()"
   ],
   "metadata": {
    "collapsed": false,
    "pycharm": {
     "name": "#%%\n"
    }
   }
  },
  {
   "cell_type": "markdown",
   "source": [
    "### 도형 그리기"
   ],
   "metadata": {
    "collapsed": false
   }
  },
  {
   "cell_type": "markdown",
   "source": [
    "#### 직선 그리기"
   ],
   "metadata": {
    "collapsed": false,
    "pycharm": {
     "name": "#%% md\n"
    }
   }
  },
  {
   "cell_type": "code",
   "execution_count": null,
   "outputs": [],
   "source": [
    "# Python OpenCV의 직선 그리기 함수\n",
    "\"\"\"\n",
    "cv2.line(\n",
    "    img,\n",
    "    pt1,\n",
    "    pt2,\n",
    "    color,\n",
    "    thickness = None,\n",
    "    lineType = None,\n",
    "    shift = None\n",
    ")\n",
    "\"\"\""
   ],
   "metadata": {
    "collapsed": false,
    "pycharm": {
     "name": "#%%\n"
    }
   }
  },
  {
   "cell_type": "markdown",
   "source": [
    "#### 사각형 그리기"
   ],
   "metadata": {
    "collapsed": false
   }
  },
  {
   "cell_type": "code",
   "execution_count": null,
   "outputs": [],
   "source": [
    "# Python OpenCV의 사각형 그리기 함수\n",
    "\"\"\"\n",
    "cv2.rectangle(\n",
    "    img,\n",
    "    pt1,\n",
    "    pt2,\n",
    "    color,\n",
    "    thickness = None,\n",
    "    lineType = None,\n",
    "    shift = None\n",
    ")\n",
    "\"\"\""
   ],
   "metadata": {
    "collapsed": false,
    "pycharm": {
     "name": "#%%\n"
    }
   }
  },
  {
   "cell_type": "markdown",
   "source": [
    "#### 원 그리기"
   ],
   "metadata": {
    "collapsed": false
   }
  },
  {
   "cell_type": "code",
   "source": [
    "# Python OpenCV의 원 그리기 함수\n",
    "\"\"\"\n",
    "cv2.circle(\n",
    "    img,\n",
    "    center,\n",
    "    radius,\n",
    "    color,\n",
    "    thickness = None,\n",
    "    lineType = None,\n",
    "    shift = None\n",
    ")\n",
    "\"\"\""
   ],
   "metadata": {
    "collapsed": false,
    "pycharm": {
     "name": "#%%\n"
    }
   },
   "execution_count": null,
   "outputs": []
  },
  {
   "cell_type": "markdown",
   "source": [
    "#### 호 그리기"
   ],
   "metadata": {
    "collapsed": false,
    "pycharm": {
     "name": "#%% md\n"
    }
   }
  },
  {
   "cell_type": "code",
   "execution_count": null,
   "outputs": [],
   "source": [
    "# Python OpenCV의 호 그리기 함수\n",
    "\"\"\"\n",
    "cv2.ellipse(\n",
    "    img,\n",
    "    center,\n",
    "    axes,\n",
    "    angle,\n",
    "    startAngle,\n",
    "    endAngle,\n",
    "    color,\n",
    "    thickness = None,\n",
    "    lineType = None,\n",
    "    shift = None\n",
    ")\n",
    "\"\"\""
   ],
   "metadata": {
    "collapsed": false,
    "pycharm": {
     "name": "#%%\n"
    }
   }
  },
  {
   "cell_type": "markdown",
   "source": [
    "#### 내부가 채워지지 않은 다각형 그리기"
   ],
   "metadata": {
    "collapsed": false,
    "pycharm": {
     "name": "#%% md\n"
    }
   }
  },
  {
   "cell_type": "code",
   "execution_count": null,
   "outputs": [],
   "source": [
    "# Python OpenCV의 내부가 채워지지 않은 다각형 그리기 함수\n",
    "\"\"\"\n",
    "cv2.polylines(\n",
    "    img,\n",
    "    pts,\n",
    "    isClosed,\n",
    "    color,\n",
    "    thickness = None,\n",
    "    lineType = None,\n",
    "    shift = None\n",
    ")\n",
    "\"\"\""
   ],
   "metadata": {
    "collapsed": false,
    "pycharm": {
     "name": "#%%\n"
    }
   }
  },
  {
   "cell_type": "markdown",
   "source": [
    "#### 내부가 채워진 다각형 그리기"
   ],
   "metadata": {
    "collapsed": false,
    "pycharm": {
     "name": "#%% md\n"
    }
   }
  },
  {
   "cell_type": "code",
   "execution_count": null,
   "outputs": [],
   "source": [
    "# Python OpenCV의 내부가 채워진 다각형 그리기 함수\n",
    "\"\"\"\n",
    "cv2.fillPoly(\n",
    "    img,\n",
    "    pts,\n",
    "    color,\n",
    "    lineType = None,\n",
    "    shift = None,\n",
    "    offset = None\n",
    ")\n",
    "\"\"\""
   ],
   "metadata": {
    "collapsed": false,
    "pycharm": {
     "name": "#%%\n"
    }
   }
  },
  {
   "cell_type": "markdown",
   "source": [
    "#### 문자 그리기"
   ],
   "metadata": {
    "collapsed": false
   }
  },
  {
   "cell_type": "code",
   "execution_count": null,
   "outputs": [],
   "source": [
    "# Python OpenCV의 문자 그리기 함수\n",
    "\"\"\"\n",
    "cv2.putText(\n",
    "    img,\n",
    "    text,\n",
    "    org,\n",
    "    fontFace,\n",
    "    fontScale,\n",
    "    color,\n",
    "    thickness = None,\n",
    "    lineType = None,\n",
    "    bottomLeftOrigin = None\n",
    ")\n",
    "\"\"\""
   ],
   "metadata": {
    "collapsed": false,
    "pycharm": {
     "name": "#%%\n"
    }
   }
  },
  {
   "cell_type": "code",
   "execution_count": null,
   "outputs": [],
   "source": [
    "# Python OpenCV의 그리기 함수 활용\n",
    "img = np.zeros((768, 1366, 3), dtype = np.uint8)\n",
    "\n",
    "cv2.line(img, (100, 100), (1200, 100), (0, 0, 255), 3, cv2.LINE_AA)\n",
    "cv2.circle(img, (300, 300), 50, (0, 255, 0), cv2.FILLED, cv2.LINE_4)\n",
    "cv2.rectangle(img, (500, 200), (1000, 400), (255, 0, 0), 5, cv2.LINE_8)\n",
    "cv2.ellipse(img, (1200, 300), (100, 50), 0, 90, 180, (255, 255, 0), 2)\n",
    "\n",
    "pts1 = np.array([[[100, 500], [300, 500], [200, 600]], [[400, 500], [500, 500], [600, 700]]])\n",
    "pts2 = np.array([[700, 500], [800, 500], [700, 600]])\n",
    "cv2.polylines(img, pts1, True, (0, 255, 255), 2)\n",
    "cv2.fillPoly(img, [pts2], (255, 0, 255), cv2.LINE_AA)\n",
    "\n",
    "cv2.putText(img, \"OpenCV\", (900, 600), cv2.FONT_HERSHEY_COMPLEX | cv2.FONT_ITALIC, 2, (255, 255, 255), 3)\n",
    "\n",
    "cv2.imshow(\"img\", img)\n",
    "cv2.waitKey(0)\n",
    "cv2.destroyAllWindows()"
   ],
   "metadata": {
    "collapsed": false,
    "pycharm": {
     "name": "#%%\n"
    }
   }
  },
  {
   "cell_type": "markdown",
   "source": [
    "### 트랙 바"
   ],
   "metadata": {
    "collapsed": false
   }
  },
  {
   "cell_type": "code",
   "execution_count": null,
   "outputs": [],
   "source": [
    "# Python OpenCV의 트랙 바 생성 함수\n",
    "\"\"\"\n",
    "cv2.createTrackbar(\n",
    "    trackbarName,\n",
    "    windowName,\n",
    "    value,\n",
    "    count,\n",
    "    onChange\n",
    ")\n",
    "\"\"\""
   ],
   "metadata": {
    "collapsed": false,
    "pycharm": {
     "name": "#%%\n"
    }
   }
  },
  {
   "cell_type": "code",
   "source": [
    "# Python OpenCV의 트랙 바 위치 반환 함수\n",
    "\"\"\"\n",
    "cv2.getTrackbarPos(\n",
    "    trackbarname,\n",
    "    winname,\n",
    ")\n",
    "\"\"\""
   ],
   "metadata": {
    "collapsed": false,
    "pycharm": {
     "name": "#%%\n"
    }
   },
   "execution_count": null,
   "outputs": []
  },
  {
   "cell_type": "code",
   "execution_count": null,
   "outputs": [],
   "source": [
    "# Python OpenCV에서의 트랙 바 적용\n",
    "def onChangeBlue(pos):\n",
    "    global b\n",
    "    b = pos\n",
    "    cv2.imshow(\"Palette\", createImage(b, g, r))\n",
    "\n",
    "def createImage(b, g, r):\n",
    "    return np.full((500, 500, 3), (b, g, r), dtype=np.uint8)\n",
    "\n",
    "b, g, r = 0, 0, 0\n",
    "cv2.namedWindow(\"Palette\")\n",
    "cv2.createTrackbar(\"Blue\", \"Palette\", 55, 255, onChangeBlue)\n",
    "cv2.createTrackbar(\"Green\", \"Palette\", 0, 255, lambda x:x)\n",
    "cv2.createTrackbar(\"Red\", \"Palette\", 0, 255, lambda x:x)\n",
    "\n",
    "while True:\n",
    "    g = cv2.getTrackbarPos(\"Green\", \"Palette\")\n",
    "    r = cv2.getTrackbarPos(\"Red\", \"Palette\")\n",
    "\n",
    "    cv2.imshow(\"Palette\", createImage(b, g, r))\n",
    "    if cv2.waitKey(33) & 0xFF == ord('q'):\n",
    "        break\n",
    "\n",
    "cv2.destroyAllWindows()"
   ],
   "metadata": {
    "collapsed": false,
    "pycharm": {
     "name": "#%%\n"
    }
   }
  },
  {
   "cell_type": "markdown",
   "source": [
    "### 결과 저장"
   ],
   "metadata": {
    "collapsed": false,
    "pycharm": {
     "name": "#%% md\n"
    }
   }
  },
  {
   "cell_type": "markdown",
   "source": [
    "#### 이미지 저장"
   ],
   "metadata": {
    "collapsed": false,
    "pycharm": {
     "name": "#%% md\n"
    }
   }
  },
  {
   "cell_type": "code",
   "execution_count": null,
   "outputs": [],
   "source": [
    "# Python OpenCV의 이미지 저장 함수\n",
    "\"\"\"\n",
    "cv2.imwrite(\n",
    "    filename,\n",
    "    img,\n",
    "    params = None\n",
    ")\n",
    "\"\"\""
   ],
   "metadata": {
    "collapsed": false,
    "pycharm": {
     "name": "#%%\n"
    }
   }
  },
  {
   "cell_type": "code",
   "execution_count": null,
   "outputs": [],
   "source": [
    "# Python OpenCV에서의 이미지 저장\n",
    "img = np.zeros((480, 640, 3), dtype=np.uint8)\n",
    "\n",
    "save = cv2.imwrite(\"./Exported Images/CV.jpeg\", img, (cv2.IMWRITE_JPEG_QUALITY, 100, cv2.IMWRITE_JPEG_PROGRESSIVE, 1))\n",
    "print(save)"
   ],
   "metadata": {
    "collapsed": false,
    "pycharm": {
     "name": "#%%\n"
    }
   }
  },
  {
   "cell_type": "markdown",
   "source": [
    "#### 동영상 저장"
   ],
   "metadata": {
    "collapsed": false
   }
  },
  {
   "cell_type": "code",
   "execution_count": null,
   "outputs": [],
   "source": [
    "# Python OpenCV의 동영상 저장 함수\n",
    "\"\"\"\n",
    "cv2.imwrite(\n",
    "    filename,\n",
    "    fourcc,\n",
    "    fps,\n",
    "    frameSize,\n",
    "    isColor = True\n",
    ")\n",
    "\"\"\""
   ],
   "metadata": {
    "collapsed": false,
    "pycharm": {
     "name": "#%%\n"
    }
   }
  },
  {
   "cell_type": "code",
   "execution_count": null,
   "outputs": [],
   "source": [
    "# Python OpenCV에서의 동영상 저장\n",
    "capture = cv2.VideoCapture(\"Star.mp4\")\n",
    "width = int(capture.get(cv2.CAP_PROP_FRAME_WIDTH))\n",
    "height = int(capture.get(cv2.CAP_PROP_FRAME_HEIGHT))\n",
    "videoWriter = cv2.VideoWriter()\n",
    "isWrite = False\n",
    "\n",
    "while True:\n",
    "    ret, frame = capture.read()\n",
    "\n",
    "    if(capture.get(cv2.CAP_PROP_POS_FRAMES) == capture.get(cv2.CAP_PROP_FRAME_COUNT)):\n",
    "        capture.open(\"Star.mp4\")\n",
    "\n",
    "    cv2.imshow(\"VideoFrame\", frame)\n",
    "    key = cv2.waitKey(33)\n",
    "\n",
    "    # Ctrl + D 또는 Alt + D\n",
    "    # 운영체제 별로 다를 수 있습니다.\n",
    "    if key == 4:\n",
    "        fourcc = cv2.VideoWriter_fourcc(*'XVID')\n",
    "        videoWriter.open(\"Video.avi\", fourcc, 30, (width, height), True)\n",
    "        isWrite = True\n",
    "\n",
    "    # Ctrl + X 또는 Alt + X\n",
    "    # 운영체제 별로 다를 수 있습니다.\n",
    "    elif key == 24:\n",
    "        videoWriter.release()\n",
    "        isWrite = False\n",
    "\n",
    "    elif key == ord('q'): break\n",
    "\n",
    "    if isWrite == True:\n",
    "        videoWriter.write(frame)\n",
    "\n",
    "videoWriter.release()\n",
    "capture.release()\n",
    "cv2.destroyAllWindows()"
   ],
   "metadata": {
    "collapsed": false,
    "pycharm": {
     "name": "#%%\n"
    }
   }
  },
  {
   "cell_type": "markdown",
   "source": [
    "## 이미지 변형"
   ],
   "metadata": {
    "collapsed": false
   }
  },
  {
   "cell_type": "markdown",
   "source": [
    "### 색상 공간 변환"
   ],
   "metadata": {
    "collapsed": false,
    "pycharm": {
     "name": "#%% md\n"
    }
   }
  },
  {
   "cell_type": "code",
   "execution_count": null,
   "outputs": [],
   "source": [
    "# Python OpenCV의 색상 공간 변환 함수\n",
    "\"\"\"\n",
    "dst = cv2.cvtColor(\n",
    "    src,\n",
    "    code,\n",
    "    dstCn = None\n",
    ")\n",
    "\"\"\""
   ],
   "metadata": {
    "collapsed": false,
    "pycharm": {
     "name": "#%%\n"
    }
   }
  },
  {
   "cell_type": "code",
   "execution_count": null,
   "outputs": [],
   "source": [
    "# Python OpenCV에서의 색상 공간 변환\n",
    "src = cv2.imread(\"./Sample Images/crow.jpg\")\n",
    "dst = cv2.cvtColor(src, cv2.COLOR_BGR2HSV)\n",
    "\n",
    "cv2.imshow\"dst\", dst)\n",
    "cv2.waitKey(0)\n",
    "cv2.destroyAllWindows()"
   ],
   "metadata": {
    "collapsed": false,
    "pycharm": {
     "name": "#%%\n"
    }
   }
  },
  {
   "cell_type": "markdown",
   "source": [
    "* 다중 채널 색상 이미지(HSV)\n",
    "1. HSV: 색조(Hue), 채도(Saturation), 명도(Value)\n",
    "2. HSV 중 H는 유일하게 0 ~ 179의 범위로 표현되고 S와 V는 0 ~ 255로 표현된다."
   ],
   "metadata": {
    "collapsed": false
   }
  },
  {
   "cell_type": "markdown",
   "source": [
    "### HSV 색상 공간\n",
    "1. 색상(Hue): 빨간색, 노란색, 파란색 등으로 인식되는 색상 중 하나 또는 둘의 조합과 유사한 것처럼 보이는 시각적 감각의 속성\n",
    "2. 채도(Saturation): 이미지의 색상 깊이로, 색상이 얼마나 선명한(순수한) 색인지를 의미. 아무것도 섞지 않아 맑고 깨끗하며 원색에 가까운 것을 채도가 높다고 표현\n",
    "3. 명도(Value): 색의 밝고 어두운 정도를 의미. 명도가 높을수록 색상이 밝아지며, 명도가 낮을수록 색상이 어두워짐."
   ],
   "metadata": {
    "collapsed": false,
    "pycharm": {
     "name": "#%% md\n"
    }
   }
  },
  {
   "cell_type": "code",
   "execution_count": null,
   "outputs": [],
   "source": [
    "# Python OpenCV의 채널 분리 함수\n",
    "\"\"\"\n",
    "mv = cv2.split(\n",
    "    src\n",
    ")\n",
    "\"\"\""
   ],
   "metadata": {
    "collapsed": false,
    "pycharm": {
     "name": "#%%\n"
    }
   }
  },
  {
   "cell_type": "code",
   "execution_count": null,
   "outputs": [],
   "source": [
    "# Python OpenCV의 채널 병합 함수\n",
    "\"\"\"\n",
    "dst = cv2.merge(\n",
    "    mv\n",
    ")\n",
    "\"\"\""
   ],
   "metadata": {
    "collapsed": false,
    "pycharm": {
     "name": "#%%\n"
    }
   }
  },
  {
   "cell_type": "code",
   "execution_count": null,
   "outputs": [],
   "source": [
    "# 파이썬에서의 리스트 형식 입력\n",
    "\"\"\"\n",
    "dst = cv2.merge([c0, c1, c2])\n",
    "\"\"\""
   ],
   "metadata": {
    "collapsed": false,
    "pycharm": {
     "name": "#%%\n"
    }
   }
  },
  {
   "cell_type": "code",
   "execution_count": null,
   "outputs": [],
   "source": [
    "# Python OpenCV의 배열 요소의 범위 설정 함수\n",
    "\"\"\"\n",
    "dst = cv2.inRange(\n",
    "    src,\n",
    "    lowerb,\n",
    "    upperb\n",
    ")\n",
    "\"\"\""
   ],
   "metadata": {
    "collapsed": false,
    "pycharm": {
     "name": "#%%\n"
    }
   }
  },
  {
   "cell_type": "code",
   "execution_count": null,
   "outputs": [],
   "source": [
    "# Python OpenCV에서의 Hue 공간 색상 검출\n",
    "src = cv2.imread(\"tomato.jpg\")\n",
    "hsv = cv2.cvtColor(src, cv2.COLOR_BGR2HSV)\n",
    "\n",
    "h, s, v = cv2.split(hsv)\n",
    "h_red = cv2.inRange(h, 0, 5)\n",
    "\n",
    "dst = cv2.bitwise_and(hsv, hsv, mask = h_red)\n",
    "dst = cv2.cvtColor(dst, cv2.COLOR_HSV2BGR)\n",
    "\n",
    "cv2.imshow(\"dst\", dst)\n",
    "cv2.waitKey(0)\n",
    "cv2.destroyAllWindows()"
   ],
   "metadata": {
    "collapsed": false,
    "pycharm": {
     "name": "#%%\n"
    }
   }
  },
  {
   "cell_type": "code",
   "execution_count": null,
   "outputs": [],
   "source": [
    "# Python OpenCV의 배열 병합 함수\n",
    "\"\"\"\n",
    "dst = cv2.addWeighted(\n",
    "    src1,\n",
    "    alpha,\n",
    "    src2,\n",
    "    beta,\n",
    "    gamma,\n",
    "    dtype = None\n",
    ")\n",
    "\"\"\""
   ],
   "metadata": {
    "collapsed": false,
    "pycharm": {
     "name": "#%%\n"
    }
   }
  },
  {
   "cell_type": "markdown",
   "source": [
    "* 배열 병합 함수 수식: $$ dst = src1 * alpha + src2 * beta + gamma $$"
   ],
   "metadata": {
    "collapsed": false
   }
  },
  {
   "cell_type": "code",
   "execution_count": null,
   "outputs": [],
   "source": [
    "# Python OpenCV에서의 색상 검출\n",
    "src = cv2.imread(\"tomato.jpg\")\n",
    "hsv = cv2.cvtColor(src, cv2.COLOR_BGR2HSV)\n",
    "\n",
    "h, s, v = cv2.split(hsv)\n",
    "\n",
    "orange = cv2.inRange(hsv, (8, 100, 100), (20, 255, 255))\n",
    "blue = cv2.inRange(hsv, (110, 100, 100), (130, 255, 255))\n",
    "mix_color = cv2.addWeighted(orange, 1.0, blue, 1.0, 0.0)\n",
    "\n",
    "dst = cv2.bitwise_and(hsv, hsv, mask = mix_color)\n",
    "dst = cv2.cvtColor(dst, cv2.COLOR_HSV2BGR)\n",
    "\n",
    "cv2.imshow(\"dst\", dst)\n",
    "cv2.waitKey(0)\n",
    "cv2.destroyAllWindows()"
   ],
   "metadata": {
    "collapsed": false,
    "pycharm": {
     "name": "#%%\n"
    }
   }
  },
  {
   "cell_type": "markdown",
   "source": [
    "### 이진화"
   ],
   "metadata": {
    "collapsed": false
   }
  },
  {
   "cell_type": "code",
   "execution_count": null,
   "outputs": [],
   "source": [
    "# Python OpenCV의 이진화 함수\n",
    "\"\"\"\n",
    "retval, dst = cv2.threshold(\n",
    "    src,\n",
    "    thresh,\n",
    "    maxval,\n",
    "    type\n",
    ")\n",
    "\"\"\""
   ],
   "metadata": {
    "collapsed": false,
    "pycharm": {
     "name": "#%%\n"
    }
   }
  },
  {
   "cell_type": "code",
   "execution_count": null,
   "outputs": [],
   "source": [
    "# Python OpenCV에서의 이진화\n",
    "src = cv2.imread(\"./Sample Images/swan.jpg\")\n",
    "_, binary = cv2.threshold(src, 127, 255, cv2.THRESH_BINARY)\n",
    "\n",
    "cv2.imshow(\"binary\", binary)\n",
    "cv2.waitKey(0)\n",
    "cv2.destroyAllWindows()"
   ],
   "metadata": {
    "collapsed": false,
    "pycharm": {
     "name": "#%%\n"
    }
   }
  },
  {
   "cell_type": "markdown",
   "source": [
    "#### 오츠 알고리즘\n",
    "입력된 이미지의 밝기 분포(히스토그램)를 통해 최적의 임곗값을 찾아 이진화를 적용"
   ],
   "metadata": {
    "collapsed": false
   }
  },
  {
   "cell_type": "markdown",
   "source": [
    "#### 삼각형 알고리즘\n",
    "오츠 알고리즘과 유사하나 모든 임곗값을 대입하지 않는다.\n",
    "히스토그램에서 최대 거리를 구성할 수 있는 임곗값을 찾아 이진화를 적용\n",
    "이 때 최대 거리를 찾는 방법은 히스토그램의 최댓값과 최솟값을 찾아 직각 삼각형으로 만드는 것"
   ],
   "metadata": {
    "collapsed": false
   }
  },
  {
   "cell_type": "markdown",
   "source": [
    "#### 적응형 이진화 알고리즘"
   ],
   "metadata": {
    "collapsed": false,
    "pycharm": {
     "name": "#%% md\n"
    }
   }
  },
  {
   "cell_type": "code",
   "execution_count": null,
   "outputs": [],
   "source": [
    "# Python OpenCV의 이진화 함수\n",
    "\"\"\"\n",
    "dst = cv2.adaptiveThreshold(\n",
    "    src,\n",
    "    maxval,\n",
    "    adaptiveMethod,\n",
    "    thresholdType,\n",
    "    blockSize,\n",
    "    C\n",
    ")\n",
    "\"\"\""
   ],
   "metadata": {
    "collapsed": false,
    "pycharm": {
     "name": "#%%\n"
    }
   }
  },
  {
   "cell_type": "code",
   "execution_count": null,
   "outputs": [],
   "source": [
    "# Python OpenCV에서의 적응형 이진화\n",
    "src = cv2.imread(\"swan.jpg\")\n",
    "gray = cv2.cvtColor(src, cv2.COLOR_BGR2GRAY)\n",
    "binary = cv2.adaptiveThreshold(gray, 255, cv2.ADAPTIVE_THRESH_MEAN_C, cv2.THRESH_BINARY, 33, -5)\n",
    "\n",
    "cv2.imshow(\"binary\", binary)\n",
    "cv2.waitKey(0)\n",
    "cv2.destroyAllWindows()"
   ],
   "metadata": {
    "collapsed": false,
    "pycharm": {
     "name": "#%%\n"
    }
   }
  },
  {
   "cell_type": "markdown",
   "source": [
    "### 이미지 연산"
   ],
   "metadata": {
    "collapsed": false
   }
  },
  {
   "cell_type": "markdown",
   "source": [
    "#### 덧셈 함수"
   ],
   "metadata": {
    "collapsed": false,
    "pycharm": {
     "name": "#%% md\n"
    }
   }
  },
  {
   "cell_type": "code",
   "execution_count": null,
   "outputs": [],
   "source": [
    "# Python OpenCV의 덧셈 함수\n",
    "\"\"\"\n",
    "dst = cv2.add(\n",
    "    src1,\n",
    "    src2,\n",
    "    mask = None,\n",
    "    dtype = None\n",
    ")\n",
    "\"\"\""
   ],
   "metadata": {
    "collapsed": false,
    "pycharm": {
     "name": "#%%\n"
    }
   }
  },
  {
   "cell_type": "markdown",
   "source": [
    "#### 뺄셈 함수"
   ],
   "metadata": {
    "collapsed": false
   }
  },
  {
   "cell_type": "code",
   "execution_count": null,
   "outputs": [],
   "source": [
    "# Python OpenCV의 뺄셈 함수\n",
    "\"\"\"\n",
    "dst = cv2.subtract(\n",
    "    src1,\n",
    "    src2,\n",
    "    mask = None,\n",
    "    dtype = None\n",
    ")\n",
    "\"\"\""
   ],
   "metadata": {
    "collapsed": false,
    "pycharm": {
     "name": "#%%\n"
    }
   }
  },
  {
   "cell_type": "markdown",
   "source": [
    "* 뺄셈 함수는 src1에서 src2를 빼느냐, src2에서 src1를 빼느냐에 따라 결과가 달라지므로 배열의 순서에 유의한다."
   ],
   "metadata": {
    "collapsed": false
   }
  },
  {
   "cell_type": "markdown",
   "source": [
    "#### 곱셈 함수"
   ],
   "metadata": {
    "collapsed": false,
    "pycharm": {
     "name": "#%% md\n"
    }
   }
  },
  {
   "cell_type": "code",
   "execution_count": null,
   "outputs": [],
   "source": [
    "# Python OpenCV의 곱셈 함수\n",
    "\"\"\"\n",
    "dst = cv2.multiply(\n",
    "    src1,\n",
    "    src2,\n",
    "    scale = None,\n",
    "    dtype = None\n",
    ")\n",
    "\"\"\""
   ],
   "metadata": {
    "collapsed": false,
    "pycharm": {
     "name": "#%%\n"
    }
   }
  },
  {
   "cell_type": "markdown",
   "source": [
    "#### 나눗셈 함수"
   ],
   "metadata": {
    "collapsed": false
   }
  },
  {
   "cell_type": "code",
   "execution_count": null,
   "outputs": [],
   "source": [
    "# Python OpenCV의 나눗셈 함수\n",
    "\"\"\"\n",
    "dst = cv2.divide(\n",
    "    src1,\n",
    "    src2,\n",
    "    scale = None,\n",
    "    dtype = None\n",
    ")\n",
    "\"\"\""
   ],
   "metadata": {
    "collapsed": false,
    "pycharm": {
     "name": "#%%\n"
    }
   }
  },
  {
   "cell_type": "markdown",
   "source": [
    "#### 최댓값 함수"
   ],
   "metadata": {
    "collapsed": false
   }
  },
  {
   "cell_type": "code",
   "execution_count": null,
   "outputs": [],
   "source": [
    "# Python OpenCV의 최댓값 함수\n",
    "\"\"\"\n",
    "dst = cv2.max(\n",
    "    src1,\n",
    "    src2\n",
    ")\n",
    "\"\"\""
   ],
   "metadata": {
    "collapsed": false,
    "pycharm": {
     "name": "#%%\n"
    }
   }
  },
  {
   "cell_type": "markdown",
   "source": [
    "#### 최솟값 함수"
   ],
   "metadata": {
    "collapsed": false
   }
  },
  {
   "cell_type": "code",
   "execution_count": null,
   "outputs": [],
   "source": [
    "# Python OpenCV의 최솟값 함수\n",
    "\"\"\"\n",
    "dst = cv2.min(\n",
    "    src1,\n",
    "    src2\n",
    ")\n",
    "\"\"\""
   ],
   "metadata": {
    "collapsed": false,
    "pycharm": {
     "name": "#%%\n"
    }
   }
  },
  {
   "cell_type": "markdown",
   "source": [
    "#### 최소/최대 위치 반환 함수"
   ],
   "metadata": {
    "collapsed": false
   }
  },
  {
   "cell_type": "code",
   "execution_count": null,
   "outputs": [],
   "source": [
    "# Python OpenCV의 최소/최대 위치 반환 함수\n",
    "\"\"\"\n",
    "minVal, maxVal, minLoc, maxLoc = np.minMaxLoc(\n",
    "    src\n",
    ")\n",
    "\"\"\""
   ],
   "metadata": {
    "collapsed": false,
    "pycharm": {
     "name": "#%%\n"
    }
   }
  },
  {
   "cell_type": "markdown",
   "source": [
    "#### 절대값 함수"
   ],
   "metadata": {
    "collapsed": false
   }
  },
  {
   "cell_type": "code",
   "execution_count": null,
   "outputs": [],
   "source": [
    "# Python OpenCV의 절댓값 함수\n",
    "\"\"\"\n",
    "dst = np.abs(\n",
    "    src\n",
    ")\n",
    "\"\"\""
   ],
   "metadata": {
    "collapsed": false,
    "pycharm": {
     "name": "#%%\n"
    }
   }
  },
  {
   "cell_type": "markdown",
   "source": [
    "#### 절댓값 차이 함수"
   ],
   "metadata": {
    "collapsed": false
   }
  },
  {
   "cell_type": "code",
   "execution_count": null,
   "outputs": [],
   "source": [
    "# Python OpenCV의 절대값 차이 함수\n",
    "\"\"\"\n",
    "dst = cv2.absdiff(\n",
    "    src1,\n",
    "    src2\n",
    ")\n",
    "\"\"\""
   ],
   "metadata": {
    "collapsed": false,
    "pycharm": {
     "name": "#%%\n"
    }
   }
  },
  {
   "cell_type": "markdown",
   "source": [
    "* 절댓값 차이 함수는 덧셈 함수나 뺄셈 함수 등에서 요소의 최댓값보다 크거나 최솟값보다 작을 때 발생하는 오버/언더플로 문제를 피할 수 있다."
   ],
   "metadata": {
    "collapsed": false
   }
  },
  {
   "cell_type": "markdown",
   "source": [
    "#### 비교 함수"
   ],
   "metadata": {
    "collapsed": false,
    "pycharm": {
     "name": "#%% md\n"
    }
   }
  },
  {
   "cell_type": "code",
   "execution_count": null,
   "outputs": [],
   "source": [
    "# Python OpenCV의 비교 함수\n",
    "\"\"\"\n",
    "dst = cv2.compare(\n",
    "    src1,\n",
    "    src2,\n",
    "    cmpop\n",
    ")\n",
    "\"\"\""
   ],
   "metadata": {
    "collapsed": false,
    "pycharm": {
     "name": "#%%\n"
    }
   }
  },
  {
   "cell_type": "markdown",
   "source": [
    "#### 선형 방정식 시스템의 해 찾기 함수"
   ],
   "metadata": {
    "collapsed": false
   }
  },
  {
   "cell_type": "code",
   "execution_count": null,
   "outputs": [],
   "source": [
    "# Python OpenCV의 선형 방정식 시스템의 해 찾기 함수\n",
    "\"\"\"\n",
    "success, dst = cv2.solve(\n",
    "    src1,\n",
    "    src2,\n",
    "    flags = None\n",
    ")\n",
    "\"\"\""
   ],
   "metadata": {
    "collapsed": false,
    "pycharm": {
     "name": "#%%\n"
    }
   }
  },
  {
   "cell_type": "markdown",
   "source": [
    "#### AND 연산 함수"
   ],
   "metadata": {
    "collapsed": false
   }
  },
  {
   "cell_type": "code",
   "execution_count": null,
   "outputs": [],
   "source": [
    "# Python OpenCV의 AND 연산 함수\n",
    "\"\"\"\n",
    "dst = cv2.bitwise_and(\n",
    "    src1,\n",
    "    src2,\n",
    "    mask = None\n",
    ")\n",
    "\"\"\""
   ],
   "metadata": {
    "collapsed": false,
    "pycharm": {
     "name": "#%%\n"
    }
   }
  },
  {
   "cell_type": "markdown",
   "source": [
    "#### OR 연산 함수"
   ],
   "metadata": {
    "collapsed": false
   }
  },
  {
   "cell_type": "code",
   "execution_count": null,
   "outputs": [],
   "source": [
    "# Python OpenCV의 OR 연산 함수\n",
    "\"\"\"\n",
    "dst = cv2.bitwise_or(\n",
    "    src1,\n",
    "    src2,\n",
    "    mask = None\n",
    ")\n",
    "\"\"\""
   ],
   "metadata": {
    "collapsed": false,
    "pycharm": {
     "name": "#%%\n"
    }
   }
  },
  {
   "cell_type": "markdown",
   "source": [
    "#### XOR 연산 함수"
   ],
   "metadata": {
    "collapsed": false
   }
  },
  {
   "cell_type": "code",
   "execution_count": null,
   "outputs": [],
   "source": [
    "# Python OpenCV의 XOR 연산 함수\n",
    "\"\"\"\n",
    "dst = cv2.bitwise_xor(\n",
    "    src1,\n",
    "    src2,\n",
    "    mask = None\n",
    ")\n",
    "\"\"\""
   ],
   "metadata": {
    "collapsed": false,
    "pycharm": {
     "name": "#%%\n"
    }
   }
  },
  {
   "cell_type": "markdown",
   "source": [
    "#### NOT 연산 함수"
   ],
   "metadata": {
    "collapsed": false
   }
  },
  {
   "cell_type": "code",
   "execution_count": null,
   "outputs": [],
   "source": [
    "# Python OpenCV의 NOT 연산 함수\n",
    "\"\"\"\n",
    "dst = cv2.bitwise_not(\n",
    "    src,\n",
    "    mask = None)\n",
    ")\n",
    "\"\"\""
   ],
   "metadata": {
    "collapsed": false,
    "pycharm": {
     "name": "#%%\n"
    }
   }
  },
  {
   "cell_type": "markdown",
   "source": [
    "### 흐림 효과\n",
    "1. 블러링(Blurring) 또는 스무딩(Smoothing)이라고 불리며, 노이즈를 줄이거나 외부 영향을 최소화하는 데 사용\n",
    "2. 기본 효과 이외에 연산 시 계산을 빠르고 정확하게 수행하는 데 도움\n",
    "3. 중요 파라미터: 커널, 고정점, 테두리 외삽법"
   ],
   "metadata": {
    "collapsed": false
   }
  },
  {
   "cell_type": "markdown",
   "source": [
    "#### 커널과 고정점\n",
    "1. 커널(kernel): 이미지에서 (x, y)의 픽셀과 해당 픽셀 주변을 포함한 작은 크기의 공간\n",
    "2. 컨벌루션(Convolution): 새로운 픽셀을 만들어 내기 위해 커널 크기의 화소 값을 이용해 어떤 시스템을 통과해 계산하는 것\n",
    "3. 고정점(anchor point): 커널을 통해 컨벌루션된 값을 할당할 지점"
   ],
   "metadata": {
    "collapsed": false,
    "pycharm": {
     "name": "#%% md\n"
    }
   }
  },
  {
   "cell_type": "markdown",
   "source": [
    "#### 테두리 외삽법\n",
    "* 테두리의 이미지 바깥쪽에 가상의 픽셀을 만들어 처리\n",
    "* 가상 픽셀의 값을 0츠로 처리하거나 커널이 연산할 수 있는 부분부터 연산을 수행"
   ],
   "metadata": {
    "collapsed": false,
    "pycharm": {
     "name": "#%% md\n"
    }
   }
  },
  {
   "cell_type": "markdown",
   "source": [
    "#### 단순 흐림 효과"
   ],
   "metadata": {
    "collapsed": false,
    "pycharm": {
     "name": "#%% md\n"
    }
   }
  },
  {
   "cell_type": "code",
   "execution_count": null,
   "outputs": [],
   "source": [
    "# Python OpenCV의 단순 흐림 효과 함수\n",
    "\"\"\"\n",
    "dst = cv2.blur(\n",
    "    src,\n",
    "    ksize,\n",
    "    anchor = None\n",
    "    borderType = None\n",
    ")\n",
    "\"\"\""
   ],
   "metadata": {
    "collapsed": false,
    "pycharm": {
     "name": "#%%\n"
    }
   }
  },
  {
   "cell_type": "markdown",
   "source": [
    "#### 박스 필터 흐림 효과"
   ],
   "metadata": {
    "collapsed": false
   }
  },
  {
   "cell_type": "code",
   "source": [
    "# Python OpenCV의 박스 필터 흐림 효과 함수\n",
    "\"\"\"\n",
    "dst = cv2.boxFilter(\n",
    "    src,\n",
    "    ddepth,\n",
    "    ksize,\n",
    "    anchor = None,\n",
    "    normalize = None,\n",
    "    borderType = None\n",
    ")\n",
    "\"\"\""
   ],
   "metadata": {
    "collapsed": false,
    "pycharm": {
     "name": "#%%\n"
    }
   },
   "execution_count": null,
   "outputs": []
  },
  {
   "cell_type": "markdown",
   "source": [
    "#### 중간값 흐림 효과"
   ],
   "metadata": {
    "collapsed": false,
    "pycharm": {
     "name": "#%% md\n"
    }
   }
  },
  {
   "cell_type": "code",
   "execution_count": null,
   "outputs": [],
   "source": [
    "# Python OpenCV 중간값 흐림 효과 함수\n",
    "\"\"\"\n",
    "dst = cv2.medianBlur(\n",
    "    src,\n",
    "    ksize\n",
    ")\n",
    "\"\"\""
   ],
   "metadata": {
    "collapsed": false,
    "pycharm": {
     "name": "#%%\n"
    }
   }
  },
  {
   "cell_type": "markdown",
   "source": [
    "#### 가우시안 흐림 효과"
   ],
   "metadata": {
    "collapsed": false
   }
  },
  {
   "cell_type": "code",
   "source": [
    "# Python OpenCV의 가우시안 흐림 효과 함수\n",
    "\"\"\"\n",
    "dst = cv2.GaussianBlur(\n",
    "    src,\n",
    "    ksize,\n",
    "    sigmaX,\n",
    "    sigmaY = None,\n",
    "    borderType = None\n",
    ")\n",
    "\"\"\""
   ],
   "metadata": {
    "collapsed": false,
    "pycharm": {
     "name": "#%%\n"
    }
   },
   "execution_count": null,
   "outputs": []
  },
  {
   "cell_type": "markdown",
   "source": [
    "#### 양방향 필터 흐림 효과"
   ],
   "metadata": {
    "collapsed": false
   }
  },
  {
   "cell_type": "code",
   "execution_count": null,
   "outputs": [],
   "source": [
    "# Python OpenCV의 양방향 필터 흐림 효과 함수\n",
    "\"\"\"\n",
    "dst = cv2.bilateralFilter(\n",
    "    src,\n",
    "    d,\n",
    "    sigmaColor,\n",
    "    sigmaSpace,\n",
    "    dst = None,\n",
    "    borderType = None\n",
    ")\n",
    "\"\"\""
   ],
   "metadata": {
    "collapsed": false,
    "pycharm": {
     "name": "#%%\n"
    }
   }
  },
  {
   "cell_type": "code",
   "execution_count": null,
   "outputs": [],
   "source": [
    "# Python OpenCV에서의 양방향 필터 흐림 효과 함수\n",
    "src = cv2.imread(\"./Sample Images/crescent.jpg\")\n",
    "\n",
    "dst = cv2.bilateralFilter(src, 100, 33, 11, borderType=cv2.BORDER_ISOLATED)\n",
    "\n",
    "cv2.imshow(\"dst\", dst)\n",
    "cv2.waitKey(0)\n",
    "cv2.destroyAllWindows()"
   ],
   "metadata": {
    "collapsed": false,
    "pycharm": {
     "name": "#%%\n"
    }
   }
  },
  {
   "cell_type": "markdown",
   "source": [
    "## 이미지 변환"
   ],
   "metadata": {
    "collapsed": false
   }
  },
  {
   "cell_type": "markdown",
   "source": [
    "### 확대 & 축소"
   ],
   "metadata": {
    "collapsed": false,
    "pycharm": {
     "name": "#%% md\n"
    }
   }
  },
  {
   "cell_type": "markdown",
   "source": [
    "#### 이미지 확대(Pyramid Up)"
   ],
   "metadata": {
    "collapsed": false,
    "pycharm": {
     "name": "#%% md\n"
    }
   }
  },
  {
   "cell_type": "code",
   "execution_count": null,
   "outputs": [],
   "source": [
    "# Python OpenCV의 이미지 확대 함수\n",
    "\"\"\"\n",
    "dst = cv2.pyrUp(\n",
    "    src,\n",
    "    dstSize = None,\n",
    "    borderType = None\n",
    ")\n",
    "\"\"\""
   ],
   "metadata": {
    "collapsed": false,
    "pycharm": {
     "name": "#%%\n"
    }
   }
  },
  {
   "cell_type": "markdown",
   "source": [
    "#### 이미지 축소(Pyramid Down)"
   ],
   "metadata": {
    "collapsed": false
   }
  },
  {
   "cell_type": "code",
   "execution_count": null,
   "outputs": [],
   "source": [
    "# Python OpenCV의 이미지 축소 함수\n",
    "\"\"\"\n",
    "dst = cv2.pyrDown(\n",
    "    src,\n",
    "    dstSize = None,\n",
    "    borderType = None\n",
    ")\n",
    "\"\"\""
   ],
   "metadata": {
    "collapsed": false,
    "pycharm": {
     "name": "#%%\n"
    }
   }
  },
  {
   "cell_type": "code",
   "execution_count": null,
   "outputs": [],
   "source": [
    "# Python OpenCV에서의 이미지 축소\n",
    "src = cv2.imread(\"./Sample Images/ferris-wheel.jpg\")\n",
    "dst = src.copy()\n",
    "\n",
    "for i in range(3):\n",
    "    dst = cv2.pyrDown(dst)\n",
    "\n",
    "cv2.imshow(\"dst\", dst)\n",
    "cv2.waitKey(0)\n",
    "cv2.destroyAllWindows()"
   ],
   "metadata": {
    "collapsed": false,
    "pycharm": {
     "name": "#%%\n"
    }
   }
  },
  {
   "cell_type": "markdown",
   "source": [
    "### 이미지 크기 조절"
   ],
   "metadata": {
    "collapsed": false
   }
  },
  {
   "cell_type": "code",
   "execution_count": null,
   "outputs": [],
   "source": [
    "# Python OpenCV의 이미지 크기 조절 함수\n",
    "\"\"\"\n",
    "dst = cv2.resize(\n",
    "    src,\n",
    "    dsize,\n",
    "    fx = None,\n",
    "    fy = None,\n",
    "    interpolation = None\n",
    ")\n",
    "\"\"\""
   ],
   "metadata": {
    "collapsed": false,
    "pycharm": {
     "name": "#%%\n"
    }
   }
  },
  {
   "cell_type": "code",
   "execution_count": null,
   "outputs": [],
   "source": [
    "# Python OpenCV의 이미지 크기 조절\n",
    "src = cv2.imread(\"./Sample Images/car.png\")\n",
    "\n",
    "dst = src[280:310, 240:405]\n",
    "dst = cv2.resize(dst, dsize=(256, 256), interpolation=cv2.INTER_NEAREST)\n",
    "\n",
    "cv2.imshow(\"dst\", dst)\n",
    "cv2.waitKey(0)\n",
    "cv2.destroyAllWindows()"
   ],
   "metadata": {
    "collapsed": false,
    "pycharm": {
     "name": "#%%\n"
    }
   }
  },
  {
   "cell_type": "markdown",
   "source": [
    "### 대칭 & 회전"
   ],
   "metadata": {
    "collapsed": false
   }
  },
  {
   "cell_type": "code",
   "execution_count": null,
   "outputs": [],
   "source": [
    "# Python OpenCV의 대칭 함수\n",
    "\"\"\"\n",
    "dst = cv2.flip(\n",
    "    src,\n",
    "    flipCode\n",
    ")\n",
    "\"\"\""
   ],
   "metadata": {
    "collapsed": false,
    "pycharm": {
     "name": "#%%\n"
    }
   }
  },
  {
   "cell_type": "code",
   "execution_count": null,
   "outputs": [],
   "source": [
    "# Python OpenCV의 2X3 회전 행렬 생성 함수\n",
    "\"\"\"\n",
    "matrix = cv2.getRotationMatrix2D(\n",
    "    center,\n",
    "    angle,\n",
    "    scale\n",
    ")\n",
    "\"\"\""
   ],
   "metadata": {
    "collapsed": false,
    "pycharm": {
     "name": "#%%\n"
    }
   }
  },
  {
   "cell_type": "code",
   "execution_count": null,
   "outputs": [],
   "source": [
    "# Python OpenCV에서의 회전 행렬의 재할당\n",
    "src = cv2.imread(\"./Sample Images/glass.jpg\")\n",
    "\n",
    "height, width, _ = src.shape\n",
    "center = (width / 2, height / 2)\n",
    "angle = 90\n",
    "scale = 0.5\n",
    "matrix = cv2.getRotationMatrix2D(center, angle, scale)\n",
    "\n",
    "radians = math.radians(angle)\n",
    "sin = math.sin(radians)\n",
    "cos = math.cos(radians)\n",
    "bound_w = int((height * scale * abs(sin)) + (width * scale * abs(cos)))\n",
    "bound_h = int((height * scale * abs(cos)) + (width * scale * abs(sin)))\n",
    "\n",
    "matrix[0, 2] += ((bound_w / 2) - center[0])\n",
    "matrix[1, 2] += ((bound_h / 2) - center[1])\n",
    "\n",
    "dst = cv2.warpAffine(src, matrix, (bound_w, bound_h))\n",
    "\n",
    "cv2.imshow(\"dst\", dst)\n",
    "cv2.waitKey(0)\n",
    "cv2.destroyAllWindows()"
   ],
   "metadata": {
    "collapsed": false,
    "pycharm": {
     "name": "#%%\n"
    }
   }
  },
  {
   "cell_type": "markdown",
   "source": [
    "### 기하학적 변환\n",
    "* 이미지를 구성하는 픽셀 좌푯값의 위치를 재배치 하는 과정\n",
    "* 2차원 공간에서의 기하학적 변환: 아핀 변환, 원근 변환"
   ],
   "metadata": {
    "collapsed": false
   }
  },
  {
   "cell_type": "markdown",
   "source": [
    "#### 아핀 변환"
   ],
   "metadata": {
    "collapsed": false,
    "pycharm": {
     "name": "#%% md\n"
    }
   }
  },
  {
   "cell_type": "code",
   "execution_count": null,
   "outputs": [],
   "source": [
    "# Python OpenCV의 아핀 맵 행렬 생성 함수\n",
    "\"\"\"\n",
    "M = cv2.getAffineTransform(\n",
    "    src,\n",
    "    dst\n",
    ")\n",
    "\"\"\""
   ],
   "metadata": {
    "collapsed": false,
    "pycharm": {
     "name": "#%%\n"
    }
   }
  },
  {
   "cell_type": "code",
   "execution_count": null,
   "outputs": [],
   "source": [
    "# Python OpenCV의 아핀 변환 함수\n",
    "\"\"\"\n",
    "dst = cv2.warpAffine(\n",
    "    src,\n",
    "    M,\n",
    "    dsize,\n",
    "    dst = None,\n",
    "    flags = None,\n",
    "    borderMode = None,\n",
    "    borderValue = None\n",
    ")\n",
    "\"\"\""
   ],
   "metadata": {
    "collapsed": false,
    "pycharm": {
     "name": "#%%\n"
    }
   }
  },
  {
   "cell_type": "markdown",
   "source": [
    "#### 원근 변환"
   ],
   "metadata": {
    "collapsed": false
   }
  },
  {
   "cell_type": "code",
   "execution_count": null,
   "outputs": [],
   "source": [
    "# Python OpenCV의 원근 맵 행렬 생성 함수\n",
    "\"\"\"\n",
    "M = cv2.getPerspectiveTransform(\n",
    "    src,\n",
    "    dst\n",
    ")\n",
    "\"\"\""
   ],
   "metadata": {
    "collapsed": false,
    "pycharm": {
     "name": "#%%\n"
    }
   }
  },
  {
   "cell_type": "code",
   "execution_count": null,
   "outputs": [],
   "source": [
    "# Python OpenCV의 원근 변환 함수\n",
    "\"\"\"\n",
    "dst = cv2.warpPerspective(\n",
    "    src,\n",
    "    M,\n",
    "    dsize,\n",
    "    dst = None,\n",
    "    flags = None,\n",
    "    borderMode = None,\n",
    "    borderValue = None\n",
    ")\n",
    "\"\"\""
   ],
   "metadata": {
    "collapsed": false,
    "pycharm": {
     "name": "#%%\n"
    }
   }
  },
  {
   "cell_type": "code",
   "execution_count": null,
   "outputs": [],
   "source": [
    "# Python OpenCV에서의 원근 변환\n",
    "src = cv2.imread(\"./Sample Images/clouds.jpg\", cv2.IMREAD_GRAYSCALE)\n",
    "_, binary = cv2.threshold(src, 127, 255, cv2.THRESH_BINARY)\n",
    "\n",
    "kernel = np.array([[1, 0, 0, 0, 1],\n",
    "                   [0, 1, 0, 1, 0],\n",
    "                   [0, 0, 1, 0, 0],\n",
    "                   [0, 1, 0, 1, 0],\n",
    "                   [1, 0, 0, 0, 1]])\n",
    "\n",
    "dst = cv2.morphologyEx(binary, cv2.MORPH_HITMISS, kernel, iterations=1)\n",
    "\n",
    "cv2.imshow(\"dst\", dst)\n",
    "cv2.waitKey(0)\n",
    "cv2.destroyAllWindows()"
   ],
   "metadata": {
    "collapsed": false,
    "pycharm": {
     "name": "#%%\n"
    }
   }
  },
  {
   "cell_type": "markdown",
   "source": [
    "### 모폴로지 변환\n",
    "* 영상이나 이미지를 형태학적 관점에서 접근하는 기법\n",
    "* 집합의 포함 관계, 이동(translation), 대칭(reflection), 여집합(complement), 차집합(difference) 등의 성질 이용\n",
    "* 팽창(dilation): 커널 영역 안에 존재하는 모든 픽셀의 값을 커널 내부의 극댓값(local maximum)으로 대체, 노이즈 제거 후 줄어든 크기를 복구할 때 사용\n",
    "* 침식(erosion): 커널 영역 안에 존재하는 모든 픽셀의 값을 커널 내부의 극솟값(local minimum)으로 대체, 노이즈 제거에 주로 사용"
   ],
   "metadata": {
    "collapsed": false
   }
  },
  {
   "cell_type": "code",
   "execution_count": null,
   "outputs": [],
   "source": [
    "# Python OpenCV의 구조 요소 생성 함수\n",
    "\"\"\"\n",
    "kernel = cv2.getStructuringElement(\n",
    "    shape,\n",
    "    ksize,\n",
    "    anchor = None\n",
    ")\n",
    "\"\"\""
   ],
   "metadata": {
    "collapsed": false,
    "pycharm": {
     "name": "#%%\n"
    }
   }
  },
  {
   "cell_type": "code",
   "execution_count": null,
   "outputs": [],
   "source": [
    "# Python OpenCV의 팽창 함수\n",
    "\"\"\"\n",
    "dst = cv2.dilate(\n",
    "    src,\n",
    "    kernel,\n",
    "    anchor = None,\n",
    "    iterations = None,\n",
    "    borderType = None,\n",
    "    borderValue = None\n",
    ")\n",
    "\"\"\""
   ],
   "metadata": {
    "collapsed": false,
    "pycharm": {
     "name": "#%%\n"
    }
   }
  },
  {
   "cell_type": "code",
   "execution_count": null,
   "outputs": [],
   "source": [
    "# Python OpenCV의 침식 함수\n",
    "\"\"\"\n",
    "dst = cv2.erode(\n",
    "    src,\n",
    "    kernel,\n",
    "    anchor = None,\n",
    "    iterations = None,\n",
    "    borderType = None,\n",
    "    borderValue = None\n",
    ")\n",
    "\"\"\""
   ],
   "metadata": {
    "collapsed": false,
    "pycharm": {
     "name": "#%%\n"
    }
   }
  },
  {
   "cell_type": "code",
   "execution_count": null,
   "outputs": [],
   "source": [
    "# Python OpenCV의 모폴로지 침식\n",
    "src = cv2.imread(\"./Sample Images/dandelion.jpg\", cv2.IMREAD_GRAYSCALE)\n",
    "\n",
    "kernel = cv2.getStructuringElement(cv2.MORPH_ELLIPSE, (5, 5), anchor=(-1, -1))\n",
    "dst = cv2.erode(src, kernel, iterations=3)\n",
    "\n",
    "cv2.imshow(\"dst\", dst)\n",
    "cv2.waitKey(0)\n",
    "cv2.destroyAllWindows()"
   ],
   "metadata": {
    "collapsed": false,
    "pycharm": {
     "name": "#%%\n"
    }
   }
  },
  {
   "cell_type": "markdown",
   "source": [
    "### 모폴로지 연산\n",
    "모폴로지 변환의 팽창(dilation)과 침식(erosion)을 기본 연산으로 사용해 고급 형태학을 적용하는 변환 연산"
   ],
   "metadata": {
    "collapsed": false
   }
  },
  {
   "cell_type": "code",
   "execution_count": null,
   "outputs": [],
   "source": [
    "# Python OpenCV의 모폴로지 연산 함수\n",
    "\"\"\"\n",
    "dst = cv2.morphologyEx(\n",
    "    src,\n",
    "    op,\n",
    "    kernel,\n",
    "    anchor = None,\n",
    "    iterations = None,\n",
    "    borderType = None,\n",
    "    borderValue = None\n",
    ")\n",
    "\"\"\""
   ],
   "metadata": {
    "collapsed": false,
    "pycharm": {
     "name": "#%%\n"
    }
   }
  },
  {
   "cell_type": "markdown",
   "source": [
    "#### 열림 연산\n",
    "* 팽창 연산자와 침식 연산자의 조합\n",
    "* 침식 연산을 적용한 다음, 팽창 연산을 적용"
   ],
   "metadata": {
    "collapsed": false
   }
  },
  {
   "cell_type": "markdown",
   "source": [
    "#### 닫힘 연산\n",
    "* 팽창 연산자와 침식 연산자의 조합(열림 연산과 동일)\n",
    "* 팽창 연산을 적용한 다음, 침식 연산을 적용"
   ],
   "metadata": {
    "collapsed": false,
    "pycharm": {
     "name": "#%% md\n"
    }
   }
  },
  {
   "cell_type": "markdown",
   "source": [
    "#### 그레이디언트 연산\n",
    "* 팽창 연산자와 침식 연산자의 조합\n",
    "* 입력 이미지에 각각 팽창 연산과 침식 연산을 적용하고 감산을 진행\n",
    "* 입력 이미지와 비교 시, 팽창 연산은 밝은 영역이 더 크며, 반대로 침식 연산은 밝은 영역이 더 작다."
   ],
   "metadata": {
    "collapsed": false,
    "pycharm": {
     "name": "#%% md\n"
    }
   }
  },
  {
   "cell_type": "markdown",
   "source": [
    "#### 탑햇 연산\n",
    "* 입력 이미지(src)와 열림(Opening)의 조합\n",
    "* 그레이디언트 연산과 비슷하게 입력 이미지에 열림 연산을 적용한 이미지를 감산\n",
    "* 입력 이미지의 객체들이 제외되고 국소적으로 밝았던 부분들이 분리"
   ],
   "metadata": {
    "collapsed": false,
    "pycharm": {
     "name": "#%% md\n"
    }
   }
  },
  {
   "cell_type": "markdown",
   "source": [
    "#### 히트미스 연산\n",
    "* 단일 채널 이미지에서 활용하며, 주로 이진화 이미지에 적용\n",
    "* 이미지의 전경이나 배경 픽셀의 특정 패턴을 찾는 데 사용하는 이진 형태학으로서 구조 요소 형태에 큰 영향을 받는다."
   ],
   "metadata": {
    "collapsed": false,
    "pycharm": {
     "name": "#%% md\n"
    }
   }
  },
  {
   "cell_type": "code",
   "execution_count": null,
   "outputs": [],
   "source": [
    "# Python OpenCV에서의 모폴로지 히트미스\n",
    "src = cv2.imread(\"./Sample Images/dandelion.jpg\", cv2.IMREAD_GRAYSCALE)\n",
    "_, binary = cv2.threshold(src, 127, 255, cv2.THRESH_BINARY)\n",
    "\n",
    "kernel = np.array([[1, 0, 0, 0, 1],\n",
    "                   [0, 1, 0, 1, 0],\n",
    "                   [0, 0, 1, 0, 0],\n",
    "                   [0, 1, 0, 1, 0],\n",
    "                   [1, 0, 0, 0, 1]])\n",
    "\n",
    "dst = cv2.morphologyEx(binary, cv2.MORPH_HITMISS, kernel, iterations=1)\n",
    "\n",
    "cv2.imshow(\"dst\", dst)\n",
    "cv2.waitKey(0)\n",
    "cv2.destroyAllWindows()"
   ],
   "metadata": {
    "collapsed": false,
    "pycharm": {
     "name": "#%%\n"
    }
   }
  },
  {
   "cell_type": "markdown",
   "source": [
    "## 이미지 검출"
   ],
   "metadata": {
    "collapsed": false
   }
  },
  {
   "cell_type": "markdown",
   "source": [
    "### 가장자리 검출\n",
    "1. 이미지상에서 전경(foreground)과 배경(background)이 구분되는 지점\n",
    "2. 픽셀의 밝기 변화율(Rate of Change)이 높은 부분\n",
    "3. 미분과 기울기(Gradient) 연산을 수행하여 탐색"
   ],
   "metadata": {
    "collapsed": false,
    "pycharm": {
     "name": "#%% md\n"
    }
   }
  },
  {
   "cell_type": "markdown",
   "source": [
    "#### 소벨 미분\n",
    "1. 영상에서의 미분은 인접한 픽셀들의 차이로 기울기(Gradient)의 크기를 구한다.\n",
    "2. 이 때 인접한 픽셀들의 기울기를 계산하기 위해 컨벌루션 연산을 수행한다.\n",
    "3. 그러므로 커널(kernel)을 사용해 미분하며 커널의 크기는 홀수 값을 갖는다."
   ],
   "metadata": {
    "collapsed": false,
    "pycharm": {
     "name": "#%% md\n"
    }
   }
  },
  {
   "cell_type": "code",
   "execution_count": null,
   "outputs": [],
   "source": [
    "# Python OpenCV의 소벨 연산 함수\n",
    "\"\"\"\n",
    "dst = cv2.Sobel(\n",
    "    src,\n",
    "    ddepth,\n",
    "    dx,\n",
    "    dy,\n",
    "    ksize = None,\n",
    "    scale = None,\n",
    "    delta = None,\n",
    "    borderType = None\n",
    ")\n",
    "\"\"\""
   ],
   "metadata": {
    "collapsed": false,
    "pycharm": {
     "name": "#%%\n"
    }
   }
  },
  {
   "cell_type": "markdown",
   "source": [
    "#### 샤르 필터\n",
    "1. 소벨 미분의 단점을 보완\n",
    "2. 소벨 연산자의 경우, 커널의 크기가 작으면 정확도 저하\n",
    "3. 샤르 필터는 소벨 필터보다 더 빠르고 정확\n",
    "* OpenCV에서 샤르 필터는 3 * 3 크기만 지원"
   ],
   "metadata": {
    "collapsed": false
   }
  },
  {
   "cell_type": "code",
   "execution_count": null,
   "outputs": [],
   "source": [
    "# Python OpenCV의 샤르 연산 함수\n",
    "\"\"\"\n",
    "dst = cv2.Scharr(\n",
    "    src,\n",
    "    ddepth,\n",
    "    dx,\n",
    "    dy,\n",
    "    scale = None,\n",
    "    delta = None,\n",
    "    borderType = None\n",
    ")\n",
    "\"\"\"\n",
    "# 샤르 필터는 3 * 3 크기만 지원해 커널의 크기(ksize)는 사용하지 않음"
   ],
   "metadata": {
    "collapsed": false,
    "pycharm": {
     "name": "#%%\n"
    }
   }
  },
  {
   "cell_type": "markdown",
   "source": [
    "#### 라플라시안\n",
    "1. x축과 y축을 따라 2차 미분한 합을 의미\n",
    "2. 높은 값으로 둘러싸인 픽셀이나 커널보다 작은 얼룩은 양수를 최대화하며 낮은 값으로 둘러싸인 픽셀이나 커널보다 큰 얼룩은 음수를 최대화"
   ],
   "metadata": {
    "collapsed": false
   }
  },
  {
   "cell_type": "code",
   "source": [
    "# Python OpenCV의 라플라시안 연산 함수\n",
    "\"\"\"\n",
    "dst = cv2.Laplacian(\n",
    "    src,\n",
    "    ddepth,\n",
    "    ksize,\n",
    "    scale = None,\n",
    "    delta = None,\n",
    "    borderType = None\n",
    ")\n",
    "\"\"\""
   ],
   "metadata": {
    "collapsed": false,
    "pycharm": {
     "name": "#%%\n"
    }
   },
   "execution_count": null,
   "outputs": []
  },
  {
   "cell_type": "markdown",
   "source": [
    "#### 캐니 엣지\n",
    "1. 앞서 언급한 가장자리 검출기보다 성능이 월등히 좋으며 노이즈에 민감하지 않아 강한 가장자리를 검출하는 데 목적을 둔 알고리즘\n",
    "2. 동작 순서\n",
    "* 노이즈 제거를 위해 가우시안 필터를 사용해 흐림 효과를 적용\n",
    "* 기울기(Gradient) 값이 높은 지점을 검출(소벨 마스크 적용)\n",
    "* 최댓값이 아닌 픽셀의 값을 0으로 변경(명백하게 가장자리가 아닌 값을 제거)\n",
    "* 히스테리시스 임곗값(hystersis threshold) 적용"
   ],
   "metadata": {
    "collapsed": false
   }
  },
  {
   "cell_type": "code",
   "execution_count": null,
   "outputs": [],
   "source": [
    "# Python OpenCV의 캐니 엣지 함수\n",
    "\"\"\"\n",
    "dst = cv2.Canny(\n",
    "    src,\n",
    "    threshold1,\n",
    "    threshold2,\n",
    "    apertureSize = None,\n",
    "    L2gradient = None\n",
    ")\n",
    "\"\"\""
   ],
   "metadata": {
    "collapsed": false,
    "pycharm": {
     "name": "#%%\n"
    }
   }
  },
  {
   "cell_type": "code",
   "execution_count": null,
   "outputs": [],
   "source": [
    "# Python OpenCV에서의 캐니 엣지\n",
    "src = cv2.imread(\"./Sample Images/book.jpg\", cv2.IMREAD_GRAYSCALE)\n",
    "\n",
    "dst = cv2.Canny(src, 100, 200, apertureSize=3, L2gradient=True)\n",
    "\n",
    "cv2.imshow(\"dst\", dst)\n",
    "cv2.waitKey(0)\n",
    "cv2.destroyAllWindows()"
   ],
   "metadata": {
    "collapsed": false,
    "pycharm": {
     "name": "#%%\n"
    }
   }
  },
  {
   "cell_type": "markdown",
   "source": [
    "### 윤곽선 검출\n",
    "1. 검출된 윤곽선은 형상의 분석과 물체 감지 및 인식에 가장 효과적인 방법 중 하나\n",
    "2. 검출하기 좋은 상태의 이미지로 만드는 것이 중요\n",
    "3. 검색 방법과 근사 방법에 따라 반환되는 형식이 달라짐"
   ],
   "metadata": {
    "collapsed": false
   }
  },
  {
   "cell_type": "markdown",
   "source": [
    "#### 계층 구조\n",
    "1. 윤곽선 계층 구조에는 세그먼테이션이 어떻게 분류됐는가에 대한 정보가 담겨 있다.\n",
    "2. 인덱스의 값으로 레벨을 나누며 계층 구조에서 반환되는 값은 다음 윤곽선, 이전 윤곽선, 자식 윤곽선, 부모 윤곽선이다.\n",
    "3. 계층 구조의 형태로 윤곽선(contour)인지 윤곽선 안의 홀(hole)인지 파악 가능"
   ],
   "metadata": {
    "collapsed": false,
    "pycharm": {
     "name": "#%% md\n"
    }
   }
  },
  {
   "cell_type": "markdown",
   "source": [
    "#### 윤곽선 검출"
   ],
   "metadata": {
    "collapsed": false
   }
  },
  {
   "cell_type": "code",
   "execution_count": null,
   "outputs": [],
   "source": [
    "# Python OpenCV의 윤곽선 검출 함수\n",
    "\"\"\"\n",
    "contours, hierarchy = cv2.findContours(\n",
    "    image,\n",
    "    mode,\n",
    "    method,\n",
    "    offset = None\n",
    ")\n",
    "\"\"\""
   ],
   "metadata": {
    "collapsed": false,
    "pycharm": {
     "name": "#%%\n"
    }
   }
  },
  {
   "cell_type": "markdown",
   "source": [
    "#### 윤곽선 그리기"
   ],
   "metadata": {
    "collapsed": false,
    "pycharm": {
     "name": "#%% md\n"
    }
   }
  },
  {
   "cell_type": "code",
   "execution_count": null,
   "outputs": [],
   "source": [
    "# Python OpenCV의 윤곽선 그리기 함수\n",
    "\"\"\"\n",
    "cv2.drawContours(\n",
    "    image,\n",
    "    contours,\n",
    "    contourIdx,\n",
    "    color,\n",
    "    thickness = None,\n",
    "    lineType = None,\n",
    "    hierarchy = None,\n",
    "    maxLevel = None,\n",
    "    offset = None\n",
    ")\n",
    "\"\"\""
   ],
   "metadata": {
    "collapsed": false,
    "pycharm": {
     "name": "#%%\n"
    }
   }
  },
  {
   "cell_type": "code",
   "execution_count": null,
   "outputs": [],
   "source": [
    "# Python OpenCV에서의 윤곽선 검출\n",
    "src = cv2.imread(\"./Sample Images/chess.png\")\n",
    "dst = src.copy()\n",
    "\n",
    "kernel = cv2.getStructuringElement(cv2.MORPH_RECT, (3, 3))\n",
    "\n",
    "gray = cv2.cvtColor(src, cv2.COLOR_RGB2GRAY)\n",
    "ret, binary = cv2.threshold(gray, 230, 255, cv2.THRESH_BINARY)\n",
    "morp = cv2.morphologyEx(binary, cv2.MORPH_CLOSE, kernel, iterations=2)\n",
    "image = cv2.bitwise_not(morp)\n",
    "\n",
    "contours, hierarchy = cv2.findContours(image, cv2.RETR_TREE, cv2.CHAIN_APPROX_NONE)\n",
    "cv2.drawContours(dst, contours, -1, (0, 0, 255), 3)\n",
    "for i in range(len(contours)):\n",
    "    cv2.putText(dst, str(i), tuple(contours[i][0][0]), cv2.FONT_HERSHEY_COMPLEX, 1.3, (255, 0, 0), 1)\n",
    "print(i, hierarchy[0][i])\n",
    "\n",
    "cv2.imshow(\"dst\", dst)\n",
    "cv2.waitKey(0)\n",
    "cv2.destroyAllWindows()"
   ],
   "metadata": {
    "collapsed": false,
    "pycharm": {
     "name": "#%%\n"
    }
   }
  },
  {
   "cell_type": "markdown",
   "source": [
    "### 다각형 근사\n",
    "1. 검출된 윤곽선의 형상을 분석할 때 정점의 수가 적은 다각형으로 표현하도록 다각형 곡선을 근사하는 방법\n",
    "2. 윤곽선 검출 함수에서 반환된 윤곽선 정보를 활용해 윤ㅇ곽점의 개수를 축소"
   ],
   "metadata": {
    "collapsed": false
   }
  },
  {
   "cell_type": "code",
   "source": [
    "# Python OpenCV의 다각형 근사 함수\n",
    "\"\"\"\n",
    "approxCurve = cv2.approxPolyDP(\n",
    "    curve,\n",
    "    epsilon,\n",
    "    closed\n",
    ")\n",
    "\"\"\""
   ],
   "metadata": {
    "collapsed": false,
    "pycharm": {
     "name": "#%%\n"
    }
   },
   "execution_count": null,
   "outputs": []
  },
  {
   "cell_type": "code",
   "execution_count": null,
   "outputs": [],
   "source": [
    "# Python OpenCV에서의 다각형 근사\n",
    "src = cv2.imread(\"./Sample Images/chess.png\")\n",
    "dst = src.copy()\n",
    "\n",
    "kernel = cv2.getStructuringElement(cv2.MORPH_RECT, (3, 3))\n",
    "\n",
    "gray = cv2.cvtColor(src, cv2.COLOR_BGR2GRAY)\n",
    "ret, binary = cv2.threshold(gray, 230, 255, cv2.THRESH_BINARY)\n",
    "morp = cv2.morphologyEx(binary, cv2.MORPH_CLOSE, kernel, iterations=2)\n",
    "image = cv2.bitwise_not(morp)\n",
    "\n",
    "contours, hierarchy = cv2.findContours(image, cv2.RETR_TREE, cv2.CHAIN_APPROX_NONE)\n",
    "\n",
    "for i in contours:\n",
    "    perimeter = cv2.arcLength(i, True)\n",
    "    epsilon = perimeter * 0.05\n",
    "    approx = cv2.approxPolyDP(i, epsilon, True)\n",
    "    cv2.drawContours(dst, [approx], 0, (0, 0, 255), 3)\n",
    "    for j in approx:\n",
    "        cv2.circle(dst, tuple(j[0]), 3, (255, 0, 0), -1)\n",
    "\n",
    "cv2.imshow(\"dst\", dst)\n",
    "cv2.waitKey(0)\n",
    "cv2.destroyAllWindows()"
   ],
   "metadata": {
    "collapsed": false,
    "pycharm": {
     "name": "#%%\n"
    }
   }
  },
  {
   "cell_type": "markdown",
   "source": [
    "#### 윤곽선의 길이 계산"
   ],
   "metadata": {
    "collapsed": false
   }
  },
  {
   "cell_type": "code",
   "execution_count": null,
   "outputs": [],
   "source": [
    "# Python OpenCV의 길이 계산 함수\n",
    "\"\"\"\n",
    "length = cv2.arcLength(\n",
    "    curve,\n",
    "    closed\n",
    ")\n",
    "\"\"\""
   ],
   "metadata": {
    "collapsed": false,
    "pycharm": {
     "name": "#%%\n"
    }
   }
  },
  {
   "cell_type": "markdown",
   "source": [
    "#### 윤곽선의 면적 계산"
   ],
   "metadata": {
    "collapsed": false,
    "pycharm": {
     "name": "#%% md\n"
    }
   }
  },
  {
   "cell_type": "code",
   "execution_count": null,
   "outputs": [],
   "source": [
    "# Python OpenCV의 면적 계산 함수\n",
    "\"\"\"\n",
    "area = cv2.contourArea(\n",
    "    contour,\n",
    "    oriented\n",
    ")\n",
    "\"\"\""
   ],
   "metadata": {
    "collapsed": false,
    "pycharm": {
     "name": "#%%\n"
    }
   }
  },
  {
   "cell_type": "markdown",
   "source": [
    "#### 윤곽선의 경계 사각형"
   ],
   "metadata": {
    "collapsed": false
   }
  },
  {
   "cell_type": "code",
   "execution_count": null,
   "outputs": [],
   "source": [
    "# Python OpenCV의 경계 사각형 함수\n",
    "\"\"\"\n",
    "boundrect = cv2.boundingRect(\n",
    "    curve\n",
    ")\n",
    "\"\"\""
   ],
   "metadata": {
    "collapsed": false,
    "pycharm": {
     "name": "#%%\n"
    }
   }
  },
  {
   "cell_type": "markdown",
   "source": [
    "#### 윤곽선의 최소 면적 사각형"
   ],
   "metadata": {
    "collapsed": false
   }
  },
  {
   "cell_type": "code",
   "execution_count": null,
   "outputs": [],
   "source": [
    "# Python OpenCV의 최소 면적 사각형 함수\n",
    "\"\"\"\n",
    "rect = cv2.minAreaRect(\n",
    "    points\n",
    ")\n",
    "\"\"\""
   ],
   "metadata": {
    "collapsed": false,
    "pycharm": {
     "name": "#%%\n"
    }
   }
  },
  {
   "cell_type": "markdown",
   "source": [
    "#### 윤곽선의 최소 면적 원"
   ],
   "metadata": {
    "collapsed": false
   }
  },
  {
   "cell_type": "code",
   "execution_count": null,
   "outputs": [],
   "source": [
    "# Python OpenCV의 최소 면적 원 함수\n",
    "\"\"\"\n",
    "center, radius = cv2.minEnclosingCircle(\n",
    "    points\n",
    ")\n",
    "\"\"\""
   ],
   "metadata": {
    "collapsed": false,
    "pycharm": {
     "name": "#%%\n"
    }
   }
  },
  {
   "cell_type": "markdown",
   "source": [
    "#### 윤곽선의 타원 피팅"
   ],
   "metadata": {
    "collapsed": false
   }
  },
  {
   "cell_type": "code",
   "execution_count": null,
   "outputs": [],
   "source": [
    "# Python OpenCV의 피팅 함수\n",
    "\"\"\"\n",
    "ellipse = cv2.fitEllipse(\n",
    "    points\n",
    ")\n",
    "\"\"\""
   ],
   "metadata": {
    "collapsed": false,
    "pycharm": {
     "name": "#%%\n"
    }
   }
  },
  {
   "cell_type": "markdown",
   "source": [
    "#### 윤곽선의 볼록 껍질"
   ],
   "metadata": {
    "collapsed": false
   }
  },
  {
   "cell_type": "code",
   "execution_count": null,
   "outputs": [],
   "source": [
    "# Python OpenCV의 볼록 껍질 함수\n",
    "\"\"\"\n",
    "hull = cv2.convexHull(\n",
    "    points,\n",
    "    clockwise = None\n",
    ")\n",
    "\"\"\""
   ],
   "metadata": {
    "collapsed": false,
    "pycharm": {
     "name": "#%%\n"
    }
   }
  },
  {
   "cell_type": "markdown",
   "source": [
    "#### 윤곽선의 볼록성 시험"
   ],
   "metadata": {
    "collapsed": false
   }
  },
  {
   "cell_type": "code",
   "execution_count": null,
   "outputs": [],
   "source": [
    "# Python OpenCV의 볼록성 시험 함수\n",
    "\"\"\"\n",
    "convex = cv2.isContourConvex(\n",
    "    contour\n",
    ")\n",
    "\"\"\""
   ],
   "metadata": {
    "collapsed": false,
    "pycharm": {
     "name": "#%%\n"
    }
   }
  },
  {
   "cell_type": "markdown",
   "source": [
    "#### 윤곽선의 모멘트"
   ],
   "metadata": {
    "collapsed": false
   }
  },
  {
   "cell_type": "code",
   "execution_count": null,
   "outputs": [],
   "source": [
    "# Python OpenCV의 모멘트 함수\n",
    "\"\"\"\n",
    "moments = cv2.moments(\n",
    "    array,\n",
    "    binaryImage = None\n",
    ")\n",
    "\"\"\""
   ],
   "metadata": {
    "collapsed": false,
    "pycharm": {
     "name": "#%%\n"
    }
   }
  },
  {
   "cell_type": "markdown",
   "source": [
    "### 코너 검출\n",
    "코너 검출 알고리즘은 높은 도함수(strong derivative)를 갖는 지점(가장 두드러지는 코너점)을 계산하고 분석해서 코너의 정의에 만족하는 지점을 반환"
   ],
   "metadata": {
    "collapsed": false
   }
  },
  {
   "cell_type": "code",
   "execution_count": null,
   "outputs": [],
   "source": [
    "# Python OpenCV의 코너 검출 함수\n",
    "\"\"\"\n",
    "corners = cv2.goodFeaturesToTrack(\n",
    "    image,\n",
    "    maxCorners,\n",
    "    qualityLevel,\n",
    "    minDistance,\n",
    "    mask = None,\n",
    "    blockSize = None,\n",
    "    useHarrisDetector = None,\n",
    "    k = None\n",
    ")\n",
    "\"\"\""
   ],
   "metadata": {
    "collapsed": false,
    "pycharm": {
     "name": "#%%\n"
    }
   }
  },
  {
   "cell_type": "code",
   "execution_count": null,
   "outputs": [],
   "source": [
    "# Python OpenCV의 코너 픽셀 세밀화 함수\n",
    "\"\"\"\n",
    "cv2.cornerSubPix(\n",
    "    image,\n",
    "    corners,\n",
    "    winSize,\n",
    "    zeroZone,\n",
    "    criteria\n",
    ")\n",
    "\"\"\""
   ],
   "metadata": {
    "collapsed": false,
    "pycharm": {
     "name": "#%%\n"
    }
   }
  },
  {
   "cell_type": "code",
   "source": [
    "# Python OpenCV에서의 코너 검춭 및 코너 픽셀 세밀화\n",
    "src = cv2.imread(\"./Sample Images/dummy.jpg\")\n",
    "dst = src.copy()\n",
    "\n",
    "gray = cv2.cvtColor(src, cv2.COLOR_RGB2GRAY)\n",
    "corners = cv2.goodFeaturesToTrack(gray, 100, 0.01, 5, blockSize=3, useHarrisDetector=True, k=0.03)\n",
    "\n",
    "for i in corners:\n",
    "    cv2.circle(dst, tuple(i[0]), 3, (255, 0, 0), 5)\n",
    "\n",
    "criteria = (cv2.TERM_CRITERIA_MAX_ITER + cv2.TERM_CRITERIA_EPS, 30, 0.001)\n",
    "cv2.cornerSubPix(gray, corners, (5, 5), (-1, -1), criteria)\n",
    "\n",
    "for i in corners:\n",
    "    cv2.circle(dst, tuple(i[0]), 3, (0, 0, 255), 5)\n",
    "\n",
    "cv2.imshow(\"dst\", dst)\n",
    "cv2.waitKey(0)\n",
    "cv2.destroyAllWindows()"
   ],
   "metadata": {
    "collapsed": false,
    "pycharm": {
     "name": "#%%\n"
    }
   },
   "execution_count": null,
   "outputs": []
  },
  {
   "cell_type": "markdown",
   "source": [
    "### 직선 검출\n",
    "1. 선형적인 부분을 검출하기 위해 사용\n",
    "2. 허프 변환은 이미지에서 직선을 찾는 가장 보편적인 알고리즘\n",
    "3. 직선 검출은 도로의 차선이나 건물의 외형 또는 이미지 내의 소실점 등을 검출하는 데 활용 가능"
   ],
   "metadata": {
    "collapsed": false,
    "pycharm": {
     "name": "#%% md\n"
    }
   }
  },
  {
   "cell_type": "code",
   "execution_count": null,
   "outputs": [],
   "source": [
    "# Python OpenCV의 허프 변환 함수\n",
    "\"\"\"\n",
    "lines = cv2.HoughLines(\n",
    "    image,\n",
    "    rho,\n",
    "    theta,\n",
    "    threshold,\n",
    "    srn = None,\n",
    "    stn = None,\n",
    "    min_theta = None,\n",
    "    max_theta = None\n",
    ")\n",
    "\"\"\""
   ],
   "metadata": {
    "collapsed": false,
    "pycharm": {
     "name": "#%%\n"
    }
   }
  },
  {
   "cell_type": "code",
   "execution_count": null,
   "outputs": [],
   "source": [
    "# Python OpenCV의 화률 허프 변환 함수\n",
    "\"\"\"\n",
    "lines = cv2.HoughLinesP(\n",
    "    image,\n",
    "    rho,\n",
    "    theta,\n",
    "    threshold,\n",
    "    minLineLength = None,\n",
    "    maxLineGap = None\n",
    ")\n",
    "\"\"\""
   ],
   "metadata": {
    "collapsed": false,
    "pycharm": {
     "name": "#%%\n"
    }
   }
  },
  {
   "cell_type": "code",
   "execution_count": null,
   "outputs": [],
   "source": [
    "# Python OpenCV에서의 허프 변환\n",
    "src = cv2.imread(\"./Sample Images/card.jpg\")\n",
    "dst = src.copy()\n",
    "\n",
    "kernel = cv2.getStructuringElement(cv2.MORPH_RECT, (3, 3), (-1, -1))\n",
    "\n",
    "gray = cv2.cvtColor(src, cv2.COLOR_BGR2GRAY)\n",
    "_, binary = cv2.threshold(gray, 150, 255, cv2.THRESH_BINARY)\n",
    "morp = cv2.dilate(binary, kernel)\n",
    "morp = cv2.erode(morp, kernel, iterations=3)\n",
    "morp = cv2.dilate(morp, kernel, iterations=2)\n",
    "canny = cv2.Canny(morp, 0, 0, apertureSize=3, L2gradient=True)\n",
    "\n",
    "lines = cv2.HoughLines(canny, 1, np.pi/180, 140, srn=50, stn=10, min_theta=0, max_theta=np.pi/2)\n",
    "\n",
    "for i in lines:\n",
    "    rho, theta = i[0][0], i[0][1]\n",
    "a, b = np.cos(theta), np.sin(theta)\n",
    "x0, y0 = a*rho, b*rho\n",
    "\n",
    "scale = src.shape[0] + src.shape[1]\n",
    "\n",
    "x1 = int(x0 + scale * -b)\n",
    "y1 = int(y0 + scale * a)\n",
    "x2 = int(x0 - scale * -b)\n",
    "y2 = int(y0 - scale * a)\n",
    "\n",
    "cv2.line(dst, (x1, y1), (x2, y2), (0, 255, 255), 2)\n",
    "cv2.circle(dst, (x0, y0), 3, (255, 0, 0), 5, cv2.FILLED)\n",
    "\n",
    "cv2.imshow(\"dst\", dst)\n",
    "cv2.waitKey(0)\n",
    "cv2.destroyAllWindows()"
   ],
   "metadata": {
    "collapsed": false,
    "pycharm": {
     "name": "#%%\n"
    }
   }
  },
  {
   "cell_type": "markdown",
   "source": [
    "### 원 검출"
   ],
   "metadata": {
    "collapsed": false,
    "pycharm": {
     "name": "#%% md\n"
    }
   }
  },
  {
   "cell_type": "code",
   "source": [
    "# Python OpenCV의 허프 원 변환 함수\n",
    "\"\"\"\n",
    "circles = cv2.HoughCircles(\n",
    "    image,\n",
    "    method,\n",
    "    dp,\n",
    "    minDist,\n",
    "    param1 = None,\n",
    "    param2 = None,\n",
    "    minRadius = None,\n",
    "    maxRadius = None\n",
    ")\n",
    "\"\"\""
   ],
   "metadata": {
    "collapsed": false,
    "pycharm": {
     "name": "#%%\n"
    }
   },
   "execution_count": null,
   "outputs": []
  },
  {
   "cell_type": "code",
   "execution_count": null,
   "outputs": [],
   "source": [
    "# Python OpenCV에서의 허프 원 변환\n",
    "src = cv2.imread(\"./Sample Images/colorball.png\")\n",
    "dst = src.copy()\n",
    "\n",
    "image = cv2.cvtColor(src, cv2.COLOR_BGR2GRAY)\n",
    "\n",
    "circles = cv2.HoughCircles(image, cv2.HOUGH_GRADIENT, 1, 100, param1=100, param2=35, minRadius=80, maxRadius=120)\n",
    "\n",
    "for i in circles[0]:\n",
    "    cv2.circle(dst, (i[0], i[1]), int(i[2]), (255, 255, 255), 5)\n",
    "\n",
    "cv2.imshow(\"dst\", dst)\n",
    "cv2.waitKey(0)\n",
    "cv2.destroyAllWindows()"
   ],
   "metadata": {
    "collapsed": false,
    "pycharm": {
     "name": "#%%\n"
    }
   }
  }
 ],
 "metadata": {
  "orig_nbformat": 4,
  "language_info": {
   "name": "python",
   "version": "3.8.10",
   "mimetype": "text/x-python",
   "codemirror_mode": {
    "name": "ipython",
    "version": 3
   },
   "pygments_lexer": "ipython3",
   "nbconvert_exporter": "python",
   "file_extension": ".py"
  },
  "kernelspec": {
   "name": "python3",
   "display_name": "Python 3.8.10 64-bit ('Practice_DL_CV': conda)"
  },
  "interpreter": {
   "hash": "8d6adb2f04221b03e14aced11fe35b21b1b15436a968bf342e51ed98b730509b"
  }
 },
 "nbformat": 4,
 "nbformat_minor": 2
}