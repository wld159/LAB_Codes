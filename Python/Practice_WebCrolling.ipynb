{
 "cells": [
  {
   "cell_type": "markdown",
   "source": [
    "# Web Crolling"
   ],
   "metadata": {}
  },
  {
   "cell_type": "code",
   "execution_count": null,
   "source": [
    "import requests\n",
    "\n",
    "URL = 'http://www.ulsan.ac.kr/'\n",
    "response = requests.get(URL)\n",
    "print(response.status_code)"
   ],
   "outputs": [],
   "metadata": {}
  },
  {
   "cell_type": "code",
   "execution_count": null,
   "source": [
    "import requests\n",
    "\n",
    "URL = 'https://www.naver.com'\n",
    "resp = requests.get(URL)\n",
    "print(resp.status_code)\n",
    "print(resp.text)\n",
    "\n",
    "\n",
    "# 울산대 \n",
    "import requests\n",
    "URL = 'http://www.ulsan.ac.kr/'\n",
    "resp = requests.get(URL)\n",
    "print(resp.status_code)\n",
    "print(resp.text)"
   ],
   "outputs": [],
   "metadata": {}
  },
  {
   "cell_type": "code",
   "execution_count": null,
   "source": [
    "import requests\n",
    "import sys\n",
    "\n",
    "URL = 'https://comic.naver.com/webtoon/detail.nhn'\n",
    "params = {'titleId':687915,\"no\":157}\n",
    "response = requests.get(URL,params=params)\n",
    "print(response.text)\n",
    "\n",
    "f = open (\"a.txt\",\"w\")\n",
    "f.write(response.text)\n",
    "f.close()"
   ],
   "outputs": [],
   "metadata": {}
  },
  {
   "cell_type": "code",
   "execution_count": null,
   "source": [
    "import requests\n",
    "import sys\n",
    "\n",
    "URL = 'https://raw.githubusercontent.com/naver/naver-openapi-guide/draft/naver-openapi-swagger.json'\n",
    "response = requests.get(URL)\n",
    "result = response.json()\n",
    "print(type(result))\n",
    "#print(response.text\n",
    "print(result)\n",
    "print(response)\n",
    "f = open (\"jason.txt\",\"w\")\n",
    "f.write(response.text)\n",
    "#f.write(result)\n",
    "f.close()"
   ],
   "outputs": [],
   "metadata": {}
  }
 ],
 "metadata": {
  "orig_nbformat": 4,
  "language_info": {
   "name": "python"
  }
 },
 "nbformat": 4,
 "nbformat_minor": 2
}