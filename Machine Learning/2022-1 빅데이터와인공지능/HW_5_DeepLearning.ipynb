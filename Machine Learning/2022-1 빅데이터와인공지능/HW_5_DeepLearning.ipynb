{
 "cells": [
  {
   "cell_type": "markdown",
   "metadata": {},
   "source": [
    "# 2022-1 빅데이터와 인공지능 15주차 Reports"
   ]
  },
  {
   "cell_type": "markdown",
   "metadata": {},
   "source": [
    "## 15주차 1차시\n",
    "### Question 1\n",
    "* 최적화 방법(optimizer), 손실함수(loss), 지표(metrics)의 종류와 정의를 조사"
   ]
  },
  {
   "cell_type": "markdown",
   "metadata": {},
   "source": [
    "### Answer 1\n",
    "1. 최적화 방법(optimizer)  \n",
    "    1.1 SGD(Stochastic Gradient Descent): Full-Batch가 아닌 Mini-Batch로 학습하는 방법  \n",
    "    1.2 **Adam(Adaptive Moment Estimation)**:  Momentum과 RMSProp의 조합으로 학습하는 방법  \n",
    "    1.3 RMSprop(Root Mean Square Propagation): 가중치 기울기를 단순 누적시키는 것이 아니라 최신 기울기를 더 많이 반영하는 방법  \n",
    "    1.4 Adagrad(Adaptive Gradient): 학습을 통해 크게 변동이 있었던 가중치에 대해서는 학습률을 감소시키고, 아직 변동이 없었던 가중치에 대해서는 학습률을 증가시키는 방법  \n",
    "    1.5 Adadelta(Adaptive Delta): 임의의 고정된 크기까지만의 모든 제곱된 기울기들을 누적하는 방법  \n",
    "* * *\n",
    "2. 손실함수(loss)  \n",
    "    2.1 MSE(Mean Squared Error): 예측값과 실제값 사이의 평균 제곱 오차  \n",
    "    2.2 MAE(Mean Absolute Error): 예측값과 실제값 사이의 평균 절대오차  \n",
    "    2.3 RMSE(Root Mean Absolute Error): MSE에 제곱근을 취한 형태로, 왜곡 감소를 위한 손실함수  \n",
    "    2.4 MSLE(Mean Squared Logarithmic Error): MSE에 로그값을 취한 형태로, 왜곡 감소를 위한 손실함수  \n",
    "    2.5 Categorical Crossentropy: 다중 분류에서 label이 One-Hot Vector로 구성될 때 사용되는 손실함수  \n",
    "    2.6 Sparse Categorical Crossentropy: 다중 분류에서 label이 숫자로 구성될 때 사용되는 손실함수\n",
    "* * *\n",
    "3. 지표(metrics)  \n",
    "    3.1 Accuracy: 정확도를 평가하는 지표, 전체 예측 개수 중 맞춘 예측 개수의 비율  \n",
    "    3.2 BinaryAccuracy: 설정한 threshold에 따라 정확도를 평가하는 지표  \n",
    "    3.3 Precision: 전체 정답으로 맞춘 것들 중 실제로 정답을 맞춘 비율\n",
    "    3.4 Recall: 실제로 정답인 것들 중 분류리가 정답으로 예측한 비율  \n",
    "    3.5 F1Score: Precision과 Recall의 평균으로 정확도를 평가하는 지표"
   ]
  },
  {
   "cell_type": "markdown",
   "metadata": {},
   "source": [
    "## 15주차 2차시\n",
    "### Question 2\n",
    "* CNN 모델에서의 스트라이드(Stride)와 패딩(Padding)에 대해 알아보세요."
   ]
  },
  {
   "cell_type": "markdown",
   "metadata": {},
   "source": [
    "### Answer 2\n",
    "1. **패딩(Padding)**   \n",
    "1.1 패딩(Padding): 커널을 통과하며 특성맵을 구성할 때, 입력 데이터의 크기와 출력 데이터가 다를 경우, 입력 배열 주위를 가상의 원소로 채우는 작업.  \n",
    "1.2 Same Padding: 실제 입력 값은 아니기 때문에, 주위에 0으로 채우고 입력 데이터의 크기를 유지하는 방법  \n",
    "1.3 Valid Padding: 패딩 없이 순수한 입력 배열로만 커널을 통과하여 특성맵을 구성하는 작업\n",
    "* * *\n",
    "2. **스트라이드(Stride)**   \n",
    "2.1 스트라이드(Stride): 특성맵을 구성할 때, 커널이 상하좌우로 이동하는 크기\n",
    "2.2 만약 두 칸씩 건너뛰고 싶으면, stride = 2로 설정\n",
    "2.3 스트라이드를 증가시키면, 커널을 통과하는 특성맵의 크기가 작아진다.\n"
   ]
  },
  {
   "cell_type": "markdown",
   "metadata": {},
   "source": [
    "## 15주차 3차시\n",
    "### Question 3\n",
    "* CNN 모델을 다양하게 설계하여 예측(분류) 정확도를 비교하시오."
   ]
  },
  {
   "cell_type": "markdown",
   "metadata": {},
   "source": [
    "### Answer 3"
   ]
  },
  {
   "cell_type": "code",
   "execution_count": null,
   "metadata": {},
   "outputs": [],
   "source": [
    "import numpy as np\n",
    "import tensorflow as tf\n"
   ]
  }
 ],
 "metadata": {
  "interpreter": {
   "hash": "0de2cd99a6dd691251473160e9cb36fa49c1a691c59ef1e6a6aa20ad1baed0e5"
  },
  "kernelspec": {
   "display_name": "Python 3.9.12 ('Drill_ML')",
   "language": "python",
   "name": "python3"
  },
  "language_info": {
   "name": "python",
   "version": "3.9.12"
  },
  "orig_nbformat": 4
 },
 "nbformat": 4,
 "nbformat_minor": 2
}
