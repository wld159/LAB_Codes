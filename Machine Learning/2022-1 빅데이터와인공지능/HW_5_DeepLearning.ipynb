{
 "cells": [
  {
   "cell_type": "markdown",
   "metadata": {},
   "source": [
    "# 2022-1 빅데이터와 인공지능 15주차 Reports"
   ]
  },
  {
   "cell_type": "markdown",
   "metadata": {},
   "source": [
    "## 15주차 1차시\n",
    "### Question 1\n",
    "* 최적화 방법(optimizer), 손실함수(loss), 지표(metrics)의 종류와 정의를 조사"
   ]
  },
  {
   "cell_type": "markdown",
   "metadata": {},
   "source": [
    "### Answer 1\n",
    "1. 최적화 방법(optimizer)  \n",
    "    1.1 SGD(Stochastic Gradient Descent): Full-Batch가 아닌 Mini-Batch로 학습하는 방법  \n",
    "    1.2 **Adam(Adaptive Moment Estimation)**:  Momentum과 RMSProp의 조합으로 학습하는 방법  \n",
    "    1.3 RMSprop(Root Mean Square Propagation): 가중치 기울기를 단순 누적시키는 것이 아니라 최신 기울기를 더 많이 반영하는 방법  \n",
    "    1.4 Adagrad(Adaptive Gradient): 학습을 통해 크게 변동이 있었던 가중치에 대해서는 학습률을 감소시키고, 아직 변동이 없었던 가중치에 대해서는 학습률을 증가시키는 방법  \n",
    "    1.5 Adadelta(Adaptive Delta): 임의의 고정된 크기까지만의 모든 제곱된 기울기들을 누적하는 방법  \n",
    "* * *\n",
    "2. 손실함수(loss)  \n",
    "    2.1 MSE(Mean Squared Error): 예측값과 실제값 사이의 평균 제곱 오차  \n",
    "    2.2 MAE(Mean Absolute Error): 예측값과 실제값 사이의 평균 절대오차  \n",
    "    2.3 RMSE(Root Mean Absolute Error): MSE에 제곱근을 취한 형태로, 왜곡 감소를 위한 손실함수  \n",
    "    2.4 MSLE(Mean Squared Logarithmic Error): MSE에 로그값을 취한 형태로, 왜곡 감소를 위한 손실함수  \n",
    "    2.5 Categorical Crossentropy: 다중 분류에서 label이 One-Hot Vector로 구성될 때 사용되는 손실함수  \n",
    "    2.6 Sparse Categorical Crossentropy: 다중 분류에서 label이 숫자로 구성될 때 사용되는 손실함수\n",
    "* * *\n",
    "3. 지표(metrics)  \n",
    "    3.1 Accuracy: 정확도를 평가하는 지표, 전체 예측 개수 중 맞춘 예측 개수의 비율  \n",
    "    3.2 BinaryAccuracy: 설정한 threshold에 따라 정확도를 평가하는 지표  \n",
    "    3.3 Precision: 전체 정답으로 맞춘 것들 중 실제로 정답을 맞춘 비율\n",
    "    3.4 Recall: 실제로 정답인 것들 중 분류리가 정답으로 예측한 비율  \n",
    "    3.5 F1Score: Precision과 Recall의 평균으로 정확도를 평가하는 지표"
   ]
  },
  {
   "cell_type": "markdown",
   "metadata": {},
   "source": [
    "## 15주차 2차시\n",
    "### Question 2\n",
    "* CNN 모델에서의 스트라이드(Stride)와 패딩(Padding)에 대해 알아보세요."
   ]
  },
  {
   "cell_type": "markdown",
   "metadata": {},
   "source": [
    "### Answer 2\n",
    "1. **패딩(Padding)**   \n",
    "1.1 패딩(Padding): 커널을 통과하며 특성맵을 구성할 때, 입력 데이터의 크기와 출력 데이터가 다를 경우, 입력 배열 주위를 가상의 원소로 채우는 작업.  \n",
    "1.2 Same Padding: 실제 입력 값은 아니기 때문에, 주위에 0으로 채우고 입력 데이터의 크기를 유지하는 방법  \n",
    "1.3 Valid Padding: 패딩 없이 순수한 입력 배열로만 커널을 통과하여 특성맵을 구성하는 작업\n",
    "* * *\n",
    "2. **스트라이드(Stride)**   \n",
    "2.1 스트라이드(Stride): 특성맵을 구성할 때, 커널이 상하좌우로 이동하는 크기  \n",
    "2.2 만약 두 칸씩 건너뛰고 싶으면, stride = 2로 설정  \n",
    "2.3 스트라이드를 증가시키면, 커널을 통과하는 특성맵의 크기가 작아진다.\n"
   ]
  },
  {
   "cell_type": "markdown",
   "metadata": {},
   "source": [
    "## 15주차 3차시\n",
    "### Question 3\n",
    "* CNN 모델을 다양하게 설계하여 예측(분류) 정확도를 비교하시오."
   ]
  },
  {
   "cell_type": "markdown",
   "metadata": {},
   "source": [
    "### Answer 3"
   ]
  },
  {
   "cell_type": "code",
   "execution_count": 1,
   "metadata": {},
   "outputs": [],
   "source": [
    "import pandas as pd\n",
    "import tensorflow as tf\n",
    "from tensorflow.keras.datasets import mnist\n",
    "from tensorflow.keras.utils import to_categorical"
   ]
  },
  {
   "cell_type": "code",
   "execution_count": 2,
   "metadata": {},
   "outputs": [],
   "source": [
    "# Load MNIST dataset\n",
    "(train_images, train_labels), (test_images, test_labels) = mnist.load_data()"
   ]
  },
  {
   "cell_type": "code",
   "execution_count": 3,
   "metadata": {},
   "outputs": [],
   "source": [
    "# Scaling the image pixel matrice to [0, 1]\n",
    "train_images = train_images.reshape((60000, 28, 28, 1))\n",
    "train_images = train_images.astype('float32') / 255\n",
    "test_images = test_images.reshape((10000, 28, 28, 1))\n",
    "test_images = test_images.astype('float32') / 255"
   ]
  },
  {
   "cell_type": "code",
   "execution_count": 4,
   "metadata": {},
   "outputs": [],
   "source": [
    "# Encoding labels to one-hot vectors\n",
    "train_labels = to_categorical(train_labels)\n",
    "test_labels = to_categorical(test_labels)"
   ]
  },
  {
   "cell_type": "code",
   "execution_count": 5,
   "metadata": {},
   "outputs": [
    {
     "name": "stdout",
     "output_type": "stream",
     "text": [
      "Metal device set to: Apple M1\n",
      "\n",
      "systemMemory: 8.00 GB\n",
      "maxCacheSize: 2.67 GB\n",
      "\n",
      "Model: \"sequential\"\n",
      "_________________________________________________________________\n",
      " Layer (type)                Output Shape              Param #   \n",
      "=================================================================\n",
      " conv2d (Conv2D)             (None, 24, 24, 32)        832       \n",
      "                                                                 \n",
      " max_pooling2d (MaxPooling2D  (None, 12, 12, 32)       0         \n",
      " )                                                               \n",
      "                                                                 \n",
      " conv2d_1 (Conv2D)           (None, 8, 8, 64)          51264     \n",
      "                                                                 \n",
      " max_pooling2d_1 (MaxPooling  (None, 4, 4, 64)         0         \n",
      " 2D)                                                             \n",
      "                                                                 \n",
      " flatten (Flatten)           (None, 1024)              0         \n",
      "                                                                 \n",
      " dense (Dense)               (None, 64)                65600     \n",
      "                                                                 \n",
      " dense_1 (Dense)             (None, 10)                650       \n",
      "                                                                 \n",
      "=================================================================\n",
      "Total params: 118,346\n",
      "Trainable params: 118,346\n",
      "Non-trainable params: 0\n",
      "_________________________________________________________________\n"
     ]
    },
    {
     "name": "stderr",
     "output_type": "stream",
     "text": [
      "2022-06-09 23:18:20.785460: I tensorflow/core/common_runtime/pluggable_device/pluggable_device_factory.cc:305] Could not identify NUMA node of platform GPU ID 0, defaulting to 0. Your kernel may not have been built with NUMA support.\n",
      "2022-06-09 23:18:20.785562: I tensorflow/core/common_runtime/pluggable_device/pluggable_device_factory.cc:271] Created TensorFlow device (/job:localhost/replica:0/task:0/device:GPU:0 with 0 MB memory) -> physical PluggableDevice (device: 0, name: METAL, pci bus id: <undefined>)\n"
     ]
    }
   ],
   "source": [
    "# Constructing the model: using the sequential model\n",
    "from keras import models\n",
    "from keras import layers\n",
    "\n",
    "model = models.Sequential()\n",
    "model.add(layers.Conv2D(32, (5, 5), activation='relu', input_shape=(28, 28, 1)))\n",
    "model.add(layers.MaxPooling2D((2, 2)))\n",
    "model.add(layers.Conv2D(64, (5, 5), activation='relu'))\n",
    "model.add(layers.MaxPooling2D((2, 2)))\n",
    "model.add(layers.Flatten())\n",
    "model.add(layers.Dense(64, activation='relu'))\n",
    "model.add(layers.Dense(10, activation='softmax'))\n",
    "\n",
    "model.summary()"
   ]
  },
  {
   "cell_type": "code",
   "execution_count": 6,
   "metadata": {},
   "outputs": [
    {
     "name": "stdout",
     "output_type": "stream",
     "text": [
      "Epoch 1/5\n"
     ]
    },
    {
     "name": "stderr",
     "output_type": "stream",
     "text": [
      "2022-06-09 23:18:20.994937: W tensorflow/core/platform/profile_utils/cpu_utils.cc:128] Failed to get CPU frequency: 0 Hz\n"
     ]
    },
    {
     "name": "stdout",
     "output_type": "stream",
     "text": [
      "  1/938 [..............................] - ETA: 8:31 - loss: 2.3223 - accuracy: 0.0625"
     ]
    },
    {
     "name": "stderr",
     "output_type": "stream",
     "text": [
      "2022-06-09 23:18:21.350395: I tensorflow/core/grappler/optimizers/custom_graph_optimizer_registry.cc:113] Plugin optimizer for device_type GPU is enabled.\n"
     ]
    },
    {
     "name": "stdout",
     "output_type": "stream",
     "text": [
      "938/938 [==============================] - 12s 13ms/step - loss: 0.1622 - accuracy: 0.9486\n",
      "Epoch 2/5\n",
      "938/938 [==============================] - 13s 14ms/step - loss: 0.0447 - accuracy: 0.9858\n",
      "Epoch 3/5\n",
      "938/938 [==============================] - 12s 13ms/step - loss: 0.0301 - accuracy: 0.9906\n",
      "Epoch 4/5\n",
      "938/938 [==============================] - 13s 14ms/step - loss: 0.0227 - accuracy: 0.9932\n",
      "Epoch 5/5\n",
      "938/938 [==============================] - 13s 14ms/step - loss: 0.0179 - accuracy: 0.9947\n",
      " 27/313 [=>............................] - ETA: 1s - loss: 0.0216 - accuracy: 0.9907 "
     ]
    },
    {
     "name": "stderr",
     "output_type": "stream",
     "text": [
      "2022-06-09 23:19:26.038545: I tensorflow/core/grappler/optimizers/custom_graph_optimizer_registry.cc:113] Plugin optimizer for device_type GPU is enabled.\n"
     ]
    },
    {
     "name": "stdout",
     "output_type": "stream",
     "text": [
      "313/313 [==============================] - 2s 6ms/step - loss: 0.0299 - accuracy: 0.9927\n",
      "Test accuracy: 0.9927000403404236\n"
     ]
    }
   ],
   "source": [
    "# Compiling and fitting the mode\n",
    "model.compile(optimizer='rmsprop', loss='categorical_crossentropy', metrics=['accuracy'])\n",
    "model.fit(train_images, train_labels, epochs=5, batch_size=64)\n",
    "# Evaluate the model\n",
    "test_loss, test_acc = model.evaluate(test_images, test_labels)\n",
    "print('Test accuracy:', test_acc)"
   ]
  },
  {
   "cell_type": "code",
   "execution_count": 7,
   "metadata": {},
   "outputs": [
    {
     "name": "stdout",
     "output_type": "stream",
     "text": [
      "313/313 [==============================] - 2s 6ms/step - loss: 0.0332 - accuracy: 0.9903\n",
      "Epochs: 1, Batch size: 32, Test Accuracy: 0.9903000593185425\n",
      "313/313 [==============================] - 2s 6ms/step - loss: 0.0348 - accuracy: 0.9927\n",
      "Epochs: 1, Batch size: 64, Test Accuracy: 0.9927000403404236\n",
      "313/313 [==============================] - 2s 6ms/step - loss: 0.0320 - accuracy: 0.9923\n",
      "Epochs: 1, Batch size: 128, Test Accuracy: 0.9923000335693359\n",
      "313/313 [==============================] - 2s 6ms/step - loss: 0.0438 - accuracy: 0.9921\n",
      "Epochs: 3, Batch size: 32, Test Accuracy: 0.9921000599861145\n",
      "313/313 [==============================] - 2s 6ms/step - loss: 0.0492 - accuracy: 0.9922\n",
      "Epochs: 3, Batch size: 64, Test Accuracy: 0.9922000765800476\n",
      "313/313 [==============================] - 2s 6ms/step - loss: 0.0491 - accuracy: 0.9937\n",
      "Epochs: 3, Batch size: 128, Test Accuracy: 0.9937000274658203\n",
      "313/313 [==============================] - 2s 7ms/step - loss: 0.0846 - accuracy: 0.9933\n",
      "Epochs: 5, Batch size: 32, Test Accuracy: 0.9933000206947327\n",
      "313/313 [==============================] - 2s 8ms/step - loss: 0.0744 - accuracy: 0.9937\n",
      "Epochs: 5, Batch size: 64, Test Accuracy: 0.9937000274658203\n",
      "313/313 [==============================] - 2s 6ms/step - loss: 0.0830 - accuracy: 0.9934\n",
      "Epochs: 5, Batch size: 128, Test Accuracy: 0.9934000372886658\n",
      "313/313 [==============================] - 2s 6ms/step - loss: 0.1572 - accuracy: 0.9923\n",
      "Epochs: 10, Batch size: 32, Test Accuracy: 0.9923000335693359\n",
      "313/313 [==============================] - 2s 7ms/step - loss: 0.1699 - accuracy: 0.9913\n",
      "Epochs: 10, Batch size: 64, Test Accuracy: 0.9913000464439392\n",
      "313/313 [==============================] - 2s 6ms/step - loss: 0.1544 - accuracy: 0.9929\n",
      "Epochs: 10, Batch size: 128, Test Accuracy: 0.9929000735282898\n"
     ]
    }
   ],
   "source": [
    "# Comparison of the model with various hyperparameters\n",
    "# Hyperparameters: epochs, batch_size\n",
    "list_epochs = [1, 3, 5, 10]\n",
    "list_batch_size = [32, 64, 128]\n",
    "df_results = pd.DataFrame(columns=list_epochs, index=list_batch_size)\n",
    "\n",
    "for i in list_epochs:\n",
    "    for j in list_batch_size:\n",
    "        model.fit(train_images, train_labels, epochs=i, batch_size=j, verbose=False)\n",
    "        test_loss, test_acc = model.evaluate(test_images, test_labels)\n",
    "        df_results.loc[j, i] = test_acc\n",
    "        print(f\"Epochs: {i}, Batch size: {j}, Test Accuracy: {test_acc}\")"
   ]
  },
  {
   "cell_type": "code",
   "execution_count": 8,
   "metadata": {},
   "outputs": [
    {
     "data": {
      "text/html": [
       "<div>\n",
       "<style scoped>\n",
       "    .dataframe tbody tr th:only-of-type {\n",
       "        vertical-align: middle;\n",
       "    }\n",
       "\n",
       "    .dataframe tbody tr th {\n",
       "        vertical-align: top;\n",
       "    }\n",
       "\n",
       "    .dataframe thead th {\n",
       "        text-align: right;\n",
       "    }\n",
       "</style>\n",
       "<table border=\"1\" class=\"dataframe\">\n",
       "  <thead>\n",
       "    <tr style=\"text-align: right;\">\n",
       "      <th></th>\n",
       "      <th>1</th>\n",
       "      <th>3</th>\n",
       "      <th>5</th>\n",
       "      <th>10</th>\n",
       "    </tr>\n",
       "  </thead>\n",
       "  <tbody>\n",
       "    <tr>\n",
       "      <th>32</th>\n",
       "      <td>0.9903</td>\n",
       "      <td>0.9921</td>\n",
       "      <td>0.9933</td>\n",
       "      <td>0.9923</td>\n",
       "    </tr>\n",
       "    <tr>\n",
       "      <th>64</th>\n",
       "      <td>0.9927</td>\n",
       "      <td>0.9922</td>\n",
       "      <td>0.9937</td>\n",
       "      <td>0.9913</td>\n",
       "    </tr>\n",
       "    <tr>\n",
       "      <th>128</th>\n",
       "      <td>0.9923</td>\n",
       "      <td>0.9937</td>\n",
       "      <td>0.9934</td>\n",
       "      <td>0.9929</td>\n",
       "    </tr>\n",
       "  </tbody>\n",
       "</table>\n",
       "</div>"
      ],
      "text/plain": [
       "         1       3       5       10\n",
       "32   0.9903  0.9921  0.9933  0.9923\n",
       "64   0.9927  0.9922  0.9937  0.9913\n",
       "128  0.9923  0.9937  0.9934  0.9929"
      ]
     },
     "execution_count": 8,
     "metadata": {},
     "output_type": "execute_result"
    }
   ],
   "source": [
    "# Print results\n",
    "df_results"
   ]
  }
 ],
 "metadata": {
  "interpreter": {
   "hash": "1217fc03bd54a3fa3daba43a46b5b277ff8941e066aab17a1e4cce6e80b4e684"
  },
  "kernelspec": {
   "display_name": "Python 3.9.12 ('Drill_ML')",
   "language": "python",
   "name": "python3"
  },
  "language_info": {
   "codemirror_mode": {
    "name": "ipython",
    "version": 3
   },
   "file_extension": ".py",
   "mimetype": "text/x-python",
   "name": "python",
   "nbconvert_exporter": "python",
   "pygments_lexer": "ipython3",
   "version": "3.9.12"
  },
  "orig_nbformat": 4
 },
 "nbformat": 4,
 "nbformat_minor": 2
}
