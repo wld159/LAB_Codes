{
 "cells": [
  {
   "cell_type": "markdown",
   "metadata": {},
   "source": [
    "# 2022-1 빅데이터와 인공지능 14주차 Reports"
   ]
  },
  {
   "cell_type": "code",
   "execution_count": null,
   "metadata": {},
   "outputs": [],
   "source": [
    "import numpy as np\n",
    "import pandas as pd\n",
    "from sklearn.preprocessing import MinMaxScaler\n",
    "from sklearn.model_selection import train_test_split\n",
    "from sklearn.model_selection import GridSearchCV\n",
    "from sklearn.pipeline import Pipeline\n",
    "from sklearn.neighbors import KNeighborsClassifier\n",
    "from sklearn.neighbors import KNeighborsRegressor\n",
    "from sklearn.linear_model import LinearRegression\n",
    "from sklearn.metrics import confusion_matrix\n",
    "from sklearn.metrics import silhouette_samples\n",
    "from sklearn.metrics import silhouette_score\n",
    "from sklearn.tree import DecisionTreeRegressor\n",
    "from sklearn import tree\n",
    "\n",
    "from scipy.cluster.hierarchy import linkage, fcluster\n",
    "\n",
    "import graphviz\n",
    "\n",
    "import os\n",
    "import warnings\n",
    "warnings.filterwarnings('ignore')"
   ]
  },
  {
   "cell_type": "code",
   "execution_count": null,
   "metadata": {},
   "outputs": [],
   "source": [
    "# Load datasets\n",
    "from sklearn.datasets import load_iris\n",
    "iris_data = load_iris()"
   ]
  },
  {
   "cell_type": "markdown",
   "metadata": {},
   "source": [
    "## 14주차 1차시\n",
    "### Question 1\n",
    "* IRIS(붓꽃) 데이터에 대해 하이퍼파라미터(거리 개념)를 변경하면서 계층적군집화의 분류(군집화) 성능을 점검하시오."
   ]
  },
  {
   "cell_type": "code",
   "execution_count": null,
   "metadata": {},
   "outputs": [],
   "source": [
    "# Create dataframes\n",
    "df_X = pd.DataFrame(data=iris_data.data, columns=iris_data.feature_names)\n",
    "df_y = pd.DataFrame(data=iris_data.target, columns=['Species'])\n",
    "df_iris = pd.concat([df_X, df_y], axis=1)\n",
    "df_iris.head()"
   ]
  },
  {
   "cell_type": "code",
   "execution_count": null,
   "metadata": {},
   "outputs": [],
   "source": [
    "# Feature Scaling - Normalization\n",
    "iris_scaler = MinMaxScaler().fit(df_X)\n",
    "iris_new = pd.DataFrame(iris_scaler.transform(df_X), columns=iris_data.feature_names)\n",
    "iris_new = pd.concat([iris_new, df_y], axis=1)\n",
    "iris_new.head()"
   ]
  },
  {
   "cell_type": "code",
   "execution_count": null,
   "metadata": {},
   "outputs": [],
   "source": [
    "# Split train and test datasets\n",
    "iris_X = iris_new.drop('Species', axis=1)\n",
    "iris_y = iris_new['Species']\n",
    "iris_X_train, iris_X_test, iris_y_train, iris_y_test = train_test_split(iris_X, iris_y, test_size=0.2, random_state=0, stratify=df_y)\n",
    "print(\">>> X_train shape:\", iris_X_train.shape)\n",
    "print(\">>> X_test shape:\", iris_X_test.shape)\n",
    "print(\">>> y_train shape:\", iris_y_train.shape)\n",
    "print(\">>> y_test shape:\", iris_y_test.shape)"
   ]
  },
  {
   "cell_type": "code",
   "execution_count": null,
   "metadata": {},
   "outputs": [],
   "source": [
    "# Clustering\n",
    "Cluster = linkage(y=iris_new, method='single', metric='euclidean')\n",
    "Cut_tree = fcluster(Cluster, t=0.3, criterion='distance')\n",
    "Labels = iris_new['Species']\n",
    "df_iris_cluster = pd.DataFrame({'pred': Cut_tree, 'labels': Labels})\n",
    "Con_Mat = pd.crosstab(df_iris_cluster['pred'], df_iris_cluster['labels'])\n",
    "Con_Mat"
   ]
  },
  {
   "cell_type": "code",
   "execution_count": null,
   "metadata": {},
   "outputs": [],
   "source": [
    "# Set hyperparameters for GridSerachCV\n",
    "list_k = [i for i in range(1, 6)]\n",
    "list_weights = ['uniform', 'distance']\n",
    "list_metric = ['minkowski', 'manhattan', 'euclidean']\n",
    "\n",
    "parameters = {\n",
    "    'n_neighbors': list_k, \n",
    "    'weights': list_weights,\n",
    "    'metric': list_metric\n",
    "    }"
   ]
  },
  {
   "cell_type": "code",
   "execution_count": null,
   "metadata": {},
   "outputs": [],
   "source": [
    "# GridSearchCV\n",
    "knn_iris = KNeighborsClassifier()\n",
    "GridSearchCV_iris = GridSearchCV(knn_iris, parameters, cv=5, scoring='accuracy')\n",
    "GridSearchCV_iris.fit(X_train, y_train)\n",
    "\n",
    "df_iris_score = pd.DataFrame(data=GridSearchCV_iris.cv_results_)\n",
    "df_iris_score = df_iris_score[['params', 'mean_test_score', 'std_test_score']]\n",
    "df_iris_score"
   ]
  },
  {
   "cell_type": "code",
   "execution_count": null,
   "metadata": {},
   "outputs": [],
   "source": [
    "print(\">>> Best Parameters: \", GridSearchCV_iris.best_params_)\n",
    "print(\">>> Best Score: \", GridSearchCV_iris.best_score_)\n",
    "print(\">>> Best Test Score: \", GridSearchCV_iris.score(X_test, y_test))"
   ]
  },
  {
   "cell_type": "markdown",
   "metadata": {},
   "source": [
    "## 14주차 2차시\n",
    "### Question 2\n",
    "* IRIS(붓꽃) 데이터의 설명변수 4종 중 군집분석의 효율성과 성능을 고려할 때, 선택할 수 있는 최소의 변수를 탐색하시오."
   ]
  },
  {
   "cell_type": "code",
   "execution_count": null,
   "metadata": {},
   "outputs": [],
   "source": [
    "path_data_muliple_reg = os.getcwd() + '/datasets/Multiple_regression.csv'\n",
    "data_muliple_reg = pd.read_csv(path_data_muliple_reg)\n",
    "data_muliple_reg.head()"
   ]
  },
  {
   "cell_type": "code",
   "execution_count": null,
   "metadata": {},
   "outputs": [],
   "source": [
    "# Split datasets\n",
    "X = data_muliple_reg.iloc[:, :2]\n",
    "y = data_muliple_reg.iloc[:, 2]\n",
    "Scaler_Multiple = MinMaxScaler().fit(X)\n",
    "X = Scaler_Multiple.transform(X)"
   ]
  },
  {
   "cell_type": "code",
   "execution_count": null,
   "metadata": {},
   "outputs": [],
   "source": [
    "# Linear Regression - fit\n",
    "Multi_LM = LinearRegression()\n",
    "Multi_LM.fit(X, y)"
   ]
  },
  {
   "cell_type": "code",
   "execution_count": null,
   "metadata": {},
   "outputs": [],
   "source": [
    "# Linear Regression - predict\n",
    "Multi_LM.predict(X)\n",
    "print(\">>> R2 Square score: \", Multi_LM.score(X, y))\n",
    "print(\">>> 회귀 계수 = \", Multi_LM.coef_)\n",
    "print(\">>> 절편 = \", Multi_LM.intercept_)"
   ]
  },
  {
   "cell_type": "markdown",
   "metadata": {},
   "source": [
    "## 12주차 3차시\n",
    "### Question 3\n",
    "* 추천 시스템에서 사용되고 있는 군집 분석 알고리즘과 하이퍼 파라미터(거리 개념) 등에 대해 조사 하시오."
   ]
  },
  {
   "cell_type": "code",
   "execution_count": null,
   "metadata": {},
   "outputs": [],
   "source": [
    "# Load datasets\n",
    "path_data_airquality = os.getcwd() + '/datasets/airquality.csv'\n",
    "data_airquality = pd.read_csv(path_data_airquality)\n",
    "data_airquality.drop(['Unnamed: 0'], axis=1, inplace=True)\n",
    "data_airquality.head()"
   ]
  },
  {
   "cell_type": "code",
   "execution_count": null,
   "metadata": {},
   "outputs": [],
   "source": [
    "# Check whether dataset contains Null or NaN\n",
    "data_airquality.isnull().sum()"
   ]
  },
  {
   "cell_type": "code",
   "execution_count": null,
   "metadata": {},
   "outputs": [],
   "source": [
    "# Split feautre and target datasets\n",
    "data_airquality.dropna(axis=0, inplace=True)\n",
    "X = data_airquality.iloc[:, 1:4]\n",
    "y = data_airquality['Ozone']"
   ]
  },
  {
   "cell_type": "code",
   "execution_count": null,
   "metadata": {},
   "outputs": [],
   "source": [
    "# Decision Tree Regression Example\n",
    "airquality_scaler = MinMaxScaler()\n",
    "tree_reg = DecisionTreeRegressor(max_depth=5)\n",
    "Full_Pipeline_Tree_Reg = Pipeline(steps=[('scaler', airquality_scaler), ('Regressor', tree_reg)])\n",
    "Full_Pipeline_Tree_Reg.fit(X, y)\n",
    "airquality_pred = Full_Pipeline_Tree_Reg.predict(X)\n",
    "print(\">>> R_Squared = \", Full_Pipeline_Tree_Reg.score(X, y))"
   ]
  },
  {
   "cell_type": "code",
   "execution_count": null,
   "metadata": {},
   "outputs": [],
   "source": [
    "# Split datasets\n",
    "X_train, X_test, y_train, y_test = train_test_split(X, y, test_size=0.2, random_state=0)"
   ]
  },
  {
   "cell_type": "code",
   "execution_count": null,
   "metadata": {},
   "outputs": [],
   "source": [
    "# GridSearchCV\n",
    "parameters = {'criterion':['squared_error', 'friedman_mse', 'absolute_error', 'poisson'],\\\n",
    "            'splitter':['best', 'random'],\\\n",
    "            'max_depth':[2, 3, 5, 10],\\\n",
    "            'min_samples_split':[2, 3, 5]}\n",
    "\n",
    "grid_dreg = GridSearchCV(tree_reg, param_grid=parameters, scoring='r2', cv=5)\n",
    "grid_dreg.fit(X_train, y_train)\n",
    "\n",
    "df_scores = pd.DataFrame(grid_dreg.cv_results_)\n",
    "df_scores = df_scores[['params', 'mean_test_score', 'std_test_score']]\n",
    "df_scores"
   ]
  },
  {
   "cell_type": "code",
   "execution_count": null,
   "metadata": {},
   "outputs": [],
   "source": [
    "# Decision Tree Visualization\n",
    "dot_data_2 = tree.export_graphviz(tree_reg, out_file=None, \\\n",
    "    feature_names=X.columns, class_names='Ozone', \\\n",
    "    filled=True, rounded=True, special_characters=True)\n",
    "\n",
    "graph_2 = graphviz.Source(dot_data_2)\n",
    "graph_2"
   ]
  }
 ],
 "metadata": {
  "interpreter": {
   "hash": "a7f5e456c68bc1185ddbc57ad9375d59420fca5eb2501bd1e8717e679e793b46"
  },
  "kernelspec": {
   "display_name": "Python 3.9.12 ('Drill_ML')",
   "language": "python",
   "name": "python3"
  },
  "language_info": {
   "codemirror_mode": {
    "name": "ipython",
    "version": 3
   },
   "file_extension": ".py",
   "mimetype": "text/x-python",
   "name": "python",
   "nbconvert_exporter": "python",
   "pygments_lexer": "ipython3",
   "version": "3.9.13"
  },
  "orig_nbformat": 4
 },
 "nbformat": 4,
 "nbformat_minor": 2
}
