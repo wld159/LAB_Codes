{
 "cells": [
  {
   "cell_type": "markdown",
   "metadata": {},
   "source": [
    "# 2022-1 빅데이터와 인공지능 14주차 Reports"
   ]
  },
  {
   "cell_type": "code",
   "execution_count": 1,
   "metadata": {},
   "outputs": [],
   "source": [
    "import numpy as np\n",
    "import pandas as pd\n",
    "from sklearn.preprocessing import MinMaxScaler\n",
    "from sklearn.model_selection import train_test_split\n",
    "from sklearn.model_selection import GridSearchCV\n",
    "from sklearn.pipeline import Pipeline\n",
    "from sklearn.linear_model import LinearRegression\n",
    "from sklearn.metrics import confusion_matrix, silhouette_samples, silhouette_score\n",
    "from sklearn.cluster import KMeans\n",
    "\n",
    "from scipy.cluster.hierarchy import linkage, fcluster\n",
    "\n",
    "from matplotlib import pyplot as plt\n",
    "\n",
    "import warnings\n",
    "warnings.filterwarnings('ignore')"
   ]
  },
  {
   "cell_type": "code",
   "execution_count": 2,
   "metadata": {},
   "outputs": [],
   "source": [
    "# Load datasets\n",
    "from sklearn.datasets import load_iris\n",
    "iris_data = load_iris()"
   ]
  },
  {
   "cell_type": "markdown",
   "metadata": {},
   "source": [
    "## 14주차 1차시\n",
    "### Question 1\n",
    "* IRIS(붓꽃) 데이터에 대해 하이퍼파라미터(거리 개념)를 변경하면서 계층적군집화의 분류(군집화) 성능을 점검하시오."
   ]
  },
  {
   "cell_type": "code",
   "execution_count": 3,
   "metadata": {},
   "outputs": [
    {
     "data": {
      "text/html": [
       "<div>\n",
       "<style scoped>\n",
       "    .dataframe tbody tr th:only-of-type {\n",
       "        vertical-align: middle;\n",
       "    }\n",
       "\n",
       "    .dataframe tbody tr th {\n",
       "        vertical-align: top;\n",
       "    }\n",
       "\n",
       "    .dataframe thead th {\n",
       "        text-align: right;\n",
       "    }\n",
       "</style>\n",
       "<table border=\"1\" class=\"dataframe\">\n",
       "  <thead>\n",
       "    <tr style=\"text-align: right;\">\n",
       "      <th></th>\n",
       "      <th>sepal length (cm)</th>\n",
       "      <th>sepal width (cm)</th>\n",
       "      <th>petal length (cm)</th>\n",
       "      <th>petal width (cm)</th>\n",
       "      <th>Species</th>\n",
       "    </tr>\n",
       "  </thead>\n",
       "  <tbody>\n",
       "    <tr>\n",
       "      <th>0</th>\n",
       "      <td>5.1</td>\n",
       "      <td>3.5</td>\n",
       "      <td>1.4</td>\n",
       "      <td>0.2</td>\n",
       "      <td>0</td>\n",
       "    </tr>\n",
       "    <tr>\n",
       "      <th>1</th>\n",
       "      <td>4.9</td>\n",
       "      <td>3.0</td>\n",
       "      <td>1.4</td>\n",
       "      <td>0.2</td>\n",
       "      <td>0</td>\n",
       "    </tr>\n",
       "    <tr>\n",
       "      <th>2</th>\n",
       "      <td>4.7</td>\n",
       "      <td>3.2</td>\n",
       "      <td>1.3</td>\n",
       "      <td>0.2</td>\n",
       "      <td>0</td>\n",
       "    </tr>\n",
       "    <tr>\n",
       "      <th>3</th>\n",
       "      <td>4.6</td>\n",
       "      <td>3.1</td>\n",
       "      <td>1.5</td>\n",
       "      <td>0.2</td>\n",
       "      <td>0</td>\n",
       "    </tr>\n",
       "    <tr>\n",
       "      <th>4</th>\n",
       "      <td>5.0</td>\n",
       "      <td>3.6</td>\n",
       "      <td>1.4</td>\n",
       "      <td>0.2</td>\n",
       "      <td>0</td>\n",
       "    </tr>\n",
       "  </tbody>\n",
       "</table>\n",
       "</div>"
      ],
      "text/plain": [
       "   sepal length (cm)  sepal width (cm)  petal length (cm)  petal width (cm)  \\\n",
       "0                5.1               3.5                1.4               0.2   \n",
       "1                4.9               3.0                1.4               0.2   \n",
       "2                4.7               3.2                1.3               0.2   \n",
       "3                4.6               3.1                1.5               0.2   \n",
       "4                5.0               3.6                1.4               0.2   \n",
       "\n",
       "   Species  \n",
       "0        0  \n",
       "1        0  \n",
       "2        0  \n",
       "3        0  \n",
       "4        0  "
      ]
     },
     "execution_count": 3,
     "metadata": {},
     "output_type": "execute_result"
    }
   ],
   "source": [
    "# Create dataframes\n",
    "df_X = pd.DataFrame(data=iris_data.data, columns=iris_data.feature_names)\n",
    "df_y = pd.DataFrame(data=iris_data.target, columns=['Species'])\n",
    "df_iris = pd.concat([df_X, df_y], axis=1)\n",
    "df_iris.head()"
   ]
  },
  {
   "cell_type": "code",
   "execution_count": 4,
   "metadata": {},
   "outputs": [
    {
     "data": {
      "text/html": [
       "<div>\n",
       "<style scoped>\n",
       "    .dataframe tbody tr th:only-of-type {\n",
       "        vertical-align: middle;\n",
       "    }\n",
       "\n",
       "    .dataframe tbody tr th {\n",
       "        vertical-align: top;\n",
       "    }\n",
       "\n",
       "    .dataframe thead th {\n",
       "        text-align: right;\n",
       "    }\n",
       "</style>\n",
       "<table border=\"1\" class=\"dataframe\">\n",
       "  <thead>\n",
       "    <tr style=\"text-align: right;\">\n",
       "      <th></th>\n",
       "      <th>sepal length (cm)</th>\n",
       "      <th>sepal width (cm)</th>\n",
       "      <th>petal length (cm)</th>\n",
       "      <th>petal width (cm)</th>\n",
       "      <th>Species</th>\n",
       "    </tr>\n",
       "  </thead>\n",
       "  <tbody>\n",
       "    <tr>\n",
       "      <th>0</th>\n",
       "      <td>0.222222</td>\n",
       "      <td>0.625000</td>\n",
       "      <td>0.067797</td>\n",
       "      <td>0.041667</td>\n",
       "      <td>0</td>\n",
       "    </tr>\n",
       "    <tr>\n",
       "      <th>1</th>\n",
       "      <td>0.166667</td>\n",
       "      <td>0.416667</td>\n",
       "      <td>0.067797</td>\n",
       "      <td>0.041667</td>\n",
       "      <td>0</td>\n",
       "    </tr>\n",
       "    <tr>\n",
       "      <th>2</th>\n",
       "      <td>0.111111</td>\n",
       "      <td>0.500000</td>\n",
       "      <td>0.050847</td>\n",
       "      <td>0.041667</td>\n",
       "      <td>0</td>\n",
       "    </tr>\n",
       "    <tr>\n",
       "      <th>3</th>\n",
       "      <td>0.083333</td>\n",
       "      <td>0.458333</td>\n",
       "      <td>0.084746</td>\n",
       "      <td>0.041667</td>\n",
       "      <td>0</td>\n",
       "    </tr>\n",
       "    <tr>\n",
       "      <th>4</th>\n",
       "      <td>0.194444</td>\n",
       "      <td>0.666667</td>\n",
       "      <td>0.067797</td>\n",
       "      <td>0.041667</td>\n",
       "      <td>0</td>\n",
       "    </tr>\n",
       "  </tbody>\n",
       "</table>\n",
       "</div>"
      ],
      "text/plain": [
       "   sepal length (cm)  sepal width (cm)  petal length (cm)  petal width (cm)  \\\n",
       "0           0.222222          0.625000           0.067797          0.041667   \n",
       "1           0.166667          0.416667           0.067797          0.041667   \n",
       "2           0.111111          0.500000           0.050847          0.041667   \n",
       "3           0.083333          0.458333           0.084746          0.041667   \n",
       "4           0.194444          0.666667           0.067797          0.041667   \n",
       "\n",
       "   Species  \n",
       "0        0  \n",
       "1        0  \n",
       "2        0  \n",
       "3        0  \n",
       "4        0  "
      ]
     },
     "execution_count": 4,
     "metadata": {},
     "output_type": "execute_result"
    }
   ],
   "source": [
    "# Feature Scaling - Normalization\n",
    "iris_scaler = MinMaxScaler().fit(df_X)\n",
    "iris_new = pd.DataFrame(iris_scaler.transform(df_X), columns=iris_data.feature_names)\n",
    "iris_new = pd.concat([iris_new, df_y], axis=1)\n",
    "iris_new.head()"
   ]
  },
  {
   "cell_type": "code",
   "execution_count": 5,
   "metadata": {},
   "outputs": [
    {
     "name": "stdout",
     "output_type": "stream",
     "text": [
      ">>> X_train shape: (120, 4)\n",
      ">>> X_test shape: (30, 4)\n",
      ">>> y_train shape: (120,)\n",
      ">>> y_test shape: (30,)\n"
     ]
    }
   ],
   "source": [
    "# Split train and test datasets\n",
    "iris_X = iris_new.drop('Species', axis=1)\n",
    "iris_y = iris_new['Species']\n",
    "iris_X_train, iris_X_test, iris_y_train, iris_y_test = train_test_split(iris_X, iris_y, test_size=0.2, random_state=0, stratify=df_y)\n",
    "print(\">>> X_train shape:\", iris_X_train.shape)\n",
    "print(\">>> X_test shape:\", iris_X_test.shape)\n",
    "print(\">>> y_train shape:\", iris_y_train.shape)\n",
    "print(\">>> y_test shape:\", iris_y_test.shape)"
   ]
  },
  {
   "cell_type": "code",
   "execution_count": 6,
   "metadata": {},
   "outputs": [
    {
     "name": "stdout",
     "output_type": "stream",
     "text": [
      ">>> Average score: 0.6300471284354711\n"
     ]
    }
   ],
   "source": [
    "# Clustering\n",
    "Cluster = linkage(y=iris_new.iloc[:, :4], method='single', metric='euclidean')\n",
    "Cut_tree = fcluster(Cluster, t=0.3, criterion='distance')\n",
    "iris_new['cluster'] = Cut_tree\n",
    "\n",
    "avererage_score = silhouette_score(iris_new.iloc[:, :4], iris_new['cluster'])\n",
    "print(\">>> Average score:\", avererage_score)"
   ]
  },
  {
   "cell_type": "code",
   "execution_count": 7,
   "metadata": {},
   "outputs": [
    {
     "data": {
      "text/plain": [
       "<matplotlib.collections.PathCollection at 0x13143c550>"
      ]
     },
     "execution_count": 7,
     "metadata": {},
     "output_type": "execute_result"
    },
    {
     "data": {
      "image/png": "[encoded data removed]",
      "text/plain": [
       "<Figure size 432x288 with 1 Axes>"
      ]
     },
     "metadata": {
      "needs_background": "light"
     },
     "output_type": "display_data"
    }
   ],
   "source": [
    "# Visualization\n",
    "plt.scatter(x=iris_new['sepal length (cm)'], y=iris_new['petal length (cm)'], c=iris_new['cluster'], cmap='viridis')"
   ]
  },
  {
   "cell_type": "markdown",
   "metadata": {},
   "source": [
    "### Answer 1"
   ]
  },
  {
   "cell_type": "code",
   "execution_count": 8,
   "metadata": {},
   "outputs": [
    {
     "name": "stdout",
     "output_type": "stream",
     "text": [
      ">>> Average silhouette score for ward: 0.29820062091427746\n",
      ">>> Average silhouette score for complete: 0.2877624689243592\n",
      ">>> Average silhouette score for average: 0.3131109193882723\n",
      ">>> Average silhouette score for single: 0.6300471284354711\n"
     ]
    }
   ],
   "source": [
    "# Comparison of different clustering algorithms\n",
    "list_methods = ['ward', 'complete', 'average', 'single']\n",
    "\n",
    "for i in list_methods:\n",
    "    Cluster = linkage(y=iris_new.iloc[:, :4], method=i, metric='euclidean')\n",
    "    Cut_tree = fcluster(Cluster, t=0.3, criterion='distance')\n",
    "    avererage_score = silhouette_score(iris_new.iloc[:, :4], Cut_tree)\n",
    "    print(f\">>> Average silhouette score for {i}: {avererage_score}\")"
   ]
  },
  {
   "cell_type": "markdown",
   "metadata": {},
   "source": [
    "## 14주차 2차시\n",
    "### Question 2\n",
    "* IRIS(붓꽃) 데이터의 설명변수 4종 중 군집분석의 효율성과 성능을 고려할 때, 선택할 수 있는 최소의 변수를 탐색하시오."
   ]
  },
  {
   "cell_type": "code",
   "execution_count": 9,
   "metadata": {},
   "outputs": [
    {
     "data": {
      "text/html": [
       "<div>\n",
       "<style scoped>\n",
       "    .dataframe tbody tr th:only-of-type {\n",
       "        vertical-align: middle;\n",
       "    }\n",
       "\n",
       "    .dataframe tbody tr th {\n",
       "        vertical-align: top;\n",
       "    }\n",
       "\n",
       "    .dataframe thead th {\n",
       "        text-align: right;\n",
       "    }\n",
       "</style>\n",
       "<table border=\"1\" class=\"dataframe\">\n",
       "  <thead>\n",
       "    <tr style=\"text-align: right;\">\n",
       "      <th></th>\n",
       "      <th>sepal length (cm)</th>\n",
       "      <th>sepal width (cm)</th>\n",
       "    </tr>\n",
       "  </thead>\n",
       "  <tbody>\n",
       "    <tr>\n",
       "      <th>0</th>\n",
       "      <td>0.222222</td>\n",
       "      <td>0.625000</td>\n",
       "    </tr>\n",
       "    <tr>\n",
       "      <th>1</th>\n",
       "      <td>0.166667</td>\n",
       "      <td>0.416667</td>\n",
       "    </tr>\n",
       "    <tr>\n",
       "      <th>2</th>\n",
       "      <td>0.111111</td>\n",
       "      <td>0.500000</td>\n",
       "    </tr>\n",
       "    <tr>\n",
       "      <th>3</th>\n",
       "      <td>0.083333</td>\n",
       "      <td>0.458333</td>\n",
       "    </tr>\n",
       "    <tr>\n",
       "      <th>4</th>\n",
       "      <td>0.194444</td>\n",
       "      <td>0.666667</td>\n",
       "    </tr>\n",
       "  </tbody>\n",
       "</table>\n",
       "</div>"
      ],
      "text/plain": [
       "   sepal length (cm)  sepal width (cm)\n",
       "0           0.222222          0.625000\n",
       "1           0.166667          0.416667\n",
       "2           0.111111          0.500000\n",
       "3           0.083333          0.458333\n",
       "4           0.194444          0.666667"
      ]
     },
     "execution_count": 9,
     "metadata": {},
     "output_type": "execute_result"
    }
   ],
   "source": [
    "# Indexing two columns from whole feautres\n",
    "Feature_full = iris_new.iloc[:, :4]\n",
    "Feature_part = iris_new[['sepal length (cm)', 'sepal width (cm)']]\n",
    "Feature_part.head()"
   ]
  },
  {
   "cell_type": "code",
   "execution_count": 10,
   "metadata": {},
   "outputs": [
    {
     "data": {
      "text/html": [
       "<div>\n",
       "<style scoped>\n",
       "    .dataframe tbody tr th:only-of-type {\n",
       "        vertical-align: middle;\n",
       "    }\n",
       "\n",
       "    .dataframe tbody tr th {\n",
       "        vertical-align: top;\n",
       "    }\n",
       "\n",
       "    .dataframe thead th {\n",
       "        text-align: right;\n",
       "    }\n",
       "</style>\n",
       "<table border=\"1\" class=\"dataframe\">\n",
       "  <thead>\n",
       "    <tr style=\"text-align: right;\">\n",
       "      <th></th>\n",
       "      <th>sepal length (cm)</th>\n",
       "      <th>sepal width (cm)</th>\n",
       "      <th>petal length (cm)</th>\n",
       "      <th>petal width (cm)</th>\n",
       "      <th>predict_full</th>\n",
       "    </tr>\n",
       "  </thead>\n",
       "  <tbody>\n",
       "    <tr>\n",
       "      <th>0</th>\n",
       "      <td>0.222222</td>\n",
       "      <td>0.625000</td>\n",
       "      <td>0.067797</td>\n",
       "      <td>0.041667</td>\n",
       "      <td>0</td>\n",
       "    </tr>\n",
       "    <tr>\n",
       "      <th>1</th>\n",
       "      <td>0.166667</td>\n",
       "      <td>0.416667</td>\n",
       "      <td>0.067797</td>\n",
       "      <td>0.041667</td>\n",
       "      <td>0</td>\n",
       "    </tr>\n",
       "    <tr>\n",
       "      <th>2</th>\n",
       "      <td>0.111111</td>\n",
       "      <td>0.500000</td>\n",
       "      <td>0.050847</td>\n",
       "      <td>0.041667</td>\n",
       "      <td>0</td>\n",
       "    </tr>\n",
       "    <tr>\n",
       "      <th>3</th>\n",
       "      <td>0.083333</td>\n",
       "      <td>0.458333</td>\n",
       "      <td>0.084746</td>\n",
       "      <td>0.041667</td>\n",
       "      <td>0</td>\n",
       "    </tr>\n",
       "    <tr>\n",
       "      <th>4</th>\n",
       "      <td>0.194444</td>\n",
       "      <td>0.666667</td>\n",
       "      <td>0.067797</td>\n",
       "      <td>0.041667</td>\n",
       "      <td>0</td>\n",
       "    </tr>\n",
       "    <tr>\n",
       "      <th>...</th>\n",
       "      <td>...</td>\n",
       "      <td>...</td>\n",
       "      <td>...</td>\n",
       "      <td>...</td>\n",
       "      <td>...</td>\n",
       "    </tr>\n",
       "    <tr>\n",
       "      <th>145</th>\n",
       "      <td>0.666667</td>\n",
       "      <td>0.416667</td>\n",
       "      <td>0.711864</td>\n",
       "      <td>0.916667</td>\n",
       "      <td>2</td>\n",
       "    </tr>\n",
       "    <tr>\n",
       "      <th>146</th>\n",
       "      <td>0.555556</td>\n",
       "      <td>0.208333</td>\n",
       "      <td>0.677966</td>\n",
       "      <td>0.750000</td>\n",
       "      <td>1</td>\n",
       "    </tr>\n",
       "    <tr>\n",
       "      <th>147</th>\n",
       "      <td>0.611111</td>\n",
       "      <td>0.416667</td>\n",
       "      <td>0.711864</td>\n",
       "      <td>0.791667</td>\n",
       "      <td>2</td>\n",
       "    </tr>\n",
       "    <tr>\n",
       "      <th>148</th>\n",
       "      <td>0.527778</td>\n",
       "      <td>0.583333</td>\n",
       "      <td>0.745763</td>\n",
       "      <td>0.916667</td>\n",
       "      <td>2</td>\n",
       "    </tr>\n",
       "    <tr>\n",
       "      <th>149</th>\n",
       "      <td>0.444444</td>\n",
       "      <td>0.416667</td>\n",
       "      <td>0.694915</td>\n",
       "      <td>0.708333</td>\n",
       "      <td>1</td>\n",
       "    </tr>\n",
       "  </tbody>\n",
       "</table>\n",
       "<p>150 rows × 5 columns</p>\n",
       "</div>"
      ],
      "text/plain": [
       "     sepal length (cm)  sepal width (cm)  petal length (cm)  petal width (cm)  \\\n",
       "0             0.222222          0.625000           0.067797          0.041667   \n",
       "1             0.166667          0.416667           0.067797          0.041667   \n",
       "2             0.111111          0.500000           0.050847          0.041667   \n",
       "3             0.083333          0.458333           0.084746          0.041667   \n",
       "4             0.194444          0.666667           0.067797          0.041667   \n",
       "..                 ...               ...                ...               ...   \n",
       "145           0.666667          0.416667           0.711864          0.916667   \n",
       "146           0.555556          0.208333           0.677966          0.750000   \n",
       "147           0.611111          0.416667           0.711864          0.791667   \n",
       "148           0.527778          0.583333           0.745763          0.916667   \n",
       "149           0.444444          0.416667           0.694915          0.708333   \n",
       "\n",
       "     predict_full  \n",
       "0               0  \n",
       "1               0  \n",
       "2               0  \n",
       "3               0  \n",
       "4               0  \n",
       "..            ...  \n",
       "145             2  \n",
       "146             1  \n",
       "147             2  \n",
       "148             2  \n",
       "149             1  \n",
       "\n",
       "[150 rows x 5 columns]"
      ]
     },
     "execution_count": 10,
     "metadata": {},
     "output_type": "execute_result"
    }
   ],
   "source": [
    "# Clustering - whole features\n",
    "Model_full = KMeans(n_clusters=3, algorithm='auto')\n",
    "Model_full.fit(Feature_full)\n",
    "Predict_full = pd.DataFrame(Model_full.predict(Feature_full))\n",
    "Predict_full.columns = ['predict_full']\n",
    "R_full = pd.concat([Feature_full, Predict_full], axis=1)\n",
    "R_full"
   ]
  },
  {
   "cell_type": "code",
   "execution_count": 11,
   "metadata": {},
   "outputs": [
    {
     "data": {
      "text/html": [
       "<div>\n",
       "<style scoped>\n",
       "    .dataframe tbody tr th:only-of-type {\n",
       "        vertical-align: middle;\n",
       "    }\n",
       "\n",
       "    .dataframe tbody tr th {\n",
       "        vertical-align: top;\n",
       "    }\n",
       "\n",
       "    .dataframe thead th {\n",
       "        text-align: right;\n",
       "    }\n",
       "</style>\n",
       "<table border=\"1\" class=\"dataframe\">\n",
       "  <thead>\n",
       "    <tr style=\"text-align: right;\">\n",
       "      <th></th>\n",
       "      <th>sepal length (cm)</th>\n",
       "      <th>sepal width (cm)</th>\n",
       "      <th>predict_part</th>\n",
       "    </tr>\n",
       "  </thead>\n",
       "  <tbody>\n",
       "    <tr>\n",
       "      <th>0</th>\n",
       "      <td>0.222222</td>\n",
       "      <td>0.625000</td>\n",
       "      <td>1</td>\n",
       "    </tr>\n",
       "    <tr>\n",
       "      <th>1</th>\n",
       "      <td>0.166667</td>\n",
       "      <td>0.416667</td>\n",
       "      <td>1</td>\n",
       "    </tr>\n",
       "    <tr>\n",
       "      <th>2</th>\n",
       "      <td>0.111111</td>\n",
       "      <td>0.500000</td>\n",
       "      <td>1</td>\n",
       "    </tr>\n",
       "    <tr>\n",
       "      <th>3</th>\n",
       "      <td>0.083333</td>\n",
       "      <td>0.458333</td>\n",
       "      <td>1</td>\n",
       "    </tr>\n",
       "    <tr>\n",
       "      <th>4</th>\n",
       "      <td>0.194444</td>\n",
       "      <td>0.666667</td>\n",
       "      <td>1</td>\n",
       "    </tr>\n",
       "    <tr>\n",
       "      <th>...</th>\n",
       "      <td>...</td>\n",
       "      <td>...</td>\n",
       "      <td>...</td>\n",
       "    </tr>\n",
       "    <tr>\n",
       "      <th>145</th>\n",
       "      <td>0.666667</td>\n",
       "      <td>0.416667</td>\n",
       "      <td>2</td>\n",
       "    </tr>\n",
       "    <tr>\n",
       "      <th>146</th>\n",
       "      <td>0.555556</td>\n",
       "      <td>0.208333</td>\n",
       "      <td>0</td>\n",
       "    </tr>\n",
       "    <tr>\n",
       "      <th>147</th>\n",
       "      <td>0.611111</td>\n",
       "      <td>0.416667</td>\n",
       "      <td>2</td>\n",
       "    </tr>\n",
       "    <tr>\n",
       "      <th>148</th>\n",
       "      <td>0.527778</td>\n",
       "      <td>0.583333</td>\n",
       "      <td>2</td>\n",
       "    </tr>\n",
       "    <tr>\n",
       "      <th>149</th>\n",
       "      <td>0.444444</td>\n",
       "      <td>0.416667</td>\n",
       "      <td>0</td>\n",
       "    </tr>\n",
       "  </tbody>\n",
       "</table>\n",
       "<p>150 rows × 3 columns</p>\n",
       "</div>"
      ],
      "text/plain": [
       "     sepal length (cm)  sepal width (cm)  predict_part\n",
       "0             0.222222          0.625000             1\n",
       "1             0.166667          0.416667             1\n",
       "2             0.111111          0.500000             1\n",
       "3             0.083333          0.458333             1\n",
       "4             0.194444          0.666667             1\n",
       "..                 ...               ...           ...\n",
       "145           0.666667          0.416667             2\n",
       "146           0.555556          0.208333             0\n",
       "147           0.611111          0.416667             2\n",
       "148           0.527778          0.583333             2\n",
       "149           0.444444          0.416667             0\n",
       "\n",
       "[150 rows x 3 columns]"
      ]
     },
     "execution_count": 11,
     "metadata": {},
     "output_type": "execute_result"
    }
   ],
   "source": [
    "# Cluistering - part of features\n",
    "Model_part = KMeans(n_clusters=3, algorithm='auto')\n",
    "Model_part.fit(Feature_part)\n",
    "Predict_part = pd.DataFrame(Model_part.predict(Feature_part))\n",
    "Predict_part.columns = ['predict_part']\n",
    "R_part = pd.concat([Feature_part, Predict_part], axis=1)\n",
    "R_part"
   ]
  },
  {
   "cell_type": "code",
   "execution_count": 12,
   "metadata": {},
   "outputs": [],
   "source": [
    "# Confusion matrix\n",
    "Con_Mat_Full = pd.crosstab(iris_new['Species'], R_full['predict_full'])\n",
    "Con_Mat_Part = pd.crosstab(iris_new['Species'], R_part['predict_part'])"
   ]
  },
  {
   "cell_type": "code",
   "execution_count": 13,
   "metadata": {},
   "outputs": [
    {
     "name": "stdout",
     "output_type": "stream",
     "text": [
      ">>> Silhouette score for whole features:  0.5047687565398589\n",
      ">>> Silhouette score for part of features:  0.44419861784050124\n"
     ]
    }
   ],
   "source": [
    "# Silhouette score for full or part of features\n",
    "silhouette_score_full = silhouette_score(Feature_full, Predict_full)\n",
    "print(\">>> Silhouette score for whole features: \", silhouette_score_full)\n",
    "silhouette_score_part = silhouette_score(Feature_part, Predict_part)\n",
    "print(\">>> Silhouette score for part of features: \", silhouette_score_part)"
   ]
  },
  {
   "cell_type": "code",
   "execution_count": 14,
   "metadata": {},
   "outputs": [
    {
     "data": {
      "text/html": [
       "<div>\n",
       "<style scoped>\n",
       "    .dataframe tbody tr th:only-of-type {\n",
       "        vertical-align: middle;\n",
       "    }\n",
       "\n",
       "    .dataframe tbody tr th {\n",
       "        vertical-align: top;\n",
       "    }\n",
       "\n",
       "    .dataframe thead th {\n",
       "        text-align: right;\n",
       "    }\n",
       "</style>\n",
       "<table border=\"1\" class=\"dataframe\">\n",
       "  <thead>\n",
       "    <tr style=\"text-align: right;\">\n",
       "      <th></th>\n",
       "      <th>Feature 1</th>\n",
       "      <th>Feature 2</th>\n",
       "      <th>silhouette_score</th>\n",
       "    </tr>\n",
       "  </thead>\n",
       "  <tbody>\n",
       "  </tbody>\n",
       "</table>\n",
       "</div>"
      ],
      "text/plain": [
       "Empty DataFrame\n",
       "Columns: [Feature 1, Feature 2, silhouette_score]\n",
       "Index: []"
      ]
     },
     "execution_count": 14,
     "metadata": {},
     "output_type": "execute_result"
    }
   ],
   "source": [
    "# Create empty DataFrame for saving results\n",
    "df_cluster_results = pd.DataFrame(columns=['Feature 1', 'Feature 2', 'silhouette_score'])\n",
    "df_cluster_results"
   ]
  },
  {
   "cell_type": "code",
   "execution_count": 15,
   "metadata": {},
   "outputs": [
    {
     "name": "stdout",
     "output_type": "stream",
     "text": [
      ">>> Silhouette score for sepal length (cm) and sepal width (cm): 0.8181070704809313\n",
      ">>> Silhouette score for sepal length (cm) and petal length (cm): 0.8568069068499352\n",
      ">>> Silhouette score for sepal length (cm) and petal width (cm): 0.8432109418094808\n",
      ">>> Silhouette score for sepal width (cm) and sepal length (cm): 0.8181070704809313\n",
      ">>> Silhouette score for sepal width (cm) and petal length (cm): 0.8357677601772232\n",
      ">>> Silhouette score for sepal width (cm) and petal width (cm): 0.8287151117457234\n",
      ">>> Silhouette score for petal length (cm) and sepal length (cm): 0.8642135751784978\n",
      ">>> Silhouette score for petal length (cm) and sepal width (cm): 0.8495612395806148\n",
      ">>> Silhouette score for petal length (cm) and petal width (cm): 0.9035061673457414\n",
      ">>> Silhouette score for petal width (cm) and sepal length (cm): 0.827436864627598\n",
      ">>> Silhouette score for petal width (cm) and sepal width (cm): 0.8421925316128377\n",
      ">>> Silhouette score for petal width (cm) and petal length (cm): 0.9035061673457419\n"
     ]
    }
   ],
   "source": [
    "# Comparison between feautres\n",
    "list_R_test = []\n",
    "n = 0\n",
    "\n",
    "for i in iris_data.feature_names:\n",
    "    for j in iris_data.feature_names:\n",
    "        if i != j:\n",
    "            df_cluster_results.loc[n, 'Feature 1'] = i\n",
    "            df_cluster_results.loc[n, 'Feature 2'] = j\n",
    "\n",
    "            Feature_test = iris_new[[i, j]]\n",
    "            Model_test = KMeans(n_clusters=3, algorithm='auto')\n",
    "            Model_test.fit(Feature_test)\n",
    "            Predict_test = pd.DataFrame(Model_test.predict(Feature_test))\n",
    "            Predict_test.columns = ['predict_test']\n",
    "            R_test = pd.concat([Feature_test, Predict_test], axis=1)\n",
    "\n",
    "            silhouette_score_test = silhouette_score(R_test, Predict_test)\n",
    "            df_cluster_results.iloc[n, 2] = silhouette_score_test\n",
    "            \n",
    "            print(f\">>> Silhouette score for {i} and {j}: {silhouette_score_test}\")\n",
    "            list_R_test.append(silhouette_score_test)\n",
    "            n += 1"
   ]
  },
  {
   "cell_type": "code",
   "execution_count": 16,
   "metadata": {},
   "outputs": [
    {
     "data": {
      "text/html": [
       "<div>\n",
       "<style scoped>\n",
       "    .dataframe tbody tr th:only-of-type {\n",
       "        vertical-align: middle;\n",
       "    }\n",
       "\n",
       "    .dataframe tbody tr th {\n",
       "        vertical-align: top;\n",
       "    }\n",
       "\n",
       "    .dataframe thead th {\n",
       "        text-align: right;\n",
       "    }\n",
       "</style>\n",
       "<table border=\"1\" class=\"dataframe\">\n",
       "  <thead>\n",
       "    <tr style=\"text-align: right;\">\n",
       "      <th></th>\n",
       "      <th>Feature 1</th>\n",
       "      <th>Feature 2</th>\n",
       "      <th>silhouette_score</th>\n",
       "    </tr>\n",
       "  </thead>\n",
       "  <tbody>\n",
       "    <tr>\n",
       "      <th>11</th>\n",
       "      <td>petal width (cm)</td>\n",
       "      <td>petal length (cm)</td>\n",
       "      <td>0.903506</td>\n",
       "    </tr>\n",
       "    <tr>\n",
       "      <th>8</th>\n",
       "      <td>petal length (cm)</td>\n",
       "      <td>petal width (cm)</td>\n",
       "      <td>0.903506</td>\n",
       "    </tr>\n",
       "    <tr>\n",
       "      <th>6</th>\n",
       "      <td>petal length (cm)</td>\n",
       "      <td>sepal length (cm)</td>\n",
       "      <td>0.864214</td>\n",
       "    </tr>\n",
       "    <tr>\n",
       "      <th>1</th>\n",
       "      <td>sepal length (cm)</td>\n",
       "      <td>petal length (cm)</td>\n",
       "      <td>0.856807</td>\n",
       "    </tr>\n",
       "    <tr>\n",
       "      <th>7</th>\n",
       "      <td>petal length (cm)</td>\n",
       "      <td>sepal width (cm)</td>\n",
       "      <td>0.849561</td>\n",
       "    </tr>\n",
       "    <tr>\n",
       "      <th>2</th>\n",
       "      <td>sepal length (cm)</td>\n",
       "      <td>petal width (cm)</td>\n",
       "      <td>0.843211</td>\n",
       "    </tr>\n",
       "    <tr>\n",
       "      <th>10</th>\n",
       "      <td>petal width (cm)</td>\n",
       "      <td>sepal width (cm)</td>\n",
       "      <td>0.842193</td>\n",
       "    </tr>\n",
       "    <tr>\n",
       "      <th>4</th>\n",
       "      <td>sepal width (cm)</td>\n",
       "      <td>petal length (cm)</td>\n",
       "      <td>0.835768</td>\n",
       "    </tr>\n",
       "    <tr>\n",
       "      <th>5</th>\n",
       "      <td>sepal width (cm)</td>\n",
       "      <td>petal width (cm)</td>\n",
       "      <td>0.828715</td>\n",
       "    </tr>\n",
       "    <tr>\n",
       "      <th>9</th>\n",
       "      <td>petal width (cm)</td>\n",
       "      <td>sepal length (cm)</td>\n",
       "      <td>0.827437</td>\n",
       "    </tr>\n",
       "    <tr>\n",
       "      <th>0</th>\n",
       "      <td>sepal length (cm)</td>\n",
       "      <td>sepal width (cm)</td>\n",
       "      <td>0.818107</td>\n",
       "    </tr>\n",
       "    <tr>\n",
       "      <th>3</th>\n",
       "      <td>sepal width (cm)</td>\n",
       "      <td>sepal length (cm)</td>\n",
       "      <td>0.818107</td>\n",
       "    </tr>\n",
       "  </tbody>\n",
       "</table>\n",
       "</div>"
      ],
      "text/plain": [
       "            Feature 1          Feature 2 silhouette_score\n",
       "11   petal width (cm)  petal length (cm)         0.903506\n",
       "8   petal length (cm)   petal width (cm)         0.903506\n",
       "6   petal length (cm)  sepal length (cm)         0.864214\n",
       "1   sepal length (cm)  petal length (cm)         0.856807\n",
       "7   petal length (cm)   sepal width (cm)         0.849561\n",
       "2   sepal length (cm)   petal width (cm)         0.843211\n",
       "10   petal width (cm)   sepal width (cm)         0.842193\n",
       "4    sepal width (cm)  petal length (cm)         0.835768\n",
       "5    sepal width (cm)   petal width (cm)         0.828715\n",
       "9    petal width (cm)  sepal length (cm)         0.827437\n",
       "0   sepal length (cm)   sepal width (cm)         0.818107\n",
       "3    sepal width (cm)  sepal length (cm)         0.818107"
      ]
     },
     "execution_count": 16,
     "metadata": {},
     "output_type": "execute_result"
    }
   ],
   "source": [
    "# Sort values - Descending\n",
    "df_cluster_results.sort_values(by='silhouette_score', ascending=False, inplace=True)\n",
    "df_cluster_results"
   ]
  },
  {
   "cell_type": "markdown",
   "metadata": {},
   "source": [
    "### Answer 2\n",
    "1.  silhoutette score를 검토한 결과, Feature로 'petal length (cm)', 'petal width (cm)'를 선택했을 때, 0.903506로 가장 높은 성능을 확인할 수 있었다.\n",
    "2. 따라서, 최소의 변수로 'petal length (cm)', 'petal width (cm)'를 선택하였다."
   ]
  },
  {
   "cell_type": "markdown",
   "metadata": {},
   "source": [
    "## 12주차 3차시\n",
    "### Question 3\n",
    "* 추천 시스템에서 사용되고 있는 군집 분석 알고리즘과 하이퍼 파라미터(거리 개념) 등에 대해 조사 하시오."
   ]
  },
  {
   "cell_type": "markdown",
   "metadata": {},
   "source": [
    "### Answer 3\n",
    "1. OTT 서비스 중 대표적으로 '넷플릭스(Netflix)'의 추천시스템에서 사용된는 **군집 분석 알고리즘은 협업 필터링**이다.\n",
    "2. 협업 필터링은 사용자의 선호도를 기반으로 군집을 분류하는 방법이다. 따라서 **개개인의 취향을 기반으로 군집을 분류**하는 것이다.\n",
    "3. 특히 여기서, 협업 필터링의 핵심은 '가까운 거리'이다.\n",
    "4. 구체적으로, 서로 다른 두 영화에 각각 평가를 매기고, 그 평가를 기반으로 **가장 가까운 거리에 위치한 또 다른 영화**를 추천하는 것이다.  \n",
    "[참고 링크](http://www.astronomer.rocks/news/articleView.html?idxno=86454)\n",
    "> 추천시스템에 사용된 군집 분석 알고리즘: 협업필터링  \n",
    "> 하이퍼파라미터(거리 개념): 가장 가까운 거리  \n"
   ]
  }
 ],
 "metadata": {
  "interpreter": {
   "hash": "1217fc03bd54a3fa3daba43a46b5b277ff8941e066aab17a1e4cce6e80b4e684"
  },
  "kernelspec": {
   "display_name": "Python 3.9.12 ('Drill_ML')",
   "language": "python",
   "name": "python3"
  },
  "language_info": {
   "codemirror_mode": {
    "name": "ipython",
    "version": 3
   },
   "file_extension": ".py",
   "mimetype": "text/x-python",
   "name": "python",
   "nbconvert_exporter": "python",
   "pygments_lexer": "ipython3",
   "version": "3.9.12"
  },
  "orig_nbformat": 4
 },
 "nbformat": 4,
 "nbformat_minor": 2
}
