{
 "cells": [
  {
   "cell_type": "markdown",
   "metadata": {
    "colab_type": "text",
    "id": "r0_fqL3ayLHX"
   },
   "source": [
    "# [튜토리얼4] 그래디언트 부스팅 트리(Gredient Boosted tree): 모델 이해하기"
   ]
  },
  {
   "cell_type": "markdown",
   "metadata": {},
   "source": [
    "이번 튜토리얼의 목표는 다음과 같습니다:\n",
    "\n",
    "* 부스팅 트리 모델을 해석하는 방법을 알아보겠습니다.\n",
    "* 부스팅 트리 모델에 데이터셋을 적용해보겠습니다."
   ]
  },
  {
   "cell_type": "code",
   "execution_count": 1,
   "metadata": {},
   "outputs": [],
   "source": [
    "from __future__ import absolute_import, division, print_function, unicode_literals\n",
    "\n",
    "import warnings\n",
    "warnings.simplefilter('ignore')\n",
    "\n",
    "import numpy as np\n",
    "import pandas as pd\n",
    "\n",
    "from IPython.display import clear_output\n",
    "\n",
    "import tensorflow as tf\n",
    "tf.random.set_seed(123)\n",
    "\n",
    "import matplotlib.pyplot as plt\n",
    "import seaborn as sns\n",
    "sns_colors = sns.color_palette('colorblind')\n",
    "\n",
    "from numpy.random import uniform, seed\n",
    "from scipy.interpolate import griddata"
   ]
  },
  {
   "cell_type": "markdown",
   "metadata": {
    "colab_type": "text",
    "id": "SFTlM_ZjUZ7m"
   },
   "source": [
    "# 목차\n",
    "1. 부스팅 트리를 해석하는 방법\n",
    "2. 타이타닉 데이터셋 불러오기\n",
    "3. 피쳐 열과 입력 함수를 만들고 에스티메이터(Estimator) 학습시키기\n",
    "    - 3.1 데이터 전처리\n",
    "    - 3.2 파이프라인 구축하기\n",
    "    - 3.3 모델 학습시키기\n",
    "4. 모델 해석과 시각화\n",
    "    - 4.1 국소적(local) 해석\n",
    "    - 4.2 전역적(global) 해석\n",
    "        - 이익 기반 피쳐 중요도\n",
    "        - DFC 절대값의 평균 구하기\n",
    "        - 순열 피쳐 중요도\n",
    "    - 4.3 모델 시각화\n",
    "5. 결론"
   ]
  },
  {
   "cell_type": "markdown",
   "metadata": {
    "colab_type": "text",
    "id": "dW3r7qVxzqN5"
   },
   "source": [
    "##  1. 부스팅 트리를 해석하는 방법\n",
    "\n",
    "모델을 해석하는 데에는 다음의 두 가지 관점이 있습니다.\n",
    "\n",
    "* **국소적(local) 해석**은 개별 데이터 수준에서 모델의 예측을 이해하는 것입니다 \n",
    "* **전역적(global) 해석**은 모델을 전체적으로 이해하는 것을 의미합니다.\n",
    "\n",
    "이러한 기법들은 머신러닝(ML) 실무자가 모델을 개발하는 데에 있어 편향과 버그를 탐지하는 데 도움이 될 수 있습니다.\n",
    "\n",
    "국소적(local) 해석을 위해 각 객체(instance)당 기여도를 생성하고 시각화하는 방법을 학습할 것입니다. 이를 피쳐 중요도와 구별하기 위해 이러한 값을 **DFCs**(directional feature contributions)라고 합니다.\n",
    "\n",
    "전역적(global) 해석을 위해 이익 기반 피쳐 중요도와 순열 피쳐 중요도를 검색, 시각화해보고 집계된 DFCs를 표시합니다."
   ]
  },
  {
   "cell_type": "markdown",
   "metadata": {
    "colab_type": "text",
    "id": "eylrTPAN3rJV"
   },
   "source": [
    "## 2. 타이타닉 데이터셋 불러오기\n",
    "\n",
    "성별, 나이, 클래스 등의 특성을 고려하여 승객 생존을 예측하는 것이 목표인 타이타닉 데이터 세트를 사용할 것입니다."
   ]
  },
  {
   "cell_type": "code",
   "execution_count": 16,
   "metadata": {
    "colab": {},
    "colab_type": "code",
    "id": "KuhAiPfZ3rJW"
   },
   "outputs": [],
   "source": [
    "# 데이터셋을 불러옵니다.\n",
    "dftrain = pd.read_csv('https://storage.googleapis.com/tf-datasets/titanic/train.csv')\n",
    "dfeval = pd.read_csv('https://storage.googleapis.com/tf-datasets/titanic/eval.csv')\n",
    "y_train = dftrain.pop('survived')\n",
    "y_eval = dfeval.pop('survived')\n",
    "\n",
    "# 불러온 데이터 중 500개의 학습 데이터와 200개의 검증 데이터를 사용합니다.\n",
    "dftrain = dftrain.iloc[:500]\n",
    "y_train = y_train.iloc[:500]\n",
    "dfeval = dfeval.iloc[:200]\n",
    "y_eval = y_eval.iloc[:200]"
   ]
  },
  {
   "cell_type": "markdown",
   "metadata": {
    "colab_type": "text",
    "id": "krkRHuMp3rJn"
   },
   "source": [
    "## 3. 피쳐 열과 입력 함수를 만들고 에스티메이터(Estimator) 학습시키기"
   ]
  },
  {
   "cell_type": "markdown",
   "metadata": {
    "colab_type": "text",
    "id": "JiJ6K3hr1lXW"
   },
   "source": [
    "### 3.1 데이터 전처리"
   ]
  },
  {
   "cell_type": "markdown",
   "metadata": {
    "colab_type": "text",
    "id": "udMytRJC05oW"
   },
   "source": [
    "숫자 열은 있는 그대로 사용하고 범주형 변수는 원-핫 인코딩을 통해 변환하여 피쳐 열을 생성합니다."
   ]
  },
  {
   "cell_type": "code",
   "execution_count": 17,
   "metadata": {
    "colab": {},
    "colab_type": "code",
    "id": "upaNWxcF3rJn"
   },
   "outputs": [],
   "source": [
    "fc = tf.feature_column\n",
    "CATEGORICAL_COLUMNS = ['sex', 'n_siblings_spouses', 'parch', 'class', 'deck',\n",
    "                       'embark_town', 'alone']\n",
    "NUMERIC_COLUMNS = ['age', 'fare']\n",
    "\n",
    "def one_hot_cat_column(feature_name, vocab):\n",
    "    return fc.indicator_column(\n",
    "        fc.categorical_column_with_vocabulary_list(feature_name,\n",
    "                                                 vocab))\n",
    "feature_columns = []\n",
    "for feature_name in CATEGORICAL_COLUMNS:\n",
    "    # 범주형 피쳐는 원-핫 인코딩이 필요합니다.\n",
    "    vocabulary = dftrain[feature_name].unique()\n",
    "    feature_columns.append(one_hot_cat_column(feature_name, vocabulary))\n",
    "\n",
    "for feature_name in NUMERIC_COLUMNS:\n",
    "    feature_columns.append(fc.numeric_column(feature_name,\n",
    "                                           dtype=tf.float32))"
   ]
  },
  {
   "cell_type": "markdown",
   "metadata": {
    "colab_type": "text",
    "id": "9rTefnXe1n0v"
   },
   "source": [
    "### 3.2 파이프라인 구축하기"
   ]
  },
  {
   "cell_type": "markdown",
   "metadata": {
    "colab_type": "text",
    "id": "-UOlROp33rJo"
   },
   "source": [
    "판다스(Pandas)의 데이터를 직접적으로 읽어오기 위해 [`tf.data`](https://www.tensorflow.org/api_docs/python/tf/data) API에 있는 `from_tensor_slices` 메서드를 사용해서 입력 함수를 만듭니다."
   ]
  },
  {
   "cell_type": "code",
   "execution_count": 18,
   "metadata": {
    "colab": {},
    "colab_type": "code",
    "id": "9dquwCQB3rJp"
   },
   "outputs": [],
   "source": [
    "# 데이터셋이 작으므로 모든 배치(batch)를 사용합니다.\n",
    "NUM_EXAMPLES = len(y_train)\n",
    "\n",
    "# 입력 함수 만들기\n",
    "def make_input_fn(X, y, n_epochs=None, shuffle=True):\n",
    "    def input_fn():\n",
    "        dataset = tf.data.Dataset.from_tensor_slices((X.to_dict(orient='list'), y))\n",
    "        if shuffle:\n",
    "            dataset = dataset.shuffle(NUM_EXAMPLES)\n",
    "        # n_epochs로 지정한만큼 데이터셋을 반복해서 학습합니다\n",
    "        dataset = (dataset\n",
    "            .repeat(n_epochs)\n",
    "            .batch(NUM_EXAMPLES))\n",
    "        return dataset\n",
    "    return input_fn\n",
    "\n",
    "# 훈련 데이터와 검증 데이터의 입력 함수입니다.\n",
    "train_input_fn = make_input_fn(dftrain, y_train)\n",
    "eval_input_fn = make_input_fn(dfeval, y_eval, shuffle=False, n_epochs=1)"
   ]
  },
  {
   "cell_type": "markdown",
   "metadata": {
    "colab_type": "text",
    "id": "HttfNNlN3rJr"
   },
   "source": [
    "### 3.3 모델 학습시키기"
   ]
  },
  {
   "cell_type": "code",
   "execution_count": 19,
   "metadata": {
    "colab": {
     "base_uri": "https://localhost:8080/",
     "height": 381
    },
    "colab_type": "code",
    "executionInfo": {
     "elapsed": 29,
     "status": "ok",
     "timestamp": 1578646905702,
     "user": {
      "displayName": "권나현",
      "photoUrl": "",
      "userId": "08701108352160795584"
     },
     "user_tz": -540
    },
    "id": "tgEzMtlw3rJu",
    "outputId": "2690b8b1-263a-4ce9-fb93-faee99b9503f"
   },
   "outputs": [
    {
     "data": {
      "text/html": [
       "<div>\n",
       "<style scoped>\n",
       "    .dataframe tbody tr th:only-of-type {\n",
       "        vertical-align: middle;\n",
       "    }\n",
       "\n",
       "    .dataframe tbody tr th {\n",
       "        vertical-align: top;\n",
       "    }\n",
       "\n",
       "    .dataframe thead th {\n",
       "        text-align: right;\n",
       "    }\n",
       "</style>\n",
       "<table border=\"1\" class=\"dataframe\">\n",
       "  <thead>\n",
       "    <tr style=\"text-align: right;\">\n",
       "      <th></th>\n",
       "      <th>0</th>\n",
       "    </tr>\n",
       "  </thead>\n",
       "  <tbody>\n",
       "    <tr>\n",
       "      <th>accuracy</th>\n",
       "      <td>0.810000</td>\n",
       "    </tr>\n",
       "    <tr>\n",
       "      <th>accuracy_baseline</th>\n",
       "      <td>0.630000</td>\n",
       "    </tr>\n",
       "    <tr>\n",
       "      <th>auc</th>\n",
       "      <td>0.846471</td>\n",
       "    </tr>\n",
       "    <tr>\n",
       "      <th>auc_precision_recall</th>\n",
       "      <td>0.833636</td>\n",
       "    </tr>\n",
       "    <tr>\n",
       "      <th>average_loss</th>\n",
       "      <td>0.445811</td>\n",
       "    </tr>\n",
       "    <tr>\n",
       "      <th>global_step</th>\n",
       "      <td>100.000000</td>\n",
       "    </tr>\n",
       "    <tr>\n",
       "      <th>label/mean</th>\n",
       "      <td>0.370000</td>\n",
       "    </tr>\n",
       "    <tr>\n",
       "      <th>loss</th>\n",
       "      <td>0.445811</td>\n",
       "    </tr>\n",
       "    <tr>\n",
       "      <th>precision</th>\n",
       "      <td>0.750000</td>\n",
       "    </tr>\n",
       "    <tr>\n",
       "      <th>prediction/mean</th>\n",
       "      <td>0.389551</td>\n",
       "    </tr>\n",
       "    <tr>\n",
       "      <th>recall</th>\n",
       "      <td>0.729730</td>\n",
       "    </tr>\n",
       "  </tbody>\n",
       "</table>\n",
       "</div>"
      ],
      "text/plain": [
       "                               0\n",
       "accuracy                0.810000\n",
       "accuracy_baseline       0.630000\n",
       "auc                     0.846471\n",
       "auc_precision_recall    0.833636\n",
       "average_loss            0.445811\n",
       "global_step           100.000000\n",
       "label/mean              0.370000\n",
       "loss                    0.445811\n",
       "precision               0.750000\n",
       "prediction/mean         0.389551\n",
       "recall                  0.729730"
      ]
     },
     "execution_count": 19,
     "metadata": {},
     "output_type": "execute_result"
    }
   ],
   "source": [
    "params = {\n",
    "  'n_trees': 50,\n",
    "  'max_depth': 3,\n",
    "  'n_batches_per_layer': 1,\n",
    "  # DFC를 가져오려면 center_bias = True로 설정해서\n",
    "  # 모델이 피쳐를 적용하기 전에 초기 예측을 하도록 합니다\n",
    "  'center_bias': True\n",
    "}\n",
    "\n",
    "est = tf.estimator.BoostedTreesClassifier(feature_columns, **params)\n",
    "\n",
    "# 모델을 학습시킵니다.\n",
    "est.train(train_input_fn, max_steps=100)\n",
    "\n",
    "# 모델 검증하기\n",
    "results = est.evaluate(eval_input_fn)\n",
    "clear_output()\n",
    "pd.Series(results).to_frame()"
   ]
  },
  {
   "cell_type": "markdown",
   "metadata": {
    "colab_type": "text",
    "id": "JgAz3jDa_tRA"
   },
   "source": [
    "데이터의 크기가 메모리에 맞으면 `boosted_trees_classifier_train_in_memory` 함수를 이용하는 것이 성능상 더 좋습니다. 그러나 학습 시간이 길어도 문제가 없거나 데이터셋이 너무 커서 분산 학습을 하려고 한다면 위에 나와 있는 `tf.estimator.BoostedTrees` API를 사용합니다.\n",
    "\n",
    "이 메소드는 전체 데이터셋을 다루므로 입력 데이터를 배치화하지 않습니다."
   ]
  },
  {
   "cell_type": "code",
   "execution_count": 20,
   "metadata": {
    "colab": {
     "base_uri": "https://localhost:8080/",
     "height": 951
    },
    "colab_type": "code",
    "executionInfo": {
     "elapsed": 13787,
     "status": "ok",
     "timestamp": 1578646911608,
     "user": {
      "displayName": "권나현",
      "photoUrl": "",
      "userId": "08701108352160795584"
     },
     "user_tz": -540
    },
    "id": "y7ztzoSk_vjY",
    "outputId": "5d380e03-d7a4-4f44-a64a-1cd19195eb22"
   },
   "outputs": [
    {
     "name": "stdout",
     "output_type": "stream",
     "text": [
      "INFO:tensorflow:Calling model_fn.\n",
      "WARNING:tensorflow:Trapezoidal rule is known to produce incorrect PR-AUCs; please switch to \"careful_interpolation\" instead.\n",
      "WARNING:tensorflow:Trapezoidal rule is known to produce incorrect PR-AUCs; please switch to \"careful_interpolation\" instead.\n",
      "INFO:tensorflow:Done calling model_fn.\n",
      "INFO:tensorflow:Starting evaluation at 2020-09-15T04:47:20Z\n",
      "INFO:tensorflow:Graph was finalized.\n",
      "INFO:tensorflow:Restoring parameters from /tmp/tmpb9ju6lp4/model.ckpt-153\n",
      "INFO:tensorflow:Running local_init_op.\n",
      "INFO:tensorflow:Done running local_init_op.\n",
      "INFO:tensorflow:Finished evaluation at 2020-09-15-04:47:21\n",
      "INFO:tensorflow:Saving dict for global step 153: accuracy = 0.79, accuracy_baseline = 0.63, auc = 0.8381596, auc_precision_recall = 0.83368945, average_loss = 0.45019126, global_step = 153, label/mean = 0.37, loss = 0.45019126, precision = 0.7222222, prediction/mean = 0.38744187, recall = 0.7027027\n",
      "WARNING:tensorflow:Issue encountered when serializing resources.\n",
      "Type is unsupported, or the types of the items don't match field type in CollectionDef. Note this is a warning and probably safe to ignore.\n",
      "'_Resource' object has no attribute 'name'\n",
      "INFO:tensorflow:Saving 'checkpoint_path' summary for global step 153: /tmp/tmpb9ju6lp4/model.ckpt-153\n",
      "{'accuracy': 0.79, 'accuracy_baseline': 0.63, 'auc': 0.8381596, 'auc_precision_recall': 0.83368945, 'average_loss': 0.45019126, 'label/mean': 0.37, 'loss': 0.45019126, 'precision': 0.7222222, 'prediction/mean': 0.38744187, 'recall': 0.7027027, 'global_step': 153}\n"
     ]
    }
   ],
   "source": [
    "in_memory_params = dict(params)\n",
    "in_memory_params['n_batches_per_layer'] = 1\n",
    "\n",
    "# 인메모리 입력 함수는 배치를 사용하지 않습니다.\n",
    "def make_inmemory_train_input_fn(X, y):\n",
    "    y = np.expand_dims(y, axis=1)\n",
    "    def input_fn():\n",
    "        return dict(X), y\n",
    "    return input_fn\n",
    "train_input_fn = make_inmemory_train_input_fn(dftrain, y_train)\n",
    "\n",
    "# 모델을 학습시킵니다.\n",
    "est = tf.estimator.BoostedTreesClassifier(\n",
    "    feature_columns, \n",
    "    train_in_memory=True, \n",
    "    **in_memory_params)\n",
    "\n",
    "est.train(train_input_fn)\n",
    "clear_output()\n",
    "print(est.evaluate(eval_input_fn))"
   ]
  },
  {
   "cell_type": "markdown",
   "metadata": {
    "colab_type": "text",
    "id": "TSZYqNcRuczV"
   },
   "source": [
    "## 4. 모델 해석과 시각화"
   ]
  },
  {
   "cell_type": "markdown",
   "metadata": {
    "colab_type": "text",
    "id": "ywTtbBvBuczY"
   },
   "source": [
    "### 4.1 국소적(local) 해석\n",
    "\n",
    "[Palczewska et al](https://arxiv.org/pdf/1312.1121.pdf)과 Saabas의 [랜덤 포레스트 해석](http://blog.datadive.net/interpreting-random-forests/)처럼 개별 예측을 설명하는 DFC를 출력해보겠습니다.(이 방법은  사이킷런(scikit-learn)에 있는 [`treeinterpreter`](https://github.com/andosa/treeinterpreter) 패키지의 랜덤 포레스트에서도 사용할 수 있습니다.) \n",
    "\n",
    "DFCs는 다음 코드를 통해 생성됩니다.\n",
    "\n",
    "`pred_dicts = list(est.experimental_predict_with_explanations(pred_input_fn))`"
   ]
  },
  {
   "cell_type": "code",
   "execution_count": 21,
   "metadata": {
    "colab": {
     "base_uri": "https://localhost:8080/",
     "height": 265
    },
    "colab_type": "code",
    "executionInfo": {
     "elapsed": 14272,
     "status": "ok",
     "timestamp": 1578646912120,
     "user": {
      "displayName": "권나현",
      "photoUrl": "",
      "userId": "08701108352160795584"
     },
     "user_tz": -540
    },
    "id": "TIL93B4sDRqE",
    "outputId": "b2506bf5-3d10-4635-d437-4f5d4d892852"
   },
   "outputs": [
    {
     "name": "stdout",
     "output_type": "stream",
     "text": [
      "INFO:tensorflow:Using config: {'_model_dir': '/tmp/tmpb9ju6lp4', '_tf_random_seed': None, '_save_summary_steps': 100, '_save_checkpoints_steps': None, '_save_checkpoints_secs': 600, '_session_config': allow_soft_placement: true\n",
      "graph_options {\n",
      "  rewrite_options {\n",
      "    meta_optimizer_iterations: ONE\n",
      "  }\n",
      "}\n",
      ", '_keep_checkpoint_max': 5, '_keep_checkpoint_every_n_hours': 10000, '_log_step_count_steps': 100, '_train_distribute': None, '_device_fn': None, '_protocol': None, '_eval_distribute': None, '_experimental_distribute': None, '_experimental_max_worker_delay_secs': None, '_session_creation_timeout_secs': 7200, '_service': None, '_cluster_spec': <tensorflow.python.training.server_lib.ClusterSpec object at 0x7f38980ea320>, '_task_type': 'worker', '_task_id': 0, '_global_id_in_cluster': 0, '_master': '', '_evaluation_master': '', '_is_chief': True, '_num_ps_replicas': 0, '_num_worker_replicas': 1}\n",
      "INFO:tensorflow:Calling model_fn.\n",
      "INFO:tensorflow:Done calling model_fn.\n",
      "INFO:tensorflow:Graph was finalized.\n",
      "INFO:tensorflow:Restoring parameters from /tmp/tmpb9ju6lp4/model.ckpt-153\n",
      "INFO:tensorflow:Running local_init_op.\n",
      "INFO:tensorflow:Done running local_init_op.\n"
     ]
    }
   ],
   "source": [
    "pred_dicts = list(est.experimental_predict_with_explanations(eval_input_fn))"
   ]
  },
  {
   "cell_type": "code",
   "execution_count": 22,
   "metadata": {
    "colab": {
     "base_uri": "https://localhost:8080/",
     "height": 340
    },
    "colab_type": "code",
    "executionInfo": {
     "elapsed": 14988,
     "status": "ok",
     "timestamp": 1578646912867,
     "user": {
      "displayName": "권나현",
      "photoUrl": "",
      "userId": "08701108352160795584"
     },
     "user_tz": -540
    },
    "id": "tDPoRx_ZaY1E",
    "outputId": "37af3f33-bc34-49d1-b1e2-e1903106e38a"
   },
   "outputs": [
    {
     "data": {
      "text/html": [
       "<div>\n",
       "<style scoped>\n",
       "    .dataframe tbody tr th:only-of-type {\n",
       "        vertical-align: middle;\n",
       "    }\n",
       "\n",
       "    .dataframe tbody tr th {\n",
       "        vertical-align: top;\n",
       "    }\n",
       "\n",
       "    .dataframe thead th {\n",
       "        text-align: right;\n",
       "    }\n",
       "</style>\n",
       "<table border=\"1\" class=\"dataframe\">\n",
       "  <thead>\n",
       "    <tr style=\"text-align: right;\">\n",
       "      <th></th>\n",
       "      <th>count</th>\n",
       "      <th>mean</th>\n",
       "      <th>std</th>\n",
       "      <th>min</th>\n",
       "      <th>25%</th>\n",
       "      <th>50%</th>\n",
       "      <th>75%</th>\n",
       "      <th>max</th>\n",
       "    </tr>\n",
       "  </thead>\n",
       "  <tbody>\n",
       "    <tr>\n",
       "      <th>sex</th>\n",
       "      <td>200.0</td>\n",
       "      <td>0.001670</td>\n",
       "      <td>0.103550</td>\n",
       "      <td>-0.103315</td>\n",
       "      <td>-0.073654</td>\n",
       "      <td>-0.072339</td>\n",
       "      <td>0.132367</td>\n",
       "      <td>0.157284</td>\n",
       "    </tr>\n",
       "    <tr>\n",
       "      <th>age</th>\n",
       "      <td>200.0</td>\n",
       "      <td>-0.019262</td>\n",
       "      <td>0.072137</td>\n",
       "      <td>-0.226972</td>\n",
       "      <td>-0.066870</td>\n",
       "      <td>-0.045180</td>\n",
       "      <td>0.019839</td>\n",
       "      <td>0.320828</td>\n",
       "    </tr>\n",
       "    <tr>\n",
       "      <th>class</th>\n",
       "      <td>200.0</td>\n",
       "      <td>0.016173</td>\n",
       "      <td>0.091716</td>\n",
       "      <td>-0.101322</td>\n",
       "      <td>-0.048688</td>\n",
       "      <td>-0.044626</td>\n",
       "      <td>0.024506</td>\n",
       "      <td>0.222744</td>\n",
       "    </tr>\n",
       "    <tr>\n",
       "      <th>fare</th>\n",
       "      <td>200.0</td>\n",
       "      <td>0.012025</td>\n",
       "      <td>0.090020</td>\n",
       "      <td>-0.204258</td>\n",
       "      <td>-0.044252</td>\n",
       "      <td>-0.016874</td>\n",
       "      <td>0.056982</td>\n",
       "      <td>0.228670</td>\n",
       "    </tr>\n",
       "    <tr>\n",
       "      <th>deck</th>\n",
       "      <td>200.0</td>\n",
       "      <td>-0.010853</td>\n",
       "      <td>0.025240</td>\n",
       "      <td>-0.077943</td>\n",
       "      <td>-0.025545</td>\n",
       "      <td>-0.015997</td>\n",
       "      <td>0.002337</td>\n",
       "      <td>0.130762</td>\n",
       "    </tr>\n",
       "    <tr>\n",
       "      <th>embark_town</th>\n",
       "      <td>200.0</td>\n",
       "      <td>-0.010323</td>\n",
       "      <td>0.022131</td>\n",
       "      <td>-0.089290</td>\n",
       "      <td>-0.020259</td>\n",
       "      <td>-0.017413</td>\n",
       "      <td>-0.003304</td>\n",
       "      <td>0.049596</td>\n",
       "    </tr>\n",
       "    <tr>\n",
       "      <th>n_siblings_spouses</th>\n",
       "      <td>200.0</td>\n",
       "      <td>-0.000607</td>\n",
       "      <td>0.026970</td>\n",
       "      <td>-0.174164</td>\n",
       "      <td>-0.000102</td>\n",
       "      <td>0.003500</td>\n",
       "      <td>0.006018</td>\n",
       "      <td>0.049479</td>\n",
       "    </tr>\n",
       "    <tr>\n",
       "      <th>alone</th>\n",
       "      <td>200.0</td>\n",
       "      <td>0.000478</td>\n",
       "      <td>0.006414</td>\n",
       "      <td>-0.014559</td>\n",
       "      <td>-0.002449</td>\n",
       "      <td>0.001512</td>\n",
       "      <td>0.001942</td>\n",
       "      <td>0.018162</td>\n",
       "    </tr>\n",
       "    <tr>\n",
       "      <th>parch</th>\n",
       "      <td>200.0</td>\n",
       "      <td>0.000141</td>\n",
       "      <td>0.006844</td>\n",
       "      <td>-0.096104</td>\n",
       "      <td>0.000466</td>\n",
       "      <td>0.000545</td>\n",
       "      <td>0.000911</td>\n",
       "      <td>0.001054</td>\n",
       "    </tr>\n",
       "  </tbody>\n",
       "</table>\n",
       "</div>"
      ],
      "text/plain": [
       "                    count      mean       std       min       25%       50%  \\\n",
       "sex                 200.0  0.001670  0.103550 -0.103315 -0.073654 -0.072339   \n",
       "age                 200.0 -0.019262  0.072137 -0.226972 -0.066870 -0.045180   \n",
       "class               200.0  0.016173  0.091716 -0.101322 -0.048688 -0.044626   \n",
       "fare                200.0  0.012025  0.090020 -0.204258 -0.044252 -0.016874   \n",
       "deck                200.0 -0.010853  0.025240 -0.077943 -0.025545 -0.015997   \n",
       "embark_town         200.0 -0.010323  0.022131 -0.089290 -0.020259 -0.017413   \n",
       "n_siblings_spouses  200.0 -0.000607  0.026970 -0.174164 -0.000102  0.003500   \n",
       "alone               200.0  0.000478  0.006414 -0.014559 -0.002449  0.001512   \n",
       "parch               200.0  0.000141  0.006844 -0.096104  0.000466  0.000545   \n",
       "\n",
       "                         75%       max  \n",
       "sex                 0.132367  0.157284  \n",
       "age                 0.019839  0.320828  \n",
       "class               0.024506  0.222744  \n",
       "fare                0.056982  0.228670  \n",
       "deck                0.002337  0.130762  \n",
       "embark_town        -0.003304  0.049596  \n",
       "n_siblings_spouses  0.006018  0.049479  \n",
       "alone               0.001942  0.018162  \n",
       "parch               0.000911  0.001054  "
      ]
     },
     "execution_count": 22,
     "metadata": {},
     "output_type": "execute_result"
    }
   ],
   "source": [
    "# DFC를 판다스 데이터프레임으로 생성합니다.\n",
    "labels = y_eval.values\n",
    "probs = pd.Series([pred['probabilities'][1] for pred in pred_dicts])\n",
    "df_dfc = pd.DataFrame([pred['dfc'] for pred in pred_dicts])\n",
    "df_dfc.describe().T"
   ]
  },
  {
   "cell_type": "markdown",
   "metadata": {
    "colab_type": "text",
    "id": "EUKSaVoraY1C"
   },
   "source": [
    "DFCs의 좋은 점은 기여의 합 + 편향이 주어진 데이터 대한 예측과 같다는 것입니다."
   ]
  },
  {
   "cell_type": "code",
   "execution_count": 23,
   "metadata": {
    "colab": {},
    "colab_type": "code",
    "id": "Hd9VuizRaY1H"
   },
   "outputs": [],
   "source": [
    "# DFC의 합 + 편향 == 예측 확률\n",
    "bias = pred_dicts[0]['bias']\n",
    "dfc_prob = df_dfc.sum(axis=1) + bias\n",
    "np.testing.assert_almost_equal(dfc_prob.values,\n",
    "                               probs.values)"
   ]
  },
  {
   "cell_type": "markdown",
   "metadata": {
    "colab_type": "text",
    "id": "tx5p4vEhuczg"
   },
   "source": [
    "개별 승객에 대한 DFC를 시각화합니다. 기여도의 방향성을 기준으로 색을 부호화하여 그림을 보기 좋게 만들고 그림에 피쳐 값을 추가합니다."
   ]
  },
  {
   "cell_type": "code",
   "execution_count": 24,
   "metadata": {
    "colab": {},
    "colab_type": "code",
    "id": "6z_Tq1Pquczj"
   },
   "outputs": [],
   "source": [
    "# 시각화의 표준 양식입니다.\n",
    "def _get_color(value):\n",
    "    \"\"\"양의 DFC를 초록색으로 음의 DFC를 빨간색으로 표시합니다.\"\"\"\n",
    "    green, red = sns.color_palette()[2:4]\n",
    "    if value >= 0: return green\n",
    "    return red\n",
    "\n",
    "def _add_feature_values(feature_values, ax):\n",
    "    \"\"\"피쳐 값을 플롯의 왼쪽에 배치합니다.\"\"\"\n",
    "    x_coord = ax.get_xlim()[0]\n",
    "    OFFSET = 0.15\n",
    "    for y_coord, (feat_name, feat_val) in enumerate(feature_values.items()):\n",
    "        t = plt.text(x_coord, y_coord - OFFSET, '{}'.format(feat_val), size=12)\n",
    "        t.set_bbox(dict(facecolor='white', alpha=0.5))\n",
    "    from matplotlib.font_manager import FontProperties\n",
    "    font = FontProperties()\n",
    "    font.set_weight('bold')\n",
    "    t = plt.text(x_coord, y_coord + 1 - OFFSET, 'feature\\nvalue',\n",
    "    fontproperties=font, size=12)\n",
    "\n",
    "def plot_example(example):\n",
    "    TOP_N = 8 # 위에서부터 8개의 피쳐를 봅니다.\n",
    "    sorted_ix = example.abs().sort_values()[-TOP_N:].index  # 중요도를 정렬합니다.\n",
    "    example = example[sorted_ix]\n",
    "    colors = example.map(_get_color).tolist()\n",
    "    ax = example.to_frame().plot(kind='barh',\n",
    "                          color=[colors],\n",
    "                          legend=None,\n",
    "                          alpha=0.75,\n",
    "                          figsize=(10,6))\n",
    "    ax.grid(False, axis='y')\n",
    "    ax.set_yticklabels(ax.get_yticklabels(), size=14)\n",
    "\n",
    "    # 피쳐 값들을 넣습니다.\n",
    "    _add_feature_values(dfeval.iloc[ID][sorted_ix], ax)\n",
    "    return ax"
   ]
  },
  {
   "cell_type": "code",
   "execution_count": 25,
   "metadata": {
    "colab": {
     "base_uri": "https://localhost:8080/",
     "height": 451
    },
    "colab_type": "code",
    "executionInfo": {
     "elapsed": 14916,
     "status": "ok",
     "timestamp": 1578646912873,
     "user": {
      "displayName": "권나현",
      "photoUrl": "",
      "userId": "08701108352160795584"
     },
     "user_tz": -540
    },
    "id": "Ht1P2-1euczk",
    "outputId": "397d7089-8826-4c02-9698-76ade3a6b9c9"
   },
   "outputs": [
    {
     "data": {
      "image/png": "[encoded data removed]",
      "text/plain": [
       "<matplotlib.figure.Figure at 0x7f3898146eb8>"
      ]
     },
     "metadata": {
      "needs_background": "light"
     },
     "output_type": "display_data"
    }
   ],
   "source": [
    "# 시각화 결과입니다.\n",
    "ID = 182\n",
    "example = df_dfc.iloc[ID]  # 검증 데이터셋에서 i번째 데이터를 선택합니다.\n",
    "TOP_N = 8  # 위에서 부터 8개의 피쳐를 확인합니다.\n",
    "sorted_ix = example.abs().sort_values()[-TOP_N:].index\n",
    "ax = plot_example(example)\n",
    "ax.set_title('Feature contributions for example {}\\n pred: {:1.2f}; label: {}'.format(ID, probs[ID], labels[ID]))\n",
    "ax.set_xlabel('Contribution to predicted probability', size=14)\n",
    "plt.show()"
   ]
  },
  {
   "cell_type": "markdown",
   "metadata": {
    "colab_type": "text",
    "id": "aPXgWyFcfzAc"
   },
   "source": [
    "더 큰 기여도는 모델의 예측에 더 큰 영향을 미칩니다. 음의 기여는 이 예제의 피쳐 값이 모델의 예측력을 감소시킨 반면 양의 기여값은 모델의 예측력을 증가시켰음을 나타냅니다.\n",
    "\n",
    "또한 바이올린 플롯으로 데이터의 DFC와 전체 분포를 비교해볼 수 있습니다."
   ]
  },
  {
   "cell_type": "code",
   "execution_count": 26,
   "metadata": {
    "colab": {},
    "colab_type": "code",
    "id": "zo7rNd1v_5e2"
   },
   "outputs": [],
   "source": [
    "# 시각화의 표준 양식입니다\n",
    "def dist_violin_plot(df_dfc, ID):\n",
    "    # plot의 크기를 설정합니다.\n",
    "    fig, ax = plt.subplots(1, 1, figsize=(10, 6))\n",
    "\n",
    "    # 데이터 프레임을 만듭니다.\n",
    "    TOP_N = 8  # 상위를 차지한 8개 피쳐를 확인합니다.\n",
    "    example = df_dfc.iloc[ID]\n",
    "    ix = example.abs().sort_values()[-TOP_N:].index\n",
    "    example = example[ix]\n",
    "    example_df = example.to_frame(name='dfc')\n",
    "\n",
    "    # 전체 분포에 대한 기여도를 넣습니다.\n",
    "    parts=ax.violinplot([df_dfc[w] for w in ix],\n",
    "                 vert=False,\n",
    "                 showextrema=False,\n",
    "                 widths=0.7,\n",
    "                 positions=np.arange(len(ix)))\n",
    "    face_color = sns_colors[0]\n",
    "    alpha = 0.15\n",
    "    for pc in parts['bodies']:\n",
    "        pc.set_facecolor(face_color)\n",
    "        pc.set_alpha(alpha)\n",
    "\n",
    "    # 피쳐 값을 넣습니다.\n",
    "    _add_feature_values(dfeval.iloc[ID][sorted_ix], ax)\n",
    "\n",
    "    # 국소적 기여도를 넣습니다.\n",
    "    ax.scatter(example,\n",
    "              np.arange(example.shape[0]),\n",
    "              color=sns.color_palette()[2],\n",
    "              s=100,\n",
    "              marker=\"s\",\n",
    "              label='contributions for example')\n",
    "\n",
    "    # 범례를 설정합니다.\n",
    "    ax.plot([0,0], [1,1], label='eval set contributions\\ndistributions',\n",
    "          color=face_color, alpha=alpha, linewidth=10)\n",
    "    legend = ax.legend(loc='lower right', shadow=True, fontsize='x-large',\n",
    "                     frameon=True)\n",
    "    legend.get_frame().set_facecolor('white')\n",
    "\n",
    "    # 플롯을 구성합니다.\n",
    "    ax.set_yticks(np.arange(example.shape[0]))\n",
    "    ax.set_yticklabels(example.index)\n",
    "    ax.grid(False, axis='y')\n",
    "    ax.set_xlabel('Contribution to predicted probability', size=14)"
   ]
  },
  {
   "cell_type": "markdown",
   "metadata": {
    "colab_type": "text",
    "id": "PiLw2tlm_9aK"
   },
   "source": [
    "우리의 데이터에 대한 그림을 그려봅시다."
   ]
  },
  {
   "cell_type": "code",
   "execution_count": 27,
   "metadata": {
    "colab": {
     "base_uri": "https://localhost:8080/",
     "height": 423
    },
    "colab_type": "code",
    "executionInfo": {
     "elapsed": 16039,
     "status": "ok",
     "timestamp": 1578646914062,
     "user": {
      "displayName": "권나현",
      "photoUrl": "",
      "userId": "08701108352160795584"
     },
     "user_tz": -540
    },
    "id": "VkCqraA2uczm",
    "outputId": "816ba665-6ddc-415d-ed4a-9ac6a4367c6f"
   },
   "outputs": [
    {
     "data": {
      "image/png": "[encoded data removed]",
      "text/plain": [
       "<matplotlib.figure.Figure at 0x7f3890de49e8>"
      ]
     },
     "metadata": {
      "needs_background": "light"
     },
     "output_type": "display_data"
    }
   ],
   "source": [
    "dist_violin_plot(df_dfc, ID)\n",
    "plt.title('Feature contributions for example {}\\n pred: {:1.2f}; label: {}'.format(ID, probs[ID], labels[ID]))\n",
    "plt.show()"
   ]
  },
  {
   "cell_type": "markdown",
   "metadata": {
    "colab_type": "text",
    "id": "TVJFM85SAWVq"
   },
   "source": [
    "[LIME](https://github.com/marcotcr/lime)이나 [shap](https://github.com/slundberg/shap)과 같은 도구를 이용하여 모델에 대한 개별 예측을 이해하는 데 도움이 될 수 있습니다."
   ]
  },
  {
   "cell_type": "markdown",
   "metadata": {
    "colab_type": "text",
    "id": "PnNXH6mZuczr"
   },
   "source": [
    "### 4.2 전역적(global) 해석\n",
    "\n",
    "국소적 해석과 같은 개별적인 예측말고 모델을 전체적으로 이해해야 할 수도 있습니다. 이를 위해서는 다음과 같은 정보를 사용합니다:\n",
    "\n",
    "* `est.experimental_feature_importances`을 사용하여 계산한 이익 기반(gain-based) 피쳐 중요도\n",
    "* `est.experimental_predict_with_explanations`을 사용하여 집계한 DFC\n",
    "* 순열(permutation) 피쳐 중요도\n",
    "\n",
    "이익 기반 피쳐 중요도는 특정 피쳐에서 분할할 때의 손실 변화를 측정합니다\n",
    "\n",
    "반면에 순열 피쳐 중요도는 각 피쳐를 하나씩 섞어 검증 데이터에 대한 모델의 성능을 평가하고 섞인 피쳐로 인한 모델 성능의 변화를 관찰하며 중요도를 계산합니다.\n",
    "\n",
    "일반적으로 이익 기반 피쳐 중요도보다 순열 피쳐 중요도가 더 선호됩니다. 하지만 두 방법 모두 측정 규모 또는 범주 수에 따라 잠재적인 예측 변수가 달라지거나 피쳐들이 상관관계가 있는 경우에는 신뢰할 수 없습니다."
   ]
  },
  {
   "cell_type": "markdown",
   "metadata": {
    "colab_type": "text",
    "id": "3ocBcMatuczs"
   },
   "source": [
    "#### - 이익 기반 피쳐 중요도"
   ]
  },
  {
   "cell_type": "markdown",
   "metadata": {
    "colab_type": "text",
    "id": "gMaxCgPbBJ-j"
   },
   "source": [
    "텐서플로우 부스팅 트리 에스티메이터에는 이익 기반 피쳐 중요도를 계산하는`est.experimental_feature_importances`메소드가 내장되어 있습니다."
   ]
  },
  {
   "cell_type": "code",
   "execution_count": 28,
   "metadata": {
    "colab": {
     "base_uri": "https://localhost:8080/",
     "height": 390
    },
    "colab_type": "code",
    "executionInfo": {
     "elapsed": 15989,
     "status": "ok",
     "timestamp": 1578646914068,
     "user": {
      "displayName": "권나현",
      "photoUrl": "",
      "userId": "08701108352160795584"
     },
     "user_tz": -540
    },
    "id": "pPTxbAaeuczt",
    "outputId": "fad63ebd-aef9-48c7-fc04-1d36bb4ad819"
   },
   "outputs": [
    {
     "data": {
      "image/png": "[encoded data removed]",
      "text/plain": [
       "<matplotlib.figure.Figure at 0x7f3897fb8198>"
      ]
     },
     "metadata": {
      "needs_background": "light"
     },
     "output_type": "display_data"
    }
   ],
   "source": [
    "importances = est.experimental_feature_importances(normalize=True)\n",
    "df_imp = pd.Series(importances)\n",
    "\n",
    "# 중요도를 시각화합니다.\n",
    "N = 8\n",
    "ax = (df_imp.iloc[0:N][::-1]\n",
    "    .plot(kind='barh',\n",
    "          color=sns_colors[0],\n",
    "          title='Gain feature importances',\n",
    "          figsize=(10, 6)))\n",
    "ax.grid(False, axis='y')"
   ]
  },
  {
   "cell_type": "markdown",
   "metadata": {
    "colab_type": "text",
    "id": "GvfAcBeGuczw"
   },
   "source": [
    "#### - DFC 절대값의 평균구하기\n",
    "\n",
    "DFC의 절대값의 평균을 구하여 전역적 수준에서의 영향력을 이해할 수 있습니다."
   ]
  },
  {
   "cell_type": "code",
   "execution_count": 29,
   "metadata": {
    "colab": {
     "base_uri": "https://localhost:8080/",
     "height": 390
    },
    "colab_type": "code",
    "executionInfo": {
     "elapsed": 1361,
     "status": "ok",
     "timestamp": 1578654061026,
     "user": {
      "displayName": "권나현",
      "photoUrl": "",
      "userId": "08701108352160795584"
     },
     "user_tz": -540
    },
    "id": "JkvAWLWLuczx",
    "outputId": "9b5769c2-75b7-40ad-b0c5-0b5aa87dc3c2"
   },
   "outputs": [
    {
     "data": {
      "image/png": "[encoded data removed]",
      "text/plain": [
       "<matplotlib.figure.Figure at 0x7f38883de710>"
      ]
     },
     "metadata": {
      "needs_background": "light"
     },
     "output_type": "display_data"
    }
   ],
   "source": [
    "# 플롯 그리기\n",
    "dfc_mean = df_dfc.abs().mean()\n",
    "N = 8\n",
    "sorted_ix = dfc_mean.abs().sort_values()[-N:].index  #절대값으로 평균을 구하고 정렬합니다.\n",
    "ax = dfc_mean[sorted_ix].plot(kind='barh',\n",
    "                       color=sns_colors[1],\n",
    "                       title='Mean |directional feature contributions|',\n",
    "                       figsize=(10, 6))\n",
    "ax.grid(False, axis='y')"
   ]
  },
  {
   "cell_type": "markdown",
   "metadata": {
    "colab_type": "text",
    "id": "Z0k_DvPLaY1o"
   },
   "source": [
    "피쳐 값이 변함에 따라 DFC가 어떻게 달라지는지도 확인할 수 있습니다."
   ]
  },
  {
   "cell_type": "code",
   "execution_count": 30,
   "metadata": {
    "colab": {
     "base_uri": "https://localhost:8080/",
     "height": 279
    },
    "colab_type": "code",
    "executionInfo": {
     "elapsed": 16375,
     "status": "ok",
     "timestamp": 1578646914646,
     "user": {
      "displayName": "권나현",
      "photoUrl": "",
      "userId": "08701108352160795584"
     },
     "user_tz": -540
    },
    "id": "ZcIfN1IpaY1o",
    "outputId": "24d5ce5d-65fb-466c-ba31-3e4a5a1e2566"
   },
   "outputs": [
    {
     "data": {
      "image/png": "[encoded data removed]",
      "text/plain": [
       "<matplotlib.figure.Figure at 0x7f388bfb65f8>"
      ]
     },
     "metadata": {
      "needs_background": "light"
     },
     "output_type": "display_data"
    }
   ],
   "source": [
    "FEATURE = 'fare'\n",
    "feature = pd.Series(df_dfc[FEATURE].values, index=dfeval[FEATURE].values).sort_index()\n",
    "ax = sns.regplot(feature.index.values, feature.values, lowess=True)\n",
    "ax.set_ylabel('contribution')\n",
    "ax.set_xlabel(FEATURE)\n",
    "ax.set_xlim(0, 100)\n",
    "plt.show()"
   ]
  },
  {
   "cell_type": "markdown",
   "metadata": {
    "colab_type": "text",
    "id": "lbpG72ULucz0"
   },
   "source": [
    "#### - 순열 피쳐 중요도"
   ]
  },
  {
   "cell_type": "code",
   "execution_count": 31,
   "metadata": {
    "colab": {
     "base_uri": "https://localhost:8080/",
     "height": 1000
    },
    "colab_type": "code",
    "executionInfo": {
     "elapsed": 38271,
     "status": "ok",
     "timestamp": 1578646936636,
     "user": {
      "displayName": "권나현",
      "photoUrl": "",
      "userId": "08701108352160795584"
     },
     "user_tz": -540
    },
    "id": "6esOw1VOucz0",
    "outputId": "20a739a4-3b05-4e38-e526-9303149337d8"
   },
   "outputs": [
    {
     "name": "stdout",
     "output_type": "stream",
     "text": [
      "INFO:tensorflow:Calling model_fn.\n",
      "WARNING:tensorflow:Trapezoidal rule is known to produce incorrect PR-AUCs; please switch to \"careful_interpolation\" instead.\n",
      "WARNING:tensorflow:Trapezoidal rule is known to produce incorrect PR-AUCs; please switch to \"careful_interpolation\" instead.\n",
      "INFO:tensorflow:Done calling model_fn.\n",
      "INFO:tensorflow:Starting evaluation at 2020-09-15T04:47:52Z\n",
      "INFO:tensorflow:Graph was finalized.\n",
      "INFO:tensorflow:Restoring parameters from /tmp/tmpb9ju6lp4/model.ckpt-153\n",
      "INFO:tensorflow:Running local_init_op.\n",
      "INFO:tensorflow:Done running local_init_op.\n",
      "INFO:tensorflow:Finished evaluation at 2020-09-15-04:47:52\n",
      "INFO:tensorflow:Saving dict for global step 153: accuracy = 0.79, accuracy_baseline = 0.63, auc = 0.8381596, auc_precision_recall = 0.83368945, average_loss = 0.45019126, global_step = 153, label/mean = 0.37, loss = 0.45019126, precision = 0.7222222, prediction/mean = 0.38744187, recall = 0.7027027\n",
      "INFO:tensorflow:Saving 'checkpoint_path' summary for global step 153: /tmp/tmpb9ju6lp4/model.ckpt-153\n",
      "INFO:tensorflow:Calling model_fn.\n",
      "WARNING:tensorflow:Trapezoidal rule is known to produce incorrect PR-AUCs; please switch to \"careful_interpolation\" instead.\n",
      "WARNING:tensorflow:Trapezoidal rule is known to produce incorrect PR-AUCs; please switch to \"careful_interpolation\" instead.\n",
      "INFO:tensorflow:Done calling model_fn.\n",
      "INFO:tensorflow:Starting evaluation at 2020-09-15T04:47:53Z\n",
      "INFO:tensorflow:Graph was finalized.\n",
      "INFO:tensorflow:Restoring parameters from /tmp/tmpb9ju6lp4/model.ckpt-153\n",
      "INFO:tensorflow:Running local_init_op.\n",
      "INFO:tensorflow:Done running local_init_op.\n",
      "INFO:tensorflow:Finished evaluation at 2020-09-15-04:47:54\n",
      "INFO:tensorflow:Saving dict for global step 153: accuracy = 0.6, accuracy_baseline = 0.63, auc = 0.6169026, auc_precision_recall = 0.5769981, average_loss = 0.75130403, global_step = 153, label/mean = 0.37, loss = 0.75130403, precision = 0.46153846, prediction/mean = 0.38869286, recall = 0.4864865\n",
      "INFO:tensorflow:Saving 'checkpoint_path' summary for global step 153: /tmp/tmpb9ju6lp4/model.ckpt-153\n",
      "INFO:tensorflow:Calling model_fn.\n",
      "WARNING:tensorflow:Trapezoidal rule is known to produce incorrect PR-AUCs; please switch to \"careful_interpolation\" instead.\n",
      "WARNING:tensorflow:Trapezoidal rule is known to produce incorrect PR-AUCs; please switch to \"careful_interpolation\" instead.\n",
      "INFO:tensorflow:Done calling model_fn.\n",
      "INFO:tensorflow:Starting evaluation at 2020-09-15T04:47:55Z\n",
      "INFO:tensorflow:Graph was finalized.\n",
      "INFO:tensorflow:Restoring parameters from /tmp/tmpb9ju6lp4/model.ckpt-153\n",
      "INFO:tensorflow:Running local_init_op.\n",
      "INFO:tensorflow:Done running local_init_op.\n",
      "INFO:tensorflow:Finished evaluation at 2020-09-15-04:47:55\n",
      "INFO:tensorflow:Saving dict for global step 153: accuracy = 0.775, accuracy_baseline = 0.63, auc = 0.8303304, auc_precision_recall = 0.8091568, average_loss = 0.47089013, global_step = 153, label/mean = 0.37, loss = 0.47089013, precision = 0.6933333, prediction/mean = 0.39764518, recall = 0.7027027\n",
      "INFO:tensorflow:Saving 'checkpoint_path' summary for global step 153: /tmp/tmpb9ju6lp4/model.ckpt-153\n",
      "INFO:tensorflow:Calling model_fn.\n",
      "WARNING:tensorflow:Trapezoidal rule is known to produce incorrect PR-AUCs; please switch to \"careful_interpolation\" instead.\n",
      "WARNING:tensorflow:Trapezoidal rule is known to produce incorrect PR-AUCs; please switch to \"careful_interpolation\" instead.\n",
      "INFO:tensorflow:Done calling model_fn.\n",
      "INFO:tensorflow:Starting evaluation at 2020-09-15T04:47:56Z\n",
      "INFO:tensorflow:Graph was finalized.\n",
      "INFO:tensorflow:Restoring parameters from /tmp/tmpb9ju6lp4/model.ckpt-153\n",
      "INFO:tensorflow:Running local_init_op.\n",
      "INFO:tensorflow:Done running local_init_op.\n",
      "INFO:tensorflow:Finished evaluation at 2020-09-15-04:47:57\n",
      "INFO:tensorflow:Saving dict for global step 153: accuracy = 0.79, accuracy_baseline = 0.63, auc = 0.8378378, auc_precision_recall = 0.8334114, average_loss = 0.45028907, global_step = 153, label/mean = 0.37, loss = 0.45028907, precision = 0.7222222, prediction/mean = 0.38750502, recall = 0.7027027\n",
      "INFO:tensorflow:Saving 'checkpoint_path' summary for global step 153: /tmp/tmpb9ju6lp4/model.ckpt-153\n",
      "INFO:tensorflow:Calling model_fn.\n",
      "WARNING:tensorflow:Trapezoidal rule is known to produce incorrect PR-AUCs; please switch to \"careful_interpolation\" instead.\n",
      "WARNING:tensorflow:Trapezoidal rule is known to produce incorrect PR-AUCs; please switch to \"careful_interpolation\" instead.\n",
      "INFO:tensorflow:Done calling model_fn.\n",
      "INFO:tensorflow:Starting evaluation at 2020-09-15T04:47:58Z\n",
      "INFO:tensorflow:Graph was finalized.\n",
      "INFO:tensorflow:Restoring parameters from /tmp/tmpb9ju6lp4/model.ckpt-153\n",
      "INFO:tensorflow:Running local_init_op.\n",
      "INFO:tensorflow:Done running local_init_op.\n",
      "INFO:tensorflow:Finished evaluation at 2020-09-15-04:47:58\n",
      "INFO:tensorflow:Saving dict for global step 153: accuracy = 0.755, accuracy_baseline = 0.63, auc = 0.76796436, auc_precision_recall = 0.69288194, average_loss = 0.56160945, global_step = 153, label/mean = 0.37, loss = 0.56160945, precision = 0.6865672, prediction/mean = 0.39520755, recall = 0.6216216\n",
      "INFO:tensorflow:Saving 'checkpoint_path' summary for global step 153: /tmp/tmpb9ju6lp4/model.ckpt-153\n",
      "INFO:tensorflow:Calling model_fn.\n",
      "WARNING:tensorflow:Trapezoidal rule is known to produce incorrect PR-AUCs; please switch to \"careful_interpolation\" instead.\n",
      "WARNING:tensorflow:Trapezoidal rule is known to produce incorrect PR-AUCs; please switch to \"careful_interpolation\" instead.\n",
      "INFO:tensorflow:Done calling model_fn.\n",
      "INFO:tensorflow:Starting evaluation at 2020-09-15T04:47:59Z\n",
      "INFO:tensorflow:Graph was finalized.\n",
      "INFO:tensorflow:Restoring parameters from /tmp/tmpb9ju6lp4/model.ckpt-153\n",
      "INFO:tensorflow:Running local_init_op.\n",
      "INFO:tensorflow:Done running local_init_op.\n",
      "INFO:tensorflow:Finished evaluation at 2020-09-15-04:48:00\n",
      "INFO:tensorflow:Saving dict for global step 153: accuracy = 0.79, accuracy_baseline = 0.63, auc = 0.81322396, auc_precision_recall = 0.8099701, average_loss = 0.4739594, global_step = 153, label/mean = 0.37, loss = 0.4739594, precision = 0.7285714, prediction/mean = 0.39148045, recall = 0.6891892\n",
      "INFO:tensorflow:Saving 'checkpoint_path' summary for global step 153: /tmp/tmpb9ju6lp4/model.ckpt-153\n",
      "INFO:tensorflow:Calling model_fn.\n",
      "WARNING:tensorflow:Trapezoidal rule is known to produce incorrect PR-AUCs; please switch to \"careful_interpolation\" instead.\n",
      "WARNING:tensorflow:Trapezoidal rule is known to produce incorrect PR-AUCs; please switch to \"careful_interpolation\" instead.\n",
      "INFO:tensorflow:Done calling model_fn.\n",
      "INFO:tensorflow:Starting evaluation at 2020-09-15T04:48:01Z\n",
      "INFO:tensorflow:Graph was finalized.\n",
      "INFO:tensorflow:Restoring parameters from /tmp/tmpb9ju6lp4/model.ckpt-153\n",
      "INFO:tensorflow:Running local_init_op.\n",
      "INFO:tensorflow:Done running local_init_op.\n",
      "INFO:tensorflow:Finished evaluation at 2020-09-15-04:48:01\n",
      "INFO:tensorflow:Saving dict for global step 153: accuracy = 0.79, accuracy_baseline = 0.63, auc = 0.85108316, auc_precision_recall = 0.8262258, average_loss = 0.44414395, global_step = 153, label/mean = 0.37, loss = 0.44414395, precision = 0.7162162, prediction/mean = 0.37991294, recall = 0.7162162\n",
      "INFO:tensorflow:Saving 'checkpoint_path' summary for global step 153: /tmp/tmpb9ju6lp4/model.ckpt-153\n",
      "INFO:tensorflow:Calling model_fn.\n",
      "WARNING:tensorflow:Trapezoidal rule is known to produce incorrect PR-AUCs; please switch to \"careful_interpolation\" instead.\n",
      "WARNING:tensorflow:Trapezoidal rule is known to produce incorrect PR-AUCs; please switch to \"careful_interpolation\" instead.\n",
      "INFO:tensorflow:Done calling model_fn.\n",
      "INFO:tensorflow:Starting evaluation at 2020-09-15T04:48:02Z\n",
      "INFO:tensorflow:Graph was finalized.\n",
      "INFO:tensorflow:Restoring parameters from /tmp/tmpb9ju6lp4/model.ckpt-153\n",
      "INFO:tensorflow:Running local_init_op.\n",
      "INFO:tensorflow:Done running local_init_op.\n",
      "INFO:tensorflow:Finished evaluation at 2020-09-15-04:48:03\n",
      "INFO:tensorflow:Saving dict for global step 153: accuracy = 0.79, accuracy_baseline = 0.63, auc = 0.84448737, auc_precision_recall = 0.83573854, average_loss = 0.44526553, global_step = 153, label/mean = 0.37, loss = 0.44526553, precision = 0.7285714, prediction/mean = 0.38171482, recall = 0.6891892\n"
     ]
    },
    {
     "name": "stdout",
     "output_type": "stream",
     "text": [
      "INFO:tensorflow:Saving 'checkpoint_path' summary for global step 153: /tmp/tmpb9ju6lp4/model.ckpt-153\n",
      "INFO:tensorflow:Calling model_fn.\n",
      "WARNING:tensorflow:Trapezoidal rule is known to produce incorrect PR-AUCs; please switch to \"careful_interpolation\" instead.\n",
      "WARNING:tensorflow:Trapezoidal rule is known to produce incorrect PR-AUCs; please switch to \"careful_interpolation\" instead.\n",
      "INFO:tensorflow:Done calling model_fn.\n",
      "INFO:tensorflow:Starting evaluation at 2020-09-15T04:48:04Z\n",
      "INFO:tensorflow:Graph was finalized.\n",
      "INFO:tensorflow:Restoring parameters from /tmp/tmpb9ju6lp4/model.ckpt-153\n",
      "INFO:tensorflow:Running local_init_op.\n",
      "INFO:tensorflow:Done running local_init_op.\n",
      "INFO:tensorflow:Finished evaluation at 2020-09-15-04:48:05\n",
      "INFO:tensorflow:Saving dict for global step 153: accuracy = 0.78, accuracy_baseline = 0.63, auc = 0.8043222, auc_precision_recall = 0.79841125, average_loss = 0.48790786, global_step = 153, label/mean = 0.37, loss = 0.48790786, precision = 0.734375, prediction/mean = 0.37988845, recall = 0.6351351\n",
      "INFO:tensorflow:Saving 'checkpoint_path' summary for global step 153: /tmp/tmpb9ju6lp4/model.ckpt-153\n",
      "INFO:tensorflow:Calling model_fn.\n",
      "WARNING:tensorflow:Trapezoidal rule is known to produce incorrect PR-AUCs; please switch to \"careful_interpolation\" instead.\n",
      "WARNING:tensorflow:Trapezoidal rule is known to produce incorrect PR-AUCs; please switch to \"careful_interpolation\" instead.\n",
      "INFO:tensorflow:Done calling model_fn.\n",
      "INFO:tensorflow:Starting evaluation at 2020-09-15T04:48:05Z\n",
      "INFO:tensorflow:Graph was finalized.\n",
      "INFO:tensorflow:Restoring parameters from /tmp/tmpb9ju6lp4/model.ckpt-153\n",
      "INFO:tensorflow:Running local_init_op.\n",
      "INFO:tensorflow:Done running local_init_op.\n",
      "INFO:tensorflow:Finished evaluation at 2020-09-15-04:48:06\n",
      "INFO:tensorflow:Saving dict for global step 153: accuracy = 0.785, accuracy_baseline = 0.63, auc = 0.8064136, auc_precision_recall = 0.75463116, average_loss = 0.49696788, global_step = 153, label/mean = 0.37, loss = 0.49696788, precision = 0.7183099, prediction/mean = 0.3887596, recall = 0.6891892\n",
      "INFO:tensorflow:Saving 'checkpoint_path' summary for global step 153: /tmp/tmpb9ju6lp4/model.ckpt-153\n"
     ]
    },
    {
     "data": {
      "image/png": "[encoded data removed]",
      "text/plain": [
       "<matplotlib.figure.Figure at 0x7f3890dd02e8>"
      ]
     },
     "metadata": {
      "needs_background": "light"
     },
     "output_type": "display_data"
    }
   ],
   "source": [
    "def permutation_importances(est, X_eval, y_eval, metric, features):\n",
    "    \"\"\"컬럼 별로 값들을 shuffle(섞고) 검증 데이터에서의 영향을 확인해봅니다.\n",
    "    source: http://explained.ai/rf-importance/index.html\n",
    "    \"\"\"\n",
    "    baseline = metric(est, X_eval, y_eval)\n",
    "    imp = []\n",
    "    for col in features:\n",
    "        save = X_eval[col].copy()\n",
    "        X_eval[col] = np.random.permutation(X_eval[col])\n",
    "        m = metric(est, X_eval, y_eval)\n",
    "        X_eval[col] = save\n",
    "        imp.append(baseline - m)\n",
    "    return np.array(imp)\n",
    "\n",
    "def accuracy_metric(est, X, y):\n",
    "    \"\"\"텐서플로우 에스티메이터 정확도\"\"\"\n",
    "    eval_input_fn = make_input_fn(X,\n",
    "                                  y=y,\n",
    "                                  shuffle=False,\n",
    "                                  n_epochs=1)\n",
    "    return est.evaluate(input_fn=eval_input_fn)['accuracy']\n",
    "features = CATEGORICAL_COLUMNS + NUMERIC_COLUMNS\n",
    "importances = permutation_importances(est, dfeval, y_eval, accuracy_metric,\n",
    "                                      features)\n",
    "df_imp = pd.Series(importances, index=features)\n",
    "\n",
    "sorted_ix = df_imp.abs().sort_values().index\n",
    "ax = df_imp[sorted_ix][-5:].plot(kind='barh', color=sns_colors[2], figsize=(10, 6))\n",
    "ax.grid(False, axis='y')\n",
    "ax.set_title('Permutation feature importance')\n",
    "plt.show()"
   ]
  },
  {
   "cell_type": "markdown",
   "metadata": {
    "colab_type": "text",
    "id": "E236y3pVEzHg"
   },
   "source": [
    "### 4.3 모델 시각화"
   ]
  },
  {
   "cell_type": "markdown",
   "metadata": {
    "colab_type": "text",
    "id": "TrcQ-839EzZ6"
   },
   "source": [
    "먼저 다음 공식을 사용하여 훈련 데이터를 생성, 사용해봅시다:\n",
    "\n",
    "$$z=x* e^{-x^2 - y^2}$$\n",
    "\n",
    "여기서 \\(z\\)는 예측하려는 종속 변수이고 \\(x\\) 와 \\(y\\)는 피쳐입니다."
   ]
  },
  {
   "cell_type": "code",
   "execution_count": 32,
   "metadata": {
    "colab": {},
    "colab_type": "code",
    "id": "e8woaj81GGE9"
   },
   "outputs": [],
   "source": [
    "# 가짜 데이터를 만듭니다.\n",
    "seed(100)\n",
    "\n",
    "#500개의 점\n",
    "npts = 200\n",
    "x = uniform(-2, 2, npts)\n",
    "y = uniform(-2, 2, npts)\n",
    "z = x*np.exp(-x**2 - y**2)\n",
    "xy = np.zeros((2,np.size(x)))\n",
    "xy[0] = x\n",
    "xy[1] = y\n",
    "xy = xy.T"
   ]
  },
  {
   "cell_type": "code",
   "execution_count": 33,
   "metadata": {
    "colab": {},
    "colab_type": "code",
    "id": "GRI3KHfLZsGP"
   },
   "outputs": [],
   "source": [
    "# 훈련 데이터를 준비합니다.\n",
    "df = pd.DataFrame({'x': x, 'y': y, 'z': z})\n",
    "\n",
    "xi = np.linspace(-2.0, 2.0, 50),\n",
    "yi = np.linspace(-2.1, 2.1, 60),\n",
    "xi,yi = np.meshgrid(xi, yi)\n",
    "\n",
    "df_predict = pd.DataFrame({\n",
    "    'x' : xi.flatten(),\n",
    "    'y' : yi.flatten(),\n",
    "})\n",
    "predict_shape = xi.shape"
   ]
  },
  {
   "cell_type": "code",
   "execution_count": 34,
   "metadata": {
    "colab": {},
    "colab_type": "code",
    "id": "w0JnH4IhZuAb"
   },
   "outputs": [],
   "source": [
    "def plot_contour(x, y, z, **kwargs):\n",
    "    # 데이터를 격자화(grid)합니다.\n",
    "    plt.figure(figsize=(10, 8))\n",
    "    # 격자화한 데이터에 등고선을 그리고 동일하지 않은 데이터 지점에 점을 표시합니다.\n",
    "    CS = plt.contour(x, y, z, 15, linewidths=0.5, colors='k')\n",
    "    CS = plt.contourf(x, y, z, 15,\n",
    "                    vmax=abs(zi).max(), vmin=-abs(zi).max(), cmap='RdBu_r')\n",
    "    plt.colorbar(CS)  # 컬러바를 그립니다.\n",
    "    # 데이터 포인트들을 그립니다.\n",
    "    plt.xlim(-3, 3)\n",
    "    plt.ylim(-3, 3)"
   ]
  },
  {
   "cell_type": "markdown",
   "metadata": {
    "colab_type": "text",
    "id": "KF7WsIcYGF_E"
   },
   "source": [
    "함수를 시각화할 수 있습니다. 빨간색은 더 큰 함수 값에 해당합니다."
   ]
  },
  {
   "cell_type": "code",
   "execution_count": 35,
   "metadata": {
    "colab": {
     "base_uri": "https://localhost:8080/",
     "height": 852
    },
    "colab_type": "code",
    "executionInfo": {
     "elapsed": 2361,
     "status": "error",
     "timestamp": 1578656106294,
     "user": {
      "displayName": "권나현",
      "photoUrl": "",
      "userId": "08701108352160795584"
     },
     "user_tz": -540
    },
    "id": "WrxuqaaXGFOK",
    "outputId": "1b4454ae-58c6-4fd1-8f29-6d20f48b1e6c"
   },
   "outputs": [
    {
     "data": {
      "image/png": "[encoded data removed]",
      "text/plain": [
       "<matplotlib.figure.Figure at 0x7f3892768160>"
      ]
     },
     "metadata": {
      "needs_background": "light"
     },
     "output_type": "display_data"
    }
   ],
   "source": [
    "zi = griddata(xy, z, (xi, yi), method='linear', fill_value='0')\n",
    "plot_contour(xi, yi, zi)\n",
    "plt.scatter(df.x, df.y, marker='.')\n",
    "plt.title('Contour on training data')\n",
    "plt.show()"
   ]
  },
  {
   "cell_type": "code",
   "execution_count": 36,
   "metadata": {
    "colab": {},
    "colab_type": "code",
    "id": "hoANr0f2GFrM"
   },
   "outputs": [],
   "source": [
    "fc = [tf.feature_column.numeric_column('x'),\n",
    "      tf.feature_column.numeric_column('y')]"
   ]
  },
  {
   "cell_type": "code",
   "execution_count": 37,
   "metadata": {
    "colab": {},
    "colab_type": "code",
    "id": "xVRWyoY3ayTK"
   },
   "outputs": [],
   "source": [
    "def predict(est):\n",
    "    \"\"\"주어진 에스티메이터로 예측한 값\"\"\"\n",
    "    predict_input_fn = lambda: tf.data.Dataset.from_tensors(dict(df_predict))\n",
    "    preds = np.array([p['predictions'][0] for p in est.predict(predict_input_fn)])\n",
    "    return preds.reshape(predict_shape)"
   ]
  },
  {
   "cell_type": "markdown",
   "metadata": {
    "colab_type": "text",
    "id": "uyPu5618GU7K"
   },
   "source": [
    "먼저 선형 모델에 적용해봅시다."
   ]
  },
  {
   "cell_type": "code",
   "execution_count": 38,
   "metadata": {
    "colab": {
     "base_uri": "https://localhost:8080/",
     "height": 617
    },
    "colab_type": "code",
    "executionInfo": {
     "elapsed": 4040,
     "status": "ok",
     "timestamp": 1578656892554,
     "user": {
      "displayName": "권나현",
      "photoUrl": "",
      "userId": "08701108352160795584"
     },
     "user_tz": -540
    },
    "id": "zUIV2IVgGVSk",
    "outputId": "3a2b3776-8263-478f-b3fd-e6c0feeae584"
   },
   "outputs": [
    {
     "name": "stdout",
     "output_type": "stream",
     "text": [
      "INFO:tensorflow:Using default config.\n",
      "WARNING:tensorflow:Using temporary folder as model directory: /tmp/tmpca6u25zt\n",
      "INFO:tensorflow:Using config: {'_model_dir': '/tmp/tmpca6u25zt', '_tf_random_seed': None, '_save_summary_steps': 100, '_save_checkpoints_steps': None, '_save_checkpoints_secs': 600, '_session_config': allow_soft_placement: true\n",
      "graph_options {\n",
      "  rewrite_options {\n",
      "    meta_optimizer_iterations: ONE\n",
      "  }\n",
      "}\n",
      ", '_keep_checkpoint_max': 5, '_keep_checkpoint_every_n_hours': 10000, '_log_step_count_steps': 100, '_train_distribute': None, '_device_fn': None, '_protocol': None, '_eval_distribute': None, '_experimental_distribute': None, '_experimental_max_worker_delay_secs': None, '_session_creation_timeout_secs': 7200, '_service': None, '_cluster_spec': <tensorflow.python.training.server_lib.ClusterSpec object at 0x7f388bd38588>, '_task_type': 'worker', '_task_id': 0, '_global_id_in_cluster': 0, '_master': '', '_evaluation_master': '', '_is_chief': True, '_num_ps_replicas': 0, '_num_worker_replicas': 1}\n",
      "INFO:tensorflow:Calling model_fn.\n",
      "WARNING:tensorflow:From /opt/conda/lib/python3.6/site-packages/tensorflow_core/python/feature_column/feature_column_v2.py:518: Layer.add_variable (from tensorflow.python.keras.engine.base_layer) is deprecated and will be removed in a future version.\n",
      "Instructions for updating:\n",
      "Please use `layer.add_weight` method instead.\n",
      "WARNING:tensorflow:From /opt/conda/lib/python3.6/site-packages/tensorflow_core/python/keras/optimizer_v2/ftrl.py:143: calling Constant.__init__ (from tensorflow.python.ops.init_ops) with dtype is deprecated and will be removed in a future version.\n",
      "Instructions for updating:\n",
      "Call initializer instance with the dtype argument instead of passing it to the constructor\n",
      "INFO:tensorflow:Done calling model_fn.\n",
      "INFO:tensorflow:Create CheckpointSaverHook.\n",
      "INFO:tensorflow:Graph was finalized.\n",
      "INFO:tensorflow:Running local_init_op.\n",
      "INFO:tensorflow:Done running local_init_op.\n",
      "INFO:tensorflow:Saving checkpoints for 0 into /tmp/tmpca6u25zt/model.ckpt.\n",
      "INFO:tensorflow:loss = 0.026816767, step = 0\n",
      "INFO:tensorflow:Saving checkpoints for 100 into /tmp/tmpca6u25zt/model.ckpt.\n",
      "INFO:tensorflow:Loss for final step: 0.01856443.\n"
     ]
    },
    {
     "data": {
      "text/plain": [
       "<tensorflow_estimator.python.estimator.canned.linear.LinearRegressorV2 at 0x7f38901194e0>"
      ]
     },
     "execution_count": 38,
     "metadata": {},
     "output_type": "execute_result"
    }
   ],
   "source": [
    "train_input_fn = make_input_fn(df, df.z)\n",
    "est = tf.estimator.LinearRegressor(fc)\n",
    "est.train(train_input_fn, max_steps=100)"
   ]
  },
  {
   "cell_type": "code",
   "execution_count": 39,
   "metadata": {
    "colab": {
     "base_uri": "https://localhost:8080/",
     "height": 1000
    },
    "colab_type": "code",
    "executionInfo": {
     "elapsed": 1492,
     "status": "error",
     "timestamp": 1578656898103,
     "user": {
      "displayName": "권나현",
      "photoUrl": "",
      "userId": "08701108352160795584"
     },
     "user_tz": -540
    },
    "id": "_u4WAcCqfbco",
    "outputId": "cd1a8d0e-831e-411e-8734-b22111f9c289"
   },
   "outputs": [
    {
     "name": "stdout",
     "output_type": "stream",
     "text": [
      "INFO:tensorflow:Calling model_fn.\n",
      "WARNING:tensorflow:Layer linear/linear_model is casting an input tensor from dtype float64 to the layer's dtype of float32, which is new behavior in TensorFlow 2.  The layer has dtype float32 because it's dtype defaults to floatx.\n",
      "\n",
      "If you intended to run this layer in float32, you can safely ignore this warning. If in doubt, this warning is likely only an issue if you are porting a TensorFlow 1.X model to TensorFlow 2.\n",
      "\n",
      "To change all layers to have dtype float64 by default, call `tf.keras.backend.set_floatx('float64')`. To change just this layer, pass dtype='float64' to the layer constructor. If you are the author of this layer, you can disable autocasting by passing autocast=False to the base Layer constructor.\n",
      "\n",
      "INFO:tensorflow:Done calling model_fn.\n",
      "INFO:tensorflow:Graph was finalized.\n",
      "INFO:tensorflow:Restoring parameters from /tmp/tmpca6u25zt/model.ckpt-100\n",
      "INFO:tensorflow:Running local_init_op.\n",
      "INFO:tensorflow:Done running local_init_op.\n"
     ]
    },
    {
     "data": {
      "image/png": "[encoded data removed]",
      "text/plain": [
       "<matplotlib.figure.Figure at 0x7f3888332d30>"
      ]
     },
     "metadata": {
      "needs_background": "light"
     },
     "output_type": "display_data"
    }
   ],
   "source": [
    "plot_contour(xi, yi, predict(est))"
   ]
  },
  {
   "cell_type": "markdown",
   "metadata": {
    "colab_type": "text",
    "id": "XD_fMAUtSCSa"
   },
   "source": [
    "잘 맞지 않습니다. 다음으로 GBDT 모델에 적용시키고 모델이 함수에 얼마나 적합한지 알아보겠습니다."
   ]
  },
  {
   "cell_type": "code",
   "execution_count": 40,
   "metadata": {
    "colab": {
     "base_uri": "https://localhost:8080/",
     "height": 977
    },
    "colab_type": "code",
    "executionInfo": {
     "elapsed": 1091,
     "status": "error",
     "timestamp": 1578657036178,
     "user": {
      "displayName": "권나현",
      "photoUrl": "",
      "userId": "08701108352160795584"
     },
     "user_tz": -540
    },
    "id": "-dHlKFlFgHDQ",
    "outputId": "45869c00-dff1-49c5-91fd-2b9398cad8b5"
   },
   "outputs": [
    {
     "name": "stdout",
     "output_type": "stream",
     "text": [
      "INFO:tensorflow:Calling model_fn.\n",
      "INFO:tensorflow:Done calling model_fn.\n",
      "INFO:tensorflow:Graph was finalized.\n",
      "INFO:tensorflow:Restoring parameters from /tmp/tmp4trcvpq6/model.ckpt-5\n",
      "INFO:tensorflow:Running local_init_op.\n",
      "INFO:tensorflow:Done running local_init_op.\n"
     ]
    },
    {
     "data": {
      "image/png": "[encoded data removed]",
      "text/plain": [
       "<matplotlib.figure.Figure at 0x7f388b087e80>"
      ]
     },
     "metadata": {
      "needs_background": "light"
     },
     "output_type": "display_data"
    }
   ],
   "source": [
    "n_trees = 1 #@param {type: \"slider\", min: 1, max: 80, step: 1}\n",
    "\n",
    "est = tf.estimator.BoostedTreesRegressor(fc, n_batches_per_layer=1, n_trees=n_trees)\n",
    "est.train(train_input_fn, max_steps=5)\n",
    "clear_output()\n",
    "plot_contour(xi, yi, predict(est))\n",
    "plt.text(-1.8, 2.1, '# trees: {}'.format(n_trees), color='w', backgroundcolor='black', size=20)\n",
    "plt.show()"
   ]
  },
  {
   "cell_type": "markdown",
   "metadata": {
    "colab_type": "text",
    "id": "5WcZ9fubh1wT"
   },
   "source": [
    "메모리 제한으로 인해 트리 수와 데이터의 수를 증가시킬 수 없지만 만약 트리와 데이터의 수를 크게 증가시키면 모델의 예측이 기본 함수에 점점 가까워지는 것을 확인할 수 있습니다."
   ]
  },
  {
   "cell_type": "markdown",
   "metadata": {
    "colab_type": "text",
    "id": "cj8u3NCG-IKX"
   },
   "source": [
    "![](https://www.tensorflow.org/images/boosted_trees/boosted_trees_ntrees.gif)"
   ]
  },
  {
   "cell_type": "markdown",
   "metadata": {
    "colab_type": "text",
    "id": "SMKoEZnCdrsp"
   },
   "source": [
    "## 8. 결론"
   ]
  },
  {
   "cell_type": "markdown",
   "metadata": {
    "colab_type": "text",
    "id": "ZSZUSrjXdw9g"
   },
   "source": [
    "이번 튜토리얼에서는 부호화된 피쳐 기여도와 피쳐 중요도 함수를 사용하여 부스팅 트리 모델을 해석하는 방법을 배웠습니다. 이러한 기법은 피쳐가 모델의 예측에 어떤 영향을 미치는지에 대한 인사이트(insight)을 제공합니다."
   ]
  },
  {
   "cell_type": "markdown",
   "metadata": {
    "colab_type": "text",
    "id": "7765UFHoyGx6"
   },
   "source": [
    "# Copyright 2019 The TensorFlow Authors."
   ]
  },
  {
   "cell_type": "code",
   "execution_count": null,
   "metadata": {
    "cellView": "both",
    "colab": {},
    "colab_type": "code",
    "id": "KVtTDrUNyL7x"
   },
   "outputs": [],
   "source": [
    "#@title Licensed under the Apache License, Version 2.0 (the \"License\");\n",
    "# you may not use this file except in compliance with the License.\n",
    "# You may obtain a copy of the License at\n",
    "#\n",
    "# https://www.apache.org/licenses/LICENSE-2.0\n",
    "#\n",
    "# Unless required by applicable law or agreed to in writing, software\n",
    "# distributed under the License is distributed on an \"AS IS\" BASIS,\n",
    "# WITHOUT WARRANTIES OR CONDITIONS OF ANY KIND, either express or implied.\n",
    "# See the License for the specific language governing permissions and\n",
    "# limitations under the License."
   ]
  }
 ],
 "metadata": {
  "colab": {
   "collapsed_sections": [
    "7765UFHoyGx6"
   ],
   "name": "boosted_trees_model_understanding.ipynb",
   "provenance": [
    {
     "file_id": "https://github.com/tensorflow/docs/blob/master/site/en/tutorials/estimator/boosted_trees_model_understanding.ipynb",
     "timestamp": 1578638188470
    }
   ],
   "toc_visible": true
  },
  "kernelspec": {
   "display_name": "Python 3",
   "language": "python",
   "name": "python3"
  },
  "language_info": {
   "codemirror_mode": {
    "name": "ipython",
    "version": 3
   },
   "file_extension": ".py",
   "mimetype": "text/x-python",
   "name": "python",
   "nbconvert_exporter": "python",
   "pygments_lexer": "ipython3",
   "version": "3.6.6"
  }
 },
 "nbformat": 4,
 "nbformat_minor": 1
}
