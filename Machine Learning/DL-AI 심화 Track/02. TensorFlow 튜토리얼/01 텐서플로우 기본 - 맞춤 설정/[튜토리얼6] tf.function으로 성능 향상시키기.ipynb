{
 "cells": [
  {
   "cell_type": "markdown",
   "metadata": {
    "colab_type": "text",
    "id": "6DWfyNThSziV"
   },
   "source": [
    "# [튜토리얼 6] tf.function으로 성능 향상시키기"
   ]
  },
  {
   "cell_type": "markdown",
   "metadata": {
    "colab_type": "text",
    "id": "J122XQYG7W6w"
   },
   "source": [
    "텐서플로우 2.0에서는 기본적으로 즉시 실행(eager excution)이 켜져 있습니다. 사용자 인터페이스는 직관적이고 유연합니다(단일 작업 실행이 훨씬 쉽고 빠릅니다). 그러나 이는 성능과 전개성(deployability)을 저하시킬 수 있습니다.\n",
    "\n",
    "최고의 성능을 얻고 어디에서나 모델을 배포할 수 있도록 하려면 프로그램 내에서 그래프를 만드는  `tf.function`을 사용해야 합니다.\n",
    "AutoGraph 덕분에 많은 양의 파이썬 코드가 tf.function으로 작동됩니다. 하지만 여전히 조심해야 할 사항이 있습니다.\n",
    "\n",
    "권장 사항은 다음과 같습니다.\n",
    "\n",
    "- 개체 변이(object mutation) 또는 리스트에 추가하는 것과 같은 파이썬 부작용도(side effect)에 의존하지 마세요.\n",
    "- tf.function을 사용할 때에는 넘파이 ops나 Python primitive보다 TensorFlow ops가 가장 좋습니다.\n",
    "- 의심스러운 경우 `for x in y`로 확인해보세요."
   ]
  },
  {
   "cell_type": "code",
   "execution_count": null,
   "metadata": {
    "colab": {
     "base_uri": "https://localhost:8080/",
     "height": 34
    },
    "colab_type": "code",
    "executionInfo": {
     "elapsed": 8371,
     "status": "ok",
     "timestamp": 1578723952628,
     "user": {
      "displayName": "권나현",
      "photoUrl": "",
      "userId": "08701108352160795584"
     },
     "user_tz": -540
    },
    "id": "otIdN1TS8N7S",
    "outputId": "c650f00d-1773-4673-a7ba-d0a1a87605c5"
   },
   "outputs": [],
   "source": [
    "import warnings\n",
    "warnings.simplefilter('ignore')\n",
    "\n",
    "import tensorflow as tf"
   ]
  },
  {
   "cell_type": "markdown",
   "metadata": {
    "colab_type": "text",
    "id": "MwyxEaE1SfHj"
   },
   "source": [
    "# 목차\n",
    "1. 기본 사항\n",
    "2. 추적(Tracing)과 다형성(Polymorphism)\n",
    "3. 언제 추적을 할까?\n",
    "4. 파이썬 arg 또는 텐서 args?\n",
    "5. tf.function의 부작용도(Side effect)\n",
    "6. 파이썬 상태(state)를 주의하기\n",
    "7. 자동 제어 종속변수\n",
    "8. 변수\n",
    "9. 오토그래프(AutoGraph) 사용하기\n",
    "10. 오토그래프: 조건문\n",
    "11. 오토그래프와 반복문\n",
    "    - 11.1 For문\n",
    "    - 11.2 Gotcha's\n",
    "        - 제로 반복자(Zero iterations)\n",
    "        - 일관성 있는 형태와 타입"
   ]
  },
  {
   "cell_type": "markdown",
   "metadata": {
    "colab_type": "text",
    "id": "I0xDjO4SHLUD"
   },
   "source": [
    "다음과 같은 유형의 오류가 발생할 수 있음을 보여 주는 헬퍼(helper) 함수를 정의합니다:"
   ]
  },
  {
   "cell_type": "code",
   "execution_count": null,
   "metadata": {
    "colab": {},
    "colab_type": "code",
    "id": "D25apou9IOXa"
   },
   "outputs": [],
   "source": [
    "import traceback\n",
    "import contextlib\n",
    "\n",
    "# 일부 헬퍼 코드는 발생할 수 있는 오류의 종류를 보여 줍니다.\n",
    "@contextlib.contextmanager\n",
    "def assert_raises(error_class):\n",
    "    try:\n",
    "        yield\n",
    "    except error_class as e:\n",
    "        print('예상치 못한 예외가 발견되었습니다 \\n  {}:'.format(error_class))\n",
    "        traceback.print_exc(limit=2)\n",
    "    except Exception as e:\n",
    "        raise e\n",
    "    else:\n",
    "        raise Exception('{}는 에러가 발생할 것이라 예상했지만 발생하지 않았습니다!'.format(\n",
    "            error_class))"
   ]
  },
  {
   "cell_type": "markdown",
   "metadata": {
    "colab_type": "text",
    "id": "WPSfepzTHThq"
   },
   "source": [
    "## 1. 기본 사항"
   ]
  },
  {
   "cell_type": "markdown",
   "metadata": {
    "colab_type": "text",
    "id": "rfayNj-ZIkIB"
   },
   "source": [
    "`tf.function`은 코어 텐서플로우 작업과 똑같습니다. 예를 들어:\n",
    "* 즉시 실행을 할 수 있습니다.\n",
    "* 그래프 모드를 사용할 수 있습니다.\n",
    "* 그래디언트(gradient)가 있습니다."
   ]
  },
  {
   "cell_type": "code",
   "execution_count": null,
   "metadata": {
    "colab": {
     "base_uri": "https://localhost:8080/",
     "height": 70
    },
    "colab_type": "code",
    "executionInfo": {
     "elapsed": 914,
     "status": "ok",
     "timestamp": 1578723955634,
     "user": {
      "displayName": "권나현",
      "photoUrl": "",
      "userId": "08701108352160795584"
     },
     "user_tz": -540
    },
    "id": "SbtT1-Wm70F2",
    "outputId": "d0f1e264-8817-43da-c09b-30199444b3fe"
   },
   "outputs": [],
   "source": [
    "@tf.function\n",
    "def add(a, b):\n",
    "    return a + b\n",
    "\n",
    "add(tf.ones([2, 2]), tf.ones([2, 2]))  #  [[2., 2.], [2., 2.]]"
   ]
  },
  {
   "cell_type": "code",
   "execution_count": null,
   "metadata": {
    "colab": {
     "base_uri": "https://localhost:8080/",
     "height": 34
    },
    "colab_type": "code",
    "executionInfo": {
     "elapsed": 818,
     "status": "ok",
     "timestamp": 1578723958082,
     "user": {
      "displayName": "권나현",
      "photoUrl": "",
      "userId": "08701108352160795584"
     },
     "user_tz": -540
    },
    "id": "uP-zUelB8DbX",
    "outputId": "f5b9424d-1258-45c8-c190-cec265215aa0"
   },
   "outputs": [],
   "source": [
    "v = tf.Variable(1.0)\n",
    "with tf.GradientTape() as tape:\n",
    "    result = add(v, 1.0)\n",
    "tape.gradient(result, v)"
   ]
  },
  {
   "cell_type": "markdown",
   "metadata": {
    "colab_type": "text",
    "id": "ocWZvqrmHnmX"
   },
   "source": [
    "함수 안에서도 함수를 사용할 수 있습니다."
   ]
  },
  {
   "cell_type": "code",
   "execution_count": null,
   "metadata": {
    "colab": {
     "base_uri": "https://localhost:8080/",
     "height": 87
    },
    "colab_type": "code",
    "executionInfo": {
     "elapsed": 3088,
     "status": "ok",
     "timestamp": 1578723969019,
     "user": {
      "displayName": "권나현",
      "photoUrl": "",
      "userId": "08701108352160795584"
     },
     "user_tz": -540
    },
    "id": "l5qRjdbBVdU6",
    "outputId": "07164a8e-8a44-4eee-bac6-03f145fd7f9d"
   },
   "outputs": [],
   "source": [
    "@tf.function\n",
    "def dense_layer(x, w, b):\n",
    "    return add(tf.matmul(x, w), b)\n",
    "\n",
    "dense_layer(tf.ones([3, 2]), tf.ones([2, 2]), tf.ones([2]))"
   ]
  },
  {
   "cell_type": "markdown",
   "metadata": {
    "colab_type": "text",
    "id": "uZ4Do2AV80cO"
   },
   "source": [
    "<a id=\"tracing\"></a>\n",
    "\n",
    "## 2. 추적(Tracing)과 다형성(Polymorphism)\n",
    "\n",
    "Python의 동적 타이핑(typing)은 다양한 인수 타입의 함수를 호출할 수 있음을 의미하며, Python은 각각의 상황에서 다른 작업을 수행합니다.\n",
    "\n",
    "반면 텐서플로우 그래프는 정적인 데이터 타입과 형태(shape) 차원이 필요합니다. `tf.function`은 정확한 그래프를 생성해야 할 때 함수를 추적하여 이러한 차이를 극복합니다. `tf.function`의 대부분의 세부 사항들은 이러한 재추적을 통해 수행됩니다.\n",
    "\n",
    "다양한 유형의 인수를 가진 함수를 호출하여 어떤 변화가 있는지 확인할 수 있습니다."
   ]
  },
  {
   "cell_type": "code",
   "execution_count": null,
   "metadata": {
    "colab": {
     "base_uri": "https://localhost:8080/",
     "height": 175
    },
    "colab_type": "code",
    "executionInfo": {
     "elapsed": 4534,
     "status": "ok",
     "timestamp": 1578723970485,
     "user": {
      "displayName": "권나현",
      "photoUrl": "",
      "userId": "08701108352160795584"
     },
     "user_tz": -540
    },
    "id": "kojmJrgq8U9v",
    "outputId": "29100cdc-cbe0-41aa-825e-4a2fa08c0406"
   },
   "outputs": [],
   "source": [
    "# 함수는 다형성을 가집니다.\n",
    "\n",
    "@tf.function\n",
    "def double(a):\n",
    "    print(\"Tracing with\", a)\n",
    "    return a + a\n",
    "\n",
    "print(double(tf.constant(1)))\n",
    "print()\n",
    "print(double(tf.constant(1.1)))\n",
    "print()\n",
    "print(double(tf.constant(\"a\")))\n",
    "print()\n"
   ]
  },
  {
   "cell_type": "markdown",
   "metadata": {
    "colab_type": "text",
    "id": "4pJqkDR_Q2wz"
   },
   "source": [
    "추적을 제어하려면 다음과 같은 기술을 사용합니다:\n",
    "\n",
    "- 새로운 `tf.function`을 생성합니다. 각각의 `tf.function`객체는 추적을 공유하지 않습니다.\n",
    "- `get_concrete_function` 메서드는 특정 추적을 가져옵니다.\n",
    "- `tf.function`을 호출할 때 호출 그래프당 한 번만 추적하기 위해 'input_signature'를 지정합니다."
   ]
  },
  {
   "cell_type": "code",
   "execution_count": null,
   "metadata": {
    "colab": {
     "base_uri": "https://localhost:8080/",
     "height": 265
    },
    "colab_type": "code",
    "executionInfo": {
     "elapsed": 852,
     "status": "ok",
     "timestamp": 1578727831063,
     "user": {
      "displayName": "권나현",
      "photoUrl": "",
      "userId": "08701108352160795584"
     },
     "user_tz": -540
    },
    "id": "mHg2CGtPQ3Hz",
    "outputId": "ad6e3de6-e474-4e33-9a65-436180c197bd"
   },
   "outputs": [],
   "source": [
    "print(\"콘크리트(concrete) 추적 내용을 가져옵니다\")\n",
    "double_strings = double.get_concrete_function(tf.TensorSpec(shape=None, dtype=tf.string))\n",
    "print(\"추적된 함수를 실행합니다\")\n",
    "print(double_strings(tf.constant(\"a\")))\n",
    "print(double_strings(a=tf.constant(\"b\")))\n",
    "print(\"호환되지 않는 데이터 타입에 콘크리트 추적을 하면 에러를 발생시킵니다\")\n",
    "with assert_raises(tf.errors.InvalidArgumentError):\n",
    "    double_strings(tf.constant(1))"
   ]
  },
  {
   "cell_type": "code",
   "execution_count": null,
   "metadata": {
    "colab": {
     "base_uri": "https://localhost:8080/",
     "height": 298
    },
    "colab_type": "code",
    "executionInfo": {
     "elapsed": 4435,
     "status": "ok",
     "timestamp": 1578723970488,
     "user": {
      "displayName": "권나현",
      "photoUrl": "",
      "userId": "08701108352160795584"
     },
     "user_tz": -540
    },
    "id": "_BDMIRmu1RGB",
    "outputId": "9420368c-b145-4fc2-93e6-6584385e9477"
   },
   "outputs": [],
   "source": [
    "@tf.function(input_signature=(tf.TensorSpec(shape=[None], dtype=tf.int32),))\n",
    "def next_collatz(x):\n",
    "    print(\"Tracing with\", x)\n",
    "    return tf.where(x % 2 == 0, x // 2, 3 * x + 1)\n",
    "\n",
    "print(next_collatz(tf.constant([1, 2])))\n",
    "# 입력 시그니처(signature)에 1-D 텐서를 지정했으므로 오류가 발생합니다.\n",
    "with assert_raises(ValueError):\n",
    "    next_collatz(tf.constant([[1, 2], [3, 4]]))\n"
   ]
  },
  {
   "cell_type": "markdown",
   "metadata": {
    "colab_type": "text",
    "id": "Es0WZkLIUSdu"
   },
   "source": [
    "## 3. 언제 추적을 할까?\n",
    "\n",
    "다형성을 가진 `tf.function`은 추적을 통해 생성된 콘크리트 함수의 캐시를 가집니다. 캐시 키는 사실 함수의 Args 및 Kwargs에서 생성된 키의 튜플입니다. \n",
    "\n",
    "* `tf.Tensor` 인수에 대해 생성된 키는 데이터의 차수와 타입의 개수입니다. \n",
    "* Python primitive에 대해 생성된 키는 값입니다. \n",
    "* 다른 모든 파이썬의 데이터 타입의 경우 키는 `id()`객체를 기반으로 하므로 클래스의 각 인스턴스에 대해 메서드를 개별적으로 추적할 수 있습니다.\n",
    "\n"
   ]
  },
  {
   "cell_type": "markdown",
   "metadata": {
    "colab_type": "text",
    "id": "AY5oiQN0XIyA"
   },
   "source": [
    "## 4. 파이썬 arg 또는 텐서 args?\n",
    "\n",
    "파이썬의 인수는 하이퍼 파라미터(hyper parameter) 및 그래프 구조를 제어하는 데에도 사용됩니다.(예: `num_layers=10` 또는 `training=True`, `nonlinearity='relu'`) 그래서 파이썬의 인수가 바뀌면, 그 그래프를 다시 추적해야 합니다.\n",
    "\n",
    "그러나 파이썬 인수가 그래프 구조를 제어하는 데 사용되지 않을 수 있습니다. 이러한 경우 파이썬 값을 변경하면 불필요한 재추적을 발생시킬 수 있습니다. 예를 들어 AutoGraph가 동적으로 해제되는 상황에서 학습한다고 가정해봅시다. 여러번 추적했을 때, 동일한 그래프를 여러번 생성하기 때문에 다소 비효율적입니다."
   ]
  },
  {
   "cell_type": "code",
   "execution_count": null,
   "metadata": {
    "colab": {
     "base_uri": "https://localhost:8080/",
     "height": 52
    },
    "colab_type": "code",
    "executionInfo": {
     "elapsed": 4413,
     "status": "ok",
     "timestamp": 1578723970488,
     "user": {
      "displayName": "권나현",
      "photoUrl": "",
      "userId": "08701108352160795584"
     },
     "user_tz": -540
    },
    "id": "uydzR5JYUU8H",
    "outputId": "1044e3b0-2229-46f2-a639-08a3729b7169"
   },
   "outputs": [],
   "source": [
    "def train_one_step():\n",
    "    pass\n",
    "\n",
    "@tf.function\n",
    "def train(num_steps):\n",
    "    print(\"Tracing with num_steps = {}\".format(num_steps))\n",
    "    for _ in tf.range(num_steps):\n",
    "        train_one_step()\n",
    "\n",
    "train(num_steps=10)\n",
    "train(num_steps=20)\n"
   ]
  },
  {
   "cell_type": "markdown",
   "metadata": {
    "colab_type": "text",
    "id": "f6pjnylLUW8P"
   },
   "source": [
    "여기서 간단한 해결 방법은 생성된 그래프의 모양(shape)에 영향을 미치지 않는 인수를 텐서(Tensor)에 전달하는 것입니다."
   ]
  },
  {
   "cell_type": "code",
   "execution_count": null,
   "metadata": {
    "colab": {
     "base_uri": "https://localhost:8080/",
     "height": 34
    },
    "colab_type": "code",
    "executionInfo": {
     "elapsed": 4227,
     "status": "ok",
     "timestamp": 1578723970489,
     "user": {
      "displayName": "권나현",
      "photoUrl": "",
      "userId": "08701108352160795584"
     },
     "user_tz": -540
    },
    "id": "TmL8T-w3UYes",
    "outputId": "67056d3d-4520-4a6b-d7e5-fd9ac44a99eb"
   },
   "outputs": [],
   "source": [
    "train(num_steps=tf.constant(10))\n",
    "train(num_steps=tf.constant(20))"
   ]
  },
  {
   "cell_type": "markdown",
   "metadata": {
    "colab_type": "text",
    "id": "129-iRsPS-gY"
   },
   "source": [
    "## 5. `tf.function`의 부작용도(Side effect)\n",
    "\n",
    "일반적으로 Python 부작용도(예: 객체를 출력하거나 변이를 일으킴)는 추적 중에만 발생합니다. 그러면 어떻게 하면 `tf.function`에서 부작용도를 안정적으로 발생시킬 수 있을까요?\n",
    "\n",
    "일반적으로 추적을 디버깅할 때에만 Python 부작용도를 사용합니다. 반면에 `tf.Variable.assign`나 `tf.print`, `tf.summary`와 같은 텐서플로우 ops는 텐서플로우 런타임으로 코드를 추적하고 실행할 수 있도록 하는 최선의 방법입니다. 일반적으로 함수형(functional) 스타일을 사용하면 최상의 결과를 얻을 수 있습니다."
   ]
  },
  {
   "cell_type": "code",
   "execution_count": null,
   "metadata": {
    "colab": {
     "base_uri": "https://localhost:8080/",
     "height": 105
    },
    "colab_type": "code",
    "executionInfo": {
     "elapsed": 4601,
     "status": "ok",
     "timestamp": 1578723970885,
     "user": {
      "displayName": "권나현",
      "photoUrl": "",
      "userId": "08701108352160795584"
     },
     "user_tz": -540
    },
    "id": "w2sACuZ9TTRk",
    "outputId": "f5cba733-e0e7-4de5-9e0a-bb07a11ab9cc"
   },
   "outputs": [],
   "source": [
    "@tf.function\n",
    "def f(x):\n",
    "    print(\"Traced with\", x)\n",
    "    tf.print(\"Executed with\", x)\n",
    "\n",
    "f(1)\n",
    "f(1)\n",
    "f(2)\n"
   ]
  },
  {
   "cell_type": "markdown",
   "metadata": {
    "colab_type": "text",
    "id": "e1I0dPiqTV8H"
   },
   "source": [
    "`tf.function`을 호출할 때마다 파이썬 코드를 실행하려면 `tf.py_function`을 사용합니다. `tf.function`의 단점은 이동이 가능하거나 특별히 성능이 뛰어나지 않고 분산(Multi-GPU, TPU) 설정에서도 잘 작동하지 않는다는 점입니다. 또한, `tf.py_function`은 미분가능성을 위해 그래프에 연결되어야 하므로 모든 입력/출력을 텐서에 전달합니다."
   ]
  },
  {
   "cell_type": "code",
   "execution_count": null,
   "metadata": {
    "colab": {
     "base_uri": "https://localhost:8080/",
     "height": 70
    },
    "colab_type": "code",
    "executionInfo": {
     "elapsed": 4584,
     "status": "ok",
     "timestamp": 1578723970887,
     "user": {
      "displayName": "권나현",
      "photoUrl": "",
      "userId": "08701108352160795584"
     },
     "user_tz": -540
    },
    "id": "7aJD--9qTWmg",
    "outputId": "6af3e4c5-766e-4047-8958-1466746259ee"
   },
   "outputs": [],
   "source": [
    "external_list = []\n",
    "\n",
    "def side_effect(x):\n",
    "    print('Python side effect')\n",
    "    external_list.append(x)\n",
    "\n",
    "@tf.function\n",
    "def f(x):\n",
    "    tf.py_function(side_effect, inp=[x], Tout=[])\n",
    "\n",
    "f(1)\n",
    "f(1)\n",
    "f(1)\n",
    "assert len(external_list) == 3\n",
    "# py_function은 1을 tf.constant(1)로 전달하므로 .numpy() 호출이 필요합니다.\n",
    "assert external_list[0].numpy() == 1\n"
   ]
  },
  {
   "cell_type": "markdown",
   "metadata": {
    "colab_type": "text",
    "id": "msTmv-oyUNaf"
   },
   "source": [
    "## 6. 파이썬 상태(state)를 주의하기\n",
    "\n",
    "생성자(generator)나 반복자(iterator)와 같은 대부분의 파이썬 기능은 상태를 추적하기 위해 파이썬 런타임을 사용합니다. 일반적 이러한 구조는 즉시 실행 모드에서 예상대로 작동하지만 추적으로 인해 `tf.function` 내에서 예기치 않은 많은 일이 발생할 수 있습니다.\n",
    "\n",
    "예를 들어, 반복자를 실행하는 것은 파이썬 부작용이므로 추적하는 동안에만 발생합니다."
   ]
  },
  {
   "cell_type": "code",
   "execution_count": null,
   "metadata": {
    "colab": {
     "base_uri": "https://localhost:8080/",
     "height": 70
    },
    "colab_type": "code",
    "executionInfo": {
     "elapsed": 4555,
     "status": "ok",
     "timestamp": 1578723970889,
     "user": {
      "displayName": "권나현",
      "photoUrl": "",
      "userId": "08701108352160795584"
     },
     "user_tz": -540
    },
    "id": "FNPD4unZUedH",
    "outputId": "0920d347-4d58-4f30-a96b-77821484f564"
   },
   "outputs": [],
   "source": [
    "external_var = tf.Variable(0)\n",
    "@tf.function\n",
    "def buggy_consume_next(iterator):\n",
    "    external_var.assign_add(next(iterator))\n",
    "    tf.print(\"external_var의 값:\", external_var)\n",
    "\n",
    "iterator = iter([0, 1, 2, 3])\n",
    "buggy_consume_next(iterator)\n",
    "# 다음 값을 사용하지 않고 반복자에서 첫 번째 값이 재사용됩니다.\n",
    "buggy_consume_next(iterator)\n",
    "buggy_consume_next(iterator)\n"
   ]
  },
  {
   "cell_type": "markdown",
   "metadata": {
    "colab_type": "text",
    "id": "5XMGXMu-Ufjm"
   },
   "source": [
    "'tf_function의 내에서 반복자가 생성되고 완전히 사용되면 바르게 작동해야 합니다. 하지만, 전체 반복자는 추적되고 있을 것이고, 이는 거대한 그래프를 만듭니다. 그러나 파이썬 리스트로 된 대규모 인 메모리(in-memory) 데이터셋을 학습하는 경우. 매우 큰 그래프를 생성하기 때문에 `tf.function`은 속도를 높일 수 없을 것입니다.\n",
    "\n",
    "파이썬 데이터를 반복하려면 tf.data.Dataset으로 감싸 `for x in y` 관용어를 사용하는 것이 가장 안전합니다. AutoGraph는 특별히 `y`가 텐서 또는 tf.data_dataset일 때 안전하게 `for` 루프를 변환할 수 있도록 지원합니다.\n"
   ]
  },
  {
   "cell_type": "code",
   "execution_count": null,
   "metadata": {
    "colab": {
     "base_uri": "https://localhost:8080/",
     "height": 107
    },
    "colab_type": "code",
    "executionInfo": {
     "elapsed": 4995,
     "status": "ok",
     "timestamp": 1578723971358,
     "user": {
      "displayName": "권나현",
      "photoUrl": "",
      "userId": "08701108352160795584"
     },
     "user_tz": -540
    },
    "id": "ms7f1o_QUiHE",
    "outputId": "1f05650d-3b44-4c63-b348-442ceff69e36"
   },
   "outputs": [],
   "source": [
    "def measure_graph_size(f, *args):\n",
    "    g = f.get_concrete_function(*args).graph\n",
    "    print(\"{}({}) contains {} nodes in its graph\".format(\n",
    "          f.__name__, ', '.join(map(str, args)), len(g.as_graph_def().node)))\n",
    "\n",
    "@tf.function\n",
    "def train(dataset):\n",
    "    loss = tf.constant(0)\n",
    "    for x, y in dataset:\n",
    "        loss += tf.abs(y - x) # Some dummy computation.\n",
    "    return loss\n",
    "\n",
    "small_data = [(1, 1)] * 2\n",
    "big_data = [(1, 1)] * 10\n",
    "measure_graph_size(train, small_data)\n",
    "measure_graph_size(train, big_data)\n",
    "\n",
    "measure_graph_size(train, tf.data.Dataset.from_generator(\n",
    "    lambda: small_data, (tf.int32, tf.int32)))\n",
    "measure_graph_size(train, tf.data.Dataset.from_generator(\n",
    "    lambda: big_data, (tf.int32, tf.int32)))"
   ]
  },
  {
   "cell_type": "markdown",
   "metadata": {
    "colab_type": "text",
    "id": "dGDstsFpWHEI"
   },
   "source": [
    "\n",
    "파이썬/넘파이 데이터를 데이터셋에 감쌀 때는 `tf.data.Dataset.from_generator`나 `tf.data.Dataset.from_tensors`를 사용합니다. 전자는 파이썬에 데이터를 보관하고 성능의 영향을 미칠 수 있는 `tf.py_function`을 통해 데이터를 가져오게 되며, 후자는 그래프에 큰 `tf.constant()` 노드로 묶어서 메모리에 영향을 미칠 수 있습니다.\n",
    "\n",
    "TFRecordDataset/CsvDataset/etc를 통해 파일에서 데이터를 읽는 것이 가장 효과적인 방법인데, 이는 텐서플로우 자체가 파이썬을 수반하지 않고도 데이터의 비동기적 로딩(asynchronous loading)과 프리페치(prefetching)를 관리할 수 있기 때문입니다."
   ]
  },
  {
   "cell_type": "markdown",
   "metadata": {
    "colab_type": "text",
    "id": "tRdlnCfV_UTn"
   },
   "source": [
    "## 7. 자동 제어 종속변수\n",
    "\n",
    "일반적인 데이터 흐름(dataflow) 그래프에서 프로그래밍 모델과 같은 함수의 매력적인 특성은 함수가 코드의 의도된 동작에 대한 정보를 런타임에 더 많이 제공할 수 있다는 것입니다.\n",
    "\n",
    "예를 들어, 동일한 변수에 대한 읽기 및 쓰기가 여러 개 있는 코드를 작성할 때 데이터 흐름 그래프가 원래 의도한 작업 순서를 자연스럽게 인코딩하지 않을 수 있습니다. `tf.function`에서는 파이썬 코드의 문장 실행 순서를 참조하여 실행 순서의 모호성을 해결합니다. 이런 방법으로, `tf.function`에서 네트워크 연결 상태를 추적할 수 있는 작업을 정렬하면 즉시 실행 모드의 의미를 복제합니다.\n",
    "\n",
    "즉, 수동 제어 종속 변수를 추가할 필요가 없으며, `tf.function`은 코드가 올바르게 실행되기 위해 필요한 최소한의 제어 종속변수를 추가하는 것으로도 가능할 정도로 충분히 스마트합니다."
   ]
  },
  {
   "cell_type": "code",
   "execution_count": null,
   "metadata": {
    "colab": {
     "base_uri": "https://localhost:8080/",
     "height": 34
    },
    "colab_type": "code",
    "executionInfo": {
     "elapsed": 4978,
     "status": "ok",
     "timestamp": 1578723971360,
     "user": {
      "displayName": "권나현",
      "photoUrl": "",
      "userId": "08701108352160795584"
     },
     "user_tz": -540
    },
    "id": "SASm0ss8erVX",
    "outputId": "d1042fcf-137f-4e32-b7be-24aa665635d1"
   },
   "outputs": [],
   "source": [
    "# 자동 제어 종속 변수\n",
    "\n",
    "a = tf.Variable(1.0)\n",
    "b = tf.Variable(2.0)\n",
    "\n",
    "@tf.function\n",
    "def f(x, y):\n",
    "    a.assign(y * b)\n",
    "    b.assign_add(x * a)\n",
    "    return a + b\n",
    "\n",
    "f(1.0, 2.0)  # 10.0\n"
   ]
  },
  {
   "cell_type": "markdown",
   "metadata": {
    "colab_type": "text",
    "id": "lPr_6mK_AQWL"
   },
   "source": [
    "## 8. 변수\n",
    "\n",
    "`tf.function`에서는 코드의 의도된 실행 순서를 활용하여 변수 생성과 활용을 매우 쉽게 할 수 있습니다. 그러나 매우 중요한 사항이 하나 있습니다. 변수를 사용하면 즉시 실행 모드와 그래프 모드에서 다르게 동작하는 코드를 작성하게 될 수도 있다는 것입니다.\n",
    "\n",
    "특히, 각 호출마다 새 변수를 생성할 때 이 문제가 발생합니다. 추적 의미(semantics) 때문에 `tf.function`은 각 호출마다 동일한 변수를 재사용하지만, 즉시 실행 모드는 각 호출마다 새로운 변수를 생성합니다. 이러한 실수를 방지하기 위해 'tf.function'은 위험한 변수 생성 동작을 감지할 경우 오류를 발생시킵니다."
   ]
  },
  {
   "cell_type": "code",
   "execution_count": null,
   "metadata": {
    "colab": {
     "base_uri": "https://localhost:8080/",
     "height": 476
    },
    "colab_type": "code",
    "executionInfo": {
     "elapsed": 5445,
     "status": "ok",
     "timestamp": 1578723971843,
     "user": {
      "displayName": "권나현",
      "photoUrl": "",
      "userId": "08701108352160795584"
     },
     "user_tz": -540
    },
    "id": "Tx0Vvnb_9OB-",
    "outputId": "31d3fddf-cec1-40dd-cb49-98bdfa6b40d8"
   },
   "outputs": [],
   "source": [
    "@tf.function\n",
    "def f(x):\n",
    "    v = tf.Variable(1.0)\n",
    "    v.assign_add(x)\n",
    "    return v\n",
    "\n",
    "with assert_raises(ValueError):\n",
    "    f(1.0)"
   ]
  },
  {
   "cell_type": "markdown",
   "metadata": {
    "colab_type": "text",
    "id": "ot8o7PeFIINo"
   },
   "source": [
    "하지만 모호하지 않은 코드는 괜찮습니다.\n",
    "\n"
   ]
  },
  {
   "cell_type": "code",
   "execution_count": null,
   "metadata": {
    "colab": {
     "base_uri": "https://localhost:8080/",
     "height": 52
    },
    "colab_type": "code",
    "executionInfo": {
     "elapsed": 5433,
     "status": "ok",
     "timestamp": 1578723971845,
     "user": {
      "displayName": "권나현",
      "photoUrl": "",
      "userId": "08701108352160795584"
     },
     "user_tz": -540
    },
    "id": "DKzNjVg8h4ao",
    "outputId": "5621fdb5-0564-4de9-86e3-260d8944c2d4"
   },
   "outputs": [],
   "source": [
    "v = tf.Variable(1.0)\n",
    "\n",
    "@tf.function\n",
    "def f(x):\n",
    "    return v.assign_add(x)\n",
    "\n",
    "print(f(1.0))  # 2.0\n",
    "print(f(2.0))  # 4.0\n"
   ]
  },
  {
   "cell_type": "markdown",
   "metadata": {
    "colab_type": "text",
    "id": "KYm6-5GCILXQ"
   },
   "source": [
    "또한 함수가 처음 실행될 때만 해당 변수를 생성함이 증명되면 tf_function 내부에 변수를 생성할 수도 있습니다."
   ]
  },
  {
   "cell_type": "code",
   "execution_count": null,
   "metadata": {
    "colab": {
     "base_uri": "https://localhost:8080/",
     "height": 52
    },
    "colab_type": "code",
    "executionInfo": {
     "elapsed": 5406,
     "status": "ok",
     "timestamp": 1578723971848,
     "user": {
      "displayName": "권나현",
      "photoUrl": "",
      "userId": "08701108352160795584"
     },
     "user_tz": -540
    },
    "id": "HQrG5_kOiKl_",
    "outputId": "61efcda2-d2bc-4612-ab8d-6c268454be62"
   },
   "outputs": [],
   "source": [
    "class C:\n",
    "    pass\n",
    "\n",
    "obj = C()\n",
    "obj.v = None\n",
    "\n",
    "@tf.function\n",
    "def g(x):\n",
    "    if obj.v is None:\n",
    "        obj.v = tf.Variable(1.0)\n",
    "    return obj.v.assign_add(x)\n",
    "\n",
    "print(g(1.0))  # 2.0\n",
    "print(g(2.0))  # 4.0"
   ]
  },
  {
   "cell_type": "markdown",
   "metadata": {
    "colab_type": "text",
    "id": "SDT4oKJaIim8"
   },
   "source": [
    "변수 초기화는 함수 인수 및 다른 변수의 값에 따라 달라질 수 있습니다. 제어 종속성을 생성하기 위해 사용하는 것과 동일한 방법으로 올바른 초기화 순서를 알아낼 수 있습니다."
   ]
  },
  {
   "cell_type": "code",
   "execution_count": null,
   "metadata": {
    "colab": {
     "base_uri": "https://localhost:8080/",
     "height": 52
    },
    "colab_type": "code",
    "executionInfo": {
     "elapsed": 5812,
     "status": "ok",
     "timestamp": 1578723972274,
     "user": {
      "displayName": "권나현",
      "photoUrl": "",
      "userId": "08701108352160795584"
     },
     "user_tz": -540
    },
    "id": "_IOVc1eujMH2",
    "outputId": "bdf623a6-97ab-487a-f499-b697e0aefb0d"
   },
   "outputs": [],
   "source": [
    "state = []\n",
    "@tf.function\n",
    "def fn(x):\n",
    "    if not state:\n",
    "        state.append(tf.Variable(2.0 * x))\n",
    "        state.append(tf.Variable(state[0] * 3.0))\n",
    "    return state[0] * x * state[1]\n",
    "\n",
    "print(fn(tf.constant(1.0)))\n",
    "print(fn(tf.constant(3.0)))\n"
   ]
  },
  {
   "cell_type": "markdown",
   "metadata": {
    "colab_type": "text",
    "id": "5f05Vr_YBUCz"
   },
   "source": [
    "## 9. 오토그래프(AutoGraph) 사용하기\n",
    "\n",
    "[오토그래프](https://www.tensorflow.org/guide/function) 라이브러리는 tf_function과 완벽하게 통합되어 있으며, 그래프에서 동적으로 실행되도록 텐서에 의존하는 조건 및 루프를 다시 작성합니다.\n",
    "\n",
    "`tf_cond`와 `tf.while_loop`는 계속 `tf.function`으로 작동하지만, 제어 흐름(control flow)이 있는 코드는 명령어로 작성하면 쓰고, 이해하기가 더 쉬운 경우가 많습니다."
   ]
  },
  {
   "cell_type": "code",
   "execution_count": null,
   "metadata": {
    "colab": {
     "base_uri": "https://localhost:8080/",
     "height": 685
    },
    "colab_type": "code",
    "executionInfo": {
     "elapsed": 6331,
     "status": "ok",
     "timestamp": 1578723972813,
     "user": {
      "displayName": "권나현",
      "photoUrl": "",
      "userId": "08701108352160795584"
     },
     "user_tz": -540
    },
    "id": "yCQTtTPTW3WF",
    "outputId": "366c9f36-b3f0-44d2-8070-889f656ef4c8"
   },
   "outputs": [],
   "source": [
    "# Simple loop\n",
    "\n",
    "@tf.function\n",
    "def f(x):\n",
    "    while tf.reduce_sum(x) > 1:\n",
    "        tf.print(x)\n",
    "        x = tf.tanh(x)\n",
    "    return x\n",
    "\n",
    "f(tf.random.uniform([5]))"
   ]
  },
  {
   "cell_type": "markdown",
   "metadata": {
    "colab_type": "text",
    "id": "KxwJ8znPI0Cg"
   },
   "source": [
    "궁금하면 오토그래프를 생성하는 코드를 확인해볼 수 있습니다."
   ]
  },
  {
   "cell_type": "code",
   "execution_count": null,
   "metadata": {
    "colab": {
     "base_uri": "https://localhost:8080/",
     "height": 459
    },
    "colab_type": "code",
    "executionInfo": {
     "elapsed": 6313,
     "status": "ok",
     "timestamp": 1578723972815,
     "user": {
      "displayName": "권나현",
      "photoUrl": "",
      "userId": "08701108352160795584"
     },
     "user_tz": -540
    },
    "id": "jlQD1ffRXJhl",
    "outputId": "69118374-b2a7-46a9-d3d5-4203c9417e13"
   },
   "outputs": [],
   "source": [
    "def f(x):\n",
    "    while tf.reduce_sum(x) > 1:\n",
    "        tf.print(x)\n",
    "        x = tf.tanh(x)\n",
    "    return x\n",
    "\n",
    "print(tf.autograph.to_code(f))"
   ]
  },
  {
   "cell_type": "markdown",
   "metadata": {
    "colab_type": "text",
    "id": "xgKmkrNTZSyz"
   },
   "source": [
    "## 10. 오토그래프: 조건문\n",
    "\n",
    "오토그래프는 `if` 문을 동등한 `tf.cond` 호출로 변환합니다.\n",
    "\n",
    "이 교체는 조건이 텐서인 경우 이루어집니다. 그렇지 않으면 추적 중에 조건이 실행됩니다."
   ]
  },
  {
   "cell_type": "markdown",
   "metadata": {
    "colab_type": "text",
    "id": "20WlM9T2I9EV"
   },
   "source": [
    "다음은 결과 그래프가 `tf.cond`를 사용하는지 확인하는 함수입니다."
   ]
  },
  {
   "cell_type": "code",
   "execution_count": null,
   "metadata": {
    "colab": {},
    "colab_type": "code",
    "id": "E-7KllizZYsy"
   },
   "outputs": [],
   "source": [
    "def test_tf_cond(f, *args):\n",
    "    g = f.get_concrete_function(*args).graph\n",
    "    if any(node.name == 'cond' for node in g.as_graph_def().node):\n",
    "        print(\"{}({}) uses tf.cond.\".format(\n",
    "            f.__name__, ', '.join(map(str, args))))\n",
    "    else:\n",
    "        print(\"{}({}) executes normally.\".format(\n",
    "            f.__name__, ', '.join(map(str, args))))\n",
    "\n",
    "    print(\"  result: \",f(*args).numpy())"
   ]
  },
  {
   "cell_type": "markdown",
   "metadata": {
    "colab_type": "text",
    "id": "DlqiutEEJHOe"
   },
   "source": [
    "이 교체는 조건이 텐서인 경우 이루어집니다. 그렇지 않으면 추적 중에 조건이 실행됩니다.\n",
    "\n",
    "파이썬의 `True`를 전달하면 조건부가 정상적으로 실행됩니다."
   ]
  },
  {
   "cell_type": "code",
   "execution_count": null,
   "metadata": {
    "colab": {},
    "colab_type": "code",
    "id": "fCMywOXwJLIQ"
   },
   "outputs": [],
   "source": [
    "@tf.function\n",
    "def dropout(x, training=True):\n",
    "    if training:\n",
    "        x = tf.nn.dropout(x, rate=0.5)\n",
    "    return x"
   ]
  },
  {
   "cell_type": "code",
   "execution_count": null,
   "metadata": {
    "colab": {
     "base_uri": "https://localhost:8080/",
     "height": 72
    },
    "colab_type": "code",
    "executionInfo": {
     "elapsed": 6208,
     "status": "ok",
     "timestamp": 1578723972825,
     "user": {
      "displayName": "권나현",
      "photoUrl": "",
      "userId": "08701108352160795584"
     },
     "user_tz": -540
    },
    "id": "68D2RZ17JM8u",
    "outputId": "3c32b5ed-9cad-4773-aa3c-d3f35d1c0f9c"
   },
   "outputs": [],
   "source": [
    "test_tf_cond(dropout, tf.ones([10], dtype=tf.float32), True)"
   ]
  },
  {
   "cell_type": "markdown",
   "metadata": {
    "colab_type": "text",
    "id": "WEz0QYucJPBa"
   },
   "source": [
    "하지만 텐서를 전달하면 파이썬의 `if`문은 `tf.cond`로 교체됩니다."
   ]
  },
  {
   "cell_type": "code",
   "execution_count": null,
   "metadata": {
    "colab": {
     "base_uri": "https://localhost:8080/",
     "height": 72
    },
    "colab_type": "code",
    "executionInfo": {
     "elapsed": 6175,
     "status": "ok",
     "timestamp": 1578723972829,
     "user": {
      "displayName": "권나현",
      "photoUrl": "",
      "userId": "08701108352160795584"
     },
     "user_tz": -540
    },
    "id": "o86paGR-Zadi",
    "outputId": "fb75571e-9dc0-4f92-b432-0d9dffa0f948"
   },
   "outputs": [],
   "source": [
    "test_tf_cond(dropout, tf.ones([10], dtype=tf.float32), tf.constant(True))"
   ]
  },
  {
   "cell_type": "markdown",
   "metadata": {
    "colab_type": "text",
    "id": "5xFLfdApZh8q"
   },
   "source": [
    "tf.second에는 여러 가지 미묘한 점이 있습니다.\n",
    "\n",
    "조건의 양쪽을 모두 추적한 다음 조건에 따라 런타임에 적절한 분기점(branch)을 선택하는 방식으로 작동합니다. 양쪽을 추적하면 파이썬 코드가 예기치 않게 실행될 수 있습니다."
   ]
  },
  {
   "cell_type": "code",
   "execution_count": null,
   "metadata": {
    "colab": {},
    "colab_type": "code",
    "id": "VTMoZEVaZiwk"
   },
   "outputs": [],
   "source": [
    "@tf.function\n",
    "def f(x):\n",
    "    if x > 0:\n",
    "        x = x + 1.\n",
    "        print(\"Tracing `then` branch\")\n",
    "    else:\n",
    "        x = x - 1.\n",
    "        print(\"Tracing `else` branch\")\n",
    "    return x"
   ]
  },
  {
   "cell_type": "code",
   "execution_count": null,
   "metadata": {
    "colab": {
     "base_uri": "https://localhost:8080/",
     "height": 52
    },
    "colab_type": "code",
    "executionInfo": {
     "elapsed": 6496,
     "status": "ok",
     "timestamp": 1578723973231,
     "user": {
      "displayName": "권나현",
      "photoUrl": "",
      "userId": "08701108352160795584"
     },
     "user_tz": -540
    },
    "id": "HqBVIZWb0Qzn",
    "outputId": "8a3146c9-d42a-44e5-a8fb-41da975374bb"
   },
   "outputs": [],
   "source": [
    "f(-1.0).numpy()"
   ]
  },
  {
   "cell_type": "code",
   "execution_count": null,
   "metadata": {
    "colab": {
     "base_uri": "https://localhost:8080/",
     "height": 52
    },
    "colab_type": "code",
    "executionInfo": {
     "elapsed": 6480,
     "status": "ok",
     "timestamp": 1578723973232,
     "user": {
      "displayName": "권나현",
      "photoUrl": "",
      "userId": "08701108352160795584"
     },
     "user_tz": -540
    },
    "id": "BIMfbXlW0QdP",
    "outputId": "b97b1cd0-a096-4c22-ac28-88b7fd6150ad"
   },
   "outputs": [],
   "source": [
    "f(1.0).numpy()"
   ]
  },
  {
   "cell_type": "code",
   "execution_count": null,
   "metadata": {
    "colab": {
     "base_uri": "https://localhost:8080/",
     "height": 70
    },
    "colab_type": "code",
    "executionInfo": {
     "elapsed": 6464,
     "status": "ok",
     "timestamp": 1578723973234,
     "user": {
      "displayName": "권나현",
      "photoUrl": "",
      "userId": "08701108352160795584"
     },
     "user_tz": -540
    },
    "id": "2nBnJ42v0Pvq",
    "outputId": "355a0cea-f07e-42b5-abdb-0b6cb9a13565"
   },
   "outputs": [],
   "source": [
    "f(tf.constant(1.0)).numpy()"
   ]
  },
  {
   "cell_type": "markdown",
   "metadata": {
    "colab_type": "text",
    "id": "zyzzvtN5Jfpb"
   },
   "source": [
    "한 분기점이 다운스트림에 사용된 텐서를 생성하는 경우 다른 분기점도 해당 텐서를 생성해야 합니다."
   ]
  },
  {
   "cell_type": "code",
   "execution_count": null,
   "metadata": {
    "colab": {
     "base_uri": "https://localhost:8080/",
     "height": 599
    },
    "colab_type": "code",
    "executionInfo": {
     "elapsed": 6434,
     "status": "ok",
     "timestamp": 1578723973238,
     "user": {
      "displayName": "권나현",
      "photoUrl": "",
      "userId": "08701108352160795584"
     },
     "user_tz": -540
    },
    "id": "k_dxWHeFZlaQ",
    "outputId": "76a67c3e-e272-4cce-a828-cd053a599ee2"
   },
   "outputs": [],
   "source": [
    "@tf.function\n",
    "def f():\n",
    "    if tf.constant(True):\n",
    "        x = tf.ones([3, 3])\n",
    "    return x\n",
    "\n",
    "# 모든 분기점은 `x`를 정의해야하므로 에러를 발생시킵니다.\n",
    "with assert_raises(ValueError):\n",
    "    f()"
   ]
  },
  {
   "cell_type": "markdown",
   "metadata": {
    "colab_type": "text",
    "id": "wP-LZP6cztnu"
   },
   "source": [
    "특정 제어 흐름 섹션이 오토그래프에 의해 변환되지 않도록 하려면 개체를 명시적으로 파이썬 유형으로 변환하여 오류가 발생하도록 합니다."
   ]
  },
  {
   "cell_type": "code",
   "execution_count": null,
   "metadata": {
    "colab": {},
    "colab_type": "code",
    "id": "iG_VDavjzrzV"
   },
   "outputs": [],
   "source": [
    "@tf.function\n",
    "def f(x, y):\n",
    "    if bool(x):\n",
    "        y = y + 1.\n",
    "        print(\"Tracing `then` branch\")\n",
    "    else:\n",
    "        y = y - 1.\n",
    "        print(\"Tracing `else` branch\")\n",
    "    return y"
   ]
  },
  {
   "cell_type": "code",
   "execution_count": null,
   "metadata": {
    "colab": {
     "base_uri": "https://localhost:8080/",
     "height": 52
    },
    "colab_type": "code",
    "executionInfo": {
     "elapsed": 6379,
     "status": "ok",
     "timestamp": 1578723973244,
     "user": {
      "displayName": "권나현",
      "photoUrl": "",
      "userId": "08701108352160795584"
     },
     "user_tz": -540
    },
    "id": "kQ4CRP9T0rH2",
    "outputId": "d9fd1bb9-72ce-4939-a732-2c49c8b3e128"
   },
   "outputs": [],
   "source": [
    "f(True, 0).numpy()"
   ]
  },
  {
   "cell_type": "code",
   "execution_count": null,
   "metadata": {
    "colab": {
     "base_uri": "https://localhost:8080/",
     "height": 52
    },
    "colab_type": "code",
    "executionInfo": {
     "elapsed": 6359,
     "status": "ok",
     "timestamp": 1578723973251,
     "user": {
      "displayName": "권나현",
      "photoUrl": "",
      "userId": "08701108352160795584"
     },
     "user_tz": -540
    },
    "id": "ww9tCzHy0rkv",
    "outputId": "c6767a15-0c6c-46a9-b041-bf856faa7aef"
   },
   "outputs": [],
   "source": [
    "f(False, 0).numpy()"
   ]
  },
  {
   "cell_type": "code",
   "execution_count": null,
   "metadata": {
    "colab": {
     "base_uri": "https://localhost:8080/",
     "height": 423
    },
    "colab_type": "code",
    "executionInfo": {
     "elapsed": 6319,
     "status": "ok",
     "timestamp": 1578723973252,
     "user": {
      "displayName": "권나현",
      "photoUrl": "",
      "userId": "08701108352160795584"
     },
     "user_tz": -540
    },
    "id": "ppuV7iug0r7i",
    "outputId": "7c2924af-9672-40d9-a7a3-0bd5d26a2324"
   },
   "outputs": [],
   "source": [
    "with assert_raises(TypeError):\n",
    "  f(tf.constant(True), 0.0)"
   ]
  },
  {
   "cell_type": "markdown",
   "metadata": {
    "colab_type": "text",
    "id": "yho4J0a0ZkQS"
   },
   "source": [
    "## 11. 오토그래프와 반복문\n",
    "\n",
    "오토그래프는 반복문을 변환시키는 데 몇 가지 간단한 규칙이 있습니다.\n",
    "\n",
    "- `for`: 반복할 수 있는 경우 텐서로 변환합니다.\n",
    "- `while`: while 조건문이 텐서에 따라 달라지는 경우에 변환합니다.\n",
    "\n",
    "반복문이 변환되면 `tf.while_loop`이나 특별한 경우 `for x in tf.data.Dataset`으로 동적으로 역할을 해제(unroll)하고 `tf.data.Dataset.reduce`로 변환합니다.\n",
    "\n",
    "반복문이 변환되지 않으면, 정적으로 해제됩니다."
   ]
  },
  {
   "cell_type": "code",
   "execution_count": null,
   "metadata": {
    "colab": {},
    "colab_type": "code",
    "id": "OyzGNQAuZsky"
   },
   "outputs": [],
   "source": [
    "def test_dynamically_unrolled(f, *args):\n",
    "    g = f.get_concrete_function(*args).graph\n",
    "    if any(node.name == 'while' for node in g.as_graph_def().node):\n",
    "        print(\"{}({}) uses tf.while_loop.\".format(\n",
    "            f.__name__, ', '.join(map(str, args))))\n",
    "    elif any(node.name == 'ReduceDataset' for node in g.as_graph_def().node):\n",
    "        print(\"{}({}) uses tf.data.Dataset.reduce.\".format(\n",
    "            f.__name__, ', '.join(map(str, args))))\n",
    "    else:\n",
    "        print(\"{}({}) gets unrolled.\".format(\n",
    "            f.__name__, ', '.join(map(str, args))))"
   ]
  },
  {
   "cell_type": "markdown",
   "metadata": {
    "colab_type": "text",
    "id": "KFO1BSN9JkRP"
   },
   "source": [
    "### 11.1 For문\n",
    "\n",
    "아래는 정적 역할 해제를 하는 `tf.function`입니다:"
   ]
  },
  {
   "cell_type": "code",
   "execution_count": null,
   "metadata": {
    "colab": {
     "base_uri": "https://localhost:8080/",
     "height": 34
    },
    "colab_type": "code",
    "executionInfo": {
     "elapsed": 6258,
     "status": "ok",
     "timestamp": 1578723973256,
     "user": {
      "displayName": "권나현",
      "photoUrl": "",
      "userId": "08701108352160795584"
     },
     "user_tz": -540
    },
    "id": "frecgTco_00V",
    "outputId": "067e91e8-f1cf-4a4b-e329-6e087232d22f"
   },
   "outputs": [],
   "source": [
    "@tf.function\n",
    "def for_in_range():\n",
    "    x = 0\n",
    "    for i in range(5):\n",
    "        x += i\n",
    "    return x\n",
    "\n",
    "test_dynamically_unrolled(for_in_range)"
   ]
  },
  {
   "cell_type": "code",
   "execution_count": null,
   "metadata": {
    "colab": {
     "base_uri": "https://localhost:8080/",
     "height": 34
    },
    "colab_type": "code",
    "executionInfo": {
     "elapsed": 6249,
     "status": "ok",
     "timestamp": 1578723973257,
     "user": {
      "displayName": "권나현",
      "photoUrl": "",
      "userId": "08701108352160795584"
     },
     "user_tz": -540
    },
    "id": "PMdl0azc_5d4",
    "outputId": "b237d3e2-c154-4b53-88c5-5b3c07361fcf"
   },
   "outputs": [],
   "source": [
    "@tf.function\n",
    "def for_in_tfrange():\n",
    "    x = tf.constant(0, dtype=tf.int32)\n",
    "    for i in tf.range(5):\n",
    "        x += i\n",
    "    return x\n",
    "\n",
    "test_dynamically_unrolled(for_in_tfrange)"
   ]
  },
  {
   "cell_type": "code",
   "execution_count": null,
   "metadata": {
    "colab": {
     "base_uri": "https://localhost:8080/",
     "height": 34
    },
    "colab_type": "code",
    "executionInfo": {
     "elapsed": 6896,
     "status": "ok",
     "timestamp": 1578723973936,
     "user": {
      "displayName": "권나현",
      "photoUrl": "",
      "userId": "08701108352160795584"
     },
     "user_tz": -540
    },
    "id": "Q7tmncQTZt6_",
    "outputId": "020c0cce-376c-4862-cd32-ba1b889a4d16"
   },
   "outputs": [],
   "source": [
    "@tf.function\n",
    "def for_in_tfdataset():\n",
    "    x = tf.constant(0, dtype=tf.int64)\n",
    "    for i in tf.data.Dataset.range(5):\n",
    "        x += i\n",
    "    return x\n",
    "\n",
    "test_dynamically_unrolled(for_in_tfdataset)"
   ]
  },
  {
   "cell_type": "code",
   "execution_count": null,
   "metadata": {
    "colab": {
     "base_uri": "https://localhost:8080/",
     "height": 34
    },
    "colab_type": "code",
    "executionInfo": {
     "elapsed": 6866,
     "status": "ok",
     "timestamp": 1578723973938,
     "user": {
      "displayName": "권나현",
      "photoUrl": "",
      "userId": "08701108352160795584"
     },
     "user_tz": -540
    },
    "id": "eyPzDYiJAC8f",
    "outputId": "11d0b60d-c88b-4b49-b1ca-f3d4a33c2c69"
   },
   "outputs": [],
   "source": [
    "@tf.function\n",
    "def while_py_cond():\n",
    "    x = 5\n",
    "    while x > 0:\n",
    "        x -= 1\n",
    "    return x\n",
    "\n",
    "test_dynamically_unrolled(while_py_cond)"
   ]
  },
  {
   "cell_type": "code",
   "execution_count": null,
   "metadata": {
    "colab": {
     "base_uri": "https://localhost:8080/",
     "height": 34
    },
    "colab_type": "code",
    "executionInfo": {
     "elapsed": 6845,
     "status": "ok",
     "timestamp": 1578723973941,
     "user": {
      "displayName": "권나현",
      "photoUrl": "",
      "userId": "08701108352160795584"
     },
     "user_tz": -540
    },
    "id": "l6s7aU-padY5",
    "outputId": "14eaf1fd-0a45-408e-d03c-0f6a6db86083"
   },
   "outputs": [],
   "source": [
    "@tf.function\n",
    "def while_tf_cond():\n",
    "    x = tf.constant(5)\n",
    "    while x > 0:\n",
    "        x -= 1\n",
    "    return x\n",
    "\n",
    "test_dynamically_unrolled(while_tf_cond)"
   ]
  },
  {
   "cell_type": "markdown",
   "metadata": {
    "colab_type": "text",
    "id": "dSr64Xn6ap-S"
   },
   "source": [
    "텐서에 의존하는 `break`나 `return` 조항이 있다면 최상위 조건이나 반복될 수 있는 것도 텐서여야 합니다.\n",
    "\n",
    "다음 예를 비교합니다:"
   ]
  },
  {
   "cell_type": "code",
   "execution_count": null,
   "metadata": {
    "colab": {
     "base_uri": "https://localhost:8080/",
     "height": 34
    },
    "colab_type": "code",
    "executionInfo": {
     "elapsed": 6808,
     "status": "ok",
     "timestamp": 1578723973943,
     "user": {
      "displayName": "권나현",
      "photoUrl": "",
      "userId": "08701108352160795584"
     },
     "user_tz": -540
    },
    "id": "hG2Fe_OEAwpY",
    "outputId": "02cd2e50-29c5-4745-cffc-b9caaf0afd01"
   },
   "outputs": [],
   "source": [
    "@tf.function\n",
    "def while_py_true_py_break(x):\n",
    "    while True:  # py true\n",
    "        if x == 0: # py break\n",
    "            break\n",
    "        x -= 1\n",
    "    return x\n",
    "\n",
    "test_dynamically_unrolled(while_py_true_py_break, 5)"
   ]
  },
  {
   "cell_type": "code",
   "execution_count": null,
   "metadata": {
    "colab": {
     "base_uri": "https://localhost:8080/",
     "height": 459
    },
    "colab_type": "code",
    "executionInfo": {
     "elapsed": 7876,
     "status": "ok",
     "timestamp": 1578723975046,
     "user": {
      "displayName": "권나현",
      "photoUrl": "",
      "userId": "08701108352160795584"
     },
     "user_tz": -540
    },
    "id": "Sr2cn5bY_E_9",
    "outputId": "079efec2-925c-404f-a2f2-cdc2f95ec8b7"
   },
   "outputs": [],
   "source": [
    "@tf.function\n",
    "def buggy_while_py_true_tf_break(x):\n",
    "    while True:   # py true\n",
    "        if tf.equal(x, 0): # tf break\n",
    "            break\n",
    "        x -= 1\n",
    "    return x\n",
    "\n",
    "with assert_raises(TypeError):\n",
    "    test_dynamically_unrolled(buggy_while_py_true_tf_break, 5)"
   ]
  },
  {
   "cell_type": "code",
   "execution_count": null,
   "metadata": {
    "colab": {
     "base_uri": "https://localhost:8080/",
     "height": 34
    },
    "colab_type": "code",
    "executionInfo": {
     "elapsed": 7842,
     "status": "ok",
     "timestamp": 1578723975048,
     "user": {
      "displayName": "권나현",
      "photoUrl": "",
      "userId": "08701108352160795584"
     },
     "user_tz": -540
    },
    "id": "Q-VirD-5avdZ",
    "outputId": "3a725c62-cf5b-42ac-db48-2dbf05d1326b"
   },
   "outputs": [],
   "source": [
    "@tf.function\n",
    "def while_tf_true_tf_break(x):\n",
    "    while tf.constant(True): # tf true\n",
    "        if x == 0:  # py break\n",
    "            break\n",
    "        x -= 1\n",
    "    return x\n",
    "\n",
    "test_dynamically_unrolled(while_tf_true_tf_break, 5)"
   ]
  },
  {
   "cell_type": "code",
   "execution_count": null,
   "metadata": {
    "colab": {
     "base_uri": "https://localhost:8080/",
     "height": 459
    },
    "colab_type": "code",
    "executionInfo": {
     "elapsed": 7806,
     "status": "ok",
     "timestamp": 1578723975050,
     "user": {
      "displayName": "권나현",
      "photoUrl": "",
      "userId": "08701108352160795584"
     },
     "user_tz": -540
    },
    "id": "Upx5J0j8_Ldu",
    "outputId": "92e1eff7-c0e4-411f-8d8b-fffe27a7efe3"
   },
   "outputs": [],
   "source": [
    "@tf.function\n",
    "def buggy_py_for_tf_break():\n",
    "    x = 0\n",
    "    for i in range(5):  # py for\n",
    "        if tf.equal(i, 3): # tf break\n",
    "            break\n",
    "        x += i\n",
    "    return x\n",
    "\n",
    "with assert_raises(TypeError):\n",
    "    test_dynamically_unrolled(buggy_py_for_tf_break)"
   ]
  },
  {
   "cell_type": "code",
   "execution_count": null,
   "metadata": {
    "colab": {
     "base_uri": "https://localhost:8080/",
     "height": 34
    },
    "colab_type": "code",
    "executionInfo": {
     "elapsed": 8400,
     "status": "ok",
     "timestamp": 1578723975666,
     "user": {
      "displayName": "권나현",
      "photoUrl": "",
      "userId": "08701108352160795584"
     },
     "user_tz": -540
    },
    "id": "GQHbodav_QMt",
    "outputId": "7dfdcf54-bba6-4925-b477-95ee7c320192"
   },
   "outputs": [],
   "source": [
    "@tf.function\n",
    "def tf_for_py_break():\n",
    "    x = 0\n",
    "    for i in tf.range(5): # tf for\n",
    "        if i == 3:  # py break\n",
    "            break\n",
    "        x += i\n",
    "    return x\n",
    "\n",
    "test_dynamically_unrolled(tf_for_py_break)"
   ]
  },
  {
   "cell_type": "markdown",
   "metadata": {
    "colab_type": "text",
    "id": "hyksHW9TCukR"
   },
   "source": [
    "동적으로 해제되지 않는 반복문에서 결과를 누적하려면 `tf.TensorArray`를 사용합니다."
   ]
  },
  {
   "cell_type": "code",
   "execution_count": null,
   "metadata": {
    "colab": {
     "base_uri": "https://localhost:8080/",
     "height": 157
    },
    "colab_type": "code",
    "executionInfo": {
     "elapsed": 8387,
     "status": "ok",
     "timestamp": 1578723975667,
     "user": {
      "displayName": "권나현",
      "photoUrl": "",
      "userId": "08701108352160795584"
     },
     "user_tz": -540
    },
    "id": "HJ3Vb3dXfefN",
    "outputId": "70a3efd3-9ba0-4171-da43-809cf705c098"
   },
   "outputs": [],
   "source": [
    "batch_size = 2\n",
    "seq_len = 3\n",
    "feature_size = 4\n",
    "\n",
    "def rnn_step(inp, state):\n",
    "    return inp + state\n",
    "\n",
    "@tf.function\n",
    "def dynamic_rnn(rnn_step, input_data, initial_state):\n",
    "    # [batch, time, features] -> [time, batch, features]\n",
    "    input_data = tf.transpose(input_data, [1, 0, 2])\n",
    "    max_seq_len = input_data.shape[0]\n",
    "\n",
    "    states = tf.TensorArray(tf.float32, size=max_seq_len)\n",
    "    state = initial_state\n",
    "    for i in tf.range(max_seq_len):\n",
    "        state = rnn_step(input_data[i], state)\n",
    "        states = states.write(i, state)\n",
    "    return tf.transpose(states.stack(), [1, 0, 2])\n",
    "  \n",
    "dynamic_rnn(rnn_step,\n",
    "            tf.random.uniform([batch_size, seq_len, feature_size]),\n",
    "            tf.zeros([batch_size, feature_size]))"
   ]
  },
  {
   "cell_type": "markdown",
   "metadata": {
    "colab_type": "text",
    "id": "9gmLpHY-bkly"
   },
   "source": [
    "### 11.2 Gotcha's\n",
    "\n",
    "`tf.cond`와 마찬가지로 `tf.while_loop`에도 여러 가지 미묘한 점이 있습니다.\n"
   ]
  },
  {
   "cell_type": "markdown",
   "metadata": {
    "colab_type": "text",
    "id": "FJdfznhhKO7D"
   },
   "source": [
    "#### - 제로 반복자(Zero iterations)\n",
    "\n",
    "반복문은 0회 실행될 수 있으므로, while_loop의 다운스트림에 사용되는 모든 텐서를 반복문 위에서 초기화해야 합니다.\n",
    "\n",
    "다음은 잘못된 코드의 예입니다."
   ]
  },
  {
   "cell_type": "code",
   "execution_count": null,
   "metadata": {
    "colab": {
     "base_uri": "https://localhost:8080/",
     "height": 388
    },
    "colab_type": "code",
    "executionInfo": {
     "elapsed": 8384,
     "status": "ok",
     "timestamp": 1578723975668,
     "user": {
      "displayName": "권나현",
      "photoUrl": "",
      "userId": "08701108352160795584"
     },
     "user_tz": -540
    },
    "id": "CocT5RHwblrQ",
    "outputId": "7340e4ff-4f86-42cc-f657-85ad44acfd3f"
   },
   "outputs": [],
   "source": [
    "@tf.function\n",
    "def buggy_loop_var_uninitialized():\n",
    "    for i in tf.range(3):\n",
    "        x = i\n",
    "    return x\n",
    "\n",
    "with assert_raises(ValueError):\n",
    "    buggy_loop_var_uninitialized()"
   ]
  },
  {
   "cell_type": "markdown",
   "metadata": {
    "colab_type": "text",
    "id": "ncr7tRZ1KWh9"
   },
   "source": [
    "그리고 아래는 맞는 코드입니다:"
   ]
  },
  {
   "cell_type": "code",
   "execution_count": null,
   "metadata": {
    "colab": {
     "base_uri": "https://localhost:8080/",
     "height": 34
    },
    "colab_type": "code",
    "executionInfo": {
     "elapsed": 8380,
     "status": "ok",
     "timestamp": 1578723975669,
     "user": {
      "displayName": "권나현",
      "photoUrl": "",
      "userId": "08701108352160795584"
     },
     "user_tz": -540
    },
    "id": "Wm7wIKXcCDGf",
    "outputId": "f950355d-c73b-4528-f147-2b5e16a624a5"
   },
   "outputs": [],
   "source": [
    "@tf.function\n",
    "def f():\n",
    "    x = tf.constant(0)\n",
    "    for i in tf.range(3):\n",
    "        x = i\n",
    "    return x\n",
    "\n",
    "f()"
   ]
  },
  {
   "cell_type": "markdown",
   "metadata": {
    "colab_type": "text",
    "id": "CM7qXVY0KZHB"
   },
   "source": [
    "#### - 일관성 있는 형태와 타입\n",
    "\n",
    "모든 반복문 변수의 형태/데이터 타입이 각 반복과 일치해야 합니다.\n",
    "\n",
    "다음은 텐서의 유형을 변경하려는 잘못된 예입니다."
   ]
  },
  {
   "cell_type": "code",
   "execution_count": null,
   "metadata": {
    "colab": {
     "base_uri": "https://localhost:8080/",
     "height": 705
    },
    "colab_type": "code",
    "executionInfo": {
     "elapsed": 8376,
     "status": "ok",
     "timestamp": 1578723975670,
     "user": {
      "displayName": "권나현",
      "photoUrl": "",
      "userId": "08701108352160795584"
     },
     "user_tz": -540
    },
    "id": "FSftc9cCbpAo",
    "outputId": "51928286-c822-403a-c72c-b27f65525b4b"
   },
   "outputs": [],
   "source": [
    "@tf.function\n",
    "def buggy_loop_type_changes():\n",
    "    x = tf.constant(0, dtype=tf.float32)\n",
    "    for i in tf.range(3): # tf.int32타입의 텐서를 생성합니다.\n",
    "        x = i\n",
    "    return x\n",
    "\n",
    "with assert_raises(TypeError):\n",
    "    buggy_loop_type_changes()"
   ]
  },
  {
   "cell_type": "markdown",
   "metadata": {
    "colab_type": "text",
    "id": "M5l90NAHKsUM"
   },
   "source": [
    "다음은 반복하면서 텐서의 형태를 변환하려고하는 잘못된 예시입니다:"
   ]
  },
  {
   "cell_type": "code",
   "execution_count": null,
   "metadata": {
    "colab": {
     "base_uri": "https://localhost:8080/",
     "height": 705
    },
    "colab_type": "code",
    "executionInfo": {
     "elapsed": 8371,
     "status": "ok",
     "timestamp": 1578723975670,
     "user": {
      "displayName": "권나현",
      "photoUrl": "",
      "userId": "08701108352160795584"
     },
     "user_tz": -540
    },
    "id": "kWF189prbuK0",
    "outputId": "7ebaff25-7906-424a-c0c0-7f0f192a0288"
   },
   "outputs": [],
   "source": [
    "@tf.function\n",
    "def buggy_concat():\n",
    "    x = tf.ones([0, 10])\n",
    "    for i in tf.range(5):\n",
    "        x = tf.concat([x, tf.ones([1, 10])], axis=0)\n",
    "    return x\n",
    "\n",
    "with assert_raises(ValueError):\n",
    "    buggy_concat()"
   ]
  },
  {
   "cell_type": "code",
   "execution_count": null,
   "metadata": {
    "colab": {
     "base_uri": "https://localhost:8080/",
     "height": 122
    },
    "colab_type": "code",
    "executionInfo": {
     "elapsed": 8367,
     "status": "ok",
     "timestamp": 1578723975671,
     "user": {
      "displayName": "권나현",
      "photoUrl": "",
      "userId": "08701108352160795584"
     },
     "user_tz": -540
    },
    "id": "miYnYcznCHeV",
    "outputId": "9d028d46-ea4f-47d6-c676-4f84427722e8"
   },
   "outputs": [],
   "source": [
    "@tf.function\n",
    "def concat_with_padding():\n",
    "    x = tf.zeros([5, 10])\n",
    "    for i in tf.range(5):\n",
    "        x = tf.concat([x[:i], tf.ones([1, 10]), tf.zeros([4-i, 10])], axis=0)\n",
    "        x.set_shape([5, 10])\n",
    "    return x\n",
    "\n",
    "concat_with_padding()\n"
   ]
  },
  {
   "cell_type": "markdown",
   "metadata": {
    "colab_type": "text",
    "id": "mGrjosE_nBB1"
   },
   "source": [
    "# Copyright 2019 The TensorFlow Authors.\n"
   ]
  },
  {
   "cell_type": "code",
   "execution_count": null,
   "metadata": {
    "cellView": "form",
    "colab": {},
    "colab_type": "code",
    "id": "F3FsMNrhnBBX"
   },
   "outputs": [],
   "source": [
    "#@title Licensed under the Apache License, Version 2.0 (the \"License\");\n",
    "# you may not use this file except in compliance with the License.\n",
    "# You may obtain a copy of the License at\n",
    "#\n",
    "# https://www.apache.org/licenses/LICENSE-2.0\n",
    "#\n",
    "# Unless required by applicable law or agreed to in writing, software\n",
    "# distributed under the License is distributed on an \"AS IS\" BASIS,\n",
    "# WITHOUT WARRANTIES OR CONDITIONS OF ANY KIND, either express or implied.\n",
    "# See the License for the specific language governing permissions and\n",
    "# limitations under the License."
   ]
  }
 ],
 "metadata": {
  "colab": {
   "collapsed_sections": [],
   "name": "performace.ipynb",
   "provenance": [
    {
     "file_id": "https://github.com/tensorflow/docs/blob/master/site/en/tutorials/customization/performance.ipynb",
     "timestamp": 1578679155915
    }
   ],
   "toc_visible": true
  },
  "kernelspec": {
   "display_name": "Python 3",
   "language": "python",
   "name": "python3"
  },
  "language_info": {
   "codemirror_mode": {
    "name": "ipython",
    "version": 3
   },
   "file_extension": ".py",
   "mimetype": "text/x-python",
   "name": "python",
   "nbconvert_exporter": "python",
   "pygments_lexer": "ipython3",
   "version": "3.6.6"
  }
 },
 "nbformat": 4,
 "nbformat_minor": 1
}
