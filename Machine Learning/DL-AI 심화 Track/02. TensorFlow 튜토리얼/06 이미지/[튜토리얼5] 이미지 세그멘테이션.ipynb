{
 "cells": [
  {
   "cell_type": "markdown",
   "metadata": {
    "colab_type": "text",
    "id": "rCSP-dbMw88x"
   },
   "source": [
    "# [튜토리얼5] 이미지 세그멘테이션(Image Segmentation)\n",
    "이번 튜토리얼에서는 modified [U-Net](https://lmb.informatik.uni-freiburg.de/people/ronneber/u-net/)를 사용하여 이미지 세그멘테이션(segmentation) 작업에 대해 알아보겠습니다."
   ]
  },
  {
   "cell_type": "code",
   "execution_count": null,
   "metadata": {
    "colab": {},
    "colab_type": "code",
    "id": "YQX7R4bhZy5h"
   },
   "outputs": [],
   "source": [
    "!conda install python=3.6.9 --y\n",
    "!pip install git+https://github.com/tensorflow/examples.git\n",
    "!pip install --upgrade tensorflow\n",
    "!pip install -q -U tfds-nightly\n",
    "!pip install pydot==1.2.3\n",
    "!pip install graphviz\n",
    "\n",
    "import warnings\n",
    "warnings.simplefilter('ignore')\n",
    "\n",
    "import tensorflow as tf\n",
    "\n",
    "from tensorflow_examples.models.pix2pix import pix2pix\n",
    "\n",
    "import tensorflow_datasets as tfds\n",
    "tfds.disable_progress_bar()\n",
    "\n",
    "from IPython.display import clear_output\n",
    "import matplotlib.pyplot as plt\n",
    "\n",
    "import numpy as np"
   ]
  },
  {
   "cell_type": "markdown",
   "metadata": {
    "colab_type": "text",
    "id": "OylV0KYU_CS9"
   },
   "source": [
    "# 목차\n",
    "1. 이미지 세그멘테이션이란?\n",
    "2. Oxford-IIIT Pets 데이터셋 다운받기\n",
    "3. 모델 정의하기\n",
    "4. 모델 학습시키기\n",
    "5. 예측하기"
   ]
  },
  {
   "cell_type": "markdown",
   "metadata": {
    "colab_type": "text",
    "id": "sMP7mglMuGT2"
   },
   "source": [
    "## 1. 이미지 세그멘테이션이란?\n",
    "\n",
    "지금까지 네트워크의 작업은 입력 이미지에 레이블 또는 클래스를 할당하는 이미지 분류를 살펴보았습니다. 그러나 이미지에서 객체가 어디에 있는지, 해당 객체의 모양을 알고싶거나 어떤 픽셀이 어떤 객체에 속하는지 등을 알고 싶다고 가정해봅시다.\n",
    "\n",
    " 이런 경우에는 이미지의 각 픽셀에 레이블을 지정하는 이미지 세그멘테이션을 합니다. 이미지 세그멘테이션 작업은 이미지의 픽셀을 기준으로 만든 마스크를 출력하도록 뉴럴 네트워크를 학습시키는 것입니다. 이렇게 하면 이미지를 훨씬 낮은 수준, 즉 픽셀 수준에서 이해하는 데 도움이 됩니다. 이미지 세그멘테이션은 의료 이미징(imaging), 자율 주행 차량과 위성 이미징 등  많은 애플리케이션을 제공합니다.\n",
    "\n",
    "이번 튜토리얼에서 사용할 데이터셋은 **Parkhi et al**에서 만든 [Oxford-IIIT Pet Dataset](https://www.robots.ox.ac.uk/~vgg/data/pets/)입니다. 데이터셋는 이미지와 이에 해당 레이블, 그리고 픽셀로 만든 마스크로 구성됩니다. 마스크는 기본적으로 각 픽셀에 대한 레이블입니다. 각 픽셀에는 다음 세 가지 범주 중 하나가 지정됩니다.\n",
    "\n",
    "*   Class 1 : 애완동물에 속하는 픽셀\n",
    "*   Class 2 : 애완동물의 윤곽을 잡는 픽셀\n",
    "*   Class 3 : 위의 어떤 클래스에도 속하지 않는 주변 픽셀"
   ]
  },
  {
   "cell_type": "markdown",
   "metadata": {
    "colab_type": "text",
    "id": "oWe0_rQM4JbC"
   },
   "source": [
    "## 2. Oxford-IIIT Pets 데이터셋 다운받기\n",
    "\n",
    "데이터셋은 이미 텐서플로우 데이터셋에 포함되어 있으며, 이를 다운로드하기만 하면 됩니다. 세그멘테이션 마스크는 3.0 이상의 버전에서 이용할 수 있습니다.\n",
    "\n",
    "* 이미지 데이터 다운로드에 최대 3분이 소요될 수 있습니다."
   ]
  },
  {
   "cell_type": "code",
   "execution_count": null,
   "metadata": {
    "colab": {
     "base_uri": "https://localhost:8080/",
     "height": 107
    },
    "colab_type": "code",
    "executionInfo": {
     "elapsed": 76528,
     "status": "ok",
     "timestamp": 1579108317983,
     "user": {
      "displayName": "권나현",
      "photoUrl": "",
      "userId": "08701108352160795584"
     },
     "user_tz": -540
    },
    "id": "40ITeStwDwZb",
    "outputId": "500fd04b-9a6f-4fd3-933f-611651e38d8c"
   },
   "outputs": [],
   "source": [
    "dataset, info = tfds.load('oxford_iiit_pet:3.*.*', with_info=True)"
   ]
  },
  {
   "cell_type": "markdown",
   "metadata": {
    "colab_type": "text",
    "id": "rJcVdj_U4vzf"
   },
   "source": [
    "다음 코드는 이미지를 플립(flip)하는 간단한 어그멘테이션(augmentation)을 실행합니다. 또한 이미지는 [0,1]로 정규화됩니다. 마지막으로, 위에서 언급한 바와 같이 세그멘테이션 마스크의 픽셀에는 {1, 2, 3} 라벨이 지정됩니다. 편의상 분할 마스크에서 1을 빼서 레이블을 만듭니다. {0, 1, 2}."
   ]
  },
  {
   "cell_type": "code",
   "execution_count": null,
   "metadata": {
    "colab": {},
    "colab_type": "code",
    "id": "FD60EbcAQqov"
   },
   "outputs": [],
   "source": [
    "def normalize(input_image, input_mask):\n",
    "    input_image = tf.cast(input_image, tf.float32) / 255.0\n",
    "    input_mask -= 1\n",
    "    return input_image, input_mask"
   ]
  },
  {
   "cell_type": "code",
   "execution_count": null,
   "metadata": {
    "colab": {},
    "colab_type": "code",
    "id": "2NPlCnBXQwb1"
   },
   "outputs": [],
   "source": [
    "@tf.function\n",
    "def load_image_train(datapoint):\n",
    "    input_image = tf.image.resize(datapoint['image'], (128, 128))\n",
    "    input_mask = tf.image.resize(datapoint['segmentation_mask'], (128, 128))\n",
    "\n",
    "    if tf.random.uniform(()) > 0.5:\n",
    "        input_image = tf.image.flip_left_right(input_image)\n",
    "        input_mask = tf.image.flip_left_right(input_mask)\n",
    "\n",
    "    input_image, input_mask = normalize(input_image, input_mask)\n",
    "\n",
    "    return input_image, input_mask"
   ]
  },
  {
   "cell_type": "code",
   "execution_count": null,
   "metadata": {
    "colab": {},
    "colab_type": "code",
    "id": "Zf0S67hJRp3D"
   },
   "outputs": [],
   "source": [
    "def load_image_test(datapoint):\n",
    "    input_image = tf.image.resize(datapoint['image'], (128, 128))\n",
    "    input_mask = tf.image.resize(datapoint['segmentation_mask'], (128, 128))\n",
    "\n",
    "    input_image, input_mask = normalize(input_image, input_mask)\n",
    "\n",
    "    return input_image, input_mask"
   ]
  },
  {
   "cell_type": "markdown",
   "metadata": {
    "colab_type": "text",
    "id": "65-qHTjX5VZh"
   },
   "source": [
    "데이터셋에는 이미 테스트와 학습 데이터가 나누어져 있으므로 이렇게 나눠진 데이터를 계속 사용하겠습니다."
   ]
  },
  {
   "cell_type": "code",
   "execution_count": null,
   "metadata": {
    "colab": {},
    "colab_type": "code",
    "id": "yHwj2-8SaQli"
   },
   "outputs": [],
   "source": [
    "TRAIN_LENGTH = info.splits['train'].num_examples\n",
    "BATCH_SIZE = 64\n",
    "BUFFER_SIZE = 1000\n",
    "STEPS_PER_EPOCH = TRAIN_LENGTH // BATCH_SIZE"
   ]
  },
  {
   "cell_type": "code",
   "execution_count": null,
   "metadata": {
    "colab": {},
    "colab_type": "code",
    "id": "39fYScNz9lmo"
   },
   "outputs": [],
   "source": [
    "train = dataset['train'].map(load_image_train, num_parallel_calls=tf.data.experimental.AUTOTUNE)\n",
    "test = dataset['test'].map(load_image_test)"
   ]
  },
  {
   "cell_type": "code",
   "execution_count": null,
   "metadata": {
    "colab": {},
    "colab_type": "code",
    "id": "DeFwFDN6EVoI"
   },
   "outputs": [],
   "source": [
    "train_dataset = train.cache().shuffle(BUFFER_SIZE).batch(BATCH_SIZE).repeat()\n",
    "train_dataset = train_dataset.prefetch(buffer_size=tf.data.experimental.AUTOTUNE)\n",
    "test_dataset = test.batch(BATCH_SIZE)"
   ]
  },
  {
   "cell_type": "markdown",
   "metadata": {
    "colab_type": "text",
    "id": "Xa3gMAE_9qNa"
   },
   "source": [
    "이제 예시 이미지와 그에 해당하는 마스크를 살펴보겠습니다."
   ]
  },
  {
   "cell_type": "code",
   "execution_count": null,
   "metadata": {
    "colab": {},
    "colab_type": "code",
    "id": "3N2RPAAW9q4W"
   },
   "outputs": [],
   "source": [
    "def display(display_list):\n",
    "    plt.figure(figsize=(15, 15))\n",
    "\n",
    "    title = ['Input Image', 'True Mask', 'Predicted Mask']\n",
    "    \n",
    "    for i in range(len(display_list)):\n",
    "        plt.subplot(1, len(display_list), i+1)\n",
    "        plt.title(title[i])\n",
    "        if display_list[i].shape[2]>1:\n",
    "            plt.imshow(display_list[i])\n",
    "        else:\n",
    "            plt.imshow(np.array(display_list[i]).reshape(128,128))\n",
    "        plt.axis('off')\n",
    "    plt.show()"
   ]
  },
  {
   "cell_type": "code",
   "execution_count": null,
   "metadata": {
    "colab": {
     "base_uri": "https://localhost:8080/",
     "height": 447
    },
    "colab_type": "code",
    "executionInfo": {
     "elapsed": 1705,
     "status": "ok",
     "timestamp": 1579108330787,
     "user": {
      "displayName": "권나현",
      "photoUrl": "",
      "userId": "08701108352160795584"
     },
     "user_tz": -540
    },
    "id": "a6u_Rblkteqb",
    "outputId": "ced45acf-06ba-4fc1-9f67-36862598e4df",
    "scrolled": false
   },
   "outputs": [],
   "source": [
    "for image, mask in train.take(1):\n",
    "    sample_image, sample_mask = image, mask\n",
    "display([sample_image, sample_mask])"
   ]
  },
  {
   "cell_type": "markdown",
   "metadata": {
    "colab_type": "text",
    "id": "FAOe93FRMk3w"
   },
   "source": [
    "## 3. 모델 정의하기\n",
    "사용된 모델은 modified U-Net입니다. U-Net은 인코더(다운샘플러)와 디코더(업샘플러)로 구성됩니다. 로버스트(robust)한 피쳐를 학습하고 학습 가능한 매개 변수의 수를 줄이기 위해 학습된 모델을 인코더로 사용하겠습니다. 따라서 이 작업의 인코더는 학습된 MobileNetV2 모델로서 중간 출력값이 사용되며, 디코더는 [Pix2pix](https://github.com/tensorflow/examples/blob/master/tensorflow_seconples/models/pix2픽스/pix2pix.py)에서 이미 구현된 업샘플 블록을 사용할 것입니다.\n",
    "\n",
    "세 개의 채널이 출력 값인 이유는 각 픽셀에 세 개의 레이블이 있을 수 있기 때문입니다. 각 픽셀이 세 가지 클래스로 분류되는 다중 분류라고 생각하면됩니다."
   ]
  },
  {
   "cell_type": "code",
   "execution_count": null,
   "metadata": {
    "colab": {},
    "colab_type": "code",
    "id": "c6iB4iMvMkX9"
   },
   "outputs": [],
   "source": [
    "OUTPUT_CHANNELS = 3"
   ]
  },
  {
   "cell_type": "markdown",
   "metadata": {
    "colab_type": "text",
    "id": "W4mQle3lthit"
   },
   "source": [
    "앞서 언급한 바와 같이, 인코더는 [tf.keras.applications](https://www.tensorflow.org/versions/r2.0/api_docs/python/tf/keras/applications)에 있는 훈련된 MobileNetV2 모델을 사용할 것입니다. 인코더는 모델의 중간 레이어의 특정 출력 값으로 구성됩니다. 인코더는 학습 과정 중에 학습하지 않습니다."
   ]
  },
  {
   "cell_type": "code",
   "execution_count": null,
   "metadata": {
    "colab": {
     "base_uri": "https://localhost:8080/",
     "height": 72
    },
    "colab_type": "code",
    "executionInfo": {
     "elapsed": 3783,
     "status": "ok",
     "timestamp": 1579108356732,
     "user": {
      "displayName": "권나현",
      "photoUrl": "",
      "userId": "08701108352160795584"
     },
     "user_tz": -540
    },
    "id": "liCeLH0ctjq7",
    "outputId": "11b81f83-2751-4756-d758-03d7c5525b4e"
   },
   "outputs": [],
   "source": [
    "base_model = tf.keras.applications.MobileNetV2(input_shape=[128, 128, 3], include_top=False)\n",
    "\n",
    "# 다음과 같은 레이어 활성화 함수를 사용합니다.\n",
    "layer_names = [\n",
    "    'block_1_expand_relu',   # 64x64\n",
    "    'block_3_expand_relu',   # 32x32\n",
    "    'block_6_expand_relu',   # 16x16\n",
    "    'block_13_expand_relu',  # 8x8\n",
    "    'block_16_project',      # 4x4\n",
    "]\n",
    "layers = [base_model.get_layer(name).output for name in layer_names]\n",
    "\n",
    "# 피쳐를 추출하는 모델을 생성합니다.\n",
    "down_stack = tf.keras.Model(inputs=base_model.input, outputs=layers)\n",
    "\n",
    "down_stack.trainable = False"
   ]
  },
  {
   "cell_type": "markdown",
   "metadata": {
    "colab_type": "text",
    "id": "KPw8Lzra5_T9"
   },
   "source": [
    "디코더/업샘플러는 pix2pix에서 구현된 업샘플 블록을 사용합니다."
   ]
  },
  {
   "cell_type": "code",
   "execution_count": null,
   "metadata": {
    "colab": {},
    "colab_type": "code",
    "id": "p0ZbfywEbZpJ"
   },
   "outputs": [],
   "source": [
    "up_stack = [\n",
    "    pix2pix.upsample(512, 3),  # 4x4 -> 8x8\n",
    "    pix2pix.upsample(256, 3),  # 8x8 -> 16x16\n",
    "    pix2pix.upsample(128, 3),  # 16x16 -> 32x32\n",
    "    pix2pix.upsample(64, 3),   # 32x32 -> 64x64\n",
    "]"
   ]
  },
  {
   "cell_type": "code",
   "execution_count": null,
   "metadata": {
    "colab": {},
    "colab_type": "code",
    "id": "45HByxpVtrPF"
   },
   "outputs": [],
   "source": [
    "def unet_model(output_channels):\n",
    "\n",
    "    # 모델의 마지막 레이어입니다.\n",
    "    last = tf.keras.layers.Conv2DTranspose(\n",
    "        output_channels, 3, strides=2,\n",
    "        padding='same', activation='softmax')  #64x64 -> 128x128\n",
    "\n",
    "    inputs = tf.keras.layers.Input(shape=[128, 128, 3])\n",
    "    x = inputs\n",
    "\n",
    "    # 모델을 통해 다운샘플링합니다.\n",
    "    skips = down_stack(x)\n",
    "    x = skips[-1]\n",
    "    skips = reversed(skips[:-1])\n",
    "\n",
    "    # 업샘플링과 스킵 커넥션(skip conection)을 합니다.\n",
    "    for up, skip in zip(up_stack, skips):\n",
    "        x = up(x)\n",
    "        concat = tf.keras.layers.Concatenate()\n",
    "        x = concat([x, skip])\n",
    "\n",
    "    x = last(x)\n",
    "\n",
    "    return tf.keras.Model(inputs=inputs, outputs=x)"
   ]
  },
  {
   "cell_type": "markdown",
   "metadata": {
    "colab_type": "text",
    "id": "j0DGH_4T0VYn"
   },
   "source": [
    "## 4. 모델 학습시키기\n",
    "이제, 이제 남은 것은 모델을 컴파일하고 학습시키는 것입니다. 여기서 사용되고 있는 손실(loss) 함수는 `loss.sparse_categorical_crossentropy`입니다. 이 손실 함수를 사용하는 이유는 네트워크가 다중 클래스를 예측하는 것처럼 각 픽셀에도 레이블을 지정하려고 하기 때문입니다. 실제 세그멘테이션 마스크에서의 각 픽셀은 {0,1,2}의 값을 가지고 있습니다. 여기 있는 네트워크는 세 개의 채널을 출력하고 있습니다. 기본적으로 각 채널은 클래스 예측 기법을 학습하고 `loss.sparse_categorical_crossentropy`는 이러한 상황에 잘 맞는 손실 함수입니다. 픽셀에 할당된 레이블은 네트워크의 출력 값이 가장 높은 채널입니다. 이것이 create_mask 함수의 기능입니다."
   ]
  },
  {
   "cell_type": "code",
   "execution_count": null,
   "metadata": {
    "colab": {},
    "colab_type": "code",
    "id": "6he36HK5uKAc"
   },
   "outputs": [],
   "source": [
    "model = unet_model(OUTPUT_CHANNELS)\n",
    "model.compile(optimizer='adam', loss='sparse_categorical_crossentropy',\n",
    "              metrics=['accuracy'])"
   ]
  },
  {
   "cell_type": "markdown",
   "metadata": {
    "colab_type": "text",
    "id": "xVMzbIZLcyEF"
   },
   "source": [
    "모델의 결과 구조를 빠르게 확인해봅시다:"
   ]
  },
  {
   "cell_type": "code",
   "execution_count": null,
   "metadata": {
    "colab": {
     "base_uri": "https://localhost:8080/",
     "height": 1000
    },
    "colab_type": "code",
    "executionInfo": {
     "elapsed": 1623,
     "status": "ok",
     "timestamp": 1579108372388,
     "user": {
      "displayName": "권나현",
      "photoUrl": "",
      "userId": "08701108352160795584"
     },
     "user_tz": -540
    },
    "id": "sw82qF1Gcovr",
    "outputId": "3cb27d2b-5aae-4956-a8f2-65b5924b2f79"
   },
   "outputs": [],
   "source": [
    "tf.keras.utils.plot_model(model, show_shapes=True)"
   ]
  },
  {
   "cell_type": "markdown",
   "metadata": {
    "colab_type": "text",
    "id": "Tc3MiEO2twLS"
   },
   "source": [
    "이 모델을 사용해보고 학습하기 전에 예측한 것을 살펴보겠습니다.\n"
   ]
  },
  {
   "cell_type": "code",
   "execution_count": null,
   "metadata": {
    "colab": {},
    "colab_type": "code",
    "id": "UwvIKLZPtxV_"
   },
   "outputs": [],
   "source": [
    "def create_mask(pred_mask):\n",
    "    pred_mask = tf.argmax(pred_mask, axis=-1)\n",
    "    pred_mask = pred_mask[..., tf.newaxis]\n",
    "    return pred_mask[0]"
   ]
  },
  {
   "cell_type": "code",
   "execution_count": null,
   "metadata": {
    "colab": {},
    "colab_type": "code",
    "id": "YLNsrynNtx4d"
   },
   "outputs": [],
   "source": [
    "def show_predictions(dataset=None, num=1):\n",
    "    if dataset:\n",
    "        for image, mask in dataset.take(num):\n",
    "            pred_mask = model.predict(image)\n",
    "            display([image[0], mask[0], create_mask(pred_mask)])\n",
    "    else:\n",
    "        display([sample_image, sample_mask,\n",
    "             create_mask(model.predict(sample_image[tf.newaxis, ...]))])"
   ]
  },
  {
   "cell_type": "code",
   "execution_count": null,
   "metadata": {
    "colab": {
     "base_uri": "https://localhost:8080/",
     "height": 313
    },
    "colab_type": "code",
    "executionInfo": {
     "elapsed": 2371,
     "status": "ok",
     "timestamp": 1579108385027,
     "user": {
      "displayName": "권나현",
      "photoUrl": "",
      "userId": "08701108352160795584"
     },
     "user_tz": -540
    },
    "id": "X_1CC0T4dho3",
    "outputId": "2a31d280-2e0c-4ec6-eee9-9c38129b57d4"
   },
   "outputs": [],
   "source": [
    "show_predictions()"
   ]
  },
  {
   "cell_type": "markdown",
   "metadata": {
    "colab_type": "text",
    "id": "22AyVYWQdkgk"
   },
   "source": [
    "학습하는 동안 모델이 어떻게 개선되는지 보겠습니다. 이 작업을 수행하기 위한 콜백(callback) 함수가 아래에 정의되어 있습니다."
   ]
  },
  {
   "cell_type": "code",
   "execution_count": null,
   "metadata": {
    "colab": {},
    "colab_type": "code",
    "id": "wHrHsqijdmL6"
   },
   "outputs": [],
   "source": [
    "class DisplayCallback(tf.keras.callbacks.Callback):\n",
    "    def on_epoch_end(self, epoch, logs=None):\n",
    "        clear_output(wait=True)\n",
    "        show_predictions()\n",
    "        print ('\\nSample Prediction after epoch {}\\n'.format(epoch+1))"
   ]
  },
  {
   "cell_type": "code",
   "execution_count": null,
   "metadata": {
    "colab": {
     "base_uri": "https://localhost:8080/",
     "height": 70
    },
    "colab_type": "code",
    "id": "StKDH_B9t4SD",
    "outputId": "e2ad16c2-9feb-4eff-d7d8-87e5de2a4485"
   },
   "outputs": [],
   "source": [
    "EPOCHS = 5\n",
    "VAL_SUBSPLITS = 5\n",
    "VALIDATION_STEPS = info.splits['test'].num_examples//BATCH_SIZE//VAL_SUBSPLITS\n",
    "\n",
    "model_history = model.fit(train_dataset, epochs=EPOCHS,\n",
    "                          steps_per_epoch=STEPS_PER_EPOCH,\n",
    "                          validation_steps=VALIDATION_STEPS,\n",
    "                          validation_data=test_dataset,\n",
    "                          callbacks=[DisplayCallback()])"
   ]
  },
  {
   "cell_type": "code",
   "execution_count": null,
   "metadata": {
    "colab": {
     "base_uri": "https://localhost:8080/",
     "height": 295
    },
    "colab_type": "code",
    "executionInfo": {
     "elapsed": 73333,
     "status": "ok",
     "timestamp": 1579108141119,
     "user": {
      "displayName": "권나현",
      "photoUrl": "",
      "userId": "08701108352160795584"
     },
     "user_tz": -540
    },
    "id": "P_mu0SAbt40Q",
    "outputId": "a1b397d2-f817-4018-c97e-1814bd45b3e2"
   },
   "outputs": [],
   "source": [
    "loss = model_history.history['loss']\n",
    "val_loss = model_history.history['val_loss']\n",
    "\n",
    "epochs = range(EPOCHS)\n",
    "\n",
    "plt.figure()\n",
    "plt.plot(epochs, loss, 'r', label='Training loss')\n",
    "plt.plot(epochs, val_loss, 'r', label='Validation loss', color = 'b')\n",
    "plt.title('Training and Validation Loss')\n",
    "plt.xlabel('Epoch')\n",
    "plt.ylabel('Loss Value')\n",
    "plt.ylim([0, 1])\n",
    "plt.legend()\n",
    "plt.show()"
   ]
  },
  {
   "cell_type": "markdown",
   "metadata": {
    "colab_type": "text",
    "id": "unP3cnxo_N72"
   },
   "source": [
    "## 5. 예측하기"
   ]
  },
  {
   "cell_type": "markdown",
   "metadata": {
    "colab_type": "text",
    "id": "7BVXldSo-0mW"
   },
   "source": [
    "몇 가지 데이터를 예측해 봅시다. 시간을 절약하기 위해, 에포크 수는 작게 설정되었지만, 보다 정확한 결과를 얻기 위해 이 값을 더 높게 설정해야할 것입니다."
   ]
  },
  {
   "cell_type": "code",
   "execution_count": null,
   "metadata": {
    "colab": {
     "base_uri": "https://localhost:8080/",
     "height": 865
    },
    "colab_type": "code",
    "executionInfo": {
     "elapsed": 76381,
     "status": "ok",
     "timestamp": 1579108144173,
     "user": {
      "displayName": "권나현",
      "photoUrl": "",
      "userId": "08701108352160795584"
     },
     "user_tz": -540
    },
    "id": "ikrzoG24qwf5",
    "outputId": "6f538e52-c2df-472a-f365-092e875cedae"
   },
   "outputs": [],
   "source": [
    "show_predictions(test_dataset, 3)"
   ]
  },
  {
   "cell_type": "markdown",
   "metadata": {
    "colab_type": "text",
    "id": "cZCM65CBt1CJ"
   },
   "source": [
    "# Copyright 2019 The TensorFlow Authors.\n",
    "\n",
    "Licensed under the Apache License, Version 2.0 (the \"License\");"
   ]
  },
  {
   "cell_type": "code",
   "execution_count": null,
   "metadata": {
    "cellView": "form",
    "colab": {},
    "colab_type": "code",
    "id": "JOgMcEajtkmg"
   },
   "outputs": [],
   "source": [
    "#@title Licensed under the Apache License, Version 2.0 (the \"License\");\n",
    "# you may not use this file except in compliance with the License.\n",
    "# You may obtain a copy of the License at\n",
    "#\n",
    "# https://www.apache.org/licenses/LICENSE-2.0\n",
    "#\n",
    "# Unless required by applicable law or agreed to in writing, software\n",
    "# distributed under the License is distributed on an \"AS IS\" BASIS,\n",
    "# WITHOUT WARRANTIES OR CONDITIONS OF ANY KIND, either express or implied.\n",
    "# See the License for the specific language governing permissions and\n",
    "# limitations under the License."
   ]
  }
 ],
 "metadata": {
  "colab": {
   "collapsed_sections": [],
   "name": "segmentation.ipynb",
   "provenance": [
    {
     "file_id": "https://github.com/tensorflow/docs/blob/master/site/en/tutorials/images/segmentation.ipynb",
     "timestamp": 1578809289286
    }
   ],
   "toc_visible": true
  },
  "kernelspec": {
   "display_name": "Python 3",
   "language": "python",
   "name": "python3"
  },
  "language_info": {
   "codemirror_mode": {
    "name": "ipython",
    "version": 3
   },
   "file_extension": ".py",
   "mimetype": "text/x-python",
   "name": "python",
   "nbconvert_exporter": "python",
   "pygments_lexer": "ipython3",
   "version": "3.6.6"
  }
 },
 "nbformat": 4,
 "nbformat_minor": 1
}
