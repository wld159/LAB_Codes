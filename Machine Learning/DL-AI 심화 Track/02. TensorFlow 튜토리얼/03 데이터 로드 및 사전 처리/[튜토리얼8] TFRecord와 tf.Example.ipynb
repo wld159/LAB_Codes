{
 "cells": [
  {
   "cell_type": "markdown",
   "metadata": {
    "colab_type": "text",
    "id": "HQzaEQuJiW_d"
   },
   "source": [
    "# [튜토리얼8] TFRecord와 tf.Example"
   ]
  },
  {
   "cell_type": "markdown",
   "metadata": {
    "colab_type": "text",
    "id": "3pkUd_9IZCFO"
   },
   "source": [
    "이번 튜토리얼에서는 TFRecord와 tf.Example을 다루는 방법을 보겠습니다.\n",
    "\n",
    "데이터를 효율적으로 읽으려면 데이터를 나열하고 연속적으로 읽을 수 있도록 파일 집합(각 100-200MB)에 저장하는 것이 유용합니다. 이는 특히 데이터를 네트워크를 통해 스트리밍하는 경우에 더욱 효과적입니다. 이 기능은 데이터 전처리를 캐싱하는 데에도 유용할 것입니다.\n",
    "\n",
    "TFRecord 형식은 이진 레코드의 시퀀스를 저장할 수 있는 간단한 형식입니다.\n",
    "\n",
    "[프로토콜 버퍼](https://developers.google.com/protocol-buffers/)는 구조화된 데이터의 효율적인 직렬화(serialize)를 위한 교차 플랫폼(cross-platform), 교차 언어(cross-language) 라이브러리입니다.\n",
    "\n",
    "* 프로토콜 메시지는 `.proto` 파일로 정의되며, 이러한 메시지는 메시지 타입을 이해하는 가장 쉬운 방법입니다.\n",
    "* `tf.Example` 메시지(또는 protobuf)는 `{\"string\": value}` 매핑을 나타내는 유연한 메시지 유형입니다.\n",
    "* TensorFlow와 함께 사용하도록 설계되었으며 TFX와 같은 상위 레벨 API에서 사용됩니다."
   ]
  },
  {
   "cell_type": "markdown",
   "metadata": {
    "colab_type": "text",
    "id": "Ac83J0QxjhFt"
   },
   "source": [
    "이 튜토리얼에서는 `tf.Example` 메세지를 만들고 분석하며 사용하는 방법을 보여줄 것입니다. 그 후  `tf.Example` 메세지를 `.tfrecord`에서 직렬화(serialize)하거나 작성하고 읽어옵니다.\n",
    "\n",
    "참고: 이 방법은 유용하지만 선택 사항입니다. 이미 [`tf.data`](https://www.tensorflow.org/guide/datasets)를 사용 중이거나 데이터를 읽는 것이 훈련 과정에서의 병목 현상인 경우가 아니라면 굳이 기존 코드에서 TFRecords를 사용하기위해 변환할 필요는 없습니다."
   ]
  },
  {
   "cell_type": "code",
   "execution_count": null,
   "metadata": {
    "colab": {},
    "colab_type": "code",
    "id": "Ja7sezsmnXph"
   },
   "outputs": [],
   "source": [
    "import warnings\n",
    "warnings.simplefilter('ignore')\n",
    "\n",
    "import tensorflow as tf\n",
    "import numpy as np\n",
    "import IPython.display as display"
   ]
  },
  {
   "cell_type": "markdown",
   "metadata": {
    "colab_type": "text",
    "id": "2zWuUmvgUMsI"
   },
   "source": [
    "# 목차\n",
    "1. tf.Example\n",
    "2. TFRecords의 세부 정보\n",
    "3. tf.data로 TFRecord 파일 다루기\n",
    "4. Python에서 TFRecord 파일 다루기\n",
    "5. 예제: 이미지 데이터를 불러오고 작성하기"
   ]
  },
  {
   "cell_type": "markdown",
   "metadata": {
    "colab_type": "text",
    "id": "e5Kq88ccUWQV"
   },
   "source": [
    "## 1. `tf.Example`"
   ]
  },
  {
   "cell_type": "markdown",
   "metadata": {
    "colab_type": "text",
    "id": "VrdQHgvNijTi"
   },
   "source": [
    "### 1.1 `tf.Example`의 데이터 타입"
   ]
  },
  {
   "cell_type": "markdown",
   "metadata": {
    "colab_type": "text",
    "id": "lZw57Qrn4CTE"
   },
   "source": [
    "기본적으로 `tf.Example`은 `{\"string\": tf.train.Feature}` 매핑으로 이루어져 있습니다.\n",
    "\n",
    "`tf.train.Feature` 메시지 타입은 다음 세 가지 유형 중 하나로 사용할 수 있습니다. 대부분의 다른 제네릭(generic) 타입은 다음 중 하나로 강제 적용할 수 있습니다.\n",
    "\n",
    "1. `tf.train.BytesList` (다음 유형을 강제 적용할 수 있습니다.)\n",
    "\n",
    "  - `string`\n",
    "  - `byte`\n",
    "\n",
    "2. `tf.train.FloatList` (다음 유형을 강제 적용할 수 있습니다.)\n",
    "\n",
    "  - `float` (`float32`)\n",
    "  - `double` (`float64`)\n",
    "\n",
    "3. `tf.train.Int64List` (다음 유형을 강제 적용할 수 있습니다.)\n",
    "\n",
    "  - `bool`\n",
    "  - `enum`\n",
    "  - `int32`\n",
    "  - `uint32`\n",
    "  - `int64`\n",
    "  - `uint64`"
   ]
  },
  {
   "cell_type": "markdown",
   "metadata": {
    "colab_type": "text",
    "id": "_e3g9ExathXP"
   },
   "source": [
    "아래의 방법들을 통해 표준 텐서플로우 타입을 `tf.train.Feature`와 호환가능한 `tf.Example`로  손쉽게 변환할 수 있습니다. \n",
    "\n",
    "참고로 각 함수는 스칼라 입력 값을 사용하고 위의 세 가지 `list` 타입 중 하나로 되어있는 `tf.train.Feature`을 반환합니다."
   ]
  },
  {
   "cell_type": "code",
   "execution_count": null,
   "metadata": {
    "colab": {},
    "colab_type": "code",
    "id": "mbsPOUpVtYxA"
   },
   "outputs": [],
   "source": [
    "# 다음 함수들을 사용하여 값을 tf.Example과 호환되는 형식으로 변환할 수 있습니다\n",
    "\n",
    "def _bytes_feature(value):\n",
    "    \"\"\"string / byte를 byte_list로 반환합니다.\"\"\"\n",
    "    if isinstance(value, type(tf.constant(0))):\n",
    "        value = value.numpy() # ByteList는 EagerTensor의 문자열을 언팩(unpack)하지 않습니다.\n",
    "    return tf.train.Feature(bytes_list=tf.train.BytesList(value=[value]))\n",
    "\n",
    "def _float_feature(value):\n",
    "    \"\"\"float / double을 float_list로 반환합니다.\"\"\"\n",
    "    return tf.train.Feature(float_list=tf.train.FloatList(value=[value]))\n",
    "\n",
    "def _int64_feature(value):\n",
    "    \"\"\"bool / enum / int / unit을 int64_list로 반환합니다.\"\"\"\n",
    "    return tf.train.Feature(int64_list=tf.train.Int64List(value=[value]))"
   ]
  },
  {
   "cell_type": "markdown",
   "metadata": {
    "colab_type": "text",
    "id": "Wst0v9O8hgzy"
   },
   "source": [
    "참고: 단순성을 유지하기 위해 이 예시에서는 스칼라 입력만 사용합니다. 스칼라가 아닌 피쳐를 처리하는 가장 간단한 방법은 `tf.serialize_tensor`를 사용하여 텐서를 이진 스트링으로 변환하는 것입니다. 문자열은 텐서플로우에서는 스칼라입니다. `tf.parse_tensor`를 사용하여 이진 문자열을 다시 텐서로 변환합니다."
   ]
  },
  {
   "cell_type": "markdown",
   "metadata": {
    "colab_type": "text",
    "id": "vsMbkkC8xxtB"
   },
   "source": [
    "다음은 이러한 함수의 작동 원리를 보여 주는 몇 가지 예시들을 보여줍니다. 함수에 대한 입력 유형이 위에서 언급한 강제성 유형과 일치하지 않을 경우 예외가 발생합니다(예: `_int64_feature(1.0)`는 `1.0`이 float이기 때문에 에러가 발생할 것입니다. 그러므로 그 대신 `_float_feature`을 사용해야 합니다.):"
   ]
  },
  {
   "cell_type": "code",
   "execution_count": null,
   "metadata": {
    "colab": {
     "base_uri": "https://localhost:8080/",
     "height": 368
    },
    "colab_type": "code",
    "executionInfo": {
     "elapsed": 4348,
     "status": "ok",
     "timestamp": 1578582295419,
     "user": {
      "displayName": "권나현",
      "photoUrl": "",
      "userId": "08701108352160795584"
     },
     "user_tz": -540
    },
    "id": "hZzyLGr0u73y",
    "outputId": "112214f6-51c0-4c61-fc1f-b8e2cf0e805e"
   },
   "outputs": [],
   "source": [
    "print(_bytes_feature(b'test_string'))\n",
    "print(_bytes_feature(u'test_bytes'.encode('utf-8')))\n",
    "\n",
    "print(_float_feature(np.exp(1)))\n",
    "\n",
    "print(_int64_feature(True))\n",
    "print(_int64_feature(1))"
   ]
  },
  {
   "cell_type": "markdown",
   "metadata": {
    "colab_type": "text",
    "id": "nj1qpfQU5qmi"
   },
   "source": [
    "모든 프로토(proto) 메시지는 `.SerializeToString` 메서드를 사용하여 이진 문자열로 직렬화(serialize)할 수 있습니다."
   ]
  },
  {
   "cell_type": "code",
   "execution_count": null,
   "metadata": {
    "colab": {
     "base_uri": "https://localhost:8080/",
     "height": 34
    },
    "colab_type": "code",
    "executionInfo": {
     "elapsed": 4301,
     "status": "ok",
     "timestamp": 1578582295434,
     "user": {
      "displayName": "권나현",
      "photoUrl": "",
      "userId": "08701108352160795584"
     },
     "user_tz": -540
    },
    "id": "5afZkORT5pjm",
    "outputId": "38fd1c35-07b1-493e-a2d8-0cc11f963221"
   },
   "outputs": [],
   "source": [
    "feature = _float_feature(np.exp(1))\n",
    "\n",
    "feature.SerializeToString()"
   ]
  },
  {
   "cell_type": "markdown",
   "metadata": {
    "colab_type": "text",
    "id": "laKnw9F3hL-W"
   },
   "source": [
    "### 1.2 `tf.Example` 메세지 만들기"
   ]
  },
  {
   "cell_type": "markdown",
   "metadata": {
    "colab_type": "text",
    "id": "b_MEnhxchQPC"
   },
   "source": [
    "기존 데이터에 `tf.Example` 메세지를 생성한다고 해봅시다. 실제로 데이터셋은 다양하게 제공될 수 있지만 단일 관측치에 대해 `tf.Example` 메세지를 생성하는 절차는 동일합니다.\n",
    "\n",
    "1. 각 관측치 내의 각 값들을 위의 함수들을 사용하여 위 3가지의 호환 가능한 타입을 가지고있는 `tf.train.Feature`로 변환해야 합니다.\n",
    "\n",
    "2. 피쳐(feature) 이름 문자열에서 1단계에서 생성된 인코딩된 피쳐 값으로 맵(딕셔너리)을 만듭니다.\n",
    "\n",
    "3. 2단계에서 생성된 맵(map)을 [피쳐 메세지](https://github.com/tensorflow/tensorflow/blob/master/tensorflow/core/example/feature.proto#L85)(Features message)로 변환합니다."
   ]
  },
  {
   "cell_type": "markdown",
   "metadata": {
    "colab_type": "text",
    "id": "4EgFQ2uHtchc"
   },
   "source": [
    "이번 튜토리얼에서는 NumPy를 사용해 데이터셋을 생성할 것입니다.\n",
    "\n",
    "이 데이터셋은 아래의 4가지 피쳐로 구성됩니다:\n",
    "\n",
    "* 동일한 확률을 가진 `False`나 `True`값을 가지는 불리언(boolean) 피쳐\n",
    "* 균일하게 임의로 선택된 0과 5사이의 정수형(integer) 피쳐\n",
    "* 정수 피쳐를 인덱스로 사용하는 문자열 테이블에서 생성된 문자열(string) 피쳐\n",
    "* 표준 정규 분포를 따르는 실수형(float) 피쳐\n",
    "\n",
    "위의 각 분포에서 10,000개의 독립적이고 동일한 분포의 관측치로 구성된 표본을 사용해봅시다."
   ]
  },
  {
   "cell_type": "code",
   "execution_count": null,
   "metadata": {
    "colab": {},
    "colab_type": "code",
    "id": "CnrguFAy3YQv"
   },
   "outputs": [],
   "source": [
    "# 데이터셋 내 관값의 수\n",
    "n_observations = int(1e4)\n",
    "\n",
    "# False나 True로 인코딩하는 불리언 피쳐\n",
    "feature0 = np.random.choice([False, True], n_observations)\n",
    "\n",
    "# 0과 5사이의 무작위 정수를 뽑는 정수형 피쳐\n",
    "feature1 = np.random.randint(0, 5, n_observations)\n",
    "\n",
    "# 문자열 피쳐\n",
    "strings = np.array([b'cat', b'dog', b'chicken', b'horse', b'goat'])\n",
    "feature2 = strings[feature1]\n",
    "\n",
    "# 표준 정규화 분포를 따르는 실수형 피쳐\n",
    "feature3 = np.random.randn(n_observations)"
   ]
  },
  {
   "cell_type": "markdown",
   "metadata": {
    "colab_type": "text",
    "id": "aGrscehJr7Jd"
   },
   "source": [
    "각 피쳐들은 강제로 `_bytes_feature`, `_float_feature`, `_int64_feature` 중 하나를 사용해서 호환가능한 `tf.Example`으로 만들 수 있습니다. 이후 위 방법으로 인코딩된 피쳐들을 이용해 `tf.Example` 메세지를 생성할 수 있습니다."
   ]
  },
  {
   "cell_type": "code",
   "execution_count": null,
   "metadata": {
    "colab": {},
    "colab_type": "code",
    "id": "RTCS49Ij_kUw"
   },
   "outputs": [],
   "source": [
    "def serialize_example(feature0, feature1, feature2, feature3):\n",
    "    \"\"\"\n",
    "    Creates a tf.Example message ready to be written to a file.\n",
    "    \"\"\"\n",
    "    # 피쳐 이름을 tf.Example-compatible의 데이터 타입과 맞게 매핑한 사전을 만듭니다.\n",
    "    feature = {\n",
    "        'feature0': _int64_feature(feature0),\n",
    "        'feature1': _int64_feature(feature1),\n",
    "        'feature2': _bytes_feature(feature2),\n",
    "        'feature3': _float_feature(feature3),\n",
    "    }\n",
    "\n",
    "    # tf.train.Example을 이용해 Features 메시지를 만듭니다\n",
    "    example_proto = tf.train.Example(features=tf.train.Features(feature=feature))\n",
    "    return example_proto.SerializeToString()"
   ]
  },
  {
   "cell_type": "markdown",
   "metadata": {
    "colab_type": "text",
    "id": "XftzX9CN_uGT"
   },
   "source": [
    "예를 들어, 데이터셋에서 다음과 같은 단일 관측치가 있다고 가정합니다. \n",
    "* `[False, 4, bytes('goat'), 0.9876]`\n",
    "\n",
    "`create_message()`는 이 관측치에 관한 `tf.Example` 메세지를 생성하고 출력할 수 있도록 해줍니다. 각 단일 관측치는 위와 같이 `Features` 메시지로 기록됩니다. \n",
    "\n",
    "여기서 `tf.Example` 메세지는 단지 `Features` 메세지에 대한 래퍼(wrapper)일 뿐입니다."
   ]
  },
  {
   "cell_type": "code",
   "execution_count": null,
   "metadata": {
    "colab": {
     "base_uri": "https://localhost:8080/",
     "height": 54
    },
    "colab_type": "code",
    "executionInfo": {
     "elapsed": 4224,
     "status": "ok",
     "timestamp": 1578582295447,
     "user": {
      "displayName": "권나현",
      "photoUrl": "",
      "userId": "08701108352160795584"
     },
     "user_tz": -540
    },
    "id": "N8BtSx2RjYcb",
    "outputId": "83524ebd-a560-43b5-afb3-2ee1f7191d4e"
   },
   "outputs": [],
   "source": [
    "# 데이터셋의 관측치를 보겠습니다.\n",
    "\n",
    "example_observation = []\n",
    "\n",
    "serialized_example = serialize_example(False, 4, b'goat', 0.9876)\n",
    "serialized_example"
   ]
  },
  {
   "cell_type": "markdown",
   "metadata": {
    "colab_type": "text",
    "id": "_pbGATlG6u-4"
   },
   "source": [
    "`tf.train.Example.FromString`를 이용하여 메세지를 디코딩할 수 있습니다."
   ]
  },
  {
   "cell_type": "code",
   "execution_count": null,
   "metadata": {
    "colab": {
     "base_uri": "https://localhost:8080/",
     "height": 614
    },
    "colab_type": "code",
    "executionInfo": {
     "elapsed": 4167,
     "status": "ok",
     "timestamp": 1578582295451,
     "user": {
      "displayName": "권나현",
      "photoUrl": "",
      "userId": "08701108352160795584"
     },
     "user_tz": -540
    },
    "id": "dGim-mEm6vit",
    "outputId": "fcd73b71-4dfd-4870-8e9f-9ccc85783f35"
   },
   "outputs": [],
   "source": [
    "example_proto = tf.train.Example.FromString(serialized_example)\n",
    "example_proto"
   ]
  },
  {
   "cell_type": "markdown",
   "metadata": {
    "colab_type": "text",
    "id": "o6qxofy89obI"
   },
   "source": [
    "## 2. TFRecords의 세부 정보\n",
    "\n",
    "TFRecord 파일에는 일련의 레코드(record)가 포함되어 있습니다. 파일은 순차적으로만 읽을 수 있습니다.\n",
    "\n",
    "각 레코드에는 데이터 페이로드(data-payload)에 대한 바이트 문자열과 데이터 길이 및 무결성(integrity) 검사를 위한 CRC32C(Castagnoli 다항식을 사용하는 32비트 CRC) 해시(hash)가 포함되어 있습니다.\n",
    "\n",
    "각 레코드는 다음과 같은 형식으로 저장됩니다:\n",
    "\n",
    "    uint64 length\n",
    "    uint32 masked_crc32_of_length\n",
    "    byte   data[length]\n",
    "    uint32 masked_crc32_of_data\n",
    "\n",
    "레코드는 파일을 만들기 위해 함께 연결되어 있습니다. CRC의 마스크(mask)는 다음과 같습니다:\n",
    "\n",
    "    masked_crc = ((crc >> 15) | (crc << 17)) + 0xa282ead8ul\n",
    "\n",
    "참고: `tf.Example`은 TFRecord 파일에서는 사용할 필요가 없습니다. `tf.Example`은 `tf.io.serialize_tensor`와\n",
    "`tf.io.parse_tensor`로 불러온 텍스트 라인, 인코딩된 이미지 데이터 또는 직렬화된 텐서와 같은 바이트 문자열을 순서대로 나열하는 디렉토리 메서드일 뿐입니다."
   ]
  },
  {
   "cell_type": "markdown",
   "metadata": {
    "colab_type": "text",
    "id": "y-Hjmee-fbLH"
   },
   "source": [
    "## 3. `tf.data`로 TFRecord 파일 다루기"
   ]
  },
  {
   "cell_type": "markdown",
   "metadata": {
    "colab_type": "text",
    "id": "GmehkCCT81Ez"
   },
   "source": [
    "`tf.data` 모듈은 TensorFlow에서 데이터를 읽고 작성하는 도구도 제공합니다."
   ]
  },
  {
   "cell_type": "markdown",
   "metadata": {
    "colab_type": "text",
    "id": "1FISEuz8ubu3"
   },
   "source": [
    "### 3.1 TFRecord 파일 작성하기\n",
    "\n",
    "데이터를 데이터셋으로 가져오는 가장 쉬운 방법은 `from_tensor_slices` 메서드를 사용하는 것입니다.\n",
    "\n",
    "배열에 적용하면 다음과 같은 스칼라 데이터셋을 반환합니다."
   ]
  },
  {
   "cell_type": "code",
   "execution_count": null,
   "metadata": {
    "colab": {
     "base_uri": "https://localhost:8080/",
     "height": 34
    },
    "colab_type": "code",
    "executionInfo": {
     "elapsed": 4084,
     "status": "ok",
     "timestamp": 1578582295454,
     "user": {
      "displayName": "권나현",
      "photoUrl": "",
      "userId": "08701108352160795584"
     },
     "user_tz": -540
    },
    "id": "mXeaukvwu5_-",
    "outputId": "b5dbdc8d-7efb-4316-8098-e6c667a82ea7"
   },
   "outputs": [],
   "source": [
    "tf.data.Dataset.from_tensor_slices(feature1)"
   ]
  },
  {
   "cell_type": "markdown",
   "metadata": {
    "colab_type": "text",
    "id": "f-q0VKyZvcad"
   },
   "source": [
    "튜플 배열에 적용하면 튜플 데이터셋을 반환합니다."
   ]
  },
  {
   "cell_type": "code",
   "execution_count": null,
   "metadata": {
    "colab": {
     "base_uri": "https://localhost:8080/",
     "height": 34
    },
    "colab_type": "code",
    "executionInfo": {
     "elapsed": 4053,
     "status": "ok",
     "timestamp": 1578582295456,
     "user": {
      "displayName": "권나현",
      "photoUrl": "",
      "userId": "08701108352160795584"
     },
     "user_tz": -540
    },
    "id": "H5sWyu1kxnvg",
    "outputId": "2d0db4ae-7738-49fe-e39f-e064372e6b21"
   },
   "outputs": [],
   "source": [
    "features_dataset = tf.data.Dataset.from_tensor_slices((feature0, feature1, feature2, feature3))\n",
    "features_dataset"
   ]
  },
  {
   "cell_type": "code",
   "execution_count": null,
   "metadata": {
    "colab": {
     "base_uri": "https://localhost:8080/",
     "height": 87
    },
    "colab_type": "code",
    "executionInfo": {
     "elapsed": 4040,
     "status": "ok",
     "timestamp": 1578582295459,
     "user": {
      "displayName": "권나현",
      "photoUrl": "",
      "userId": "08701108352160795584"
     },
     "user_tz": -540
    },
    "id": "m1C-t71Nywze",
    "outputId": "67af78a5-220c-4d99-efa7-196a5ff44202"
   },
   "outputs": [],
   "source": [
    "# 데이터셋에서 하나의 데이터만을 추출하려면 `take(1)`를 사용합니다.\n",
    "for f0,f1,f2,f3 in features_dataset.take(1):\n",
    "    print(f0)\n",
    "    print(f1)\n",
    "    print(f2)\n",
    "    print(f3)"
   ]
  },
  {
   "cell_type": "markdown",
   "metadata": {
    "colab_type": "text",
    "id": "mhIe63awyZYd"
   },
   "source": [
    "`tf.data.Dataset.map` 메서드를 사용하면 `Dataset`의 각 요소에 함수를 적용하는 할 수 있습니다.\n",
    "\n",
    "매핑된 함수는 TensorFlow 그래프 모드에서 실행되어야 하며, `tf.Tensors`로 실행하고 반환해야 합니다. `serialize_example`과 같은 텐서가 아닌 함수는 `tf.py_function`으로 감싸서 호환되도록 만들 수 있습니다.\n",
    "\n",
    "`tf.py_function`을 사용할 때에는 모양 및 입력 정보를 지정해야 합니다. 그렇지 않으면 사용할 수 없습니다:"
   ]
  },
  {
   "cell_type": "code",
   "execution_count": null,
   "metadata": {
    "colab": {},
    "colab_type": "code",
    "id": "apB5KYrJzjPI"
   },
   "outputs": [],
   "source": [
    "def tf_serialize_example(f0,f1,f2,f3):\n",
    "    tf_string = tf.py_function(\n",
    "        serialize_example,\n",
    "        (f0,f1,f2,f3),  # 함수에 이 인자들을 전달합니다.\n",
    "        tf.string)      # 반환되는 데이터 타입은 `tf.string`입니다.\n",
    "    return tf.reshape(tf_string, ()) # 결과물은 스칼라 데이터입니다."
   ]
  },
  {
   "cell_type": "code",
   "execution_count": null,
   "metadata": {
    "colab": {
     "base_uri": "https://localhost:8080/",
     "height": 54
    },
    "colab_type": "code",
    "executionInfo": {
     "elapsed": 4005,
     "status": "ok",
     "timestamp": 1578582295474,
     "user": {
      "displayName": "권나현",
      "photoUrl": "",
      "userId": "08701108352160795584"
     },
     "user_tz": -540
    },
    "id": "lHFjW4u4Npz9",
    "outputId": "51fe4ae1-4885-4a21-f86a-54ff34e83a17"
   },
   "outputs": [],
   "source": [
    "tf_serialize_example(f0,f1,f2,f3)"
   ]
  },
  {
   "cell_type": "markdown",
   "metadata": {
    "colab_type": "text",
    "id": "CrFZ9avE3HUF"
   },
   "source": [
    "데이터셋의 각 요소에 이 함수를 적용하세요:"
   ]
  },
  {
   "cell_type": "code",
   "execution_count": null,
   "metadata": {
    "colab": {
     "base_uri": "https://localhost:8080/",
     "height": 34
    },
    "colab_type": "code",
    "executionInfo": {
     "elapsed": 3993,
     "status": "ok",
     "timestamp": 1578582295480,
     "user": {
      "displayName": "권나현",
      "photoUrl": "",
      "userId": "08701108352160795584"
     },
     "user_tz": -540
    },
    "id": "VDeqYVbW3ww9",
    "outputId": "9af50332-2a89-4f77-9796-e9e06c2aba04"
   },
   "outputs": [],
   "source": [
    "serialized_features_dataset = features_dataset.map(tf_serialize_example)\n",
    "serialized_features_dataset"
   ]
  },
  {
   "cell_type": "code",
   "execution_count": null,
   "metadata": {
    "colab": {},
    "colab_type": "code",
    "id": "DlDfuh46bRf6"
   },
   "outputs": [],
   "source": [
    "def generator():\n",
    "    for features in features_dataset:\n",
    "        yield serialize_example(*features)"
   ]
  },
  {
   "cell_type": "code",
   "execution_count": null,
   "metadata": {
    "colab": {},
    "colab_type": "code",
    "id": "iv9oXKrcbhvX"
   },
   "outputs": [],
   "source": [
    "serialized_features_dataset = tf.data.Dataset.from_generator(\n",
    "    generator, output_types=tf.string, output_shapes=())"
   ]
  },
  {
   "cell_type": "code",
   "execution_count": null,
   "metadata": {
    "colab": {
     "base_uri": "https://localhost:8080/",
     "height": 34
    },
    "colab_type": "code",
    "executionInfo": {
     "elapsed": 3928,
     "status": "ok",
     "timestamp": 1578582295485,
     "user": {
      "displayName": "권나현",
      "photoUrl": "",
      "userId": "08701108352160795584"
     },
     "user_tz": -540
    },
    "id": "Dqz8C4D5cIj9",
    "outputId": "f1d7869a-bd45-4083-fde4-32099df51691"
   },
   "outputs": [],
   "source": [
    "serialized_features_dataset"
   ]
  },
  {
   "cell_type": "markdown",
   "metadata": {
    "colab_type": "text",
    "id": "p6lw5VYpjZZC"
   },
   "source": [
    "그리고 이것을 TFRecord 파일에 작성합니다:"
   ]
  },
  {
   "cell_type": "code",
   "execution_count": null,
   "metadata": {
    "colab": {},
    "colab_type": "code",
    "id": "vP1VgTO44UIE"
   },
   "outputs": [],
   "source": [
    "filename = 'test.tfrecord'\n",
    "writer = tf.data.experimental.TFRecordWriter(filename)\n",
    "writer.write(serialized_features_dataset)"
   ]
  },
  {
   "cell_type": "markdown",
   "metadata": {
    "colab_type": "text",
    "id": "6aV0GQhV8tmp"
   },
   "source": [
    "### 3.2 TFRecord 파일 읽어오기"
   ]
  },
  {
   "cell_type": "markdown",
   "metadata": {
    "colab_type": "text",
    "id": "o3J5D4gcSy8N"
   },
   "source": [
    "`tf.data.TFRecordDataset` 클래스로도 TFRecord 파일을 읽어올 수 있습니다.\n",
    "\n",
    "`TFRecordDataset`은 입력 데이터를 표준화하고 성능을 최적화하는 데 유용합니다."
   ]
  },
  {
   "cell_type": "code",
   "execution_count": null,
   "metadata": {
    "colab": {
     "base_uri": "https://localhost:8080/",
     "height": 34
    },
    "colab_type": "code",
    "executionInfo": {
     "elapsed": 7777,
     "status": "ok",
     "timestamp": 1578582299397,
     "user": {
      "displayName": "권나현",
      "photoUrl": "",
      "userId": "08701108352160795584"
     },
     "user_tz": -540
    },
    "id": "6OjX6UZl-bHC",
    "outputId": "b1de8ffd-59d3-42d2-9ea6-838aceea4f6f"
   },
   "outputs": [],
   "source": [
    "filenames = [filename]\n",
    "raw_dataset = tf.data.TFRecordDataset(filenames)\n",
    "raw_dataset"
   ]
  },
  {
   "cell_type": "markdown",
   "metadata": {
    "colab_type": "text",
    "id": "6_EQ9i2E_-Fz"
   },
   "source": [
    "이 때 데이터셋에는 직렬화된 `tf.train.Example` 메세지가 포함되어 있습니다. 이를 데이터셋에 전부 반복(iterate)하면 스칼라 문자열 텐서로 반환됩니다.\n",
    "\n",
    "`.take` 메서드를 사용하면 처음 10개의 레코드만을 보여줍니다.\n",
    "\n",
    "참고: `tf.data.Dataset`에 대해서 반복(iterate)하는 것은 즉시 실행 모드에서만 가능합니다."
   ]
  },
  {
   "cell_type": "code",
   "execution_count": null,
   "metadata": {
    "colab": {
     "base_uri": "https://localhost:8080/",
     "height": 213
    },
    "colab_type": "code",
    "executionInfo": {
     "elapsed": 7739,
     "status": "ok",
     "timestamp": 1578582299405,
     "user": {
      "displayName": "권나현",
      "photoUrl": "",
      "userId": "08701108352160795584"
     },
     "user_tz": -540
    },
    "id": "hxVXpLz_AJlm",
    "outputId": "05d085cf-f6b6-46a0-8892-979f52128700"
   },
   "outputs": [],
   "source": [
    "for raw_record in raw_dataset.take(10):\n",
    "    print(repr(raw_record))"
   ]
  },
  {
   "cell_type": "markdown",
   "metadata": {
    "colab_type": "text",
    "id": "W-6oNzM4luFQ"
   },
   "source": [
    "위 텐서들은 아래 함수를 통해 구문 분석할 수 있습니다. 여기에서는 데이터셋이 그래프 실행(graph-execution)을 사용하고 데이터셋의 모양(shape)과 타입 시그니처(type signature)를 생성하기 위해서는 이에 대한 정보가 필요하기 때문에 `feature_description`을 사용해야 합니다."
   ]
  },
  {
   "cell_type": "code",
   "execution_count": null,
   "metadata": {
    "colab": {},
    "colab_type": "code",
    "id": "zQjbIR1nleiy"
   },
   "outputs": [],
   "source": [
    "# 피쳐들의 간단한 정보를 보여주는 description을 만듭니다\n",
    "feature_description = {\n",
    "    'feature0': tf.io.FixedLenFeature([], tf.int64, default_value=0),\n",
    "    'feature1': tf.io.FixedLenFeature([], tf.int64, default_value=0),\n",
    "    'feature2': tf.io.FixedLenFeature([], tf.string, default_value=''),\n",
    "    'feature3': tf.io.FixedLenFeature([], tf.float32, default_value=0.0),\n",
    "}\n",
    "\n",
    "def _parse_function(example_proto):\n",
    "  # 위의 딕셔너리를 이용해서 입력값인 `tf.Example` 프로토를 파싱합니다.\n",
    "  return tf.io.parse_single_example(example_proto, feature_description)"
   ]
  },
  {
   "cell_type": "markdown",
   "metadata": {
    "colab_type": "text",
    "id": "gWETjUqhEQZf"
   },
   "source": [
    "또는 `tf.parse example`를 사용하여 전체 배치를 한 번에 구문 분석할 수 있습니다. 이 함수를 `tf.data.Dataset.map` 메서드로 데이터셋의 각 항목에 적용합니다."
   ]
  },
  {
   "cell_type": "code",
   "execution_count": null,
   "metadata": {
    "colab": {
     "base_uri": "https://localhost:8080/",
     "height": 54
    },
    "colab_type": "code",
    "executionInfo": {
     "elapsed": 7687,
     "status": "ok",
     "timestamp": 1578582299412,
     "user": {
      "displayName": "권나현",
      "photoUrl": "",
      "userId": "08701108352160795584"
     },
     "user_tz": -540
    },
    "id": "6Ob7D-zmBm1w",
    "outputId": "14a211ec-6c71-4f5c-ca60-ce08a2e62253"
   },
   "outputs": [],
   "source": [
    "parsed_dataset = raw_dataset.map(_parse_function)\n",
    "parsed_dataset"
   ]
  },
  {
   "cell_type": "markdown",
   "metadata": {
    "colab_type": "text",
    "id": "sNV-XclGnOvn"
   },
   "source": [
    "즉시 실행을 사용하여 데이터 세트에 관측치를 봅시다. 이 데이터셋에는 10,000개의 관측치가 있지만 우선 처음 10개만 보겠습니다. \n",
    "* 데이터는 피쳐들의 딕셔너리로 표시됩니다. \n",
    "* 각 항목은 `tf.Tensor`이고 이 텐서의 `numpy` 요소는 피쳐 값을 보여줍니다."
   ]
  },
  {
   "cell_type": "code",
   "execution_count": null,
   "metadata": {
    "colab": {
     "base_uri": "https://localhost:8080/",
     "height": 213
    },
    "colab_type": "code",
    "executionInfo": {
     "elapsed": 7625,
     "status": "ok",
     "timestamp": 1578582299418,
     "user": {
      "displayName": "권나현",
      "photoUrl": "",
      "userId": "08701108352160795584"
     },
     "user_tz": -540
    },
    "id": "x2LT2JCqhoD_",
    "outputId": "fc70638f-1f4a-4cb3-e326-66512b0705c3"
   },
   "outputs": [],
   "source": [
    "for parsed_record in parsed_dataset.take(10):\n",
    "    print(repr(parsed_record))"
   ]
  },
  {
   "cell_type": "markdown",
   "metadata": {
    "colab_type": "text",
    "id": "Cig9EodTlDmg"
   },
   "source": [
    "여기서 `tf.parse_example` 함수는 `tf.Example` 필드를 표준 텐서로 변환해줍니다."
   ]
  },
  {
   "cell_type": "markdown",
   "metadata": {
    "colab_type": "text",
    "id": "jyg1g3gU7DNn"
   },
   "source": [
    "## 4. Python에서 TFRecord 파일 다루기"
   ]
  },
  {
   "cell_type": "markdown",
   "metadata": {
    "colab_type": "text",
    "id": "3FXG3miA7Kf1"
   },
   "source": [
    "`tf.io` 모듈에는 TFRecord 파일을 읽고 쓸 수 있는 순수 파이썬 함수들도 포함되어 있습니다."
   ]
  },
  {
   "cell_type": "markdown",
   "metadata": {
    "colab_type": "text",
    "id": "CKn5uql2lAaN"
   },
   "source": [
    "### 4.1 TFRecord 파일 작성하기"
   ]
  },
  {
   "cell_type": "markdown",
   "metadata": {
    "colab_type": "text",
    "id": "LNW_FA-GQWXs"
   },
   "source": [
    "그런 다음 10,000개의 관측치를 `test.tfrecord` 파일에 작성합니다. 각 관측치를 `tf.Example` 메세지로 변환하여 파일에 작성합니다. 작성한 후에야 `test.tfrecord` 파일이 생성되었는지 확인할 수 있습니다:"
   ]
  },
  {
   "cell_type": "code",
   "execution_count": null,
   "metadata": {
    "colab": {},
    "colab_type": "code",
    "id": "MKPHzoGv7q44"
   },
   "outputs": [],
   "source": [
    "# `tf.Example` 관측치들을 파일에 작성합니다.\n",
    "with tf.io.TFRecordWriter(filename) as writer:\n",
    "    for i in range(n_observations):\n",
    "        example = serialize_example(feature0[i], feature1[i], feature2[i], feature3[i])\n",
    "        writer.write(example)"
   ]
  },
  {
   "cell_type": "code",
   "execution_count": null,
   "metadata": {
    "colab": {
     "base_uri": "https://localhost:8080/",
     "height": 34
    },
    "colab_type": "code",
    "executionInfo": {
     "elapsed": 11873,
     "status": "ok",
     "timestamp": 1578582303688,
     "user": {
      "displayName": "권나현",
      "photoUrl": "",
      "userId": "08701108352160795584"
     },
     "user_tz": -540
    },
    "id": "EjdFHHJMpUUo",
    "outputId": "74b572a4-82a7-4d8c-e4fe-7a0484880727"
   },
   "outputs": [],
   "source": [
    "!du -sh {filename}"
   ]
  },
  {
   "cell_type": "markdown",
   "metadata": {
    "colab_type": "text",
    "id": "2osVRnYNni-E"
   },
   "source": [
    "### 4.2 TFRecord 파일 읽어오기\n",
    "\n",
    "이러한 직렬화된 텐서는 `tf.train.Example.ParseFromString`을 이용하여 쉽게 파싱할 수 있습니다:"
   ]
  },
  {
   "cell_type": "code",
   "execution_count": null,
   "metadata": {
    "colab": {
     "base_uri": "https://localhost:8080/",
     "height": 34
    },
    "colab_type": "code",
    "executionInfo": {
     "elapsed": 11858,
     "status": "ok",
     "timestamp": 1578582303690,
     "user": {
      "displayName": "권나현",
      "photoUrl": "",
      "userId": "08701108352160795584"
     },
     "user_tz": -540
    },
    "id": "U3tnd3LerOtV",
    "outputId": "6ad88fc2-317a-470a-c204-f75c114f18a0"
   },
   "outputs": [],
   "source": [
    "filenames = [filename]\n",
    "raw_dataset = tf.data.TFRecordDataset(filenames)\n",
    "raw_dataset"
   ]
  },
  {
   "cell_type": "code",
   "execution_count": null,
   "metadata": {
    "colab": {
     "base_uri": "https://localhost:8080/",
     "height": 632
    },
    "colab_type": "code",
    "executionInfo": {
     "elapsed": 11844,
     "status": "ok",
     "timestamp": 1578582303692,
     "user": {
      "displayName": "권나현",
      "photoUrl": "",
      "userId": "08701108352160795584"
     },
     "user_tz": -540
    },
    "id": "nsEAACHcnm3f",
    "outputId": "dc6450da-37a7-4473-e5b3-941ce5821252"
   },
   "outputs": [],
   "source": [
    "for raw_record in raw_dataset.take(1):\n",
    "    example = tf.train.Example()\n",
    "    example.ParseFromString(raw_record.numpy())\n",
    "    print(example)"
   ]
  },
  {
   "cell_type": "markdown",
   "metadata": {
    "colab_type": "text",
    "id": "S0tFDrwdoj3q"
   },
   "source": [
    "## 5. 예제: 이미지 데이터를 불러오고 작성하기"
   ]
  },
  {
   "cell_type": "markdown",
   "metadata": {
    "colab_type": "text",
    "id": "rjN2LFxFpcR9"
   },
   "source": [
    "이번에는 TFRecords를 사용하여 이미지 데이터를 읽고 쓰는 방법을 보여 주는 엔드 투 엔드(end-to-end)에 대한 예제를 보겠습니다. 이미지를 입력 데이터로 받으면 이를 TFRecord 파일로 작성한 다음 파일을 다시 읽고 이미지를 표시합니다.\n",
    "\n",
    "이는 동일한 입력 데이터셋에서 여러 모델을 사용하려는 경우 유용합니다. 이미지 데이터를 raw 데이터 상태로 저장하지 않고 TFRecord 형식으로 전처리할 수 있고 이 방법으로 모든 추가적인 전처리나 모델링에 사용할 수 있습니다.\n",
    "\n",
    "먼저 눈 속에 있는 고양이의 [이미지](https://commons.wikimedia.org/wiki/File:Felis_catus-cat_on_snow.jpg)와 건설중인 뉴욕 윌리엄스버그 다리 [사진](https://upload.wikimedia.org/wikipedia/commons/f/fe/New_East_River_Bridge_from_Brooklyn_det.4a09796u.jpg)을 다운로드해 보겠습니다."
   ]
  },
  {
   "cell_type": "markdown",
   "metadata": {
    "colab_type": "text",
    "id": "5Lk2qrKvN0yu"
   },
   "source": [
    "### 5.1 이미지 가져오기"
   ]
  },
  {
   "cell_type": "code",
   "execution_count": null,
   "metadata": {
    "colab": {
     "base_uri": "https://localhost:8080/",
     "height": 107
    },
    "colab_type": "code",
    "executionInfo": {
     "elapsed": 12851,
     "status": "ok",
     "timestamp": 1578582304716,
     "user": {
      "displayName": "권나현",
      "photoUrl": "",
      "userId": "08701108352160795584"
     },
     "user_tz": -540
    },
    "id": "3a0fmwg8lHdF",
    "outputId": "96cc04d4-4717-4584-9b7d-3207ebea839f"
   },
   "outputs": [],
   "source": [
    "cat_in_snow  = tf.keras.utils.get_file('320px-Felis_catus-cat_on_snow.jpg', 'https://storage.googleapis.com/download.tensorflow.org/example_images/320px-Felis_catus-cat_on_snow.jpg')\n",
    "williamsburg_bridge = tf.keras.utils.get_file('194px-New_East_River_Bridge_from_Brooklyn_det.4a09796u.jpg','https://storage.googleapis.com/download.tensorflow.org/example_images/194px-New_East_River_Bridge_from_Brooklyn_det.4a09796u.jpg')"
   ]
  },
  {
   "cell_type": "code",
   "execution_count": null,
   "metadata": {
    "colab": {
     "base_uri": "https://localhost:8080/",
     "height": 246
    },
    "colab_type": "code",
    "executionInfo": {
     "elapsed": 12791,
     "status": "ok",
     "timestamp": 1578582304718,
     "user": {
      "displayName": "권나현",
      "photoUrl": "",
      "userId": "08701108352160795584"
     },
     "user_tz": -540
    },
    "id": "7aJJh7vENeE4",
    "outputId": "f876210a-30b1-4e64-885e-a37f61e7dce4"
   },
   "outputs": [],
   "source": [
    "display.display(display.Image(filename=cat_in_snow))\n",
    "display.display(display.HTML('Image cc-by: <a \"href=https://commons.wikimedia.org/wiki/File:Felis_catus-cat_on_snow.jpg\">Von.grzanka</a>'))"
   ]
  },
  {
   "cell_type": "code",
   "execution_count": null,
   "metadata": {
    "colab": {
     "base_uri": "https://localhost:8080/",
     "height": 273
    },
    "colab_type": "code",
    "executionInfo": {
     "elapsed": 13563,
     "status": "ok",
     "timestamp": 1578582305509,
     "user": {
      "displayName": "권나현",
      "photoUrl": "",
      "userId": "08701108352160795584"
     },
     "user_tz": -540
    },
    "id": "KkW0uuhcXZqA",
    "outputId": "d75cb220-8900-4e2c-b30b-f8159f138e5c"
   },
   "outputs": [],
   "source": [
    "display.display(display.Image(filename=williamsburg_bridge))\n",
    "display.display(display.HTML('<a \"href=https://commons.wikimedia.org/wiki/File:New_East_River_Bridge_from_Brooklyn_det.4a09796u.jpg\">From Wikimedia</a>'))"
   ]
  },
  {
   "cell_type": "markdown",
   "metadata": {
    "colab_type": "text",
    "id": "VSOgJSwoN5TQ"
   },
   "source": [
    "### 5.2 TFRecord 파일 작성하기"
   ]
  },
  {
   "cell_type": "markdown",
   "metadata": {
    "colab_type": "text",
    "id": "Azx83ryQEU6T"
   },
   "source": [
    "이전과 마찬가지로 `tf.Example`과 호환되는 타입으로 피쳐를 인코딩합니다. raw 이미지 문자열 피쳐는 물론 높이, 너비, 깊이 및 임의의 '라벨' 피쳐도 저장합니다. 파일을 작성할 때 맨 끝부분에 위치한 피쳐는 고양이 이미지와 다리 이미지를 구분하기 위해  사용합니다. \n",
    "* 고양이 이미지에는 0, 다리 이미지에는 1을 사용합니다."
   ]
  },
  {
   "cell_type": "code",
   "execution_count": null,
   "metadata": {
    "colab": {},
    "colab_type": "code",
    "id": "kC4TS1ZEONHr"
   },
   "outputs": [],
   "source": [
    "image_labels = {\n",
    "    cat_in_snow : 0,\n",
    "    williamsburg_bridge : 1,\n",
    "}"
   ]
  },
  {
   "cell_type": "code",
   "execution_count": null,
   "metadata": {
    "colab": {
     "base_uri": "https://localhost:8080/",
     "height": 298
    },
    "colab_type": "code",
    "executionInfo": {
     "elapsed": 13526,
     "status": "ok",
     "timestamp": 1578582305514,
     "user": {
      "displayName": "권나현",
      "photoUrl": "",
      "userId": "08701108352160795584"
     },
     "user_tz": -540
    },
    "id": "c5njMSYNEhNZ",
    "outputId": "6c2969ca-efbd-44d1-f690-89cad97dfee8"
   },
   "outputs": [],
   "source": [
    "# 고양이 이미지를 사용하는 예시입니다.\n",
    "image_string = open(cat_in_snow, 'rb').read()\n",
    "\n",
    "label = image_labels[cat_in_snow]\n",
    "\n",
    "# 관련이 있을 수도 있는 피쳐들의 사전을 만듭니다.\n",
    "def image_example(image_string, label):\n",
    "    image_shape = tf.image.decode_jpeg(image_string).shape\n",
    "\n",
    "    feature = {\n",
    "        'height': _int64_feature(image_shape[0]),\n",
    "        'width': _int64_feature(image_shape[1]),\n",
    "        'depth': _int64_feature(image_shape[2]),\n",
    "        'label': _int64_feature(label),\n",
    "        'image_raw': _bytes_feature(image_string),\n",
    "    }\n",
    "\n",
    "    return tf.train.Example(features=tf.train.Features(feature=feature))\n",
    "\n",
    "for line in str(image_example(image_string, label)).split('\\n')[:15]:\n",
    "    print(line)\n",
    "print('...')"
   ]
  },
  {
   "cell_type": "markdown",
   "metadata": {
    "colab_type": "text",
    "id": "2G_o3O9MN0Qx"
   },
   "source": [
    "이제 모든 피쳐들이 `tf.Example` 메세지에 저장됩니다. 그런 다음 위의 코드를 작동시키고 `images.tfrecords` 파일에 예시의 메세지를 기록합니다."
   ]
  },
  {
   "cell_type": "code",
   "execution_count": null,
   "metadata": {
    "colab": {},
    "colab_type": "code",
    "id": "qcw06lQCOCZU"
   },
   "outputs": [],
   "source": [
    "# raw 이미지 파일을 `images.tfrecords`에 작성합니다.\n",
    "# 먼저 두 이미지를 `tf.Example` 메세지로 처리합니다.\n",
    "# 그리고 `.tfrecords` 파일로 작성합니다.\n",
    "record_file = 'images.tfrecords'\n",
    "with tf.io.TFRecordWriter(record_file) as writer:\n",
    "    for filename, label in image_labels.items():\n",
    "        image_string = open(filename, 'rb').read()\n",
    "        tf_example = image_example(image_string, label)\n",
    "        writer.write(tf_example.SerializeToString())"
   ]
  },
  {
   "cell_type": "code",
   "execution_count": null,
   "metadata": {
    "colab": {
     "base_uri": "https://localhost:8080/",
     "height": 34
    },
    "colab_type": "code",
    "executionInfo": {
     "elapsed": 18930,
     "status": "ok",
     "timestamp": 1578582310934,
     "user": {
      "displayName": "권나현",
      "photoUrl": "",
      "userId": "08701108352160795584"
     },
     "user_tz": -540
    },
    "id": "yJrTe6tHPCfs",
    "outputId": "43184625-04a7-45af-d13c-62e6f8fab5f7"
   },
   "outputs": [],
   "source": [
    "!du -sh {record_file}"
   ]
  },
  {
   "cell_type": "markdown",
   "metadata": {
    "colab_type": "text",
    "id": "jJSsCkZLPH6K"
   },
   "source": [
    "### 5.3 TFRecord 파일 읽어오기\n",
    "\n",
    "이제 `images.tfrecords` 파일이 생성되었으며, 해당 파일에 있는 레코드를 반복하여 작성한 내용을 다시 읽을 수 있습니다. 이 예제에서는 이미지만 재생성할 수 있으므로 raw 이미지 문자열 피쳐만 있으면 됩니다. \n",
    "* 위에서 설명한 방법인 `example.features.feature['image_raw'].bytes_list.value[0]`으로 이를 추출합니다. \n",
    "* 레이블을 사용하여 어떤 레코드가 고양이이고 어떤 레코드가 다리인지도 확인할 수 있습니다"
   ]
  },
  {
   "cell_type": "code",
   "execution_count": null,
   "metadata": {
    "colab": {
     "base_uri": "https://localhost:8080/",
     "height": 54
    },
    "colab_type": "code",
    "executionInfo": {
     "elapsed": 18927,
     "status": "ok",
     "timestamp": 1578582310937,
     "user": {
      "displayName": "권나현",
      "photoUrl": "",
      "userId": "08701108352160795584"
     },
     "user_tz": -540
    },
    "id": "M6Cnfd3cTKHN",
    "outputId": "1e58c14c-2b52-4a0b-9770-18295b4e3199"
   },
   "outputs": [],
   "source": [
    "raw_image_dataset = tf.data.TFRecordDataset('images.tfrecords')\n",
    "\n",
    "# 피쳐들을 설명하는 사전을 생성합니다.\n",
    "image_feature_description = {\n",
    "    'height': tf.io.FixedLenFeature([], tf.int64),\n",
    "    'width': tf.io.FixedLenFeature([], tf.int64),\n",
    "    'depth': tf.io.FixedLenFeature([], tf.int64),\n",
    "    'label': tf.io.FixedLenFeature([], tf.int64),\n",
    "    'image_raw': tf.io.FixedLenFeature([], tf.string),\n",
    "}\n",
    "\n",
    "def _parse_image_function(example_proto):\n",
    "  # 위의 사전을 이용하여 입력 tf.Example 프로토를 구문 분석합니다.\n",
    "  return tf.io.parse_single_example(example_proto, image_feature_description)\n",
    "\n",
    "parsed_image_dataset = raw_image_dataset.map(_parse_image_function)\n",
    "parsed_image_dataset"
   ]
  },
  {
   "cell_type": "markdown",
   "metadata": {
    "colab_type": "text",
    "id": "0PEEFPk4NEg1"
   },
   "source": [
    "TFRecord 파일에서 이미지를 복구합니다."
   ]
  },
  {
   "cell_type": "code",
   "execution_count": null,
   "metadata": {
    "colab": {
     "base_uri": "https://localhost:8080/",
     "height": 469
    },
    "colab_type": "code",
    "executionInfo": {
     "elapsed": 18923,
     "status": "ok",
     "timestamp": 1578582310939,
     "user": {
      "displayName": "권나현",
      "photoUrl": "",
      "userId": "08701108352160795584"
     },
     "user_tz": -540
    },
    "id": "yZf8jOyEIjSF",
    "outputId": "d741acd2-eedc-478b-af70-1f7d3714dfae"
   },
   "outputs": [],
   "source": [
    "for image_features in parsed_image_dataset:\n",
    "    image_raw = image_features['image_raw'].numpy()\n",
    "    display.display(display.Image(data=image_raw))"
   ]
  },
  {
   "cell_type": "markdown",
   "metadata": {
    "colab_type": "text",
    "id": "pL--_KGdYoBz"
   },
   "source": [
    "# Copyright 2019 The TensorFlow Authors."
   ]
  },
  {
   "cell_type": "code",
   "execution_count": null,
   "metadata": {
    "cellView": "form",
    "colab": {},
    "colab_type": "code",
    "id": "uBDvXpYzYnGj"
   },
   "outputs": [],
   "source": [
    "#@title Licensed under the Apache License, Version 2.0 (the \"License\");\n",
    "# you may not use this file except in compliance with the License.\n",
    "# You may obtain a copy of the License at\n",
    "#\n",
    "# https://www.apache.org/licenses/LICENSE-2.0\n",
    "#\n",
    "# Unless required by applicable law or agreed to in writing, software\n",
    "# distributed under the License is distributed on an \"AS IS\" BASIS,\n",
    "# WITHOUT WARRANTIES OR CONDITIONS OF ANY KIND, either express or implied.\n",
    "# See the License for the specific language governing permissions and\n",
    "# limitations under the License."
   ]
  }
 ],
 "metadata": {
  "colab": {
   "collapsed_sections": [
    "pL--_KGdYoBz"
   ],
   "name": "tfrecord.ipynb",
   "provenance": [
    {
     "file_id": "https://github.com/tensorflow/docs/blob/master/site/en/tutorials/load_data/tfrecord.ipynb",
     "timestamp": 1578556307038
    }
   ],
   "toc_visible": true
  },
  "kernelspec": {
   "display_name": "Python 3",
   "language": "python",
   "name": "python3"
  },
  "language_info": {
   "codemirror_mode": {
    "name": "ipython",
    "version": 3
   },
   "file_extension": ".py",
   "mimetype": "text/x-python",
   "name": "python",
   "nbconvert_exporter": "python",
   "pygments_lexer": "ipython3",
   "version": "3.6.6"
  }
 },
 "nbformat": 4,
 "nbformat_minor": 1
}
